{
 "cells": [
  {
   "cell_type": "code",
   "execution_count": 1,
   "id": "ec980d46",
   "metadata": {},
   "outputs": [],
   "source": [
    "import pandas as pd\n",
    "import os\n",
    "import numpy as np\n",
    "from scipy.signal import savgol_filter\n",
    "import plotly.graph_objects as go\n",
    "from scipy.integrate import simps"
   ]
  },
  {
   "cell_type": "code",
   "execution_count": 2,
   "id": "93b10c9b",
   "metadata": {},
   "outputs": [],
   "source": [
    "# Función para obtener la altitud a partir de las coordenadas GPS\n",
    "import requests\n",
    "def get_altitude(lat, lon):\n",
    "    url = f\"https://api.open-elevation.com/api/v1/lookup?locations={lat},{lon}\" # URL del servicio de altitud (Open-Elevation) \n",
    "    try:\n",
    "        response = requests.get(url)\n",
    "        data = response.json()\n",
    "        altitude = data[\"results\"][0][\"elevation\"]\n",
    "        return altitude\n",
    "    except Exception as e:\n",
    "        print(f\"Error al obtener la altitud: {e}\")\n",
    "        return None # celda vacia "
   ]
  },
  {
   "cell_type": "code",
   "execution_count": 4,
   "id": "03aaf1a3",
   "metadata": {},
   "outputs": [
    {
     "name": "stderr",
     "output_type": "stream",
     "text": [
      "C:\\Users\\Lenovo\\AppData\\Local\\Temp\\ipykernel_24628\\4213242421.py:22: FutureWarning: Series.fillna with 'method' is deprecated and will raise in a future version. Use obj.ffill() or obj.bfill() instead.\n",
      "  df['Altitude_api'] = df['Altitude_api'].fillna(method='ffill')\n",
      "C:\\Users\\Lenovo\\AppData\\Local\\Temp\\ipykernel_24628\\4213242421.py:22: FutureWarning: Series.fillna with 'method' is deprecated and will raise in a future version. Use obj.ffill() or obj.bfill() instead.\n",
      "  df['Altitude_api'] = df['Altitude_api'].fillna(method='ffill')\n"
     ]
    },
    {
     "name": "stdout",
     "output_type": "stream",
     "text": [
      "Error al obtener la altitud: Expecting value: line 1 column 1 (char 0)\n",
      "Error al obtener la altitud: Expecting value: line 1 column 1 (char 0)\n"
     ]
    },
    {
     "name": "stderr",
     "output_type": "stream",
     "text": [
      "C:\\Users\\Lenovo\\AppData\\Local\\Temp\\ipykernel_24628\\4213242421.py:22: FutureWarning: Series.fillna with 'method' is deprecated and will raise in a future version. Use obj.ffill() or obj.bfill() instead.\n",
      "  df['Altitude_api'] = df['Altitude_api'].fillna(method='ffill')\n",
      "C:\\Users\\Lenovo\\AppData\\Local\\Temp\\ipykernel_24628\\4213242421.py:22: FutureWarning: Series.fillna with 'method' is deprecated and will raise in a future version. Use obj.ffill() or obj.bfill() instead.\n",
      "  df['Altitude_api'] = df['Altitude_api'].fillna(method='ffill')\n",
      "C:\\Users\\Lenovo\\AppData\\Local\\Temp\\ipykernel_24628\\4213242421.py:22: FutureWarning: Series.fillna with 'method' is deprecated and will raise in a future version. Use obj.ffill() or obj.bfill() instead.\n",
      "  df['Altitude_api'] = df['Altitude_api'].fillna(method='ffill')\n"
     ]
    },
    {
     "name": "stdout",
     "output_type": "stream",
     "text": [
      "Error al obtener la altitud: Expecting value: line 1 column 1 (char 0)\n"
     ]
    },
    {
     "name": "stderr",
     "output_type": "stream",
     "text": [
      "C:\\Users\\Lenovo\\AppData\\Local\\Temp\\ipykernel_24628\\4213242421.py:22: FutureWarning: Series.fillna with 'method' is deprecated and will raise in a future version. Use obj.ffill() or obj.bfill() instead.\n",
      "  df['Altitude_api'] = df['Altitude_api'].fillna(method='ffill')\n",
      "C:\\Users\\Lenovo\\AppData\\Local\\Temp\\ipykernel_24628\\4213242421.py:22: FutureWarning: Series.fillna with 'method' is deprecated and will raise in a future version. Use obj.ffill() or obj.bfill() instead.\n",
      "  df['Altitude_api'] = df['Altitude_api'].fillna(method='ffill')\n",
      "C:\\Users\\Lenovo\\AppData\\Local\\Temp\\ipykernel_24628\\4213242421.py:22: FutureWarning: Series.fillna with 'method' is deprecated and will raise in a future version. Use obj.ffill() or obj.bfill() instead.\n",
      "  df['Altitude_api'] = df['Altitude_api'].fillna(method='ffill')\n"
     ]
    },
    {
     "name": "stdout",
     "output_type": "stream",
     "text": [
      "Error al obtener la altitud: Expecting value: line 1 column 1 (char 0)\n",
      "Error al obtener la altitud: Expecting value: line 1 column 1 (char 0)\n",
      "Error al obtener la altitud: Expecting value: line 1 column 1 (char 0)\n"
     ]
    },
    {
     "name": "stderr",
     "output_type": "stream",
     "text": [
      "C:\\Users\\Lenovo\\AppData\\Local\\Temp\\ipykernel_24628\\4213242421.py:22: FutureWarning: Series.fillna with 'method' is deprecated and will raise in a future version. Use obj.ffill() or obj.bfill() instead.\n",
      "  df['Altitude_api'] = df['Altitude_api'].fillna(method='ffill')\n"
     ]
    }
   ],
   "source": [
    "\n",
    "\n",
    "# Ruta del directorio donde se encuentran los archivos Excel originales\n",
    "directorio_origen = 'C:/Users/Lenovo/OneDrive - Universidad de Castilla-La Mancha/JAVIER_LONDONO/RDE_Development/01.Data_Acquisitions'\n",
    "\n",
    "# Ruta del directorio donde se guardarán los archivos Excel modificados\n",
    "directorio_destino = 'C:/Users/Lenovo/OneDrive - Universidad de Castilla-La Mancha/JAVIER_LONDONO/RDE_Development/02.Road_Altitude'\n",
    "\n",
    "# Lista para almacenar los nombres de los archivos Excel en el directorio de origen\n",
    "archivos_excel = []\n",
    "\n",
    "# Recorrer el directorio de origen y guardar los nombres de los archivos Excel\n",
    "for archivo in os.listdir(directorio_origen):\n",
    "    if archivo.endswith('2024.xlsx'):\n",
    "        archivos_excel.append(archivo)\n",
    "\n",
    "# Iterar sobre cada archivo Excel\n",
    "for archivo in archivos_excel:\n",
    "    ruta_origen = os.path.join(directorio_origen, archivo)\n",
    "    # Cargar el archivo Excel en un DataFrame\n",
    "    df = pd.read_excel(ruta_origen)  \n",
    "    # aplicar función \n",
    "    df[\"Altitude_api\"] = df.apply(lambda row: get_altitude(row[\"Latitude\"], row[\"Longitude\"]), axis=1)\n",
    "    df['Altitude_api'] = df['Altitude_api'].fillna(method='ffill')\n",
    "    \n",
    "    # Generar la ruta de destino para guardar el archivo modificado\n",
    "    ruta_destino = os.path.join(directorio_destino, archivo)\n",
    "    \n",
    "    # Guardar el DataFrame modificado como un nuevo archivo Excel\n",
    "    df.to_excel(ruta_destino, index=False)    "
   ]
  }
 ],
 "metadata": {
  "kernelspec": {
   "display_name": "Python 3 (ipykernel)",
   "language": "python",
   "name": "python3"
  },
  "language_info": {
   "codemirror_mode": {
    "name": "ipython",
    "version": 3
   },
   "file_extension": ".py",
   "mimetype": "text/x-python",
   "name": "python",
   "nbconvert_exporter": "python",
   "pygments_lexer": "ipython3",
   "version": "3.11.7"
  }
 },
 "nbformat": 4,
 "nbformat_minor": 5
}
