{
 "cells": [
  {
   "cell_type": "code",
   "execution_count": 1,
   "id": "07debe8b",
   "metadata": {},
   "outputs": [],
   "source": [
    "# Instalación de librerias\n",
    "\n",
    "import pandas as pd\n",
    "import plotly.express as px\n",
    "import plotly.graph_objects as go\n",
    "from tqdm import tqdm\n",
    "from scipy.integrate import simps\n",
    "import numpy as np"
   ]
  },
  {
   "cell_type": "code",
   "execution_count": 2,
   "id": "b80ba6ab",
   "metadata": {},
   "outputs": [],
   "source": [
    "name = \"RDE_H_2024.xlsx\""
   ]
  },
  {
   "cell_type": "code",
   "execution_count": 3,
   "id": "df055aa1",
   "metadata": {},
   "outputs": [],
   "source": [
    "RDE_cycle = pd.read_excel(name)"
   ]
  },
  {
   "cell_type": "code",
   "execution_count": null,
   "id": "9c7f6550",
   "metadata": {},
   "outputs": [],
   "source": []
  }
 ],
 "metadata": {
  "kernelspec": {
   "display_name": "Python 3 (ipykernel)",
   "language": "python",
   "name": "python3"
  },
  "language_info": {
   "codemirror_mode": {
    "name": "ipython",
    "version": 3
   },
   "file_extension": ".py",
   "mimetype": "text/x-python",
   "name": "python",
   "nbconvert_exporter": "python",
   "pygments_lexer": "ipython3",
   "version": "3.11.7"
  }
 },
 "nbformat": 4,
 "nbformat_minor": 5
}
