{
 "cells": [
  {
   "cell_type": "code",
   "execution_count": 1,
   "id": "69f29d41",
   "metadata": {},
   "outputs": [
    {
     "data": {
      "text/html": [
       "<style>.container { width:100% !important; }</style>"
      ],
      "text/plain": [
       "<IPython.core.display.HTML object>"
      ]
     },
     "metadata": {},
     "output_type": "display_data"
    },
    {
     "data": {
      "text/html": [
       "<style>.output_result { max-width:100% !important; }</style>"
      ],
      "text/plain": [
       "<IPython.core.display.HTML object>"
      ]
     },
     "metadata": {},
     "output_type": "display_data"
    }
   ],
   "source": [
    "from IPython.display import display, HTML\n",
    "display(HTML(\"<style>.container { width:100% !important; }</style>\"))\n",
    "display(HTML(\"<style>.output_result { max-width:100% !important; }</style>\"))"
   ]
  },
  {
   "cell_type": "code",
   "execution_count": 2,
   "id": "bf94c570-ea88-4bc0-9ab0-3b3cb9723819",
   "metadata": {},
   "outputs": [],
   "source": [
    "import pandas as pd\n",
    "import os\n",
    "import numpy as np\n",
    "from scipy.signal import savgol_filter\n",
    "import plotly.graph_objects as go\n",
    "from scipy.integrate import simps\n",
    "\n"
   ]
  },
  {
   "cell_type": "code",
   "execution_count": 3,
   "id": "15a8b8a4-6a07-474b-95ff-06107ecda87f",
   "metadata": {},
   "outputs": [],
   "source": [
    "# Función para calculo de aceleracion. h ~ datos por segundo\n",
    "def calcular_acel(df,h): # en m/s2\n",
    "    vel = df[\"v_km_h_f\"]\n",
    "    v = np.array(vel)/3.6  # Pasa de km/h a m/s\n",
    "    n = len(v)\n",
    "    a = np.zeros(n)\n",
    "    for i in range(n):\n",
    "        if i == 0:\n",
    "            a[i]=(-v[i+2] + 4*v[i+1] - 3*v[i])/(2*h)\n",
    "            #print(\"i=0\")\n",
    "        elif i == 1:\n",
    "            a[i]=(v[i+1] - v[i-1])/(2*h)\n",
    "            #print(\"i=1\")\n",
    "        elif i == n-2:\n",
    "            a[i]=(v[i+1] - v[i-1])/(2*h)\n",
    "            #print(\"i=n-2\")\n",
    "        elif i == n-1:\n",
    "            a[i]=(3*v[i] - 4*v[i-1] + v[i-2])/(2*h)\n",
    "            #print(\"i=n-1\")\n",
    "        else:\n",
    "            a[i] = (-v[i+2] + 8*v[i+1] - 8*v[i-1] + v[i-2])/(12*h)\n",
    "    return(a)\n",
    "\n",
    "import pandas as pd\n",
    "\n",
    "def parametros_seccion(df1): \n",
    "    umbral = 0.1 #con valores de aceleración mayor a 0.1 m/s2. para ia, RPA y crucero\n",
    "    \n",
    "    # Calcular la distancia recorrida\n",
    "    df1[\"v_m_s_f\"] = df1[\"v_km_h_f\"]/3.6\n",
    "    distance_traveled = (simps(df1[\"v_m_s_f\"].values, df1.t_s.values))/1000  # En km\n",
    "    # Calcular el tiempo total del recorrido\n",
    "    total_time = (df1[\"t_s\"].iloc[-1] - df1[\"t_s\"].iloc[0])\n",
    "    # Calcular la velocidad media\n",
    "    speed_mean = (simps(df1[\"v_km_h_f\"], df1[\"t_s\"] * 1)) / (len(df1[\"t_s\"]))\n",
    "    # Calcular la velocidad máxima\n",
    "    speed_max = df1[\"v_km_h_f\"].max()\n",
    "    # Calcular la velocidad máxima\n",
    "    speed_mean_sup = (df1[\"v_km_h_f\"].max()+speed_mean)/2\n",
    "    # Calcular la aceleración media y máxima tanto negativa como positiva\n",
    "    acel_pos_mean = df1[df1.acel_m_s2 > 0].acel_m_s2.mean()\n",
    "    acel_pos_max = df1[df1.acel_m_s2 > 0].acel_m_s2.max()\n",
    "    acel_neg_mean = df1[df1.acel_m_s2 <= 0].acel_m_s2.mean()\n",
    "    acel_neg_max = df1[df1.acel_m_s2 <= 0].acel_m_s2.min()\n",
    "    # Calcular tiempo en ralentí, tiempo en movimiento, tiempo en crucero y tiempo en aceleracion\n",
    "    time_ralenti = (df1[(df1['v_km_h_f'] == 0)].shape[0]) * (100 / total_time)\n",
    "    time_mov = (df1[(df1['v_km_h_f'] > 0)].shape[0]) * (100 / total_time)\n",
    "    t_crucero = (df1[(df1['ABS_Aceleracion'] <= 0.1) & (df1['v_km_h_f'] > 0)].shape[0]) * (100 / total_time)\n",
    "    t_acel = time_mov - t_crucero\n",
    "    # Funcion que cuenta el numero de veces con valores de aceleración mayor a 0.1 m/s2.   \n",
    "  \n",
    "    df_filtered = df1[df1['acel_m_s2'] > umbral]\n",
    "    n_datos_pos = len(df_filtered)\n",
    "    df_filtered = df1[df1['acel_m_s2'] < -umbral]\n",
    "    n_datos_neg = len(df_filtered)\n",
    "    ## CALCULAR RPA\n",
    "    # Calcular el producto de la velocidad por la aceleración [m3/s3 o W/kg]\n",
    "    df1['vxa'] = df1['v_m_s_f']*df1[\"acel_m_s2\"]\n",
    "    # Calcular la distnacia recorrida del intervalo en metros\n",
    "    distance_traveled =  (simps(df1[\"v_km_h_f\"].divide(3.6).values,df1.t_s.values)) \n",
    "    # Calculo de velocidad media en cada intervalo         \n",
    "    m_v_urban = df1['v_km_h_f'].mean()  \n",
    "    # Extraer solo el dataframe con acel mayor a 0.1\n",
    "    df_sort_Urban = df1[df1[\"acel_m_s2\"]>0.1]\n",
    "    # Ordenar de manera creciente de la vxa\n",
    "    df_sort_vxa_urb = df_sort_Urban.sort_values(by='vxa')\n",
    "    #Percentil para cada intervalo\n",
    "    df_sort_vxa_urb['Percentil'] = range(1, len(df_sort_vxa_urb) + 1)\n",
    "    df_sort_vxa_urb['Percentil']  = df_sort_vxa_urb['Percentil']/len(df_sort_vxa_urb)\n",
    "    # interpolacion lineal para calcular el valor vxa para 0.95 en cada intervalo\n",
    "    vxa_pos_urbano = df_sort_vxa_urb['vxa'].quantile(0.95, interpolation='linear')\n",
    "    #Aceleració positiva relativa RPA\n",
    "    RPA = (sum(df_sort_vxa_urb[\"vxa\"]))/(distance_traveled)\n",
    "    # Acumulado del valor absoluto de la derivada de la aceleracion\n",
    "    ABS_Der_Acel = df1[\"Der_Acel_cumul\"].max() #Acumulado del valor absoluto de la derivada de la aceleracion\n",
    "    # Acumulado del valor absoluto de la derivada de la aceleracion por cada km recorrido\n",
    "    ABS_Der_Acel_Per_distance = ABS_Der_Acel/(distance_traveled) #ABS_Der_Acel en cada km recorrido\n",
    "    # Acumulado del valor absoluto de la aceleracion \n",
    "    ABS_Acel = df1['Acel_cumul'].max() #Acumulado del valor absoluto de la aceleracion\n",
    "    # Acumulado del valor absoluto de la aceleracion por cada km recorrido\n",
    "    ABS_Acel_Per_distance = ABS_Acel/(distance_traveled) #ABS_Acel en cada km recorrido\n",
    "\n",
    "    # Crear el DataFrame con los resultados\n",
    "    results_df = pd.DataFrame(columns=[\"Variable\", \"Valor\"])\n",
    "    results_df[\"Variable\"] = [\"distance_traveled\", \"total_time\", \"speed_mean\", \"speed_max\", \"speed_mean_sup\",\n",
    "                              \"acel_pos_mean\", \"acel_pos_max\", \"n_ia_pos\", \"n_ia_neg\", \"RPA\", \"acel_neg_mean\", \"acel_neg_max\",\n",
    "                              \"time_ralenti\", \"time_mov\",\"t_crucero\", \"t_acel\", \"ABS_Der_Acel\", \"ABS_Der_Acel/distance\", \"ABS_Acel\", \n",
    "                              \"ABS_Acel/distance\"]\n",
    "    results_df[\"Valor\"] = [distance_traveled, total_time, speed_mean, speed_max, speed_mean_sup,\n",
    "                            acel_pos_mean, acel_pos_max, n_datos_pos, n_datos_neg, RPA, acel_neg_mean, acel_neg_max,\n",
    "                            time_ralenti, time_mov,t_crucero,t_acel, ABS_Der_Acel, ABS_Der_Acel_Per_distance, ABS_Acel, \n",
    "                           ABS_Acel_Per_distance]\n",
    "    # Redondear los valores a dos decimales\n",
    "    results_df[\"Valor\"] = results_df[\"Valor\"].round(5)\n",
    "    \n",
    "    return results_df\n",
    "\n",
    "\n",
    "# Funcion para Calcular tiempo con velocidad por debajo de un umbral (intervalo Rural)\n",
    "def umbral_ad_rural (df1):\n",
    "    umbral = 60 #Velocidad minima del intervalo \n",
    "    # Calcular el tiempo total del recorrido\n",
    "    total_time_1 = df1[\"t_s\"].iloc[-1] - df1[\"t_s\"].iloc[0]\n",
    "    time_low = ((df1[df1.v_km_h_f<= umbral].shape[0]))*(100/total_time_1)\n",
    "    time_high = ((df1[df1.v_km_h_f> umbral].shape[0]))*(100/total_time_1)\n",
    "    print(\"El tiempo con velocidad por menor o igual a 60 km/h durante Intervalo Rural {:.1f} %\".format(time_low))\n",
    "    print(\"El tiempo con velocidad por mayor a 60 km/h durante Intervalo Rural {:.1f} %\".format(time_high))\n",
    "\n",
    "# Funcion para Calcular tiempo con velocidad por debajo de un umbral (intervalo Motorway)\n",
    "def umbral_ad_aut (df1):\n",
    "    umbral = 90 #Velocidad minima del intervalo \n",
    "    # Calcular el tiempo total del recorrido\n",
    "    total_time_1 = df1[\"t_s\"].iloc[-1] - df1[\"t_s\"].iloc[0]\n",
    "    time_low = ((df1[df1.v_km_h_f<= umbral].shape[0]))*(100/total_time_1)\n",
    "    time_high = ((df1[df1.v_km_h_f> umbral].shape[0]))*(100/total_time_1)\n",
    "    print(\"El tiempo con velocidad por menor o igual a 90 km/h durante Intervalo Motorway {:.1f} %\".format(time_low))\n",
    "    print(\"El tiempo con velocidad por mayor a 90 km/h durante Intervalo Motorway {:.1f} %\".format(time_high))\n",
    "\n",
    "    \n",
    "def calcular_parametros_acel(df):\n",
    "    Data_time = 1 # Un dato por segundo\n",
    "    df = df.reset_index(drop=True) # Reindexar el DF\n",
    "    df[\"v_m_s_f\"] = df[\"v_km_h_f\"]/3.6\n",
    "    df[\"t_s\"] = range(len(df)) # Crear nueva columna de tiempo con una frecuencia de 1hz\n",
    "    df[\"acel_m_s2\"] = calcular_acel(df,Data_time) \n",
    "    df['ABS_Aceleracion'] = abs(df['acel_m_s2'])\n",
    "    df['Acel_cumul'] = df['ABS_Aceleracion'].cumsum()\n",
    "    df['Derivada_Aceleracion'] = df['acel_m_s2'].diff()\n",
    "    df['Derivada_Aceleracion'].fillna(0, inplace=True)\n",
    "    df['ABS_Derivada_Aceleracion'] = abs(df['Derivada_Aceleracion'])\n",
    "    df['Der_Acel_cumul'] = df['ABS_Derivada_Aceleracion'].cumsum()\n",
    "    return df"
   ]
  },
  {
   "cell_type": "code",
   "execution_count": 4,
   "id": "d48e3213",
   "metadata": {},
   "outputs": [],
   "source": [
    "\n",
    "### CALCULAR VARIABLE INTERVALOS\n",
    "\n",
    "# Ruta del directorio donde se encuentran los archivos Excel originales\n",
    "directorio_origen = 'C:/Users/Lenovo/OneDrive - Universidad de Castilla-La Mancha/JAVIER_LONDONO/RDE_Development/02.Road_Altitude'\n",
    "\n",
    "# Ruta del directorio donde se guardarán los archivos Excel modificados\n",
    "directorio_destino = 'C:/Users/Lenovo/OneDrive - Universidad de Castilla-La Mancha/JAVIER_LONDONO/RDE_Development/03.Clasificacion'\n",
    "\n",
    "# Lista para almacenar los nombres de los archivos Excel en el directorio de origen\n",
    "archivos_excel = []\n",
    "\n",
    "# Recorrer el directorio de origen y guardar los nombres de los archivos Excel\n",
    "for archivo in os.listdir(directorio_origen):\n",
    "    if archivo.endswith('.xlsx'):\n",
    "        archivos_excel.append(archivo)\n",
    "\n",
    "# Iterar sobre cada archivo Excel\n",
    "for archivo in archivos_excel:\n",
    "    # Ruta completa del archivo de origen\n",
    "    ruta_origen = os.path.join(directorio_origen, archivo)\n",
    "    \n",
    "    # Cargar el archivo Excel en un DataFrame\n",
    "    df = pd.read_excel(ruta_origen)\n",
    "    \n",
    "    # Aplicar la función para calcular los parámetros de aceleración\n",
    "    df_modificado = calcular_parametros_acel(df)\n",
    "    \n",
    "    # Generar la ruta de destino para guardar el archivo modificado\n",
    "    ruta_destino = os.path.join(directorio_destino, archivo)\n",
    "    \n",
    "    # Guardar el DataFrame modificado como un nuevo archivo Excel\n",
    "    df_modificado.to_excel(ruta_destino, index=False)\n"
   ]
  },
  {
   "cell_type": "code",
   "execution_count": 5,
   "id": "ada0750c",
   "metadata": {},
   "outputs": [],
   "source": [
    "import pandas as pd\n",
    "import os\n",
    "\n",
    "### CALCULAR PARAMETROS INTERVALOS\n",
    "\n",
    "# Ruta del directorio donde se encuentran los archivos Excel\n",
    "directorio = 'C:/Users/Lenovo/OneDrive - Universidad de Castilla-La Mancha/JAVIER_LONDONO/RDE_Development/03.Clasificacion'\n",
    "directorio_guardar = 'C:/Users/Lenovo/OneDrive - Universidad de Castilla-La Mancha/JAVIER_LONDONO/RDE_Development/03.Clasificacion/Parametros Intervalos'\n",
    "\n",
    "# Lista para almacenar los nombres de los archivos Excel\n",
    "archivos_excel = []\n",
    "\n",
    "# Lista para almacenar los DataFrames con los resultados\n",
    "resultados = []\n",
    "\n",
    "# Recorrer el directorio y guardar los nombres de los archivos Excel\n",
    "for archivo in os.listdir(directorio):\n",
    "    if archivo.endswith('2024.xlsx'):\n",
    "        archivos_excel.append(archivo)\n",
    "\n",
    "# Iterar sobre cada archivo Excel\n",
    "for archivo in archivos_excel:\n",
    "    # Ruta completa del archivo\n",
    "    ruta_archivo = os.path.join(directorio, archivo)\n",
    "    \n",
    "    # Cargar el archivo Excel en un DataFrame\n",
    "    df = pd.read_excel(ruta_archivo)\n",
    "    \n",
    "\n",
    "\n",
    "    # Aplicar la función para calcular los parámetros de sección\n",
    "    df_resultados = parametros_seccion(df)\n",
    "\n",
    "    \n",
    "    # Generar la ruta de destino para guardar el archivo modificado\n",
    "    ruta_destino = os.path.join(directorio_guardar, \"P_\"+archivo )\n",
    "    \n",
    "    # Guardar el DataFrame modificado como un nuevo archivo Excel\n",
    "    df_resultados.to_excel(ruta_destino, index=False)\n",
    "\n",
    "\n"
   ]
  },
  {
   "cell_type": "code",
   "execution_count": 6,
   "id": "d7e90c99",
   "metadata": {},
   "outputs": [
    {
     "name": "stdout",
     "output_type": "stream",
     "text": [
      "                Parameter   Motorway_1   Motorway_2   Motorway_3      Rural_1  \\\n",
      "0       distance_traveled  33805.03333  33806.45556  33873.92292  34620.31227   \n",
      "1              total_time   1052.00000   1076.00000   1119.00000   1713.00000   \n",
      "2              speed_mean    115.57276    113.00208    108.88047     72.71477   \n",
      "3               speed_max    137.17000    132.17000    135.76000     89.74000   \n",
      "4          speed_mean_sup    126.37138    122.58604    122.32023     81.22739   \n",
      "5           acel_pos_mean      0.16027      0.14493      0.36751      0.24588   \n",
      "6            acel_pos_max      2.05301      2.59074      1.95880      2.03171   \n",
      "7                n_ia_pos    222.00000    240.00000    437.00000    546.00000   \n",
      "8                n_ia_neg    244.00000    256.00000    486.00000    567.00000   \n",
      "9                     RPA      0.04966      0.04790      0.16756      0.09695   \n",
      "10          acel_neg_mean     -0.12556     -0.13705     -0.34992     -0.23231   \n",
      "11           acel_neg_max     -2.64213     -1.60301     -2.16065     -3.12014   \n",
      "12           time_ralenti      0.38023      0.18587      0.17873      0.93403   \n",
      "13               time_mov     99.71483     99.90706     99.91063     99.12434   \n",
      "14              t_crucero     55.79848     53.99628     17.60500     34.26737   \n",
      "15                 t_acel     43.91635     45.91078     82.30563     64.85698   \n",
      "16           ABS_Der_Acel     72.88102     75.45972    152.03472    189.35231   \n",
      "17  ABS_Der_Acel/distance      0.00216      0.00223      0.00449      0.00547   \n",
      "18               ABS_Acel    148.25486    151.69931    401.53056    409.48657   \n",
      "19      ABS_Acel/distance      0.00439      0.00449      0.01185      0.01183   \n",
      "\n",
      "        Rural_2      Rural_3      Urban_1      Urban_2      Urban_3  \n",
      "0   34572.22662  34586.38704  15387.31667  15384.32593  15332.28333  \n",
      "1    1605.00000   2213.00000   1949.00000   1786.00000   2549.00000  \n",
      "2      77.49690     56.23803     28.40735     30.99249     21.64558  \n",
      "3      89.09000     67.76000     59.19000     60.18000     42.09000  \n",
      "4      83.29345     61.99901     43.79868     45.58624     31.86779  \n",
      "5       0.25495      0.13206      0.49459      0.53238      0.27224  \n",
      "6       1.88356      1.03056      2.32153      2.53472      1.94861  \n",
      "7     493.00000    348.00000    707.00000    675.00000    803.00000  \n",
      "8     497.00000    322.00000    703.00000    657.00000    765.00000  \n",
      "9       0.09907      0.04220      0.20612      0.22671      0.10355  \n",
      "10     -0.24659     -0.12877     -0.37826     -0.44176     -0.21802  \n",
      "11     -3.28079     -1.82731     -3.32778     -2.94606     -1.92199  \n",
      "12      0.49844      0.58744     15.49513     13.49384     14.75088  \n",
      "13     99.56386     99.45775     84.55618     86.56215     85.28835  \n",
      "14     37.94393     69.27248     13.64802     13.60582     25.02942  \n",
      "15     61.61994     30.18527     70.90816     72.95633     60.25893  \n",
      "16    200.04583     88.04537    422.21065    430.60231    322.19907  \n",
      "17      0.00579      0.00255      0.02744      0.02799      0.02101  \n",
      "18    402.61968    288.69120    835.90579    862.83287    617.43981  \n",
      "19      0.01165      0.00835      0.05432      0.05609      0.04027  \n"
     ]
    }
   ],
   "source": [
    "import pandas as pd\n",
    "import os\n",
    "\n",
    "def obtener_nombres_archivos(directorio, extension):\n",
    "    return [archivo for archivo in os.listdir(directorio) if archivo.endswith(extension)]\n",
    "\n",
    "def obtener_nombres_completos(nombres_archivos):\n",
    "    return [os.path.splitext(archivo)[0] for archivo in nombres_archivos]\n",
    "\n",
    "def obtener_nombres_finales(nombres_archivos, numeracion):\n",
    "    return [nombre[11:-8] + str(num) for nombre, num in zip(nombres_archivos, numeracion)]\n",
    "\n",
    "# Directorio donde se encuentran los archivos Excel\n",
    "directorio = 'C:/Users/Lenovo/OneDrive - Universidad de Castilla-La Mancha/JAVIER_LONDONO/RDE_Development/03.Clasificacion/Parametros Intervalos'\n",
    "\n",
    "# Obtener los nombres de los archivos Excel\n",
    "archivos_excel = obtener_nombres_archivos(directorio, '2024.xlsx')\n",
    "\n",
    "# Obtener los nombres base de los archivos (sin extensión)\n",
    "nombres_archivos_base = obtener_nombres_completos(archivos_excel)\n",
    "\n",
    "# Numeración para agregar a los nombres finales\n",
    "Numeracion = [1, 2, 3, 1, 2, 3, 1, 2, 3]\n",
    "\n",
    "# Obtener los nombres finales de los archivos\n",
    "Nombres_r = obtener_nombres_finales(nombres_archivos_base, Numeracion)\n",
    "\n",
    "# Lista para almacenar los DataFrames\n",
    "dataframes = []\n",
    "\n",
    "# Cargar los archivos Excel y cambiar el nombre de la segunda columna\n",
    "for nombre_archivo in archivos_excel:\n",
    "    # Cargar el archivo Excel\n",
    "    ruta_archivo = os.path.join(directorio, nombre_archivo)\n",
    "    df = pd.read_excel(ruta_archivo)\n",
    "    # Cambiar el nombre de la segunda columna\n",
    "    df.columns = [df.columns[0], Nombres_r.pop(0)]\n",
    "    # Agregar el DataFrame a la lista\n",
    "    dataframes.append(df)\n",
    "\n",
    "# Combinar los DataFrames en uno solo\n",
    "df_final = pd.concat([dataframes[0].iloc[:, :2]] + [df.iloc[:, 1] for df in dataframes[1:]], axis=1)\n",
    "# Cambiar el nombre de la columna 'A' a 'NuevoNombre'\n",
    "df_final = df_final.rename(columns={'Variable': 'Parameter'})\n",
    "# Mostrar el DataFrame final\n",
    "print(df_final)\n",
    "\n"
   ]
  },
  {
   "cell_type": "code",
   "execution_count": 7,
   "id": "a47b4f81",
   "metadata": {},
   "outputs": [],
   "source": [
    "# Transponer el DataFrame\n",
    "df_final_T = df_final.transpose()\n",
    "# Establecer la primera fila como nombres de columna\n",
    "df_final_T.columns = df_final_T.iloc[0]\n",
    "# Eliminar la primera fila (que ahora es el nombre de la columna)\n",
    "df_final_T = df_final_T[1:]\n",
    "# Actualizar Index y cambiar nombre a Ciclo\n",
    "df_final_T.reset_index(inplace=True)\n",
    "df_final_T.rename(columns={'index': 'ciclo'}, inplace=True)\n",
    "# ver dataFrame\n",
    "df_final_T\n",
    "\n",
    "# guardar datos OBD motor en un archivo :\n",
    "df_final_T.to_excel('C:/Users/Lenovo/OneDrive - Universidad de Castilla-La Mancha/JAVIER_LONDONO/RDE_Development/03.Clasificacion/Parametros Intervalos/Parametros_Intervalos.xlsx', index=False)"
   ]
  },
  {
   "cell_type": "code",
   "execution_count": 8,
   "id": "1025b409",
   "metadata": {},
   "outputs": [
    {
     "name": "stdout",
     "output_type": "stream",
     "text": [
      "                 NombreOriginal NombreFinal\n",
      "0  P_Interval_Motorway_05042024  Motorway_1\n",
      "1  P_Interval_Motorway_15042024  Motorway_2\n",
      "2  P_Interval_Motorway_29042024  Motorway_3\n",
      "3     P_Interval_Rural_05042024     Rural_1\n",
      "4     P_Interval_Rural_15042024     Rural_2\n",
      "5     P_Interval_Rural_29042024     Rural_3\n",
      "6     P_Interval_Urban_02042024     Urban_1\n",
      "7     P_Interval_Urban_15042024     Urban_2\n",
      "8     P_Interval_Urban_19042024     Urban_3\n"
     ]
    }
   ],
   "source": [
    "import os\n",
    "import pandas as pd\n",
    "\n",
    "def obtener_nombres_archivos(directorio, extension):\n",
    "    return [archivo for archivo in os.listdir(directorio) if archivo.endswith(extension)]\n",
    "\n",
    "def obtener_nombres_completos(nombres_archivos):\n",
    "    return [os.path.splitext(archivo)[0] for archivo in nombres_archivos]\n",
    "\n",
    "def obtener_nombres_finales(nombres_archivos, numeracion):\n",
    "    return [nombre[11:-8] + str(num) for nombre, num in zip(nombres_archivos, numeracion)]\n",
    "\n",
    "def generar_dataframe_equivalencias(directorio, extension, numeracion):\n",
    "    # Obtener los nombres de los archivos Excel\n",
    "    archivos_excel = obtener_nombres_archivos(directorio, extension)\n",
    "    \n",
    "    # Obtener los nombres base de los archivos (sin extensión)\n",
    "    nombres_archivos_base = obtener_nombres_completos(archivos_excel)\n",
    "    \n",
    "    # Obtener los nombres finales de los archivos\n",
    "    nombres_finales = obtener_nombres_finales(nombres_archivos_base, numeracion)\n",
    "    \n",
    "    # Crear el DataFrame con las equivalencias de nombres\n",
    "    equivalencias_df = pd.DataFrame({'NombreOriginal': nombres_archivos_base, 'NombreFinal': nombres_finales})\n",
    "    \n",
    "    return equivalencias_df\n",
    "\n",
    "# Directorio donde se encuentran los archivos Excel\n",
    "directorio = 'C:/Users/Lenovo/OneDrive - Universidad de Castilla-La Mancha/JAVIER_LONDONO/RDE_Development/03.Clasificacion/Parametros Intervalos'\n",
    "\n",
    "# Extensión de los archivos Excel\n",
    "extension = '2024.xlsx'\n",
    "\n",
    "# Numeración para agregar a los nombres finales\n",
    "numeracion = [1, 2, 3, 1, 2, 3, 1, 2, 3]\n",
    "\n",
    "# Generar el DataFrame con las equivalencias de nombres\n",
    "equivalencias_df = generar_dataframe_equivalencias(directorio, extension, numeracion)\n",
    "\n",
    "# Mostrar el DataFrame con las equivalencias de nombres\n",
    "print(equivalencias_df)\n",
    "\n",
    "# guardar datos OBD motor en un archivo CSV :\n",
    "equivalencias_df.to_excel('C:/Users/Lenovo/OneDrive - Universidad de Castilla-La Mancha/JAVIER_LONDONO/RDE_Development/03.Clasificacion/Parametros Intervalos/Equivalencias_Intervalos.xlsx', index=False)\n"
   ]
  },
  {
   "cell_type": "code",
   "execution_count": 9,
   "id": "0e3ce5ad",
   "metadata": {},
   "outputs": [],
   "source": [
    "import plotly.graph_objects as go\n",
    "import numpy as np\n",
    "from sklearn.linear_model import LinearRegression\n",
    "from sklearn.metrics import r2_score\n"
   ]
  },
  {
   "cell_type": "code",
   "execution_count": 22,
   "id": "1bbc401b",
   "metadata": {},
   "outputs": [
    {
     "data": {
      "application/vnd.plotly.v1+json": {
       "config": {
        "plotlyServerURL": "https://plot.ly"
       },
       "data": [
        {
         "marker": {
          "color": "darkblue",
          "size": 10,
          "symbol": "circle"
         },
         "mode": "markers",
         "name": "Motorway_1",
         "type": "scatter",
         "x": [
          0.04966
         ],
         "y": [
          146.98228673070759
         ]
        },
        {
         "marker": {
          "color": "darkorange",
          "size": 10,
          "symbol": "circle"
         },
         "mode": "markers",
         "name": "Motorway_2",
         "type": "scatter",
         "x": [
          0.0479
         ],
         "y": [
          151.08761703178422
         ]
        },
        {
         "marker": {
          "color": "darkred",
          "size": 10,
          "symbol": "circle"
         },
         "mode": "markers",
         "name": "Motorway_3",
         "type": "scatter",
         "x": [
          0.16756
         ],
         "y": [
          400.6605044848763
         ]
        },
        {
         "marker": {
          "color": "darkred",
          "size": 10,
          "symbol": "x"
         },
         "mode": "markers",
         "name": "Rural_1",
         "type": "scatter",
         "x": [
          0.09695
         ],
         "y": [
          408.75076987367004
         ]
        },
        {
         "marker": {
          "color": "darkorange",
          "size": 10,
          "symbol": "x"
         },
         "mode": "markers",
         "name": "Rural_2",
         "type": "scatter",
         "x": [
          0.09907
         ],
         "y": [
          402.2130085019476
         ]
        },
        {
         "marker": {
          "color": "darkblue",
          "size": 10,
          "symbol": "x"
         },
         "mode": "markers",
         "name": "Rural_3",
         "type": "scatter",
         "x": [
          0.0422
         ],
         "y": [
          287.8294460390285
         ]
        },
        {
         "marker": {
          "color": "darkorange",
          "size": 10,
          "symbol": "square"
         },
         "mode": "markers",
         "name": "Urban_1",
         "type": "scatter",
         "x": [
          0.20612
         ],
         "y": [
          819.306265162257
         ]
        },
        {
         "marker": {
          "color": "darkred",
          "size": 10,
          "symbol": "square"
         },
         "mode": "markers",
         "name": "Urban_2",
         "type": "scatter",
         "x": [
          0.22671
         ],
         "y": [
          844.0475045273336
         ]
        },
        {
         "marker": {
          "color": "darkblue",
          "size": 10,
          "symbol": "square"
         },
         "mode": "markers",
         "name": "Urban_3",
         "type": "scatter",
         "x": [
          0.10355
         ],
         "y": [
          604.8390470485867
         ]
        },
        {
         "line": {
          "color": "gray",
          "dash": "dash",
          "width": 1
         },
         "mode": "lines",
         "name": "Regression",
         "type": "scatter",
         "x": [
          0.04966,
          0.0479,
          0.16756,
          0.09695,
          0.09907,
          0.0422,
          0.20612,
          0.22671,
          0.10355
         ],
         "y": [
          234.40452571415292,
          228.5968175194902,
          623.4549780725233,
          390.45368510369775,
          397.44933361090517,
          209.7877625708667,
          750.6965848828606,
          818.6401710920113,
          412.23259083368293
         ]
        }
       ],
       "layout": {
        "height": 400,
        "legend": {
         "orientation": "v",
         "x": 1,
         "y": 0.5
        },
        "plot_bgcolor": "white",
        "template": {
         "data": {
          "bar": [
           {
            "error_x": {
             "color": "#2a3f5f"
            },
            "error_y": {
             "color": "#2a3f5f"
            },
            "marker": {
             "line": {
              "color": "#E5ECF6",
              "width": 0.5
             },
             "pattern": {
              "fillmode": "overlay",
              "size": 10,
              "solidity": 0.2
             }
            },
            "type": "bar"
           }
          ],
          "barpolar": [
           {
            "marker": {
             "line": {
              "color": "#E5ECF6",
              "width": 0.5
             },
             "pattern": {
              "fillmode": "overlay",
              "size": 10,
              "solidity": 0.2
             }
            },
            "type": "barpolar"
           }
          ],
          "carpet": [
           {
            "aaxis": {
             "endlinecolor": "#2a3f5f",
             "gridcolor": "white",
             "linecolor": "white",
             "minorgridcolor": "white",
             "startlinecolor": "#2a3f5f"
            },
            "baxis": {
             "endlinecolor": "#2a3f5f",
             "gridcolor": "white",
             "linecolor": "white",
             "minorgridcolor": "white",
             "startlinecolor": "#2a3f5f"
            },
            "type": "carpet"
           }
          ],
          "choropleth": [
           {
            "colorbar": {
             "outlinewidth": 0,
             "ticks": ""
            },
            "type": "choropleth"
           }
          ],
          "contour": [
           {
            "colorbar": {
             "outlinewidth": 0,
             "ticks": ""
            },
            "colorscale": [
             [
              0,
              "#0d0887"
             ],
             [
              0.1111111111111111,
              "#46039f"
             ],
             [
              0.2222222222222222,
              "#7201a8"
             ],
             [
              0.3333333333333333,
              "#9c179e"
             ],
             [
              0.4444444444444444,
              "#bd3786"
             ],
             [
              0.5555555555555556,
              "#d8576b"
             ],
             [
              0.6666666666666666,
              "#ed7953"
             ],
             [
              0.7777777777777778,
              "#fb9f3a"
             ],
             [
              0.8888888888888888,
              "#fdca26"
             ],
             [
              1,
              "#f0f921"
             ]
            ],
            "type": "contour"
           }
          ],
          "contourcarpet": [
           {
            "colorbar": {
             "outlinewidth": 0,
             "ticks": ""
            },
            "type": "contourcarpet"
           }
          ],
          "heatmap": [
           {
            "colorbar": {
             "outlinewidth": 0,
             "ticks": ""
            },
            "colorscale": [
             [
              0,
              "#0d0887"
             ],
             [
              0.1111111111111111,
              "#46039f"
             ],
             [
              0.2222222222222222,
              "#7201a8"
             ],
             [
              0.3333333333333333,
              "#9c179e"
             ],
             [
              0.4444444444444444,
              "#bd3786"
             ],
             [
              0.5555555555555556,
              "#d8576b"
             ],
             [
              0.6666666666666666,
              "#ed7953"
             ],
             [
              0.7777777777777778,
              "#fb9f3a"
             ],
             [
              0.8888888888888888,
              "#fdca26"
             ],
             [
              1,
              "#f0f921"
             ]
            ],
            "type": "heatmap"
           }
          ],
          "heatmapgl": [
           {
            "colorbar": {
             "outlinewidth": 0,
             "ticks": ""
            },
            "colorscale": [
             [
              0,
              "#0d0887"
             ],
             [
              0.1111111111111111,
              "#46039f"
             ],
             [
              0.2222222222222222,
              "#7201a8"
             ],
             [
              0.3333333333333333,
              "#9c179e"
             ],
             [
              0.4444444444444444,
              "#bd3786"
             ],
             [
              0.5555555555555556,
              "#d8576b"
             ],
             [
              0.6666666666666666,
              "#ed7953"
             ],
             [
              0.7777777777777778,
              "#fb9f3a"
             ],
             [
              0.8888888888888888,
              "#fdca26"
             ],
             [
              1,
              "#f0f921"
             ]
            ],
            "type": "heatmapgl"
           }
          ],
          "histogram": [
           {
            "marker": {
             "pattern": {
              "fillmode": "overlay",
              "size": 10,
              "solidity": 0.2
             }
            },
            "type": "histogram"
           }
          ],
          "histogram2d": [
           {
            "colorbar": {
             "outlinewidth": 0,
             "ticks": ""
            },
            "colorscale": [
             [
              0,
              "#0d0887"
             ],
             [
              0.1111111111111111,
              "#46039f"
             ],
             [
              0.2222222222222222,
              "#7201a8"
             ],
             [
              0.3333333333333333,
              "#9c179e"
             ],
             [
              0.4444444444444444,
              "#bd3786"
             ],
             [
              0.5555555555555556,
              "#d8576b"
             ],
             [
              0.6666666666666666,
              "#ed7953"
             ],
             [
              0.7777777777777778,
              "#fb9f3a"
             ],
             [
              0.8888888888888888,
              "#fdca26"
             ],
             [
              1,
              "#f0f921"
             ]
            ],
            "type": "histogram2d"
           }
          ],
          "histogram2dcontour": [
           {
            "colorbar": {
             "outlinewidth": 0,
             "ticks": ""
            },
            "colorscale": [
             [
              0,
              "#0d0887"
             ],
             [
              0.1111111111111111,
              "#46039f"
             ],
             [
              0.2222222222222222,
              "#7201a8"
             ],
             [
              0.3333333333333333,
              "#9c179e"
             ],
             [
              0.4444444444444444,
              "#bd3786"
             ],
             [
              0.5555555555555556,
              "#d8576b"
             ],
             [
              0.6666666666666666,
              "#ed7953"
             ],
             [
              0.7777777777777778,
              "#fb9f3a"
             ],
             [
              0.8888888888888888,
              "#fdca26"
             ],
             [
              1,
              "#f0f921"
             ]
            ],
            "type": "histogram2dcontour"
           }
          ],
          "mesh3d": [
           {
            "colorbar": {
             "outlinewidth": 0,
             "ticks": ""
            },
            "type": "mesh3d"
           }
          ],
          "parcoords": [
           {
            "line": {
             "colorbar": {
              "outlinewidth": 0,
              "ticks": ""
             }
            },
            "type": "parcoords"
           }
          ],
          "pie": [
           {
            "automargin": true,
            "type": "pie"
           }
          ],
          "scatter": [
           {
            "fillpattern": {
             "fillmode": "overlay",
             "size": 10,
             "solidity": 0.2
            },
            "type": "scatter"
           }
          ],
          "scatter3d": [
           {
            "line": {
             "colorbar": {
              "outlinewidth": 0,
              "ticks": ""
             }
            },
            "marker": {
             "colorbar": {
              "outlinewidth": 0,
              "ticks": ""
             }
            },
            "type": "scatter3d"
           }
          ],
          "scattercarpet": [
           {
            "marker": {
             "colorbar": {
              "outlinewidth": 0,
              "ticks": ""
             }
            },
            "type": "scattercarpet"
           }
          ],
          "scattergeo": [
           {
            "marker": {
             "colorbar": {
              "outlinewidth": 0,
              "ticks": ""
             }
            },
            "type": "scattergeo"
           }
          ],
          "scattergl": [
           {
            "marker": {
             "colorbar": {
              "outlinewidth": 0,
              "ticks": ""
             }
            },
            "type": "scattergl"
           }
          ],
          "scattermapbox": [
           {
            "marker": {
             "colorbar": {
              "outlinewidth": 0,
              "ticks": ""
             }
            },
            "type": "scattermapbox"
           }
          ],
          "scatterpolar": [
           {
            "marker": {
             "colorbar": {
              "outlinewidth": 0,
              "ticks": ""
             }
            },
            "type": "scatterpolar"
           }
          ],
          "scatterpolargl": [
           {
            "marker": {
             "colorbar": {
              "outlinewidth": 0,
              "ticks": ""
             }
            },
            "type": "scatterpolargl"
           }
          ],
          "scatterternary": [
           {
            "marker": {
             "colorbar": {
              "outlinewidth": 0,
              "ticks": ""
             }
            },
            "type": "scatterternary"
           }
          ],
          "surface": [
           {
            "colorbar": {
             "outlinewidth": 0,
             "ticks": ""
            },
            "colorscale": [
             [
              0,
              "#0d0887"
             ],
             [
              0.1111111111111111,
              "#46039f"
             ],
             [
              0.2222222222222222,
              "#7201a8"
             ],
             [
              0.3333333333333333,
              "#9c179e"
             ],
             [
              0.4444444444444444,
              "#bd3786"
             ],
             [
              0.5555555555555556,
              "#d8576b"
             ],
             [
              0.6666666666666666,
              "#ed7953"
             ],
             [
              0.7777777777777778,
              "#fb9f3a"
             ],
             [
              0.8888888888888888,
              "#fdca26"
             ],
             [
              1,
              "#f0f921"
             ]
            ],
            "type": "surface"
           }
          ],
          "table": [
           {
            "cells": {
             "fill": {
              "color": "#EBF0F8"
             },
             "line": {
              "color": "white"
             }
            },
            "header": {
             "fill": {
              "color": "#C8D4E3"
             },
             "line": {
              "color": "white"
             }
            },
            "type": "table"
           }
          ]
         },
         "layout": {
          "annotationdefaults": {
           "arrowcolor": "#2a3f5f",
           "arrowhead": 0,
           "arrowwidth": 1
          },
          "autotypenumbers": "strict",
          "coloraxis": {
           "colorbar": {
            "outlinewidth": 0,
            "ticks": ""
           }
          },
          "colorscale": {
           "diverging": [
            [
             0,
             "#8e0152"
            ],
            [
             0.1,
             "#c51b7d"
            ],
            [
             0.2,
             "#de77ae"
            ],
            [
             0.3,
             "#f1b6da"
            ],
            [
             0.4,
             "#fde0ef"
            ],
            [
             0.5,
             "#f7f7f7"
            ],
            [
             0.6,
             "#e6f5d0"
            ],
            [
             0.7,
             "#b8e186"
            ],
            [
             0.8,
             "#7fbc41"
            ],
            [
             0.9,
             "#4d9221"
            ],
            [
             1,
             "#276419"
            ]
           ],
           "sequential": [
            [
             0,
             "#0d0887"
            ],
            [
             0.1111111111111111,
             "#46039f"
            ],
            [
             0.2222222222222222,
             "#7201a8"
            ],
            [
             0.3333333333333333,
             "#9c179e"
            ],
            [
             0.4444444444444444,
             "#bd3786"
            ],
            [
             0.5555555555555556,
             "#d8576b"
            ],
            [
             0.6666666666666666,
             "#ed7953"
            ],
            [
             0.7777777777777778,
             "#fb9f3a"
            ],
            [
             0.8888888888888888,
             "#fdca26"
            ],
            [
             1,
             "#f0f921"
            ]
           ],
           "sequentialminus": [
            [
             0,
             "#0d0887"
            ],
            [
             0.1111111111111111,
             "#46039f"
            ],
            [
             0.2222222222222222,
             "#7201a8"
            ],
            [
             0.3333333333333333,
             "#9c179e"
            ],
            [
             0.4444444444444444,
             "#bd3786"
            ],
            [
             0.5555555555555556,
             "#d8576b"
            ],
            [
             0.6666666666666666,
             "#ed7953"
            ],
            [
             0.7777777777777778,
             "#fb9f3a"
            ],
            [
             0.8888888888888888,
             "#fdca26"
            ],
            [
             1,
             "#f0f921"
            ]
           ]
          },
          "colorway": [
           "#636efa",
           "#EF553B",
           "#00cc96",
           "#ab63fa",
           "#FFA15A",
           "#19d3f3",
           "#FF6692",
           "#B6E880",
           "#FF97FF",
           "#FECB52"
          ],
          "font": {
           "color": "#2a3f5f"
          },
          "geo": {
           "bgcolor": "white",
           "lakecolor": "white",
           "landcolor": "#E5ECF6",
           "showlakes": true,
           "showland": true,
           "subunitcolor": "white"
          },
          "hoverlabel": {
           "align": "left"
          },
          "hovermode": "closest",
          "mapbox": {
           "style": "light"
          },
          "paper_bgcolor": "white",
          "plot_bgcolor": "#E5ECF6",
          "polar": {
           "angularaxis": {
            "gridcolor": "white",
            "linecolor": "white",
            "ticks": ""
           },
           "bgcolor": "#E5ECF6",
           "radialaxis": {
            "gridcolor": "white",
            "linecolor": "white",
            "ticks": ""
           }
          },
          "scene": {
           "xaxis": {
            "backgroundcolor": "#E5ECF6",
            "gridcolor": "white",
            "gridwidth": 2,
            "linecolor": "white",
            "showbackground": true,
            "ticks": "",
            "zerolinecolor": "white"
           },
           "yaxis": {
            "backgroundcolor": "#E5ECF6",
            "gridcolor": "white",
            "gridwidth": 2,
            "linecolor": "white",
            "showbackground": true,
            "ticks": "",
            "zerolinecolor": "white"
           },
           "zaxis": {
            "backgroundcolor": "#E5ECF6",
            "gridcolor": "white",
            "gridwidth": 2,
            "linecolor": "white",
            "showbackground": true,
            "ticks": "",
            "zerolinecolor": "white"
           }
          },
          "shapedefaults": {
           "line": {
            "color": "#2a3f5f"
           }
          },
          "ternary": {
           "aaxis": {
            "gridcolor": "white",
            "linecolor": "white",
            "ticks": ""
           },
           "baxis": {
            "gridcolor": "white",
            "linecolor": "white",
            "ticks": ""
           },
           "bgcolor": "#E5ECF6",
           "caxis": {
            "gridcolor": "white",
            "linecolor": "white",
            "ticks": ""
           }
          },
          "title": {
           "x": 0.05
          },
          "xaxis": {
           "automargin": true,
           "gridcolor": "white",
           "linecolor": "white",
           "ticks": "",
           "title": {
            "standoff": 15
           },
           "zerolinecolor": "white",
           "zerolinewidth": 2
          },
          "yaxis": {
           "automargin": true,
           "gridcolor": "white",
           "linecolor": "white",
           "ticks": "",
           "title": {
            "standoff": 15
           },
           "zerolinecolor": "white",
           "zerolinewidth": 2
          }
         }
        },
        "title": {
         "text": "Regresión Lineal: y = 3299.834x + 70.535, R² = 0.788"
        },
        "width": 500,
        "xaxis": {
         "linecolor": "black",
         "linewidth": 1,
         "showline": true,
         "title": {
          "text": "RPA [m/s²]"
         }
        },
        "yaxis": {
         "linecolor": "black",
         "linewidth": 1,
         "showline": true,
         "title": {
          "text": "IDI [m/s]"
         }
        }
       }
      },
      "text/html": [
       "<div>                            <div id=\"daf70491-90a1-41bb-bd57-d37ebfebbcba\" class=\"plotly-graph-div\" style=\"height:400px; width:500px;\"></div>            <script type=\"text/javascript\">                require([\"plotly\"], function(Plotly) {                    window.PLOTLYENV=window.PLOTLYENV || {};                                    if (document.getElementById(\"daf70491-90a1-41bb-bd57-d37ebfebbcba\")) {                    Plotly.newPlot(                        \"daf70491-90a1-41bb-bd57-d37ebfebbcba\",                        [{\"marker\":{\"color\":\"darkblue\",\"size\":10,\"symbol\":\"circle\"},\"mode\":\"markers\",\"name\":\"Motorway_1\",\"x\":[0.04966],\"y\":[146.98228673070759],\"type\":\"scatter\"},{\"marker\":{\"color\":\"darkorange\",\"size\":10,\"symbol\":\"circle\"},\"mode\":\"markers\",\"name\":\"Motorway_2\",\"x\":[0.0479],\"y\":[151.08761703178422],\"type\":\"scatter\"},{\"marker\":{\"color\":\"darkred\",\"size\":10,\"symbol\":\"circle\"},\"mode\":\"markers\",\"name\":\"Motorway_3\",\"x\":[0.16756],\"y\":[400.6605044848763],\"type\":\"scatter\"},{\"marker\":{\"color\":\"darkred\",\"size\":10,\"symbol\":\"x\"},\"mode\":\"markers\",\"name\":\"Rural_1\",\"x\":[0.09695],\"y\":[408.75076987367004],\"type\":\"scatter\"},{\"marker\":{\"color\":\"darkorange\",\"size\":10,\"symbol\":\"x\"},\"mode\":\"markers\",\"name\":\"Rural_2\",\"x\":[0.09907],\"y\":[402.2130085019476],\"type\":\"scatter\"},{\"marker\":{\"color\":\"darkblue\",\"size\":10,\"symbol\":\"x\"},\"mode\":\"markers\",\"name\":\"Rural_3\",\"x\":[0.0422],\"y\":[287.8294460390285],\"type\":\"scatter\"},{\"marker\":{\"color\":\"darkorange\",\"size\":10,\"symbol\":\"square\"},\"mode\":\"markers\",\"name\":\"Urban_1\",\"x\":[0.20612],\"y\":[819.306265162257],\"type\":\"scatter\"},{\"marker\":{\"color\":\"darkred\",\"size\":10,\"symbol\":\"square\"},\"mode\":\"markers\",\"name\":\"Urban_2\",\"x\":[0.22671],\"y\":[844.0475045273336],\"type\":\"scatter\"},{\"marker\":{\"color\":\"darkblue\",\"size\":10,\"symbol\":\"square\"},\"mode\":\"markers\",\"name\":\"Urban_3\",\"x\":[0.10355],\"y\":[604.8390470485867],\"type\":\"scatter\"},{\"line\":{\"color\":\"gray\",\"dash\":\"dash\",\"width\":1},\"mode\":\"lines\",\"name\":\"Regression\",\"x\":[0.04966,0.0479,0.16756,0.09695,0.09907,0.0422,0.20612,0.22671,0.10355],\"y\":[234.40452571415292,228.5968175194902,623.4549780725233,390.45368510369775,397.44933361090517,209.7877625708667,750.6965848828606,818.6401710920113,412.23259083368293],\"type\":\"scatter\"}],                        {\"template\":{\"data\":{\"histogram2dcontour\":[{\"type\":\"histogram2dcontour\",\"colorbar\":{\"outlinewidth\":0,\"ticks\":\"\"},\"colorscale\":[[0.0,\"#0d0887\"],[0.1111111111111111,\"#46039f\"],[0.2222222222222222,\"#7201a8\"],[0.3333333333333333,\"#9c179e\"],[0.4444444444444444,\"#bd3786\"],[0.5555555555555556,\"#d8576b\"],[0.6666666666666666,\"#ed7953\"],[0.7777777777777778,\"#fb9f3a\"],[0.8888888888888888,\"#fdca26\"],[1.0,\"#f0f921\"]]}],\"choropleth\":[{\"type\":\"choropleth\",\"colorbar\":{\"outlinewidth\":0,\"ticks\":\"\"}}],\"histogram2d\":[{\"type\":\"histogram2d\",\"colorbar\":{\"outlinewidth\":0,\"ticks\":\"\"},\"colorscale\":[[0.0,\"#0d0887\"],[0.1111111111111111,\"#46039f\"],[0.2222222222222222,\"#7201a8\"],[0.3333333333333333,\"#9c179e\"],[0.4444444444444444,\"#bd3786\"],[0.5555555555555556,\"#d8576b\"],[0.6666666666666666,\"#ed7953\"],[0.7777777777777778,\"#fb9f3a\"],[0.8888888888888888,\"#fdca26\"],[1.0,\"#f0f921\"]]}],\"heatmap\":[{\"type\":\"heatmap\",\"colorbar\":{\"outlinewidth\":0,\"ticks\":\"\"},\"colorscale\":[[0.0,\"#0d0887\"],[0.1111111111111111,\"#46039f\"],[0.2222222222222222,\"#7201a8\"],[0.3333333333333333,\"#9c179e\"],[0.4444444444444444,\"#bd3786\"],[0.5555555555555556,\"#d8576b\"],[0.6666666666666666,\"#ed7953\"],[0.7777777777777778,\"#fb9f3a\"],[0.8888888888888888,\"#fdca26\"],[1.0,\"#f0f921\"]]}],\"heatmapgl\":[{\"type\":\"heatmapgl\",\"colorbar\":{\"outlinewidth\":0,\"ticks\":\"\"},\"colorscale\":[[0.0,\"#0d0887\"],[0.1111111111111111,\"#46039f\"],[0.2222222222222222,\"#7201a8\"],[0.3333333333333333,\"#9c179e\"],[0.4444444444444444,\"#bd3786\"],[0.5555555555555556,\"#d8576b\"],[0.6666666666666666,\"#ed7953\"],[0.7777777777777778,\"#fb9f3a\"],[0.8888888888888888,\"#fdca26\"],[1.0,\"#f0f921\"]]}],\"contourcarpet\":[{\"type\":\"contourcarpet\",\"colorbar\":{\"outlinewidth\":0,\"ticks\":\"\"}}],\"contour\":[{\"type\":\"contour\",\"colorbar\":{\"outlinewidth\":0,\"ticks\":\"\"},\"colorscale\":[[0.0,\"#0d0887\"],[0.1111111111111111,\"#46039f\"],[0.2222222222222222,\"#7201a8\"],[0.3333333333333333,\"#9c179e\"],[0.4444444444444444,\"#bd3786\"],[0.5555555555555556,\"#d8576b\"],[0.6666666666666666,\"#ed7953\"],[0.7777777777777778,\"#fb9f3a\"],[0.8888888888888888,\"#fdca26\"],[1.0,\"#f0f921\"]]}],\"surface\":[{\"type\":\"surface\",\"colorbar\":{\"outlinewidth\":0,\"ticks\":\"\"},\"colorscale\":[[0.0,\"#0d0887\"],[0.1111111111111111,\"#46039f\"],[0.2222222222222222,\"#7201a8\"],[0.3333333333333333,\"#9c179e\"],[0.4444444444444444,\"#bd3786\"],[0.5555555555555556,\"#d8576b\"],[0.6666666666666666,\"#ed7953\"],[0.7777777777777778,\"#fb9f3a\"],[0.8888888888888888,\"#fdca26\"],[1.0,\"#f0f921\"]]}],\"mesh3d\":[{\"type\":\"mesh3d\",\"colorbar\":{\"outlinewidth\":0,\"ticks\":\"\"}}],\"scatter\":[{\"fillpattern\":{\"fillmode\":\"overlay\",\"size\":10,\"solidity\":0.2},\"type\":\"scatter\"}],\"parcoords\":[{\"type\":\"parcoords\",\"line\":{\"colorbar\":{\"outlinewidth\":0,\"ticks\":\"\"}}}],\"scatterpolargl\":[{\"type\":\"scatterpolargl\",\"marker\":{\"colorbar\":{\"outlinewidth\":0,\"ticks\":\"\"}}}],\"bar\":[{\"error_x\":{\"color\":\"#2a3f5f\"},\"error_y\":{\"color\":\"#2a3f5f\"},\"marker\":{\"line\":{\"color\":\"#E5ECF6\",\"width\":0.5},\"pattern\":{\"fillmode\":\"overlay\",\"size\":10,\"solidity\":0.2}},\"type\":\"bar\"}],\"scattergeo\":[{\"type\":\"scattergeo\",\"marker\":{\"colorbar\":{\"outlinewidth\":0,\"ticks\":\"\"}}}],\"scatterpolar\":[{\"type\":\"scatterpolar\",\"marker\":{\"colorbar\":{\"outlinewidth\":0,\"ticks\":\"\"}}}],\"histogram\":[{\"marker\":{\"pattern\":{\"fillmode\":\"overlay\",\"size\":10,\"solidity\":0.2}},\"type\":\"histogram\"}],\"scattergl\":[{\"type\":\"scattergl\",\"marker\":{\"colorbar\":{\"outlinewidth\":0,\"ticks\":\"\"}}}],\"scatter3d\":[{\"type\":\"scatter3d\",\"line\":{\"colorbar\":{\"outlinewidth\":0,\"ticks\":\"\"}},\"marker\":{\"colorbar\":{\"outlinewidth\":0,\"ticks\":\"\"}}}],\"scattermapbox\":[{\"type\":\"scattermapbox\",\"marker\":{\"colorbar\":{\"outlinewidth\":0,\"ticks\":\"\"}}}],\"scatterternary\":[{\"type\":\"scatterternary\",\"marker\":{\"colorbar\":{\"outlinewidth\":0,\"ticks\":\"\"}}}],\"scattercarpet\":[{\"type\":\"scattercarpet\",\"marker\":{\"colorbar\":{\"outlinewidth\":0,\"ticks\":\"\"}}}],\"carpet\":[{\"aaxis\":{\"endlinecolor\":\"#2a3f5f\",\"gridcolor\":\"white\",\"linecolor\":\"white\",\"minorgridcolor\":\"white\",\"startlinecolor\":\"#2a3f5f\"},\"baxis\":{\"endlinecolor\":\"#2a3f5f\",\"gridcolor\":\"white\",\"linecolor\":\"white\",\"minorgridcolor\":\"white\",\"startlinecolor\":\"#2a3f5f\"},\"type\":\"carpet\"}],\"table\":[{\"cells\":{\"fill\":{\"color\":\"#EBF0F8\"},\"line\":{\"color\":\"white\"}},\"header\":{\"fill\":{\"color\":\"#C8D4E3\"},\"line\":{\"color\":\"white\"}},\"type\":\"table\"}],\"barpolar\":[{\"marker\":{\"line\":{\"color\":\"#E5ECF6\",\"width\":0.5},\"pattern\":{\"fillmode\":\"overlay\",\"size\":10,\"solidity\":0.2}},\"type\":\"barpolar\"}],\"pie\":[{\"automargin\":true,\"type\":\"pie\"}]},\"layout\":{\"autotypenumbers\":\"strict\",\"colorway\":[\"#636efa\",\"#EF553B\",\"#00cc96\",\"#ab63fa\",\"#FFA15A\",\"#19d3f3\",\"#FF6692\",\"#B6E880\",\"#FF97FF\",\"#FECB52\"],\"font\":{\"color\":\"#2a3f5f\"},\"hovermode\":\"closest\",\"hoverlabel\":{\"align\":\"left\"},\"paper_bgcolor\":\"white\",\"plot_bgcolor\":\"#E5ECF6\",\"polar\":{\"bgcolor\":\"#E5ECF6\",\"angularaxis\":{\"gridcolor\":\"white\",\"linecolor\":\"white\",\"ticks\":\"\"},\"radialaxis\":{\"gridcolor\":\"white\",\"linecolor\":\"white\",\"ticks\":\"\"}},\"ternary\":{\"bgcolor\":\"#E5ECF6\",\"aaxis\":{\"gridcolor\":\"white\",\"linecolor\":\"white\",\"ticks\":\"\"},\"baxis\":{\"gridcolor\":\"white\",\"linecolor\":\"white\",\"ticks\":\"\"},\"caxis\":{\"gridcolor\":\"white\",\"linecolor\":\"white\",\"ticks\":\"\"}},\"coloraxis\":{\"colorbar\":{\"outlinewidth\":0,\"ticks\":\"\"}},\"colorscale\":{\"sequential\":[[0.0,\"#0d0887\"],[0.1111111111111111,\"#46039f\"],[0.2222222222222222,\"#7201a8\"],[0.3333333333333333,\"#9c179e\"],[0.4444444444444444,\"#bd3786\"],[0.5555555555555556,\"#d8576b\"],[0.6666666666666666,\"#ed7953\"],[0.7777777777777778,\"#fb9f3a\"],[0.8888888888888888,\"#fdca26\"],[1.0,\"#f0f921\"]],\"sequentialminus\":[[0.0,\"#0d0887\"],[0.1111111111111111,\"#46039f\"],[0.2222222222222222,\"#7201a8\"],[0.3333333333333333,\"#9c179e\"],[0.4444444444444444,\"#bd3786\"],[0.5555555555555556,\"#d8576b\"],[0.6666666666666666,\"#ed7953\"],[0.7777777777777778,\"#fb9f3a\"],[0.8888888888888888,\"#fdca26\"],[1.0,\"#f0f921\"]],\"diverging\":[[0,\"#8e0152\"],[0.1,\"#c51b7d\"],[0.2,\"#de77ae\"],[0.3,\"#f1b6da\"],[0.4,\"#fde0ef\"],[0.5,\"#f7f7f7\"],[0.6,\"#e6f5d0\"],[0.7,\"#b8e186\"],[0.8,\"#7fbc41\"],[0.9,\"#4d9221\"],[1,\"#276419\"]]},\"xaxis\":{\"gridcolor\":\"white\",\"linecolor\":\"white\",\"ticks\":\"\",\"title\":{\"standoff\":15},\"zerolinecolor\":\"white\",\"automargin\":true,\"zerolinewidth\":2},\"yaxis\":{\"gridcolor\":\"white\",\"linecolor\":\"white\",\"ticks\":\"\",\"title\":{\"standoff\":15},\"zerolinecolor\":\"white\",\"automargin\":true,\"zerolinewidth\":2},\"scene\":{\"xaxis\":{\"backgroundcolor\":\"#E5ECF6\",\"gridcolor\":\"white\",\"linecolor\":\"white\",\"showbackground\":true,\"ticks\":\"\",\"zerolinecolor\":\"white\",\"gridwidth\":2},\"yaxis\":{\"backgroundcolor\":\"#E5ECF6\",\"gridcolor\":\"white\",\"linecolor\":\"white\",\"showbackground\":true,\"ticks\":\"\",\"zerolinecolor\":\"white\",\"gridwidth\":2},\"zaxis\":{\"backgroundcolor\":\"#E5ECF6\",\"gridcolor\":\"white\",\"linecolor\":\"white\",\"showbackground\":true,\"ticks\":\"\",\"zerolinecolor\":\"white\",\"gridwidth\":2}},\"shapedefaults\":{\"line\":{\"color\":\"#2a3f5f\"}},\"annotationdefaults\":{\"arrowcolor\":\"#2a3f5f\",\"arrowhead\":0,\"arrowwidth\":1},\"geo\":{\"bgcolor\":\"white\",\"landcolor\":\"#E5ECF6\",\"subunitcolor\":\"white\",\"showland\":true,\"showlakes\":true,\"lakecolor\":\"white\"},\"title\":{\"x\":0.05},\"mapbox\":{\"style\":\"light\"}}},\"title\":{\"text\":\"Regresi\\u00f3n Lineal: y = 3299.834x + 70.535, R\\u00b2 = 0.788\"},\"legend\":{\"orientation\":\"v\",\"x\":1,\"y\":0.5},\"height\":400,\"width\":500,\"plot_bgcolor\":\"white\",\"xaxis\":{\"title\":{\"text\":\"RPA [m/s\\u00b2]\"},\"showline\":true,\"linewidth\":1,\"linecolor\":\"black\"},\"yaxis\":{\"title\":{\"text\":\"IDI [m/s]\"},\"showline\":true,\"linewidth\":1,\"linecolor\":\"black\"}},                        {\"responsive\": true}                    ).then(function(){\n",
       "                            \n",
       "var gd = document.getElementById('daf70491-90a1-41bb-bd57-d37ebfebbcba');\n",
       "var x = new MutationObserver(function (mutations, observer) {{\n",
       "        var display = window.getComputedStyle(gd).display;\n",
       "        if (!display || display === 'none') {{\n",
       "            console.log([gd, 'removed!']);\n",
       "            Plotly.purge(gd);\n",
       "            observer.disconnect();\n",
       "        }}\n",
       "}});\n",
       "\n",
       "// Listen for the removal of the full notebook cells\n",
       "var notebookContainer = gd.closest('#notebook-container');\n",
       "if (notebookContainer) {{\n",
       "    x.observe(notebookContainer, {childList: true});\n",
       "}}\n",
       "\n",
       "// Listen for the clearing of the current output cell\n",
       "var outputEl = gd.closest('.output');\n",
       "if (outputEl) {{\n",
       "    x.observe(outputEl, {childList: true});\n",
       "}}\n",
       "\n",
       "                        })                };                });            </script>        </div>"
      ]
     },
     "metadata": {},
     "output_type": "display_data"
    }
   ],
   "source": [
    "# Definir un diccionario que asigna formas a cada categoría\n",
    "shapes = {'Motorway_1': 'circle', 'Motorway_2': 'circle', 'Motorway_3': 'circle',\n",
    "          'Rural_1': 'x', 'Rural_2': 'x', 'Rural_3': 'x',\n",
    "          'Urban_1': 'square', 'Urban_2': 'square', 'Urban_3': 'square'}\n",
    "\n",
    "# Definir un diccionario que asigna colores a cada categoría\n",
    "colors = {'Motorway_1': 'darkblue', 'Motorway_2': 'darkorange', 'Motorway_3': 'darkred',\n",
    "          'Rural_1': 'darkred', 'Rural_2': 'darkorange', 'Rural_3': 'darkblue',\n",
    "          'Urban_1': 'darkorange', 'Urban_2': 'darkred', 'Urban_3': 'darkblue'}\n",
    "\n",
    "# Crear el gráfico de dispersión con diferentes formas y colores para cada categoría\n",
    "fig = go.Figure()\n",
    "\n",
    "# Iterar sobre cada categoría en tu lista predefinida de categorías\n",
    "for categoria, shape in shapes.items():\n",
    "    # Filtrar el DataFrame por la categoría actual\n",
    "    df_categoria = df_final_T[df_final_T['ciclo'] == categoria]\n",
    "    \n",
    "    # Agregar una traza para la categoría actual con la forma y color correspondientes\n",
    "    fig.add_trace(go.Scatter(\n",
    "        x=df_categoria['RPA'],\n",
    "        y=df_categoria['i'],\n",
    "        mode='markers',\n",
    "        name=categoria,\n",
    "        marker=dict(symbol=shape, size=10, color=colors[categoria])\n",
    "    ))\n",
    "\n",
    "# Realizar la regresión lineal solo si hay más de dos muestras\n",
    "if len(df_final_T) >= 2:\n",
    "    X = df_final_T['RPA'].values.reshape(-1, 1)\n",
    "    y = df_final_T['i'].values\n",
    "    model = LinearRegression()\n",
    "    model.fit(X, y)\n",
    "    y_pred = model.predict(X)\n",
    "    \n",
    "    # Calcular el coeficiente de determinación (R2)\n",
    "    r2 = r2_score(y, y_pred)\n",
    "    \n",
    "    # Agregar la línea de tendencia al gráfico\n",
    "    fig.add_trace(go.Scatter(\n",
    "        x=df_final_T['RPA'],\n",
    "        y=y_pred,\n",
    "        mode='lines',\n",
    "        name=f'Regression',\n",
    "        line=dict(color='gray', dash='dash', width=1)\n",
    "    ))\n",
    "\n",
    "    # Agregar la ecuación de la línea de tendencia y el coeficiente de determinación al título del gráfico\n",
    "    fig.update_layout(\n",
    "        title_text=f'Regresión Lineal: y = {model.coef_[0]:.3f}x + {model.intercept_:.3f}, R² = {r2:.3f}',\n",
    "        legend=dict(orientation=\"v\", x=1, y=0.5),\n",
    "        height=600,\n",
    "        width=700,\n",
    "        plot_bgcolor=\"white\"\n",
    "    )\n",
    "\n",
    "    \n",
    "# Actualizar ejes\n",
    "fig.update_xaxes(showline=True, linewidth=1, linecolor='black', title_text=\"RPA [m/s²]\")\n",
    "fig.update_yaxes(showline=True, linewidth=1, linecolor='black', title_text=\"IDI [m/s]\")    \n",
    "fig.update_layout(height=400, width=500, plot_bgcolor=\"white\")\n",
    "# Mostrar el gráfico\n",
    "fig.show()\n",
    "\n"
   ]
  },
  {
   "cell_type": "code",
   "execution_count": 12,
   "id": "a45e77e0",
   "metadata": {},
   "outputs": [],
   "source": [
    "df_final_T [\"n_ia_t\"] = df_final_T[\"n_ia_pos\"] + df_final_T[\"n_ia_neg\"]\n",
    "\n",
    "\n",
    "\n",
    "df_final_T[\"i\"] = (df_final_T[\"ABS_Acel\"] / df_final_T [\"n_ia_t\"])*(df_final_T[\"total_time\"]*(df_final_T[\"t_acel\"]/100))\n",
    "df_final_T[\"it\"] = (df_final_T[\"ABS_Acel\"] / df_final_T [\"n_ia_t\"])*(df_final_T[\"t_acel\"]/100)"
   ]
  },
  {
   "cell_type": "code",
   "execution_count": 13,
   "id": "bcb0d51d",
   "metadata": {},
   "outputs": [
    {
     "data": {
      "text/html": [
       "<div>\n",
       "<style scoped>\n",
       "    .dataframe tbody tr th:only-of-type {\n",
       "        vertical-align: middle;\n",
       "    }\n",
       "\n",
       "    .dataframe tbody tr th {\n",
       "        vertical-align: top;\n",
       "    }\n",
       "\n",
       "    .dataframe thead th {\n",
       "        text-align: right;\n",
       "    }\n",
       "</style>\n",
       "<table border=\"1\" class=\"dataframe\">\n",
       "  <thead>\n",
       "    <tr style=\"text-align: right;\">\n",
       "      <th>Parameter</th>\n",
       "      <th>ciclo</th>\n",
       "      <th>distance_traveled</th>\n",
       "      <th>total_time</th>\n",
       "      <th>speed_mean</th>\n",
       "      <th>speed_max</th>\n",
       "      <th>speed_mean_sup</th>\n",
       "      <th>acel_pos_mean</th>\n",
       "      <th>acel_pos_max</th>\n",
       "      <th>n_ia_pos</th>\n",
       "      <th>n_ia_neg</th>\n",
       "      <th>...</th>\n",
       "      <th>time_mov</th>\n",
       "      <th>t_crucero</th>\n",
       "      <th>t_acel</th>\n",
       "      <th>ABS_Der_Acel</th>\n",
       "      <th>ABS_Der_Acel/distance</th>\n",
       "      <th>ABS_Acel</th>\n",
       "      <th>ABS_Acel/distance</th>\n",
       "      <th>n_ia_t</th>\n",
       "      <th>i</th>\n",
       "      <th>it</th>\n",
       "    </tr>\n",
       "  </thead>\n",
       "  <tbody>\n",
       "    <tr>\n",
       "      <th>0</th>\n",
       "      <td>Motorway_1</td>\n",
       "      <td>33805.03333</td>\n",
       "      <td>1052.0</td>\n",
       "      <td>115.57276</td>\n",
       "      <td>137.17</td>\n",
       "      <td>126.37138</td>\n",
       "      <td>0.16027</td>\n",
       "      <td>2.05301</td>\n",
       "      <td>222.0</td>\n",
       "      <td>244.0</td>\n",
       "      <td>...</td>\n",
       "      <td>99.71483</td>\n",
       "      <td>55.79848</td>\n",
       "      <td>43.91635</td>\n",
       "      <td>72.88102</td>\n",
       "      <td>0.00216</td>\n",
       "      <td>148.25486</td>\n",
       "      <td>0.00439</td>\n",
       "      <td>466.0</td>\n",
       "      <td>146.982287</td>\n",
       "      <td>0.139717</td>\n",
       "    </tr>\n",
       "    <tr>\n",
       "      <th>1</th>\n",
       "      <td>Motorway_2</td>\n",
       "      <td>33806.45556</td>\n",
       "      <td>1076.0</td>\n",
       "      <td>113.00208</td>\n",
       "      <td>132.17</td>\n",
       "      <td>122.58604</td>\n",
       "      <td>0.14493</td>\n",
       "      <td>2.59074</td>\n",
       "      <td>240.0</td>\n",
       "      <td>256.0</td>\n",
       "      <td>...</td>\n",
       "      <td>99.90706</td>\n",
       "      <td>53.99628</td>\n",
       "      <td>45.91078</td>\n",
       "      <td>75.45972</td>\n",
       "      <td>0.00223</td>\n",
       "      <td>151.69931</td>\n",
       "      <td>0.00449</td>\n",
       "      <td>496.0</td>\n",
       "      <td>151.087617</td>\n",
       "      <td>0.140416</td>\n",
       "    </tr>\n",
       "    <tr>\n",
       "      <th>2</th>\n",
       "      <td>Motorway_3</td>\n",
       "      <td>33873.92292</td>\n",
       "      <td>1119.0</td>\n",
       "      <td>108.88047</td>\n",
       "      <td>135.76</td>\n",
       "      <td>122.32023</td>\n",
       "      <td>0.36751</td>\n",
       "      <td>1.9588</td>\n",
       "      <td>437.0</td>\n",
       "      <td>486.0</td>\n",
       "      <td>...</td>\n",
       "      <td>99.91063</td>\n",
       "      <td>17.605</td>\n",
       "      <td>82.30563</td>\n",
       "      <td>152.03472</td>\n",
       "      <td>0.00449</td>\n",
       "      <td>401.53056</td>\n",
       "      <td>0.01185</td>\n",
       "      <td>923.0</td>\n",
       "      <td>400.660504</td>\n",
       "      <td>0.358052</td>\n",
       "    </tr>\n",
       "    <tr>\n",
       "      <th>3</th>\n",
       "      <td>Rural_1</td>\n",
       "      <td>34620.31227</td>\n",
       "      <td>1713.0</td>\n",
       "      <td>72.71477</td>\n",
       "      <td>89.74</td>\n",
       "      <td>81.22739</td>\n",
       "      <td>0.24588</td>\n",
       "      <td>2.03171</td>\n",
       "      <td>546.0</td>\n",
       "      <td>567.0</td>\n",
       "      <td>...</td>\n",
       "      <td>99.12434</td>\n",
       "      <td>34.26737</td>\n",
       "      <td>64.85698</td>\n",
       "      <td>189.35231</td>\n",
       "      <td>0.00547</td>\n",
       "      <td>409.48657</td>\n",
       "      <td>0.01183</td>\n",
       "      <td>1113.0</td>\n",
       "      <td>408.75077</td>\n",
       "      <td>0.238617</td>\n",
       "    </tr>\n",
       "    <tr>\n",
       "      <th>4</th>\n",
       "      <td>Rural_2</td>\n",
       "      <td>34572.22662</td>\n",
       "      <td>1605.0</td>\n",
       "      <td>77.4969</td>\n",
       "      <td>89.09</td>\n",
       "      <td>83.29345</td>\n",
       "      <td>0.25495</td>\n",
       "      <td>1.88356</td>\n",
       "      <td>493.0</td>\n",
       "      <td>497.0</td>\n",
       "      <td>...</td>\n",
       "      <td>99.56386</td>\n",
       "      <td>37.94393</td>\n",
       "      <td>61.61994</td>\n",
       "      <td>200.04583</td>\n",
       "      <td>0.00579</td>\n",
       "      <td>402.61968</td>\n",
       "      <td>0.01165</td>\n",
       "      <td>990.0</td>\n",
       "      <td>402.213009</td>\n",
       "      <td>0.2506</td>\n",
       "    </tr>\n",
       "    <tr>\n",
       "      <th>5</th>\n",
       "      <td>Rural_3</td>\n",
       "      <td>34586.38704</td>\n",
       "      <td>2213.0</td>\n",
       "      <td>56.23803</td>\n",
       "      <td>67.76</td>\n",
       "      <td>61.99901</td>\n",
       "      <td>0.13206</td>\n",
       "      <td>1.03056</td>\n",
       "      <td>348.0</td>\n",
       "      <td>322.0</td>\n",
       "      <td>...</td>\n",
       "      <td>99.45775</td>\n",
       "      <td>69.27248</td>\n",
       "      <td>30.18527</td>\n",
       "      <td>88.04537</td>\n",
       "      <td>0.00255</td>\n",
       "      <td>288.6912</td>\n",
       "      <td>0.00835</td>\n",
       "      <td>670.0</td>\n",
       "      <td>287.829446</td>\n",
       "      <td>0.130063</td>\n",
       "    </tr>\n",
       "    <tr>\n",
       "      <th>6</th>\n",
       "      <td>Urban_1</td>\n",
       "      <td>15387.31667</td>\n",
       "      <td>1949.0</td>\n",
       "      <td>28.40735</td>\n",
       "      <td>59.19</td>\n",
       "      <td>43.79868</td>\n",
       "      <td>0.49459</td>\n",
       "      <td>2.32153</td>\n",
       "      <td>707.0</td>\n",
       "      <td>703.0</td>\n",
       "      <td>...</td>\n",
       "      <td>84.55618</td>\n",
       "      <td>13.64802</td>\n",
       "      <td>70.90816</td>\n",
       "      <td>422.21065</td>\n",
       "      <td>0.02744</td>\n",
       "      <td>835.90579</td>\n",
       "      <td>0.05432</td>\n",
       "      <td>1410.0</td>\n",
       "      <td>819.306265</td>\n",
       "      <td>0.420373</td>\n",
       "    </tr>\n",
       "    <tr>\n",
       "      <th>7</th>\n",
       "      <td>Urban_2</td>\n",
       "      <td>15384.32593</td>\n",
       "      <td>1786.0</td>\n",
       "      <td>30.99249</td>\n",
       "      <td>60.18</td>\n",
       "      <td>45.58624</td>\n",
       "      <td>0.53238</td>\n",
       "      <td>2.53472</td>\n",
       "      <td>675.0</td>\n",
       "      <td>657.0</td>\n",
       "      <td>...</td>\n",
       "      <td>86.56215</td>\n",
       "      <td>13.60582</td>\n",
       "      <td>72.95633</td>\n",
       "      <td>430.60231</td>\n",
       "      <td>0.02799</td>\n",
       "      <td>862.83287</td>\n",
       "      <td>0.05609</td>\n",
       "      <td>1332.0</td>\n",
       "      <td>844.047505</td>\n",
       "      <td>0.472591</td>\n",
       "    </tr>\n",
       "    <tr>\n",
       "      <th>8</th>\n",
       "      <td>Urban_3</td>\n",
       "      <td>15332.28333</td>\n",
       "      <td>2549.0</td>\n",
       "      <td>21.64558</td>\n",
       "      <td>42.09</td>\n",
       "      <td>31.86779</td>\n",
       "      <td>0.27224</td>\n",
       "      <td>1.94861</td>\n",
       "      <td>803.0</td>\n",
       "      <td>765.0</td>\n",
       "      <td>...</td>\n",
       "      <td>85.28835</td>\n",
       "      <td>25.02942</td>\n",
       "      <td>60.25893</td>\n",
       "      <td>322.19907</td>\n",
       "      <td>0.02101</td>\n",
       "      <td>617.43981</td>\n",
       "      <td>0.04027</td>\n",
       "      <td>1568.0</td>\n",
       "      <td>604.839047</td>\n",
       "      <td>0.237285</td>\n",
       "    </tr>\n",
       "  </tbody>\n",
       "</table>\n",
       "<p>9 rows × 24 columns</p>\n",
       "</div>"
      ],
      "text/plain": [
       "Parameter       ciclo distance_traveled total_time speed_mean speed_max  \\\n",
       "0          Motorway_1       33805.03333     1052.0  115.57276    137.17   \n",
       "1          Motorway_2       33806.45556     1076.0  113.00208    132.17   \n",
       "2          Motorway_3       33873.92292     1119.0  108.88047    135.76   \n",
       "3             Rural_1       34620.31227     1713.0   72.71477     89.74   \n",
       "4             Rural_2       34572.22662     1605.0    77.4969     89.09   \n",
       "5             Rural_3       34586.38704     2213.0   56.23803     67.76   \n",
       "6             Urban_1       15387.31667     1949.0   28.40735     59.19   \n",
       "7             Urban_2       15384.32593     1786.0   30.99249     60.18   \n",
       "8             Urban_3       15332.28333     2549.0   21.64558     42.09   \n",
       "\n",
       "Parameter speed_mean_sup acel_pos_mean acel_pos_max n_ia_pos n_ia_neg  ...  \\\n",
       "0              126.37138       0.16027      2.05301    222.0    244.0  ...   \n",
       "1              122.58604       0.14493      2.59074    240.0    256.0  ...   \n",
       "2              122.32023       0.36751       1.9588    437.0    486.0  ...   \n",
       "3               81.22739       0.24588      2.03171    546.0    567.0  ...   \n",
       "4               83.29345       0.25495      1.88356    493.0    497.0  ...   \n",
       "5               61.99901       0.13206      1.03056    348.0    322.0  ...   \n",
       "6               43.79868       0.49459      2.32153    707.0    703.0  ...   \n",
       "7               45.58624       0.53238      2.53472    675.0    657.0  ...   \n",
       "8               31.86779       0.27224      1.94861    803.0    765.0  ...   \n",
       "\n",
       "Parameter  time_mov t_crucero    t_acel ABS_Der_Acel ABS_Der_Acel/distance  \\\n",
       "0          99.71483  55.79848  43.91635     72.88102               0.00216   \n",
       "1          99.90706  53.99628  45.91078     75.45972               0.00223   \n",
       "2          99.91063    17.605  82.30563    152.03472               0.00449   \n",
       "3          99.12434  34.26737  64.85698    189.35231               0.00547   \n",
       "4          99.56386  37.94393  61.61994    200.04583               0.00579   \n",
       "5          99.45775  69.27248  30.18527     88.04537               0.00255   \n",
       "6          84.55618  13.64802  70.90816    422.21065               0.02744   \n",
       "7          86.56215  13.60582  72.95633    430.60231               0.02799   \n",
       "8          85.28835  25.02942  60.25893    322.19907               0.02101   \n",
       "\n",
       "Parameter   ABS_Acel ABS_Acel/distance  n_ia_t           i        it  \n",
       "0          148.25486           0.00439   466.0  146.982287  0.139717  \n",
       "1          151.69931           0.00449   496.0  151.087617  0.140416  \n",
       "2          401.53056           0.01185   923.0  400.660504  0.358052  \n",
       "3          409.48657           0.01183  1113.0   408.75077  0.238617  \n",
       "4          402.61968           0.01165   990.0  402.213009    0.2506  \n",
       "5           288.6912           0.00835   670.0  287.829446  0.130063  \n",
       "6          835.90579           0.05432  1410.0  819.306265  0.420373  \n",
       "7          862.83287           0.05609  1332.0  844.047505  0.472591  \n",
       "8          617.43981           0.04027  1568.0  604.839047  0.237285  \n",
       "\n",
       "[9 rows x 24 columns]"
      ]
     },
     "execution_count": 13,
     "metadata": {},
     "output_type": "execute_result"
    }
   ],
   "source": [
    "df_final_T"
   ]
  },
  {
   "cell_type": "code",
   "execution_count": 14,
   "id": "0c28352e",
   "metadata": {},
   "outputs": [],
   "source": [
    "# guardar datos en un archivo :\n",
    "df_final_T.to_excel('C:/Users/Lenovo/OneDrive - Universidad de Castilla-La Mancha/JAVIER_LONDONO/RDE_Development/03.Clasificacion/Parametros Intervalos/Parametros_Intervalos.xlsx', index=False)"
   ]
  },
  {
   "cell_type": "code",
   "execution_count": 23,
   "id": "12cec26b",
   "metadata": {},
   "outputs": [
    {
     "data": {
      "application/vnd.plotly.v1+json": {
       "config": {
        "plotlyServerURL": "https://plot.ly"
       },
       "data": [
        {
         "marker": {
          "color": "darkblue",
          "size": 10,
          "symbol": "circle"
         },
         "mode": "markers",
         "name": "Motorway_1",
         "type": "scatter",
         "x": [
          115.57276
         ],
         "y": [
          146.98228673070759
         ]
        },
        {
         "marker": {
          "color": "darkorange",
          "size": 10,
          "symbol": "circle"
         },
         "mode": "markers",
         "name": "Motorway_2",
         "type": "scatter",
         "x": [
          113.00208
         ],
         "y": [
          151.08761703178422
         ]
        },
        {
         "marker": {
          "color": "darkred",
          "size": 10,
          "symbol": "circle"
         },
         "mode": "markers",
         "name": "Motorway_3",
         "type": "scatter",
         "x": [
          108.88047
         ],
         "y": [
          400.6605044848763
         ]
        },
        {
         "marker": {
          "color": "darkred",
          "size": 10,
          "symbol": "x"
         },
         "mode": "markers",
         "name": "Rural_1",
         "type": "scatter",
         "x": [
          72.71477
         ],
         "y": [
          408.75076987367004
         ]
        },
        {
         "marker": {
          "color": "darkorange",
          "size": 10,
          "symbol": "x"
         },
         "mode": "markers",
         "name": "Rural_2",
         "type": "scatter",
         "x": [
          77.4969
         ],
         "y": [
          402.2130085019476
         ]
        },
        {
         "marker": {
          "color": "darkblue",
          "size": 10,
          "symbol": "x"
         },
         "mode": "markers",
         "name": "Rural_3",
         "type": "scatter",
         "x": [
          56.23803
         ],
         "y": [
          287.8294460390285
         ]
        },
        {
         "marker": {
          "color": "darkorange",
          "size": 10,
          "symbol": "square"
         },
         "mode": "markers",
         "name": "Urban_1",
         "type": "scatter",
         "x": [
          28.40735
         ],
         "y": [
          819.306265162257
         ]
        },
        {
         "marker": {
          "color": "darkred",
          "size": 10,
          "symbol": "square"
         },
         "mode": "markers",
         "name": "Urban_2",
         "type": "scatter",
         "x": [
          30.99249
         ],
         "y": [
          844.0475045273336
         ]
        },
        {
         "marker": {
          "color": "darkblue",
          "size": 10,
          "symbol": "square"
         },
         "mode": "markers",
         "name": "Urban_3",
         "type": "scatter",
         "x": [
          21.64558
         ],
         "y": [
          604.8390470485867
         ]
        }
       ],
       "layout": {
        "height": 400,
        "plot_bgcolor": "white",
        "template": {
         "data": {
          "bar": [
           {
            "error_x": {
             "color": "#2a3f5f"
            },
            "error_y": {
             "color": "#2a3f5f"
            },
            "marker": {
             "line": {
              "color": "#E5ECF6",
              "width": 0.5
             },
             "pattern": {
              "fillmode": "overlay",
              "size": 10,
              "solidity": 0.2
             }
            },
            "type": "bar"
           }
          ],
          "barpolar": [
           {
            "marker": {
             "line": {
              "color": "#E5ECF6",
              "width": 0.5
             },
             "pattern": {
              "fillmode": "overlay",
              "size": 10,
              "solidity": 0.2
             }
            },
            "type": "barpolar"
           }
          ],
          "carpet": [
           {
            "aaxis": {
             "endlinecolor": "#2a3f5f",
             "gridcolor": "white",
             "linecolor": "white",
             "minorgridcolor": "white",
             "startlinecolor": "#2a3f5f"
            },
            "baxis": {
             "endlinecolor": "#2a3f5f",
             "gridcolor": "white",
             "linecolor": "white",
             "minorgridcolor": "white",
             "startlinecolor": "#2a3f5f"
            },
            "type": "carpet"
           }
          ],
          "choropleth": [
           {
            "colorbar": {
             "outlinewidth": 0,
             "ticks": ""
            },
            "type": "choropleth"
           }
          ],
          "contour": [
           {
            "colorbar": {
             "outlinewidth": 0,
             "ticks": ""
            },
            "colorscale": [
             [
              0,
              "#0d0887"
             ],
             [
              0.1111111111111111,
              "#46039f"
             ],
             [
              0.2222222222222222,
              "#7201a8"
             ],
             [
              0.3333333333333333,
              "#9c179e"
             ],
             [
              0.4444444444444444,
              "#bd3786"
             ],
             [
              0.5555555555555556,
              "#d8576b"
             ],
             [
              0.6666666666666666,
              "#ed7953"
             ],
             [
              0.7777777777777778,
              "#fb9f3a"
             ],
             [
              0.8888888888888888,
              "#fdca26"
             ],
             [
              1,
              "#f0f921"
             ]
            ],
            "type": "contour"
           }
          ],
          "contourcarpet": [
           {
            "colorbar": {
             "outlinewidth": 0,
             "ticks": ""
            },
            "type": "contourcarpet"
           }
          ],
          "heatmap": [
           {
            "colorbar": {
             "outlinewidth": 0,
             "ticks": ""
            },
            "colorscale": [
             [
              0,
              "#0d0887"
             ],
             [
              0.1111111111111111,
              "#46039f"
             ],
             [
              0.2222222222222222,
              "#7201a8"
             ],
             [
              0.3333333333333333,
              "#9c179e"
             ],
             [
              0.4444444444444444,
              "#bd3786"
             ],
             [
              0.5555555555555556,
              "#d8576b"
             ],
             [
              0.6666666666666666,
              "#ed7953"
             ],
             [
              0.7777777777777778,
              "#fb9f3a"
             ],
             [
              0.8888888888888888,
              "#fdca26"
             ],
             [
              1,
              "#f0f921"
             ]
            ],
            "type": "heatmap"
           }
          ],
          "heatmapgl": [
           {
            "colorbar": {
             "outlinewidth": 0,
             "ticks": ""
            },
            "colorscale": [
             [
              0,
              "#0d0887"
             ],
             [
              0.1111111111111111,
              "#46039f"
             ],
             [
              0.2222222222222222,
              "#7201a8"
             ],
             [
              0.3333333333333333,
              "#9c179e"
             ],
             [
              0.4444444444444444,
              "#bd3786"
             ],
             [
              0.5555555555555556,
              "#d8576b"
             ],
             [
              0.6666666666666666,
              "#ed7953"
             ],
             [
              0.7777777777777778,
              "#fb9f3a"
             ],
             [
              0.8888888888888888,
              "#fdca26"
             ],
             [
              1,
              "#f0f921"
             ]
            ],
            "type": "heatmapgl"
           }
          ],
          "histogram": [
           {
            "marker": {
             "pattern": {
              "fillmode": "overlay",
              "size": 10,
              "solidity": 0.2
             }
            },
            "type": "histogram"
           }
          ],
          "histogram2d": [
           {
            "colorbar": {
             "outlinewidth": 0,
             "ticks": ""
            },
            "colorscale": [
             [
              0,
              "#0d0887"
             ],
             [
              0.1111111111111111,
              "#46039f"
             ],
             [
              0.2222222222222222,
              "#7201a8"
             ],
             [
              0.3333333333333333,
              "#9c179e"
             ],
             [
              0.4444444444444444,
              "#bd3786"
             ],
             [
              0.5555555555555556,
              "#d8576b"
             ],
             [
              0.6666666666666666,
              "#ed7953"
             ],
             [
              0.7777777777777778,
              "#fb9f3a"
             ],
             [
              0.8888888888888888,
              "#fdca26"
             ],
             [
              1,
              "#f0f921"
             ]
            ],
            "type": "histogram2d"
           }
          ],
          "histogram2dcontour": [
           {
            "colorbar": {
             "outlinewidth": 0,
             "ticks": ""
            },
            "colorscale": [
             [
              0,
              "#0d0887"
             ],
             [
              0.1111111111111111,
              "#46039f"
             ],
             [
              0.2222222222222222,
              "#7201a8"
             ],
             [
              0.3333333333333333,
              "#9c179e"
             ],
             [
              0.4444444444444444,
              "#bd3786"
             ],
             [
              0.5555555555555556,
              "#d8576b"
             ],
             [
              0.6666666666666666,
              "#ed7953"
             ],
             [
              0.7777777777777778,
              "#fb9f3a"
             ],
             [
              0.8888888888888888,
              "#fdca26"
             ],
             [
              1,
              "#f0f921"
             ]
            ],
            "type": "histogram2dcontour"
           }
          ],
          "mesh3d": [
           {
            "colorbar": {
             "outlinewidth": 0,
             "ticks": ""
            },
            "type": "mesh3d"
           }
          ],
          "parcoords": [
           {
            "line": {
             "colorbar": {
              "outlinewidth": 0,
              "ticks": ""
             }
            },
            "type": "parcoords"
           }
          ],
          "pie": [
           {
            "automargin": true,
            "type": "pie"
           }
          ],
          "scatter": [
           {
            "fillpattern": {
             "fillmode": "overlay",
             "size": 10,
             "solidity": 0.2
            },
            "type": "scatter"
           }
          ],
          "scatter3d": [
           {
            "line": {
             "colorbar": {
              "outlinewidth": 0,
              "ticks": ""
             }
            },
            "marker": {
             "colorbar": {
              "outlinewidth": 0,
              "ticks": ""
             }
            },
            "type": "scatter3d"
           }
          ],
          "scattercarpet": [
           {
            "marker": {
             "colorbar": {
              "outlinewidth": 0,
              "ticks": ""
             }
            },
            "type": "scattercarpet"
           }
          ],
          "scattergeo": [
           {
            "marker": {
             "colorbar": {
              "outlinewidth": 0,
              "ticks": ""
             }
            },
            "type": "scattergeo"
           }
          ],
          "scattergl": [
           {
            "marker": {
             "colorbar": {
              "outlinewidth": 0,
              "ticks": ""
             }
            },
            "type": "scattergl"
           }
          ],
          "scattermapbox": [
           {
            "marker": {
             "colorbar": {
              "outlinewidth": 0,
              "ticks": ""
             }
            },
            "type": "scattermapbox"
           }
          ],
          "scatterpolar": [
           {
            "marker": {
             "colorbar": {
              "outlinewidth": 0,
              "ticks": ""
             }
            },
            "type": "scatterpolar"
           }
          ],
          "scatterpolargl": [
           {
            "marker": {
             "colorbar": {
              "outlinewidth": 0,
              "ticks": ""
             }
            },
            "type": "scatterpolargl"
           }
          ],
          "scatterternary": [
           {
            "marker": {
             "colorbar": {
              "outlinewidth": 0,
              "ticks": ""
             }
            },
            "type": "scatterternary"
           }
          ],
          "surface": [
           {
            "colorbar": {
             "outlinewidth": 0,
             "ticks": ""
            },
            "colorscale": [
             [
              0,
              "#0d0887"
             ],
             [
              0.1111111111111111,
              "#46039f"
             ],
             [
              0.2222222222222222,
              "#7201a8"
             ],
             [
              0.3333333333333333,
              "#9c179e"
             ],
             [
              0.4444444444444444,
              "#bd3786"
             ],
             [
              0.5555555555555556,
              "#d8576b"
             ],
             [
              0.6666666666666666,
              "#ed7953"
             ],
             [
              0.7777777777777778,
              "#fb9f3a"
             ],
             [
              0.8888888888888888,
              "#fdca26"
             ],
             [
              1,
              "#f0f921"
             ]
            ],
            "type": "surface"
           }
          ],
          "table": [
           {
            "cells": {
             "fill": {
              "color": "#EBF0F8"
             },
             "line": {
              "color": "white"
             }
            },
            "header": {
             "fill": {
              "color": "#C8D4E3"
             },
             "line": {
              "color": "white"
             }
            },
            "type": "table"
           }
          ]
         },
         "layout": {
          "annotationdefaults": {
           "arrowcolor": "#2a3f5f",
           "arrowhead": 0,
           "arrowwidth": 1
          },
          "autotypenumbers": "strict",
          "coloraxis": {
           "colorbar": {
            "outlinewidth": 0,
            "ticks": ""
           }
          },
          "colorscale": {
           "diverging": [
            [
             0,
             "#8e0152"
            ],
            [
             0.1,
             "#c51b7d"
            ],
            [
             0.2,
             "#de77ae"
            ],
            [
             0.3,
             "#f1b6da"
            ],
            [
             0.4,
             "#fde0ef"
            ],
            [
             0.5,
             "#f7f7f7"
            ],
            [
             0.6,
             "#e6f5d0"
            ],
            [
             0.7,
             "#b8e186"
            ],
            [
             0.8,
             "#7fbc41"
            ],
            [
             0.9,
             "#4d9221"
            ],
            [
             1,
             "#276419"
            ]
           ],
           "sequential": [
            [
             0,
             "#0d0887"
            ],
            [
             0.1111111111111111,
             "#46039f"
            ],
            [
             0.2222222222222222,
             "#7201a8"
            ],
            [
             0.3333333333333333,
             "#9c179e"
            ],
            [
             0.4444444444444444,
             "#bd3786"
            ],
            [
             0.5555555555555556,
             "#d8576b"
            ],
            [
             0.6666666666666666,
             "#ed7953"
            ],
            [
             0.7777777777777778,
             "#fb9f3a"
            ],
            [
             0.8888888888888888,
             "#fdca26"
            ],
            [
             1,
             "#f0f921"
            ]
           ],
           "sequentialminus": [
            [
             0,
             "#0d0887"
            ],
            [
             0.1111111111111111,
             "#46039f"
            ],
            [
             0.2222222222222222,
             "#7201a8"
            ],
            [
             0.3333333333333333,
             "#9c179e"
            ],
            [
             0.4444444444444444,
             "#bd3786"
            ],
            [
             0.5555555555555556,
             "#d8576b"
            ],
            [
             0.6666666666666666,
             "#ed7953"
            ],
            [
             0.7777777777777778,
             "#fb9f3a"
            ],
            [
             0.8888888888888888,
             "#fdca26"
            ],
            [
             1,
             "#f0f921"
            ]
           ]
          },
          "colorway": [
           "#636efa",
           "#EF553B",
           "#00cc96",
           "#ab63fa",
           "#FFA15A",
           "#19d3f3",
           "#FF6692",
           "#B6E880",
           "#FF97FF",
           "#FECB52"
          ],
          "font": {
           "color": "#2a3f5f"
          },
          "geo": {
           "bgcolor": "white",
           "lakecolor": "white",
           "landcolor": "#E5ECF6",
           "showlakes": true,
           "showland": true,
           "subunitcolor": "white"
          },
          "hoverlabel": {
           "align": "left"
          },
          "hovermode": "closest",
          "mapbox": {
           "style": "light"
          },
          "paper_bgcolor": "white",
          "plot_bgcolor": "#E5ECF6",
          "polar": {
           "angularaxis": {
            "gridcolor": "white",
            "linecolor": "white",
            "ticks": ""
           },
           "bgcolor": "#E5ECF6",
           "radialaxis": {
            "gridcolor": "white",
            "linecolor": "white",
            "ticks": ""
           }
          },
          "scene": {
           "xaxis": {
            "backgroundcolor": "#E5ECF6",
            "gridcolor": "white",
            "gridwidth": 2,
            "linecolor": "white",
            "showbackground": true,
            "ticks": "",
            "zerolinecolor": "white"
           },
           "yaxis": {
            "backgroundcolor": "#E5ECF6",
            "gridcolor": "white",
            "gridwidth": 2,
            "linecolor": "white",
            "showbackground": true,
            "ticks": "",
            "zerolinecolor": "white"
           },
           "zaxis": {
            "backgroundcolor": "#E5ECF6",
            "gridcolor": "white",
            "gridwidth": 2,
            "linecolor": "white",
            "showbackground": true,
            "ticks": "",
            "zerolinecolor": "white"
           }
          },
          "shapedefaults": {
           "line": {
            "color": "#2a3f5f"
           }
          },
          "ternary": {
           "aaxis": {
            "gridcolor": "white",
            "linecolor": "white",
            "ticks": ""
           },
           "baxis": {
            "gridcolor": "white",
            "linecolor": "white",
            "ticks": ""
           },
           "bgcolor": "#E5ECF6",
           "caxis": {
            "gridcolor": "white",
            "linecolor": "white",
            "ticks": ""
           }
          },
          "title": {
           "x": 0.05
          },
          "xaxis": {
           "automargin": true,
           "gridcolor": "white",
           "linecolor": "white",
           "ticks": "",
           "title": {
            "standoff": 15
           },
           "zerolinecolor": "white",
           "zerolinewidth": 2
          },
          "yaxis": {
           "automargin": true,
           "gridcolor": "white",
           "linecolor": "white",
           "ticks": "",
           "title": {
            "standoff": 15
           },
           "zerolinecolor": "white",
           "zerolinewidth": 2
          }
         }
        },
        "width": 500,
        "xaxis": {
         "linecolor": "black",
         "linewidth": 1,
         "showline": true,
         "title": {
          "text": "Speed_mean [km/h]"
         }
        },
        "yaxis": {
         "linecolor": "black",
         "linewidth": 1,
         "showline": true,
         "title": {
          "text": "RPA [m/s²]"
         }
        }
       }
      },
      "text/html": [
       "<div>                            <div id=\"076ebc2f-1503-4b65-ac2e-7c13743b9218\" class=\"plotly-graph-div\" style=\"height:400px; width:500px;\"></div>            <script type=\"text/javascript\">                require([\"plotly\"], function(Plotly) {                    window.PLOTLYENV=window.PLOTLYENV || {};                                    if (document.getElementById(\"076ebc2f-1503-4b65-ac2e-7c13743b9218\")) {                    Plotly.newPlot(                        \"076ebc2f-1503-4b65-ac2e-7c13743b9218\",                        [{\"marker\":{\"color\":\"darkblue\",\"size\":10,\"symbol\":\"circle\"},\"mode\":\"markers\",\"name\":\"Motorway_1\",\"x\":[115.57276],\"y\":[146.98228673070759],\"type\":\"scatter\"},{\"marker\":{\"color\":\"darkorange\",\"size\":10,\"symbol\":\"circle\"},\"mode\":\"markers\",\"name\":\"Motorway_2\",\"x\":[113.00208],\"y\":[151.08761703178422],\"type\":\"scatter\"},{\"marker\":{\"color\":\"darkred\",\"size\":10,\"symbol\":\"circle\"},\"mode\":\"markers\",\"name\":\"Motorway_3\",\"x\":[108.88047],\"y\":[400.6605044848763],\"type\":\"scatter\"},{\"marker\":{\"color\":\"darkred\",\"size\":10,\"symbol\":\"x\"},\"mode\":\"markers\",\"name\":\"Rural_1\",\"x\":[72.71477],\"y\":[408.75076987367004],\"type\":\"scatter\"},{\"marker\":{\"color\":\"darkorange\",\"size\":10,\"symbol\":\"x\"},\"mode\":\"markers\",\"name\":\"Rural_2\",\"x\":[77.4969],\"y\":[402.2130085019476],\"type\":\"scatter\"},{\"marker\":{\"color\":\"darkblue\",\"size\":10,\"symbol\":\"x\"},\"mode\":\"markers\",\"name\":\"Rural_3\",\"x\":[56.23803],\"y\":[287.8294460390285],\"type\":\"scatter\"},{\"marker\":{\"color\":\"darkorange\",\"size\":10,\"symbol\":\"square\"},\"mode\":\"markers\",\"name\":\"Urban_1\",\"x\":[28.40735],\"y\":[819.306265162257],\"type\":\"scatter\"},{\"marker\":{\"color\":\"darkred\",\"size\":10,\"symbol\":\"square\"},\"mode\":\"markers\",\"name\":\"Urban_2\",\"x\":[30.99249],\"y\":[844.0475045273336],\"type\":\"scatter\"},{\"marker\":{\"color\":\"darkblue\",\"size\":10,\"symbol\":\"square\"},\"mode\":\"markers\",\"name\":\"Urban_3\",\"x\":[21.64558],\"y\":[604.8390470485867],\"type\":\"scatter\"}],                        {\"template\":{\"data\":{\"histogram2dcontour\":[{\"type\":\"histogram2dcontour\",\"colorbar\":{\"outlinewidth\":0,\"ticks\":\"\"},\"colorscale\":[[0.0,\"#0d0887\"],[0.1111111111111111,\"#46039f\"],[0.2222222222222222,\"#7201a8\"],[0.3333333333333333,\"#9c179e\"],[0.4444444444444444,\"#bd3786\"],[0.5555555555555556,\"#d8576b\"],[0.6666666666666666,\"#ed7953\"],[0.7777777777777778,\"#fb9f3a\"],[0.8888888888888888,\"#fdca26\"],[1.0,\"#f0f921\"]]}],\"choropleth\":[{\"type\":\"choropleth\",\"colorbar\":{\"outlinewidth\":0,\"ticks\":\"\"}}],\"histogram2d\":[{\"type\":\"histogram2d\",\"colorbar\":{\"outlinewidth\":0,\"ticks\":\"\"},\"colorscale\":[[0.0,\"#0d0887\"],[0.1111111111111111,\"#46039f\"],[0.2222222222222222,\"#7201a8\"],[0.3333333333333333,\"#9c179e\"],[0.4444444444444444,\"#bd3786\"],[0.5555555555555556,\"#d8576b\"],[0.6666666666666666,\"#ed7953\"],[0.7777777777777778,\"#fb9f3a\"],[0.8888888888888888,\"#fdca26\"],[1.0,\"#f0f921\"]]}],\"heatmap\":[{\"type\":\"heatmap\",\"colorbar\":{\"outlinewidth\":0,\"ticks\":\"\"},\"colorscale\":[[0.0,\"#0d0887\"],[0.1111111111111111,\"#46039f\"],[0.2222222222222222,\"#7201a8\"],[0.3333333333333333,\"#9c179e\"],[0.4444444444444444,\"#bd3786\"],[0.5555555555555556,\"#d8576b\"],[0.6666666666666666,\"#ed7953\"],[0.7777777777777778,\"#fb9f3a\"],[0.8888888888888888,\"#fdca26\"],[1.0,\"#f0f921\"]]}],\"heatmapgl\":[{\"type\":\"heatmapgl\",\"colorbar\":{\"outlinewidth\":0,\"ticks\":\"\"},\"colorscale\":[[0.0,\"#0d0887\"],[0.1111111111111111,\"#46039f\"],[0.2222222222222222,\"#7201a8\"],[0.3333333333333333,\"#9c179e\"],[0.4444444444444444,\"#bd3786\"],[0.5555555555555556,\"#d8576b\"],[0.6666666666666666,\"#ed7953\"],[0.7777777777777778,\"#fb9f3a\"],[0.8888888888888888,\"#fdca26\"],[1.0,\"#f0f921\"]]}],\"contourcarpet\":[{\"type\":\"contourcarpet\",\"colorbar\":{\"outlinewidth\":0,\"ticks\":\"\"}}],\"contour\":[{\"type\":\"contour\",\"colorbar\":{\"outlinewidth\":0,\"ticks\":\"\"},\"colorscale\":[[0.0,\"#0d0887\"],[0.1111111111111111,\"#46039f\"],[0.2222222222222222,\"#7201a8\"],[0.3333333333333333,\"#9c179e\"],[0.4444444444444444,\"#bd3786\"],[0.5555555555555556,\"#d8576b\"],[0.6666666666666666,\"#ed7953\"],[0.7777777777777778,\"#fb9f3a\"],[0.8888888888888888,\"#fdca26\"],[1.0,\"#f0f921\"]]}],\"surface\":[{\"type\":\"surface\",\"colorbar\":{\"outlinewidth\":0,\"ticks\":\"\"},\"colorscale\":[[0.0,\"#0d0887\"],[0.1111111111111111,\"#46039f\"],[0.2222222222222222,\"#7201a8\"],[0.3333333333333333,\"#9c179e\"],[0.4444444444444444,\"#bd3786\"],[0.5555555555555556,\"#d8576b\"],[0.6666666666666666,\"#ed7953\"],[0.7777777777777778,\"#fb9f3a\"],[0.8888888888888888,\"#fdca26\"],[1.0,\"#f0f921\"]]}],\"mesh3d\":[{\"type\":\"mesh3d\",\"colorbar\":{\"outlinewidth\":0,\"ticks\":\"\"}}],\"scatter\":[{\"fillpattern\":{\"fillmode\":\"overlay\",\"size\":10,\"solidity\":0.2},\"type\":\"scatter\"}],\"parcoords\":[{\"type\":\"parcoords\",\"line\":{\"colorbar\":{\"outlinewidth\":0,\"ticks\":\"\"}}}],\"scatterpolargl\":[{\"type\":\"scatterpolargl\",\"marker\":{\"colorbar\":{\"outlinewidth\":0,\"ticks\":\"\"}}}],\"bar\":[{\"error_x\":{\"color\":\"#2a3f5f\"},\"error_y\":{\"color\":\"#2a3f5f\"},\"marker\":{\"line\":{\"color\":\"#E5ECF6\",\"width\":0.5},\"pattern\":{\"fillmode\":\"overlay\",\"size\":10,\"solidity\":0.2}},\"type\":\"bar\"}],\"scattergeo\":[{\"type\":\"scattergeo\",\"marker\":{\"colorbar\":{\"outlinewidth\":0,\"ticks\":\"\"}}}],\"scatterpolar\":[{\"type\":\"scatterpolar\",\"marker\":{\"colorbar\":{\"outlinewidth\":0,\"ticks\":\"\"}}}],\"histogram\":[{\"marker\":{\"pattern\":{\"fillmode\":\"overlay\",\"size\":10,\"solidity\":0.2}},\"type\":\"histogram\"}],\"scattergl\":[{\"type\":\"scattergl\",\"marker\":{\"colorbar\":{\"outlinewidth\":0,\"ticks\":\"\"}}}],\"scatter3d\":[{\"type\":\"scatter3d\",\"line\":{\"colorbar\":{\"outlinewidth\":0,\"ticks\":\"\"}},\"marker\":{\"colorbar\":{\"outlinewidth\":0,\"ticks\":\"\"}}}],\"scattermapbox\":[{\"type\":\"scattermapbox\",\"marker\":{\"colorbar\":{\"outlinewidth\":0,\"ticks\":\"\"}}}],\"scatterternary\":[{\"type\":\"scatterternary\",\"marker\":{\"colorbar\":{\"outlinewidth\":0,\"ticks\":\"\"}}}],\"scattercarpet\":[{\"type\":\"scattercarpet\",\"marker\":{\"colorbar\":{\"outlinewidth\":0,\"ticks\":\"\"}}}],\"carpet\":[{\"aaxis\":{\"endlinecolor\":\"#2a3f5f\",\"gridcolor\":\"white\",\"linecolor\":\"white\",\"minorgridcolor\":\"white\",\"startlinecolor\":\"#2a3f5f\"},\"baxis\":{\"endlinecolor\":\"#2a3f5f\",\"gridcolor\":\"white\",\"linecolor\":\"white\",\"minorgridcolor\":\"white\",\"startlinecolor\":\"#2a3f5f\"},\"type\":\"carpet\"}],\"table\":[{\"cells\":{\"fill\":{\"color\":\"#EBF0F8\"},\"line\":{\"color\":\"white\"}},\"header\":{\"fill\":{\"color\":\"#C8D4E3\"},\"line\":{\"color\":\"white\"}},\"type\":\"table\"}],\"barpolar\":[{\"marker\":{\"line\":{\"color\":\"#E5ECF6\",\"width\":0.5},\"pattern\":{\"fillmode\":\"overlay\",\"size\":10,\"solidity\":0.2}},\"type\":\"barpolar\"}],\"pie\":[{\"automargin\":true,\"type\":\"pie\"}]},\"layout\":{\"autotypenumbers\":\"strict\",\"colorway\":[\"#636efa\",\"#EF553B\",\"#00cc96\",\"#ab63fa\",\"#FFA15A\",\"#19d3f3\",\"#FF6692\",\"#B6E880\",\"#FF97FF\",\"#FECB52\"],\"font\":{\"color\":\"#2a3f5f\"},\"hovermode\":\"closest\",\"hoverlabel\":{\"align\":\"left\"},\"paper_bgcolor\":\"white\",\"plot_bgcolor\":\"#E5ECF6\",\"polar\":{\"bgcolor\":\"#E5ECF6\",\"angularaxis\":{\"gridcolor\":\"white\",\"linecolor\":\"white\",\"ticks\":\"\"},\"radialaxis\":{\"gridcolor\":\"white\",\"linecolor\":\"white\",\"ticks\":\"\"}},\"ternary\":{\"bgcolor\":\"#E5ECF6\",\"aaxis\":{\"gridcolor\":\"white\",\"linecolor\":\"white\",\"ticks\":\"\"},\"baxis\":{\"gridcolor\":\"white\",\"linecolor\":\"white\",\"ticks\":\"\"},\"caxis\":{\"gridcolor\":\"white\",\"linecolor\":\"white\",\"ticks\":\"\"}},\"coloraxis\":{\"colorbar\":{\"outlinewidth\":0,\"ticks\":\"\"}},\"colorscale\":{\"sequential\":[[0.0,\"#0d0887\"],[0.1111111111111111,\"#46039f\"],[0.2222222222222222,\"#7201a8\"],[0.3333333333333333,\"#9c179e\"],[0.4444444444444444,\"#bd3786\"],[0.5555555555555556,\"#d8576b\"],[0.6666666666666666,\"#ed7953\"],[0.7777777777777778,\"#fb9f3a\"],[0.8888888888888888,\"#fdca26\"],[1.0,\"#f0f921\"]],\"sequentialminus\":[[0.0,\"#0d0887\"],[0.1111111111111111,\"#46039f\"],[0.2222222222222222,\"#7201a8\"],[0.3333333333333333,\"#9c179e\"],[0.4444444444444444,\"#bd3786\"],[0.5555555555555556,\"#d8576b\"],[0.6666666666666666,\"#ed7953\"],[0.7777777777777778,\"#fb9f3a\"],[0.8888888888888888,\"#fdca26\"],[1.0,\"#f0f921\"]],\"diverging\":[[0,\"#8e0152\"],[0.1,\"#c51b7d\"],[0.2,\"#de77ae\"],[0.3,\"#f1b6da\"],[0.4,\"#fde0ef\"],[0.5,\"#f7f7f7\"],[0.6,\"#e6f5d0\"],[0.7,\"#b8e186\"],[0.8,\"#7fbc41\"],[0.9,\"#4d9221\"],[1,\"#276419\"]]},\"xaxis\":{\"gridcolor\":\"white\",\"linecolor\":\"white\",\"ticks\":\"\",\"title\":{\"standoff\":15},\"zerolinecolor\":\"white\",\"automargin\":true,\"zerolinewidth\":2},\"yaxis\":{\"gridcolor\":\"white\",\"linecolor\":\"white\",\"ticks\":\"\",\"title\":{\"standoff\":15},\"zerolinecolor\":\"white\",\"automargin\":true,\"zerolinewidth\":2},\"scene\":{\"xaxis\":{\"backgroundcolor\":\"#E5ECF6\",\"gridcolor\":\"white\",\"linecolor\":\"white\",\"showbackground\":true,\"ticks\":\"\",\"zerolinecolor\":\"white\",\"gridwidth\":2},\"yaxis\":{\"backgroundcolor\":\"#E5ECF6\",\"gridcolor\":\"white\",\"linecolor\":\"white\",\"showbackground\":true,\"ticks\":\"\",\"zerolinecolor\":\"white\",\"gridwidth\":2},\"zaxis\":{\"backgroundcolor\":\"#E5ECF6\",\"gridcolor\":\"white\",\"linecolor\":\"white\",\"showbackground\":true,\"ticks\":\"\",\"zerolinecolor\":\"white\",\"gridwidth\":2}},\"shapedefaults\":{\"line\":{\"color\":\"#2a3f5f\"}},\"annotationdefaults\":{\"arrowcolor\":\"#2a3f5f\",\"arrowhead\":0,\"arrowwidth\":1},\"geo\":{\"bgcolor\":\"white\",\"landcolor\":\"#E5ECF6\",\"subunitcolor\":\"white\",\"showland\":true,\"showlakes\":true,\"lakecolor\":\"white\"},\"title\":{\"x\":0.05},\"mapbox\":{\"style\":\"light\"}}},\"xaxis\":{\"title\":{\"text\":\"Speed_mean [km/h]\"},\"showline\":true,\"linewidth\":1,\"linecolor\":\"black\"},\"yaxis\":{\"title\":{\"text\":\"RPA [m/s\\u00b2]\"},\"showline\":true,\"linewidth\":1,\"linecolor\":\"black\"},\"height\":400,\"width\":500,\"plot_bgcolor\":\"white\"},                        {\"responsive\": true}                    ).then(function(){\n",
       "                            \n",
       "var gd = document.getElementById('076ebc2f-1503-4b65-ac2e-7c13743b9218');\n",
       "var x = new MutationObserver(function (mutations, observer) {{\n",
       "        var display = window.getComputedStyle(gd).display;\n",
       "        if (!display || display === 'none') {{\n",
       "            console.log([gd, 'removed!']);\n",
       "            Plotly.purge(gd);\n",
       "            observer.disconnect();\n",
       "        }}\n",
       "}});\n",
       "\n",
       "// Listen for the removal of the full notebook cells\n",
       "var notebookContainer = gd.closest('#notebook-container');\n",
       "if (notebookContainer) {{\n",
       "    x.observe(notebookContainer, {childList: true});\n",
       "}}\n",
       "\n",
       "// Listen for the clearing of the current output cell\n",
       "var outputEl = gd.closest('.output');\n",
       "if (outputEl) {{\n",
       "    x.observe(outputEl, {childList: true});\n",
       "}}\n",
       "\n",
       "                        })                };                });            </script>        </div>"
      ]
     },
     "metadata": {},
     "output_type": "display_data"
    }
   ],
   "source": [
    "# Definir un diccionario que asigna formas a cada categoría\n",
    "shapes = {'Motorway_1': 'circle', 'Motorway_2': 'circle', 'Motorway_3': 'circle',\n",
    "          'Rural_1': 'x', 'Rural_2': 'x', 'Rural_3': 'x',\n",
    "          'Urban_1': 'square', 'Urban_2': 'square', 'Urban_3': 'square'}\n",
    "\n",
    "# Definir un diccionario que asigna colores a cada categoría\n",
    "colors = {'Motorway_1': 'darkblue', 'Motorway_2': 'darkorange', 'Motorway_3': 'darkred',\n",
    "          'Rural_1': 'darkred', 'Rural_2': 'darkorange', 'Rural_3': 'darkblue',\n",
    "          'Urban_1': 'darkorange', 'Urban_2': 'darkred', 'Urban_3': 'darkblue'}\n",
    "\n",
    "# Crear el gráfico de dispersión con diferentes formas y colores para cada categoría\n",
    "fig = go.Figure()\n",
    "\n",
    "# Iterar sobre cada categoría en tu lista predefinida de categorías\n",
    "for categoria, shape in shapes.items():\n",
    "    # Filtrar el DataFrame por la categoría actual\n",
    "    df_categoria = df_final_T[df_final_T['ciclo'] == categoria]\n",
    "    \n",
    "    # Agregar una traza para la categoría actual con la forma y color correspondientes\n",
    "    fig.add_trace(go.Scatter(\n",
    "        x=df_categoria['speed_mean'],\n",
    "#         y=df_categoria['i'],\n",
    "        y=df_categoria['i'],\n",
    "        mode='markers',\n",
    "        name=categoria,\n",
    "        marker=dict(symbol=shape, size=10, color=colors[categoria])\n",
    "    ))\n",
    "    \n",
    "# Actualizar ejes\n",
    "fig.update_xaxes(showline=True, linewidth=1, linecolor='black', title_text=\"Speed_mean [km/h]\")\n",
    "# fig.update_yaxes(showline=True, linewidth=1, linecolor='black', title_text=\"IDI [m/s]\")\n",
    "fig.update_yaxes(showline=True, linewidth=1, linecolor='black', title_text=\"RPA [m/s²]\")\n",
    "fig.update_layout(height=400, width=500, plot_bgcolor=\"white\")\n",
    "# Mostrar el gráfico\n",
    "fig.show()\n"
   ]
  },
  {
   "cell_type": "code",
   "execution_count": 24,
   "id": "2d8ec06f",
   "metadata": {},
   "outputs": [
    {
     "data": {
      "application/vnd.plotly.v1+json": {
       "config": {
        "plotlyServerURL": "https://plot.ly"
       },
       "data": [
        {
         "marker": {
          "color": "darkblue",
          "size": 10,
          "symbol": "circle"
         },
         "mode": "markers",
         "name": "Motorway_1",
         "type": "scatter",
         "x": [
          222
         ],
         "y": [
          0.04966
         ]
        },
        {
         "marker": {
          "color": "darkorange",
          "size": 10,
          "symbol": "circle"
         },
         "mode": "markers",
         "name": "Motorway_2",
         "type": "scatter",
         "x": [
          240
         ],
         "y": [
          0.0479
         ]
        },
        {
         "marker": {
          "color": "darkred",
          "size": 10,
          "symbol": "circle"
         },
         "mode": "markers",
         "name": "Motorway_3",
         "type": "scatter",
         "x": [
          437
         ],
         "y": [
          0.16756
         ]
        },
        {
         "marker": {
          "color": "darkred",
          "size": 10,
          "symbol": "x"
         },
         "mode": "markers",
         "name": "Rural_1",
         "type": "scatter",
         "x": [
          546
         ],
         "y": [
          0.09695
         ]
        },
        {
         "marker": {
          "color": "darkorange",
          "size": 10,
          "symbol": "x"
         },
         "mode": "markers",
         "name": "Rural_2",
         "type": "scatter",
         "x": [
          493
         ],
         "y": [
          0.09907
         ]
        },
        {
         "marker": {
          "color": "darkblue",
          "size": 10,
          "symbol": "x"
         },
         "mode": "markers",
         "name": "Rural_3",
         "type": "scatter",
         "x": [
          348
         ],
         "y": [
          0.0422
         ]
        },
        {
         "marker": {
          "color": "darkorange",
          "size": 10,
          "symbol": "square"
         },
         "mode": "markers",
         "name": "Urban_1",
         "type": "scatter",
         "x": [
          707
         ],
         "y": [
          0.20612
         ]
        },
        {
         "marker": {
          "color": "darkred",
          "size": 10,
          "symbol": "square"
         },
         "mode": "markers",
         "name": "Urban_2",
         "type": "scatter",
         "x": [
          675
         ],
         "y": [
          0.22671
         ]
        },
        {
         "marker": {
          "color": "darkblue",
          "size": 10,
          "symbol": "square"
         },
         "mode": "markers",
         "name": "Urban_3",
         "type": "scatter",
         "x": [
          803
         ],
         "y": [
          0.10355
         ]
        }
       ],
       "layout": {
        "height": 400,
        "plot_bgcolor": "white",
        "template": {
         "data": {
          "bar": [
           {
            "error_x": {
             "color": "#2a3f5f"
            },
            "error_y": {
             "color": "#2a3f5f"
            },
            "marker": {
             "line": {
              "color": "#E5ECF6",
              "width": 0.5
             },
             "pattern": {
              "fillmode": "overlay",
              "size": 10,
              "solidity": 0.2
             }
            },
            "type": "bar"
           }
          ],
          "barpolar": [
           {
            "marker": {
             "line": {
              "color": "#E5ECF6",
              "width": 0.5
             },
             "pattern": {
              "fillmode": "overlay",
              "size": 10,
              "solidity": 0.2
             }
            },
            "type": "barpolar"
           }
          ],
          "carpet": [
           {
            "aaxis": {
             "endlinecolor": "#2a3f5f",
             "gridcolor": "white",
             "linecolor": "white",
             "minorgridcolor": "white",
             "startlinecolor": "#2a3f5f"
            },
            "baxis": {
             "endlinecolor": "#2a3f5f",
             "gridcolor": "white",
             "linecolor": "white",
             "minorgridcolor": "white",
             "startlinecolor": "#2a3f5f"
            },
            "type": "carpet"
           }
          ],
          "choropleth": [
           {
            "colorbar": {
             "outlinewidth": 0,
             "ticks": ""
            },
            "type": "choropleth"
           }
          ],
          "contour": [
           {
            "colorbar": {
             "outlinewidth": 0,
             "ticks": ""
            },
            "colorscale": [
             [
              0,
              "#0d0887"
             ],
             [
              0.1111111111111111,
              "#46039f"
             ],
             [
              0.2222222222222222,
              "#7201a8"
             ],
             [
              0.3333333333333333,
              "#9c179e"
             ],
             [
              0.4444444444444444,
              "#bd3786"
             ],
             [
              0.5555555555555556,
              "#d8576b"
             ],
             [
              0.6666666666666666,
              "#ed7953"
             ],
             [
              0.7777777777777778,
              "#fb9f3a"
             ],
             [
              0.8888888888888888,
              "#fdca26"
             ],
             [
              1,
              "#f0f921"
             ]
            ],
            "type": "contour"
           }
          ],
          "contourcarpet": [
           {
            "colorbar": {
             "outlinewidth": 0,
             "ticks": ""
            },
            "type": "contourcarpet"
           }
          ],
          "heatmap": [
           {
            "colorbar": {
             "outlinewidth": 0,
             "ticks": ""
            },
            "colorscale": [
             [
              0,
              "#0d0887"
             ],
             [
              0.1111111111111111,
              "#46039f"
             ],
             [
              0.2222222222222222,
              "#7201a8"
             ],
             [
              0.3333333333333333,
              "#9c179e"
             ],
             [
              0.4444444444444444,
              "#bd3786"
             ],
             [
              0.5555555555555556,
              "#d8576b"
             ],
             [
              0.6666666666666666,
              "#ed7953"
             ],
             [
              0.7777777777777778,
              "#fb9f3a"
             ],
             [
              0.8888888888888888,
              "#fdca26"
             ],
             [
              1,
              "#f0f921"
             ]
            ],
            "type": "heatmap"
           }
          ],
          "heatmapgl": [
           {
            "colorbar": {
             "outlinewidth": 0,
             "ticks": ""
            },
            "colorscale": [
             [
              0,
              "#0d0887"
             ],
             [
              0.1111111111111111,
              "#46039f"
             ],
             [
              0.2222222222222222,
              "#7201a8"
             ],
             [
              0.3333333333333333,
              "#9c179e"
             ],
             [
              0.4444444444444444,
              "#bd3786"
             ],
             [
              0.5555555555555556,
              "#d8576b"
             ],
             [
              0.6666666666666666,
              "#ed7953"
             ],
             [
              0.7777777777777778,
              "#fb9f3a"
             ],
             [
              0.8888888888888888,
              "#fdca26"
             ],
             [
              1,
              "#f0f921"
             ]
            ],
            "type": "heatmapgl"
           }
          ],
          "histogram": [
           {
            "marker": {
             "pattern": {
              "fillmode": "overlay",
              "size": 10,
              "solidity": 0.2
             }
            },
            "type": "histogram"
           }
          ],
          "histogram2d": [
           {
            "colorbar": {
             "outlinewidth": 0,
             "ticks": ""
            },
            "colorscale": [
             [
              0,
              "#0d0887"
             ],
             [
              0.1111111111111111,
              "#46039f"
             ],
             [
              0.2222222222222222,
              "#7201a8"
             ],
             [
              0.3333333333333333,
              "#9c179e"
             ],
             [
              0.4444444444444444,
              "#bd3786"
             ],
             [
              0.5555555555555556,
              "#d8576b"
             ],
             [
              0.6666666666666666,
              "#ed7953"
             ],
             [
              0.7777777777777778,
              "#fb9f3a"
             ],
             [
              0.8888888888888888,
              "#fdca26"
             ],
             [
              1,
              "#f0f921"
             ]
            ],
            "type": "histogram2d"
           }
          ],
          "histogram2dcontour": [
           {
            "colorbar": {
             "outlinewidth": 0,
             "ticks": ""
            },
            "colorscale": [
             [
              0,
              "#0d0887"
             ],
             [
              0.1111111111111111,
              "#46039f"
             ],
             [
              0.2222222222222222,
              "#7201a8"
             ],
             [
              0.3333333333333333,
              "#9c179e"
             ],
             [
              0.4444444444444444,
              "#bd3786"
             ],
             [
              0.5555555555555556,
              "#d8576b"
             ],
             [
              0.6666666666666666,
              "#ed7953"
             ],
             [
              0.7777777777777778,
              "#fb9f3a"
             ],
             [
              0.8888888888888888,
              "#fdca26"
             ],
             [
              1,
              "#f0f921"
             ]
            ],
            "type": "histogram2dcontour"
           }
          ],
          "mesh3d": [
           {
            "colorbar": {
             "outlinewidth": 0,
             "ticks": ""
            },
            "type": "mesh3d"
           }
          ],
          "parcoords": [
           {
            "line": {
             "colorbar": {
              "outlinewidth": 0,
              "ticks": ""
             }
            },
            "type": "parcoords"
           }
          ],
          "pie": [
           {
            "automargin": true,
            "type": "pie"
           }
          ],
          "scatter": [
           {
            "fillpattern": {
             "fillmode": "overlay",
             "size": 10,
             "solidity": 0.2
            },
            "type": "scatter"
           }
          ],
          "scatter3d": [
           {
            "line": {
             "colorbar": {
              "outlinewidth": 0,
              "ticks": ""
             }
            },
            "marker": {
             "colorbar": {
              "outlinewidth": 0,
              "ticks": ""
             }
            },
            "type": "scatter3d"
           }
          ],
          "scattercarpet": [
           {
            "marker": {
             "colorbar": {
              "outlinewidth": 0,
              "ticks": ""
             }
            },
            "type": "scattercarpet"
           }
          ],
          "scattergeo": [
           {
            "marker": {
             "colorbar": {
              "outlinewidth": 0,
              "ticks": ""
             }
            },
            "type": "scattergeo"
           }
          ],
          "scattergl": [
           {
            "marker": {
             "colorbar": {
              "outlinewidth": 0,
              "ticks": ""
             }
            },
            "type": "scattergl"
           }
          ],
          "scattermapbox": [
           {
            "marker": {
             "colorbar": {
              "outlinewidth": 0,
              "ticks": ""
             }
            },
            "type": "scattermapbox"
           }
          ],
          "scatterpolar": [
           {
            "marker": {
             "colorbar": {
              "outlinewidth": 0,
              "ticks": ""
             }
            },
            "type": "scatterpolar"
           }
          ],
          "scatterpolargl": [
           {
            "marker": {
             "colorbar": {
              "outlinewidth": 0,
              "ticks": ""
             }
            },
            "type": "scatterpolargl"
           }
          ],
          "scatterternary": [
           {
            "marker": {
             "colorbar": {
              "outlinewidth": 0,
              "ticks": ""
             }
            },
            "type": "scatterternary"
           }
          ],
          "surface": [
           {
            "colorbar": {
             "outlinewidth": 0,
             "ticks": ""
            },
            "colorscale": [
             [
              0,
              "#0d0887"
             ],
             [
              0.1111111111111111,
              "#46039f"
             ],
             [
              0.2222222222222222,
              "#7201a8"
             ],
             [
              0.3333333333333333,
              "#9c179e"
             ],
             [
              0.4444444444444444,
              "#bd3786"
             ],
             [
              0.5555555555555556,
              "#d8576b"
             ],
             [
              0.6666666666666666,
              "#ed7953"
             ],
             [
              0.7777777777777778,
              "#fb9f3a"
             ],
             [
              0.8888888888888888,
              "#fdca26"
             ],
             [
              1,
              "#f0f921"
             ]
            ],
            "type": "surface"
           }
          ],
          "table": [
           {
            "cells": {
             "fill": {
              "color": "#EBF0F8"
             },
             "line": {
              "color": "white"
             }
            },
            "header": {
             "fill": {
              "color": "#C8D4E3"
             },
             "line": {
              "color": "white"
             }
            },
            "type": "table"
           }
          ]
         },
         "layout": {
          "annotationdefaults": {
           "arrowcolor": "#2a3f5f",
           "arrowhead": 0,
           "arrowwidth": 1
          },
          "autotypenumbers": "strict",
          "coloraxis": {
           "colorbar": {
            "outlinewidth": 0,
            "ticks": ""
           }
          },
          "colorscale": {
           "diverging": [
            [
             0,
             "#8e0152"
            ],
            [
             0.1,
             "#c51b7d"
            ],
            [
             0.2,
             "#de77ae"
            ],
            [
             0.3,
             "#f1b6da"
            ],
            [
             0.4,
             "#fde0ef"
            ],
            [
             0.5,
             "#f7f7f7"
            ],
            [
             0.6,
             "#e6f5d0"
            ],
            [
             0.7,
             "#b8e186"
            ],
            [
             0.8,
             "#7fbc41"
            ],
            [
             0.9,
             "#4d9221"
            ],
            [
             1,
             "#276419"
            ]
           ],
           "sequential": [
            [
             0,
             "#0d0887"
            ],
            [
             0.1111111111111111,
             "#46039f"
            ],
            [
             0.2222222222222222,
             "#7201a8"
            ],
            [
             0.3333333333333333,
             "#9c179e"
            ],
            [
             0.4444444444444444,
             "#bd3786"
            ],
            [
             0.5555555555555556,
             "#d8576b"
            ],
            [
             0.6666666666666666,
             "#ed7953"
            ],
            [
             0.7777777777777778,
             "#fb9f3a"
            ],
            [
             0.8888888888888888,
             "#fdca26"
            ],
            [
             1,
             "#f0f921"
            ]
           ],
           "sequentialminus": [
            [
             0,
             "#0d0887"
            ],
            [
             0.1111111111111111,
             "#46039f"
            ],
            [
             0.2222222222222222,
             "#7201a8"
            ],
            [
             0.3333333333333333,
             "#9c179e"
            ],
            [
             0.4444444444444444,
             "#bd3786"
            ],
            [
             0.5555555555555556,
             "#d8576b"
            ],
            [
             0.6666666666666666,
             "#ed7953"
            ],
            [
             0.7777777777777778,
             "#fb9f3a"
            ],
            [
             0.8888888888888888,
             "#fdca26"
            ],
            [
             1,
             "#f0f921"
            ]
           ]
          },
          "colorway": [
           "#636efa",
           "#EF553B",
           "#00cc96",
           "#ab63fa",
           "#FFA15A",
           "#19d3f3",
           "#FF6692",
           "#B6E880",
           "#FF97FF",
           "#FECB52"
          ],
          "font": {
           "color": "#2a3f5f"
          },
          "geo": {
           "bgcolor": "white",
           "lakecolor": "white",
           "landcolor": "#E5ECF6",
           "showlakes": true,
           "showland": true,
           "subunitcolor": "white"
          },
          "hoverlabel": {
           "align": "left"
          },
          "hovermode": "closest",
          "mapbox": {
           "style": "light"
          },
          "paper_bgcolor": "white",
          "plot_bgcolor": "#E5ECF6",
          "polar": {
           "angularaxis": {
            "gridcolor": "white",
            "linecolor": "white",
            "ticks": ""
           },
           "bgcolor": "#E5ECF6",
           "radialaxis": {
            "gridcolor": "white",
            "linecolor": "white",
            "ticks": ""
           }
          },
          "scene": {
           "xaxis": {
            "backgroundcolor": "#E5ECF6",
            "gridcolor": "white",
            "gridwidth": 2,
            "linecolor": "white",
            "showbackground": true,
            "ticks": "",
            "zerolinecolor": "white"
           },
           "yaxis": {
            "backgroundcolor": "#E5ECF6",
            "gridcolor": "white",
            "gridwidth": 2,
            "linecolor": "white",
            "showbackground": true,
            "ticks": "",
            "zerolinecolor": "white"
           },
           "zaxis": {
            "backgroundcolor": "#E5ECF6",
            "gridcolor": "white",
            "gridwidth": 2,
            "linecolor": "white",
            "showbackground": true,
            "ticks": "",
            "zerolinecolor": "white"
           }
          },
          "shapedefaults": {
           "line": {
            "color": "#2a3f5f"
           }
          },
          "ternary": {
           "aaxis": {
            "gridcolor": "white",
            "linecolor": "white",
            "ticks": ""
           },
           "baxis": {
            "gridcolor": "white",
            "linecolor": "white",
            "ticks": ""
           },
           "bgcolor": "#E5ECF6",
           "caxis": {
            "gridcolor": "white",
            "linecolor": "white",
            "ticks": ""
           }
          },
          "title": {
           "x": 0.05
          },
          "xaxis": {
           "automargin": true,
           "gridcolor": "white",
           "linecolor": "white",
           "ticks": "",
           "title": {
            "standoff": 15
           },
           "zerolinecolor": "white",
           "zerolinewidth": 2
          },
          "yaxis": {
           "automargin": true,
           "gridcolor": "white",
           "linecolor": "white",
           "ticks": "",
           "title": {
            "standoff": 15
           },
           "zerolinecolor": "white",
           "zerolinewidth": 2
          }
         }
        },
        "width": 500,
        "xaxis": {
         "linecolor": "black",
         "linewidth": 1,
         "showline": true,
         "title": {
          "text": "nia > 0.1 m/s² [#]]"
         }
        },
        "yaxis": {
         "linecolor": "black",
         "linewidth": 1,
         "showline": true,
         "title": {
          "text": "RPA [m/s²]"
         }
        }
       }
      },
      "text/html": [
       "<div>                            <div id=\"7bce4b62-2cab-49f0-a979-575b8489b642\" class=\"plotly-graph-div\" style=\"height:400px; width:500px;\"></div>            <script type=\"text/javascript\">                require([\"plotly\"], function(Plotly) {                    window.PLOTLYENV=window.PLOTLYENV || {};                                    if (document.getElementById(\"7bce4b62-2cab-49f0-a979-575b8489b642\")) {                    Plotly.newPlot(                        \"7bce4b62-2cab-49f0-a979-575b8489b642\",                        [{\"marker\":{\"color\":\"darkblue\",\"size\":10,\"symbol\":\"circle\"},\"mode\":\"markers\",\"name\":\"Motorway_1\",\"x\":[222.0],\"y\":[0.04966],\"type\":\"scatter\"},{\"marker\":{\"color\":\"darkorange\",\"size\":10,\"symbol\":\"circle\"},\"mode\":\"markers\",\"name\":\"Motorway_2\",\"x\":[240.0],\"y\":[0.0479],\"type\":\"scatter\"},{\"marker\":{\"color\":\"darkred\",\"size\":10,\"symbol\":\"circle\"},\"mode\":\"markers\",\"name\":\"Motorway_3\",\"x\":[437.0],\"y\":[0.16756],\"type\":\"scatter\"},{\"marker\":{\"color\":\"darkred\",\"size\":10,\"symbol\":\"x\"},\"mode\":\"markers\",\"name\":\"Rural_1\",\"x\":[546.0],\"y\":[0.09695],\"type\":\"scatter\"},{\"marker\":{\"color\":\"darkorange\",\"size\":10,\"symbol\":\"x\"},\"mode\":\"markers\",\"name\":\"Rural_2\",\"x\":[493.0],\"y\":[0.09907],\"type\":\"scatter\"},{\"marker\":{\"color\":\"darkblue\",\"size\":10,\"symbol\":\"x\"},\"mode\":\"markers\",\"name\":\"Rural_3\",\"x\":[348.0],\"y\":[0.0422],\"type\":\"scatter\"},{\"marker\":{\"color\":\"darkorange\",\"size\":10,\"symbol\":\"square\"},\"mode\":\"markers\",\"name\":\"Urban_1\",\"x\":[707.0],\"y\":[0.20612],\"type\":\"scatter\"},{\"marker\":{\"color\":\"darkred\",\"size\":10,\"symbol\":\"square\"},\"mode\":\"markers\",\"name\":\"Urban_2\",\"x\":[675.0],\"y\":[0.22671],\"type\":\"scatter\"},{\"marker\":{\"color\":\"darkblue\",\"size\":10,\"symbol\":\"square\"},\"mode\":\"markers\",\"name\":\"Urban_3\",\"x\":[803.0],\"y\":[0.10355],\"type\":\"scatter\"}],                        {\"template\":{\"data\":{\"histogram2dcontour\":[{\"type\":\"histogram2dcontour\",\"colorbar\":{\"outlinewidth\":0,\"ticks\":\"\"},\"colorscale\":[[0.0,\"#0d0887\"],[0.1111111111111111,\"#46039f\"],[0.2222222222222222,\"#7201a8\"],[0.3333333333333333,\"#9c179e\"],[0.4444444444444444,\"#bd3786\"],[0.5555555555555556,\"#d8576b\"],[0.6666666666666666,\"#ed7953\"],[0.7777777777777778,\"#fb9f3a\"],[0.8888888888888888,\"#fdca26\"],[1.0,\"#f0f921\"]]}],\"choropleth\":[{\"type\":\"choropleth\",\"colorbar\":{\"outlinewidth\":0,\"ticks\":\"\"}}],\"histogram2d\":[{\"type\":\"histogram2d\",\"colorbar\":{\"outlinewidth\":0,\"ticks\":\"\"},\"colorscale\":[[0.0,\"#0d0887\"],[0.1111111111111111,\"#46039f\"],[0.2222222222222222,\"#7201a8\"],[0.3333333333333333,\"#9c179e\"],[0.4444444444444444,\"#bd3786\"],[0.5555555555555556,\"#d8576b\"],[0.6666666666666666,\"#ed7953\"],[0.7777777777777778,\"#fb9f3a\"],[0.8888888888888888,\"#fdca26\"],[1.0,\"#f0f921\"]]}],\"heatmap\":[{\"type\":\"heatmap\",\"colorbar\":{\"outlinewidth\":0,\"ticks\":\"\"},\"colorscale\":[[0.0,\"#0d0887\"],[0.1111111111111111,\"#46039f\"],[0.2222222222222222,\"#7201a8\"],[0.3333333333333333,\"#9c179e\"],[0.4444444444444444,\"#bd3786\"],[0.5555555555555556,\"#d8576b\"],[0.6666666666666666,\"#ed7953\"],[0.7777777777777778,\"#fb9f3a\"],[0.8888888888888888,\"#fdca26\"],[1.0,\"#f0f921\"]]}],\"heatmapgl\":[{\"type\":\"heatmapgl\",\"colorbar\":{\"outlinewidth\":0,\"ticks\":\"\"},\"colorscale\":[[0.0,\"#0d0887\"],[0.1111111111111111,\"#46039f\"],[0.2222222222222222,\"#7201a8\"],[0.3333333333333333,\"#9c179e\"],[0.4444444444444444,\"#bd3786\"],[0.5555555555555556,\"#d8576b\"],[0.6666666666666666,\"#ed7953\"],[0.7777777777777778,\"#fb9f3a\"],[0.8888888888888888,\"#fdca26\"],[1.0,\"#f0f921\"]]}],\"contourcarpet\":[{\"type\":\"contourcarpet\",\"colorbar\":{\"outlinewidth\":0,\"ticks\":\"\"}}],\"contour\":[{\"type\":\"contour\",\"colorbar\":{\"outlinewidth\":0,\"ticks\":\"\"},\"colorscale\":[[0.0,\"#0d0887\"],[0.1111111111111111,\"#46039f\"],[0.2222222222222222,\"#7201a8\"],[0.3333333333333333,\"#9c179e\"],[0.4444444444444444,\"#bd3786\"],[0.5555555555555556,\"#d8576b\"],[0.6666666666666666,\"#ed7953\"],[0.7777777777777778,\"#fb9f3a\"],[0.8888888888888888,\"#fdca26\"],[1.0,\"#f0f921\"]]}],\"surface\":[{\"type\":\"surface\",\"colorbar\":{\"outlinewidth\":0,\"ticks\":\"\"},\"colorscale\":[[0.0,\"#0d0887\"],[0.1111111111111111,\"#46039f\"],[0.2222222222222222,\"#7201a8\"],[0.3333333333333333,\"#9c179e\"],[0.4444444444444444,\"#bd3786\"],[0.5555555555555556,\"#d8576b\"],[0.6666666666666666,\"#ed7953\"],[0.7777777777777778,\"#fb9f3a\"],[0.8888888888888888,\"#fdca26\"],[1.0,\"#f0f921\"]]}],\"mesh3d\":[{\"type\":\"mesh3d\",\"colorbar\":{\"outlinewidth\":0,\"ticks\":\"\"}}],\"scatter\":[{\"fillpattern\":{\"fillmode\":\"overlay\",\"size\":10,\"solidity\":0.2},\"type\":\"scatter\"}],\"parcoords\":[{\"type\":\"parcoords\",\"line\":{\"colorbar\":{\"outlinewidth\":0,\"ticks\":\"\"}}}],\"scatterpolargl\":[{\"type\":\"scatterpolargl\",\"marker\":{\"colorbar\":{\"outlinewidth\":0,\"ticks\":\"\"}}}],\"bar\":[{\"error_x\":{\"color\":\"#2a3f5f\"},\"error_y\":{\"color\":\"#2a3f5f\"},\"marker\":{\"line\":{\"color\":\"#E5ECF6\",\"width\":0.5},\"pattern\":{\"fillmode\":\"overlay\",\"size\":10,\"solidity\":0.2}},\"type\":\"bar\"}],\"scattergeo\":[{\"type\":\"scattergeo\",\"marker\":{\"colorbar\":{\"outlinewidth\":0,\"ticks\":\"\"}}}],\"scatterpolar\":[{\"type\":\"scatterpolar\",\"marker\":{\"colorbar\":{\"outlinewidth\":0,\"ticks\":\"\"}}}],\"histogram\":[{\"marker\":{\"pattern\":{\"fillmode\":\"overlay\",\"size\":10,\"solidity\":0.2}},\"type\":\"histogram\"}],\"scattergl\":[{\"type\":\"scattergl\",\"marker\":{\"colorbar\":{\"outlinewidth\":0,\"ticks\":\"\"}}}],\"scatter3d\":[{\"type\":\"scatter3d\",\"line\":{\"colorbar\":{\"outlinewidth\":0,\"ticks\":\"\"}},\"marker\":{\"colorbar\":{\"outlinewidth\":0,\"ticks\":\"\"}}}],\"scattermapbox\":[{\"type\":\"scattermapbox\",\"marker\":{\"colorbar\":{\"outlinewidth\":0,\"ticks\":\"\"}}}],\"scatterternary\":[{\"type\":\"scatterternary\",\"marker\":{\"colorbar\":{\"outlinewidth\":0,\"ticks\":\"\"}}}],\"scattercarpet\":[{\"type\":\"scattercarpet\",\"marker\":{\"colorbar\":{\"outlinewidth\":0,\"ticks\":\"\"}}}],\"carpet\":[{\"aaxis\":{\"endlinecolor\":\"#2a3f5f\",\"gridcolor\":\"white\",\"linecolor\":\"white\",\"minorgridcolor\":\"white\",\"startlinecolor\":\"#2a3f5f\"},\"baxis\":{\"endlinecolor\":\"#2a3f5f\",\"gridcolor\":\"white\",\"linecolor\":\"white\",\"minorgridcolor\":\"white\",\"startlinecolor\":\"#2a3f5f\"},\"type\":\"carpet\"}],\"table\":[{\"cells\":{\"fill\":{\"color\":\"#EBF0F8\"},\"line\":{\"color\":\"white\"}},\"header\":{\"fill\":{\"color\":\"#C8D4E3\"},\"line\":{\"color\":\"white\"}},\"type\":\"table\"}],\"barpolar\":[{\"marker\":{\"line\":{\"color\":\"#E5ECF6\",\"width\":0.5},\"pattern\":{\"fillmode\":\"overlay\",\"size\":10,\"solidity\":0.2}},\"type\":\"barpolar\"}],\"pie\":[{\"automargin\":true,\"type\":\"pie\"}]},\"layout\":{\"autotypenumbers\":\"strict\",\"colorway\":[\"#636efa\",\"#EF553B\",\"#00cc96\",\"#ab63fa\",\"#FFA15A\",\"#19d3f3\",\"#FF6692\",\"#B6E880\",\"#FF97FF\",\"#FECB52\"],\"font\":{\"color\":\"#2a3f5f\"},\"hovermode\":\"closest\",\"hoverlabel\":{\"align\":\"left\"},\"paper_bgcolor\":\"white\",\"plot_bgcolor\":\"#E5ECF6\",\"polar\":{\"bgcolor\":\"#E5ECF6\",\"angularaxis\":{\"gridcolor\":\"white\",\"linecolor\":\"white\",\"ticks\":\"\"},\"radialaxis\":{\"gridcolor\":\"white\",\"linecolor\":\"white\",\"ticks\":\"\"}},\"ternary\":{\"bgcolor\":\"#E5ECF6\",\"aaxis\":{\"gridcolor\":\"white\",\"linecolor\":\"white\",\"ticks\":\"\"},\"baxis\":{\"gridcolor\":\"white\",\"linecolor\":\"white\",\"ticks\":\"\"},\"caxis\":{\"gridcolor\":\"white\",\"linecolor\":\"white\",\"ticks\":\"\"}},\"coloraxis\":{\"colorbar\":{\"outlinewidth\":0,\"ticks\":\"\"}},\"colorscale\":{\"sequential\":[[0.0,\"#0d0887\"],[0.1111111111111111,\"#46039f\"],[0.2222222222222222,\"#7201a8\"],[0.3333333333333333,\"#9c179e\"],[0.4444444444444444,\"#bd3786\"],[0.5555555555555556,\"#d8576b\"],[0.6666666666666666,\"#ed7953\"],[0.7777777777777778,\"#fb9f3a\"],[0.8888888888888888,\"#fdca26\"],[1.0,\"#f0f921\"]],\"sequentialminus\":[[0.0,\"#0d0887\"],[0.1111111111111111,\"#46039f\"],[0.2222222222222222,\"#7201a8\"],[0.3333333333333333,\"#9c179e\"],[0.4444444444444444,\"#bd3786\"],[0.5555555555555556,\"#d8576b\"],[0.6666666666666666,\"#ed7953\"],[0.7777777777777778,\"#fb9f3a\"],[0.8888888888888888,\"#fdca26\"],[1.0,\"#f0f921\"]],\"diverging\":[[0,\"#8e0152\"],[0.1,\"#c51b7d\"],[0.2,\"#de77ae\"],[0.3,\"#f1b6da\"],[0.4,\"#fde0ef\"],[0.5,\"#f7f7f7\"],[0.6,\"#e6f5d0\"],[0.7,\"#b8e186\"],[0.8,\"#7fbc41\"],[0.9,\"#4d9221\"],[1,\"#276419\"]]},\"xaxis\":{\"gridcolor\":\"white\",\"linecolor\":\"white\",\"ticks\":\"\",\"title\":{\"standoff\":15},\"zerolinecolor\":\"white\",\"automargin\":true,\"zerolinewidth\":2},\"yaxis\":{\"gridcolor\":\"white\",\"linecolor\":\"white\",\"ticks\":\"\",\"title\":{\"standoff\":15},\"zerolinecolor\":\"white\",\"automargin\":true,\"zerolinewidth\":2},\"scene\":{\"xaxis\":{\"backgroundcolor\":\"#E5ECF6\",\"gridcolor\":\"white\",\"linecolor\":\"white\",\"showbackground\":true,\"ticks\":\"\",\"zerolinecolor\":\"white\",\"gridwidth\":2},\"yaxis\":{\"backgroundcolor\":\"#E5ECF6\",\"gridcolor\":\"white\",\"linecolor\":\"white\",\"showbackground\":true,\"ticks\":\"\",\"zerolinecolor\":\"white\",\"gridwidth\":2},\"zaxis\":{\"backgroundcolor\":\"#E5ECF6\",\"gridcolor\":\"white\",\"linecolor\":\"white\",\"showbackground\":true,\"ticks\":\"\",\"zerolinecolor\":\"white\",\"gridwidth\":2}},\"shapedefaults\":{\"line\":{\"color\":\"#2a3f5f\"}},\"annotationdefaults\":{\"arrowcolor\":\"#2a3f5f\",\"arrowhead\":0,\"arrowwidth\":1},\"geo\":{\"bgcolor\":\"white\",\"landcolor\":\"#E5ECF6\",\"subunitcolor\":\"white\",\"showland\":true,\"showlakes\":true,\"lakecolor\":\"white\"},\"title\":{\"x\":0.05},\"mapbox\":{\"style\":\"light\"}}},\"xaxis\":{\"title\":{\"text\":\"nia > 0.1 m/s\\u00b2 [#]]\"},\"showline\":true,\"linewidth\":1,\"linecolor\":\"black\"},\"yaxis\":{\"title\":{\"text\":\"RPA [m/s\\u00b2]\"},\"showline\":true,\"linewidth\":1,\"linecolor\":\"black\"},\"height\":400,\"width\":500,\"plot_bgcolor\":\"white\"},                        {\"responsive\": true}                    ).then(function(){\n",
       "                            \n",
       "var gd = document.getElementById('7bce4b62-2cab-49f0-a979-575b8489b642');\n",
       "var x = new MutationObserver(function (mutations, observer) {{\n",
       "        var display = window.getComputedStyle(gd).display;\n",
       "        if (!display || display === 'none') {{\n",
       "            console.log([gd, 'removed!']);\n",
       "            Plotly.purge(gd);\n",
       "            observer.disconnect();\n",
       "        }}\n",
       "}});\n",
       "\n",
       "// Listen for the removal of the full notebook cells\n",
       "var notebookContainer = gd.closest('#notebook-container');\n",
       "if (notebookContainer) {{\n",
       "    x.observe(notebookContainer, {childList: true});\n",
       "}}\n",
       "\n",
       "// Listen for the clearing of the current output cell\n",
       "var outputEl = gd.closest('.output');\n",
       "if (outputEl) {{\n",
       "    x.observe(outputEl, {childList: true});\n",
       "}}\n",
       "\n",
       "                        })                };                });            </script>        </div>"
      ]
     },
     "metadata": {},
     "output_type": "display_data"
    }
   ],
   "source": [
    "# Definir un diccionario que asigna formas a cada categoría\n",
    "shapes = {'Motorway_1': 'circle', 'Motorway_2': 'circle', 'Motorway_3': 'circle',\n",
    "          'Rural_1': 'x', 'Rural_2': 'x', 'Rural_3': 'x',\n",
    "          'Urban_1': 'square', 'Urban_2': 'square', 'Urban_3': 'square'}\n",
    "\n",
    "# Definir un diccionario que asigna colores a cada categoría\n",
    "colors = {'Motorway_1': 'darkblue', 'Motorway_2': 'darkorange', 'Motorway_3': 'darkred',\n",
    "          'Rural_1': 'darkred', 'Rural_2': 'darkorange', 'Rural_3': 'darkblue',\n",
    "          'Urban_1': 'darkorange', 'Urban_2': 'darkred', 'Urban_3': 'darkblue'}\n",
    "\n",
    "# Crear el gráfico de dispersión con diferentes formas y colores para cada categoría\n",
    "fig = go.Figure()\n",
    "\n",
    "# Iterar sobre cada categoría en tu lista predefinida de categorías\n",
    "for categoria, shape in shapes.items():\n",
    "    # Filtrar el DataFrame por la categoría actual\n",
    "    df_categoria = df_final_T[df_final_T['ciclo'] == categoria]\n",
    "    \n",
    "    # Agregar una traza para la categoría actual con la forma y color correspondientes\n",
    "    fig.add_trace(go.Scatter(\n",
    "        x=df_categoria['n_ia_pos'],\n",
    "#         y=df_categoria['i'],\n",
    "        y=df_categoria['RPA'],\n",
    "        mode='markers',\n",
    "        name=categoria,\n",
    "        marker=dict(symbol=shape, size=10, color=colors[categoria])\n",
    "    ))\n",
    "    \n",
    "# Actualizar ejes\n",
    "fig.update_xaxes(showline=True, linewidth=1, linecolor='black', title_text=\"nia > 0.1 m/s² [#]]\")\n",
    "# fig.update_yaxes(showline=True, linewidth=1, linecolor='black', title_text=\"IDI [m/s]\")  \n",
    "fig.update_yaxes(showline=True, linewidth=1, linecolor='black', title_text=\"RPA [m/s²]\")\n",
    "fig.update_layout(height=400, width=500, plot_bgcolor=\"white\")\n",
    "# Mostrar el gráfico\n",
    "fig.show()"
   ]
  },
  {
   "cell_type": "code",
   "execution_count": 25,
   "id": "c9bf1227",
   "metadata": {},
   "outputs": [
    {
     "data": {
      "application/vnd.plotly.v1+json": {
       "config": {
        "plotlyServerURL": "https://plot.ly"
       },
       "data": [
        {
         "marker": {
          "color": "darkblue",
          "size": 10,
          "symbol": "circle"
         },
         "mode": "markers",
         "name": "Motorway_1",
         "type": "scatter",
         "x": [
          0.04966
         ],
         "y": [
          146.98228673070759
         ]
        },
        {
         "marker": {
          "color": "darkorange",
          "size": 10,
          "symbol": "circle"
         },
         "mode": "markers",
         "name": "Motorway_2",
         "type": "scatter",
         "x": [
          0.0479
         ],
         "y": [
          151.08761703178422
         ]
        },
        {
         "marker": {
          "color": "darkred",
          "size": 10,
          "symbol": "circle"
         },
         "mode": "markers",
         "name": "Motorway_3",
         "type": "scatter",
         "x": [
          0.16756
         ],
         "y": [
          400.6605044848763
         ]
        },
        {
         "marker": {
          "color": "darkred",
          "size": 10,
          "symbol": "x"
         },
         "mode": "markers",
         "name": "Rural_1",
         "type": "scatter",
         "x": [
          0.09695
         ],
         "y": [
          408.75076987367004
         ]
        },
        {
         "marker": {
          "color": "darkorange",
          "size": 10,
          "symbol": "x"
         },
         "mode": "markers",
         "name": "Rural_2",
         "type": "scatter",
         "x": [
          0.09907
         ],
         "y": [
          402.2130085019476
         ]
        },
        {
         "marker": {
          "color": "darkblue",
          "size": 10,
          "symbol": "x"
         },
         "mode": "markers",
         "name": "Rural_3",
         "type": "scatter",
         "x": [
          0.0422
         ],
         "y": [
          287.8294460390285
         ]
        },
        {
         "marker": {
          "color": "darkorange",
          "size": 10,
          "symbol": "square"
         },
         "mode": "markers",
         "name": "Urban_1",
         "type": "scatter",
         "x": [
          0.20612
         ],
         "y": [
          819.306265162257
         ]
        },
        {
         "marker": {
          "color": "darkred",
          "size": 10,
          "symbol": "square"
         },
         "mode": "markers",
         "name": "Urban_2",
         "type": "scatter",
         "x": [
          0.22671
         ],
         "y": [
          844.0475045273336
         ]
        },
        {
         "marker": {
          "color": "darkblue",
          "size": 10,
          "symbol": "square"
         },
         "mode": "markers",
         "name": "Urban_3",
         "type": "scatter",
         "x": [
          0.10355
         ],
         "y": [
          604.8390470485867
         ]
        }
       ],
       "layout": {
        "height": 400,
        "plot_bgcolor": "white",
        "template": {
         "data": {
          "bar": [
           {
            "error_x": {
             "color": "#2a3f5f"
            },
            "error_y": {
             "color": "#2a3f5f"
            },
            "marker": {
             "line": {
              "color": "#E5ECF6",
              "width": 0.5
             },
             "pattern": {
              "fillmode": "overlay",
              "size": 10,
              "solidity": 0.2
             }
            },
            "type": "bar"
           }
          ],
          "barpolar": [
           {
            "marker": {
             "line": {
              "color": "#E5ECF6",
              "width": 0.5
             },
             "pattern": {
              "fillmode": "overlay",
              "size": 10,
              "solidity": 0.2
             }
            },
            "type": "barpolar"
           }
          ],
          "carpet": [
           {
            "aaxis": {
             "endlinecolor": "#2a3f5f",
             "gridcolor": "white",
             "linecolor": "white",
             "minorgridcolor": "white",
             "startlinecolor": "#2a3f5f"
            },
            "baxis": {
             "endlinecolor": "#2a3f5f",
             "gridcolor": "white",
             "linecolor": "white",
             "minorgridcolor": "white",
             "startlinecolor": "#2a3f5f"
            },
            "type": "carpet"
           }
          ],
          "choropleth": [
           {
            "colorbar": {
             "outlinewidth": 0,
             "ticks": ""
            },
            "type": "choropleth"
           }
          ],
          "contour": [
           {
            "colorbar": {
             "outlinewidth": 0,
             "ticks": ""
            },
            "colorscale": [
             [
              0,
              "#0d0887"
             ],
             [
              0.1111111111111111,
              "#46039f"
             ],
             [
              0.2222222222222222,
              "#7201a8"
             ],
             [
              0.3333333333333333,
              "#9c179e"
             ],
             [
              0.4444444444444444,
              "#bd3786"
             ],
             [
              0.5555555555555556,
              "#d8576b"
             ],
             [
              0.6666666666666666,
              "#ed7953"
             ],
             [
              0.7777777777777778,
              "#fb9f3a"
             ],
             [
              0.8888888888888888,
              "#fdca26"
             ],
             [
              1,
              "#f0f921"
             ]
            ],
            "type": "contour"
           }
          ],
          "contourcarpet": [
           {
            "colorbar": {
             "outlinewidth": 0,
             "ticks": ""
            },
            "type": "contourcarpet"
           }
          ],
          "heatmap": [
           {
            "colorbar": {
             "outlinewidth": 0,
             "ticks": ""
            },
            "colorscale": [
             [
              0,
              "#0d0887"
             ],
             [
              0.1111111111111111,
              "#46039f"
             ],
             [
              0.2222222222222222,
              "#7201a8"
             ],
             [
              0.3333333333333333,
              "#9c179e"
             ],
             [
              0.4444444444444444,
              "#bd3786"
             ],
             [
              0.5555555555555556,
              "#d8576b"
             ],
             [
              0.6666666666666666,
              "#ed7953"
             ],
             [
              0.7777777777777778,
              "#fb9f3a"
             ],
             [
              0.8888888888888888,
              "#fdca26"
             ],
             [
              1,
              "#f0f921"
             ]
            ],
            "type": "heatmap"
           }
          ],
          "heatmapgl": [
           {
            "colorbar": {
             "outlinewidth": 0,
             "ticks": ""
            },
            "colorscale": [
             [
              0,
              "#0d0887"
             ],
             [
              0.1111111111111111,
              "#46039f"
             ],
             [
              0.2222222222222222,
              "#7201a8"
             ],
             [
              0.3333333333333333,
              "#9c179e"
             ],
             [
              0.4444444444444444,
              "#bd3786"
             ],
             [
              0.5555555555555556,
              "#d8576b"
             ],
             [
              0.6666666666666666,
              "#ed7953"
             ],
             [
              0.7777777777777778,
              "#fb9f3a"
             ],
             [
              0.8888888888888888,
              "#fdca26"
             ],
             [
              1,
              "#f0f921"
             ]
            ],
            "type": "heatmapgl"
           }
          ],
          "histogram": [
           {
            "marker": {
             "pattern": {
              "fillmode": "overlay",
              "size": 10,
              "solidity": 0.2
             }
            },
            "type": "histogram"
           }
          ],
          "histogram2d": [
           {
            "colorbar": {
             "outlinewidth": 0,
             "ticks": ""
            },
            "colorscale": [
             [
              0,
              "#0d0887"
             ],
             [
              0.1111111111111111,
              "#46039f"
             ],
             [
              0.2222222222222222,
              "#7201a8"
             ],
             [
              0.3333333333333333,
              "#9c179e"
             ],
             [
              0.4444444444444444,
              "#bd3786"
             ],
             [
              0.5555555555555556,
              "#d8576b"
             ],
             [
              0.6666666666666666,
              "#ed7953"
             ],
             [
              0.7777777777777778,
              "#fb9f3a"
             ],
             [
              0.8888888888888888,
              "#fdca26"
             ],
             [
              1,
              "#f0f921"
             ]
            ],
            "type": "histogram2d"
           }
          ],
          "histogram2dcontour": [
           {
            "colorbar": {
             "outlinewidth": 0,
             "ticks": ""
            },
            "colorscale": [
             [
              0,
              "#0d0887"
             ],
             [
              0.1111111111111111,
              "#46039f"
             ],
             [
              0.2222222222222222,
              "#7201a8"
             ],
             [
              0.3333333333333333,
              "#9c179e"
             ],
             [
              0.4444444444444444,
              "#bd3786"
             ],
             [
              0.5555555555555556,
              "#d8576b"
             ],
             [
              0.6666666666666666,
              "#ed7953"
             ],
             [
              0.7777777777777778,
              "#fb9f3a"
             ],
             [
              0.8888888888888888,
              "#fdca26"
             ],
             [
              1,
              "#f0f921"
             ]
            ],
            "type": "histogram2dcontour"
           }
          ],
          "mesh3d": [
           {
            "colorbar": {
             "outlinewidth": 0,
             "ticks": ""
            },
            "type": "mesh3d"
           }
          ],
          "parcoords": [
           {
            "line": {
             "colorbar": {
              "outlinewidth": 0,
              "ticks": ""
             }
            },
            "type": "parcoords"
           }
          ],
          "pie": [
           {
            "automargin": true,
            "type": "pie"
           }
          ],
          "scatter": [
           {
            "fillpattern": {
             "fillmode": "overlay",
             "size": 10,
             "solidity": 0.2
            },
            "type": "scatter"
           }
          ],
          "scatter3d": [
           {
            "line": {
             "colorbar": {
              "outlinewidth": 0,
              "ticks": ""
             }
            },
            "marker": {
             "colorbar": {
              "outlinewidth": 0,
              "ticks": ""
             }
            },
            "type": "scatter3d"
           }
          ],
          "scattercarpet": [
           {
            "marker": {
             "colorbar": {
              "outlinewidth": 0,
              "ticks": ""
             }
            },
            "type": "scattercarpet"
           }
          ],
          "scattergeo": [
           {
            "marker": {
             "colorbar": {
              "outlinewidth": 0,
              "ticks": ""
             }
            },
            "type": "scattergeo"
           }
          ],
          "scattergl": [
           {
            "marker": {
             "colorbar": {
              "outlinewidth": 0,
              "ticks": ""
             }
            },
            "type": "scattergl"
           }
          ],
          "scattermapbox": [
           {
            "marker": {
             "colorbar": {
              "outlinewidth": 0,
              "ticks": ""
             }
            },
            "type": "scattermapbox"
           }
          ],
          "scatterpolar": [
           {
            "marker": {
             "colorbar": {
              "outlinewidth": 0,
              "ticks": ""
             }
            },
            "type": "scatterpolar"
           }
          ],
          "scatterpolargl": [
           {
            "marker": {
             "colorbar": {
              "outlinewidth": 0,
              "ticks": ""
             }
            },
            "type": "scatterpolargl"
           }
          ],
          "scatterternary": [
           {
            "marker": {
             "colorbar": {
              "outlinewidth": 0,
              "ticks": ""
             }
            },
            "type": "scatterternary"
           }
          ],
          "surface": [
           {
            "colorbar": {
             "outlinewidth": 0,
             "ticks": ""
            },
            "colorscale": [
             [
              0,
              "#0d0887"
             ],
             [
              0.1111111111111111,
              "#46039f"
             ],
             [
              0.2222222222222222,
              "#7201a8"
             ],
             [
              0.3333333333333333,
              "#9c179e"
             ],
             [
              0.4444444444444444,
              "#bd3786"
             ],
             [
              0.5555555555555556,
              "#d8576b"
             ],
             [
              0.6666666666666666,
              "#ed7953"
             ],
             [
              0.7777777777777778,
              "#fb9f3a"
             ],
             [
              0.8888888888888888,
              "#fdca26"
             ],
             [
              1,
              "#f0f921"
             ]
            ],
            "type": "surface"
           }
          ],
          "table": [
           {
            "cells": {
             "fill": {
              "color": "#EBF0F8"
             },
             "line": {
              "color": "white"
             }
            },
            "header": {
             "fill": {
              "color": "#C8D4E3"
             },
             "line": {
              "color": "white"
             }
            },
            "type": "table"
           }
          ]
         },
         "layout": {
          "annotationdefaults": {
           "arrowcolor": "#2a3f5f",
           "arrowhead": 0,
           "arrowwidth": 1
          },
          "autotypenumbers": "strict",
          "coloraxis": {
           "colorbar": {
            "outlinewidth": 0,
            "ticks": ""
           }
          },
          "colorscale": {
           "diverging": [
            [
             0,
             "#8e0152"
            ],
            [
             0.1,
             "#c51b7d"
            ],
            [
             0.2,
             "#de77ae"
            ],
            [
             0.3,
             "#f1b6da"
            ],
            [
             0.4,
             "#fde0ef"
            ],
            [
             0.5,
             "#f7f7f7"
            ],
            [
             0.6,
             "#e6f5d0"
            ],
            [
             0.7,
             "#b8e186"
            ],
            [
             0.8,
             "#7fbc41"
            ],
            [
             0.9,
             "#4d9221"
            ],
            [
             1,
             "#276419"
            ]
           ],
           "sequential": [
            [
             0,
             "#0d0887"
            ],
            [
             0.1111111111111111,
             "#46039f"
            ],
            [
             0.2222222222222222,
             "#7201a8"
            ],
            [
             0.3333333333333333,
             "#9c179e"
            ],
            [
             0.4444444444444444,
             "#bd3786"
            ],
            [
             0.5555555555555556,
             "#d8576b"
            ],
            [
             0.6666666666666666,
             "#ed7953"
            ],
            [
             0.7777777777777778,
             "#fb9f3a"
            ],
            [
             0.8888888888888888,
             "#fdca26"
            ],
            [
             1,
             "#f0f921"
            ]
           ],
           "sequentialminus": [
            [
             0,
             "#0d0887"
            ],
            [
             0.1111111111111111,
             "#46039f"
            ],
            [
             0.2222222222222222,
             "#7201a8"
            ],
            [
             0.3333333333333333,
             "#9c179e"
            ],
            [
             0.4444444444444444,
             "#bd3786"
            ],
            [
             0.5555555555555556,
             "#d8576b"
            ],
            [
             0.6666666666666666,
             "#ed7953"
            ],
            [
             0.7777777777777778,
             "#fb9f3a"
            ],
            [
             0.8888888888888888,
             "#fdca26"
            ],
            [
             1,
             "#f0f921"
            ]
           ]
          },
          "colorway": [
           "#636efa",
           "#EF553B",
           "#00cc96",
           "#ab63fa",
           "#FFA15A",
           "#19d3f3",
           "#FF6692",
           "#B6E880",
           "#FF97FF",
           "#FECB52"
          ],
          "font": {
           "color": "#2a3f5f"
          },
          "geo": {
           "bgcolor": "white",
           "lakecolor": "white",
           "landcolor": "#E5ECF6",
           "showlakes": true,
           "showland": true,
           "subunitcolor": "white"
          },
          "hoverlabel": {
           "align": "left"
          },
          "hovermode": "closest",
          "mapbox": {
           "style": "light"
          },
          "paper_bgcolor": "white",
          "plot_bgcolor": "#E5ECF6",
          "polar": {
           "angularaxis": {
            "gridcolor": "white",
            "linecolor": "white",
            "ticks": ""
           },
           "bgcolor": "#E5ECF6",
           "radialaxis": {
            "gridcolor": "white",
            "linecolor": "white",
            "ticks": ""
           }
          },
          "scene": {
           "xaxis": {
            "backgroundcolor": "#E5ECF6",
            "gridcolor": "white",
            "gridwidth": 2,
            "linecolor": "white",
            "showbackground": true,
            "ticks": "",
            "zerolinecolor": "white"
           },
           "yaxis": {
            "backgroundcolor": "#E5ECF6",
            "gridcolor": "white",
            "gridwidth": 2,
            "linecolor": "white",
            "showbackground": true,
            "ticks": "",
            "zerolinecolor": "white"
           },
           "zaxis": {
            "backgroundcolor": "#E5ECF6",
            "gridcolor": "white",
            "gridwidth": 2,
            "linecolor": "white",
            "showbackground": true,
            "ticks": "",
            "zerolinecolor": "white"
           }
          },
          "shapedefaults": {
           "line": {
            "color": "#2a3f5f"
           }
          },
          "ternary": {
           "aaxis": {
            "gridcolor": "white",
            "linecolor": "white",
            "ticks": ""
           },
           "baxis": {
            "gridcolor": "white",
            "linecolor": "white",
            "ticks": ""
           },
           "bgcolor": "#E5ECF6",
           "caxis": {
            "gridcolor": "white",
            "linecolor": "white",
            "ticks": ""
           }
          },
          "title": {
           "x": 0.05
          },
          "xaxis": {
           "automargin": true,
           "gridcolor": "white",
           "linecolor": "white",
           "ticks": "",
           "title": {
            "standoff": 15
           },
           "zerolinecolor": "white",
           "zerolinewidth": 2
          },
          "yaxis": {
           "automargin": true,
           "gridcolor": "white",
           "linecolor": "white",
           "ticks": "",
           "title": {
            "standoff": 15
           },
           "zerolinecolor": "white",
           "zerolinewidth": 2
          }
         }
        },
        "width": 500,
        "xaxis": {
         "linecolor": "black",
         "linewidth": 1,
         "showline": true,
         "title": {
          "text": "RPA [m/s²]"
         }
        },
        "yaxis": {
         "linecolor": "black",
         "linewidth": 1,
         "showline": true,
         "title": {
          "text": "IDI [m/s]"
         }
        }
       }
      },
      "text/html": [
       "<div>                            <div id=\"ebce386c-f206-441f-bd9d-8e2b165556b8\" class=\"plotly-graph-div\" style=\"height:400px; width:500px;\"></div>            <script type=\"text/javascript\">                require([\"plotly\"], function(Plotly) {                    window.PLOTLYENV=window.PLOTLYENV || {};                                    if (document.getElementById(\"ebce386c-f206-441f-bd9d-8e2b165556b8\")) {                    Plotly.newPlot(                        \"ebce386c-f206-441f-bd9d-8e2b165556b8\",                        [{\"marker\":{\"color\":\"darkblue\",\"size\":10,\"symbol\":\"circle\"},\"mode\":\"markers\",\"name\":\"Motorway_1\",\"x\":[0.04966],\"y\":[146.98228673070759],\"type\":\"scatter\"},{\"marker\":{\"color\":\"darkorange\",\"size\":10,\"symbol\":\"circle\"},\"mode\":\"markers\",\"name\":\"Motorway_2\",\"x\":[0.0479],\"y\":[151.08761703178422],\"type\":\"scatter\"},{\"marker\":{\"color\":\"darkred\",\"size\":10,\"symbol\":\"circle\"},\"mode\":\"markers\",\"name\":\"Motorway_3\",\"x\":[0.16756],\"y\":[400.6605044848763],\"type\":\"scatter\"},{\"marker\":{\"color\":\"darkred\",\"size\":10,\"symbol\":\"x\"},\"mode\":\"markers\",\"name\":\"Rural_1\",\"x\":[0.09695],\"y\":[408.75076987367004],\"type\":\"scatter\"},{\"marker\":{\"color\":\"darkorange\",\"size\":10,\"symbol\":\"x\"},\"mode\":\"markers\",\"name\":\"Rural_2\",\"x\":[0.09907],\"y\":[402.2130085019476],\"type\":\"scatter\"},{\"marker\":{\"color\":\"darkblue\",\"size\":10,\"symbol\":\"x\"},\"mode\":\"markers\",\"name\":\"Rural_3\",\"x\":[0.0422],\"y\":[287.8294460390285],\"type\":\"scatter\"},{\"marker\":{\"color\":\"darkorange\",\"size\":10,\"symbol\":\"square\"},\"mode\":\"markers\",\"name\":\"Urban_1\",\"x\":[0.20612],\"y\":[819.306265162257],\"type\":\"scatter\"},{\"marker\":{\"color\":\"darkred\",\"size\":10,\"symbol\":\"square\"},\"mode\":\"markers\",\"name\":\"Urban_2\",\"x\":[0.22671],\"y\":[844.0475045273336],\"type\":\"scatter\"},{\"marker\":{\"color\":\"darkblue\",\"size\":10,\"symbol\":\"square\"},\"mode\":\"markers\",\"name\":\"Urban_3\",\"x\":[0.10355],\"y\":[604.8390470485867],\"type\":\"scatter\"}],                        {\"template\":{\"data\":{\"histogram2dcontour\":[{\"type\":\"histogram2dcontour\",\"colorbar\":{\"outlinewidth\":0,\"ticks\":\"\"},\"colorscale\":[[0.0,\"#0d0887\"],[0.1111111111111111,\"#46039f\"],[0.2222222222222222,\"#7201a8\"],[0.3333333333333333,\"#9c179e\"],[0.4444444444444444,\"#bd3786\"],[0.5555555555555556,\"#d8576b\"],[0.6666666666666666,\"#ed7953\"],[0.7777777777777778,\"#fb9f3a\"],[0.8888888888888888,\"#fdca26\"],[1.0,\"#f0f921\"]]}],\"choropleth\":[{\"type\":\"choropleth\",\"colorbar\":{\"outlinewidth\":0,\"ticks\":\"\"}}],\"histogram2d\":[{\"type\":\"histogram2d\",\"colorbar\":{\"outlinewidth\":0,\"ticks\":\"\"},\"colorscale\":[[0.0,\"#0d0887\"],[0.1111111111111111,\"#46039f\"],[0.2222222222222222,\"#7201a8\"],[0.3333333333333333,\"#9c179e\"],[0.4444444444444444,\"#bd3786\"],[0.5555555555555556,\"#d8576b\"],[0.6666666666666666,\"#ed7953\"],[0.7777777777777778,\"#fb9f3a\"],[0.8888888888888888,\"#fdca26\"],[1.0,\"#f0f921\"]]}],\"heatmap\":[{\"type\":\"heatmap\",\"colorbar\":{\"outlinewidth\":0,\"ticks\":\"\"},\"colorscale\":[[0.0,\"#0d0887\"],[0.1111111111111111,\"#46039f\"],[0.2222222222222222,\"#7201a8\"],[0.3333333333333333,\"#9c179e\"],[0.4444444444444444,\"#bd3786\"],[0.5555555555555556,\"#d8576b\"],[0.6666666666666666,\"#ed7953\"],[0.7777777777777778,\"#fb9f3a\"],[0.8888888888888888,\"#fdca26\"],[1.0,\"#f0f921\"]]}],\"heatmapgl\":[{\"type\":\"heatmapgl\",\"colorbar\":{\"outlinewidth\":0,\"ticks\":\"\"},\"colorscale\":[[0.0,\"#0d0887\"],[0.1111111111111111,\"#46039f\"],[0.2222222222222222,\"#7201a8\"],[0.3333333333333333,\"#9c179e\"],[0.4444444444444444,\"#bd3786\"],[0.5555555555555556,\"#d8576b\"],[0.6666666666666666,\"#ed7953\"],[0.7777777777777778,\"#fb9f3a\"],[0.8888888888888888,\"#fdca26\"],[1.0,\"#f0f921\"]]}],\"contourcarpet\":[{\"type\":\"contourcarpet\",\"colorbar\":{\"outlinewidth\":0,\"ticks\":\"\"}}],\"contour\":[{\"type\":\"contour\",\"colorbar\":{\"outlinewidth\":0,\"ticks\":\"\"},\"colorscale\":[[0.0,\"#0d0887\"],[0.1111111111111111,\"#46039f\"],[0.2222222222222222,\"#7201a8\"],[0.3333333333333333,\"#9c179e\"],[0.4444444444444444,\"#bd3786\"],[0.5555555555555556,\"#d8576b\"],[0.6666666666666666,\"#ed7953\"],[0.7777777777777778,\"#fb9f3a\"],[0.8888888888888888,\"#fdca26\"],[1.0,\"#f0f921\"]]}],\"surface\":[{\"type\":\"surface\",\"colorbar\":{\"outlinewidth\":0,\"ticks\":\"\"},\"colorscale\":[[0.0,\"#0d0887\"],[0.1111111111111111,\"#46039f\"],[0.2222222222222222,\"#7201a8\"],[0.3333333333333333,\"#9c179e\"],[0.4444444444444444,\"#bd3786\"],[0.5555555555555556,\"#d8576b\"],[0.6666666666666666,\"#ed7953\"],[0.7777777777777778,\"#fb9f3a\"],[0.8888888888888888,\"#fdca26\"],[1.0,\"#f0f921\"]]}],\"mesh3d\":[{\"type\":\"mesh3d\",\"colorbar\":{\"outlinewidth\":0,\"ticks\":\"\"}}],\"scatter\":[{\"fillpattern\":{\"fillmode\":\"overlay\",\"size\":10,\"solidity\":0.2},\"type\":\"scatter\"}],\"parcoords\":[{\"type\":\"parcoords\",\"line\":{\"colorbar\":{\"outlinewidth\":0,\"ticks\":\"\"}}}],\"scatterpolargl\":[{\"type\":\"scatterpolargl\",\"marker\":{\"colorbar\":{\"outlinewidth\":0,\"ticks\":\"\"}}}],\"bar\":[{\"error_x\":{\"color\":\"#2a3f5f\"},\"error_y\":{\"color\":\"#2a3f5f\"},\"marker\":{\"line\":{\"color\":\"#E5ECF6\",\"width\":0.5},\"pattern\":{\"fillmode\":\"overlay\",\"size\":10,\"solidity\":0.2}},\"type\":\"bar\"}],\"scattergeo\":[{\"type\":\"scattergeo\",\"marker\":{\"colorbar\":{\"outlinewidth\":0,\"ticks\":\"\"}}}],\"scatterpolar\":[{\"type\":\"scatterpolar\",\"marker\":{\"colorbar\":{\"outlinewidth\":0,\"ticks\":\"\"}}}],\"histogram\":[{\"marker\":{\"pattern\":{\"fillmode\":\"overlay\",\"size\":10,\"solidity\":0.2}},\"type\":\"histogram\"}],\"scattergl\":[{\"type\":\"scattergl\",\"marker\":{\"colorbar\":{\"outlinewidth\":0,\"ticks\":\"\"}}}],\"scatter3d\":[{\"type\":\"scatter3d\",\"line\":{\"colorbar\":{\"outlinewidth\":0,\"ticks\":\"\"}},\"marker\":{\"colorbar\":{\"outlinewidth\":0,\"ticks\":\"\"}}}],\"scattermapbox\":[{\"type\":\"scattermapbox\",\"marker\":{\"colorbar\":{\"outlinewidth\":0,\"ticks\":\"\"}}}],\"scatterternary\":[{\"type\":\"scatterternary\",\"marker\":{\"colorbar\":{\"outlinewidth\":0,\"ticks\":\"\"}}}],\"scattercarpet\":[{\"type\":\"scattercarpet\",\"marker\":{\"colorbar\":{\"outlinewidth\":0,\"ticks\":\"\"}}}],\"carpet\":[{\"aaxis\":{\"endlinecolor\":\"#2a3f5f\",\"gridcolor\":\"white\",\"linecolor\":\"white\",\"minorgridcolor\":\"white\",\"startlinecolor\":\"#2a3f5f\"},\"baxis\":{\"endlinecolor\":\"#2a3f5f\",\"gridcolor\":\"white\",\"linecolor\":\"white\",\"minorgridcolor\":\"white\",\"startlinecolor\":\"#2a3f5f\"},\"type\":\"carpet\"}],\"table\":[{\"cells\":{\"fill\":{\"color\":\"#EBF0F8\"},\"line\":{\"color\":\"white\"}},\"header\":{\"fill\":{\"color\":\"#C8D4E3\"},\"line\":{\"color\":\"white\"}},\"type\":\"table\"}],\"barpolar\":[{\"marker\":{\"line\":{\"color\":\"#E5ECF6\",\"width\":0.5},\"pattern\":{\"fillmode\":\"overlay\",\"size\":10,\"solidity\":0.2}},\"type\":\"barpolar\"}],\"pie\":[{\"automargin\":true,\"type\":\"pie\"}]},\"layout\":{\"autotypenumbers\":\"strict\",\"colorway\":[\"#636efa\",\"#EF553B\",\"#00cc96\",\"#ab63fa\",\"#FFA15A\",\"#19d3f3\",\"#FF6692\",\"#B6E880\",\"#FF97FF\",\"#FECB52\"],\"font\":{\"color\":\"#2a3f5f\"},\"hovermode\":\"closest\",\"hoverlabel\":{\"align\":\"left\"},\"paper_bgcolor\":\"white\",\"plot_bgcolor\":\"#E5ECF6\",\"polar\":{\"bgcolor\":\"#E5ECF6\",\"angularaxis\":{\"gridcolor\":\"white\",\"linecolor\":\"white\",\"ticks\":\"\"},\"radialaxis\":{\"gridcolor\":\"white\",\"linecolor\":\"white\",\"ticks\":\"\"}},\"ternary\":{\"bgcolor\":\"#E5ECF6\",\"aaxis\":{\"gridcolor\":\"white\",\"linecolor\":\"white\",\"ticks\":\"\"},\"baxis\":{\"gridcolor\":\"white\",\"linecolor\":\"white\",\"ticks\":\"\"},\"caxis\":{\"gridcolor\":\"white\",\"linecolor\":\"white\",\"ticks\":\"\"}},\"coloraxis\":{\"colorbar\":{\"outlinewidth\":0,\"ticks\":\"\"}},\"colorscale\":{\"sequential\":[[0.0,\"#0d0887\"],[0.1111111111111111,\"#46039f\"],[0.2222222222222222,\"#7201a8\"],[0.3333333333333333,\"#9c179e\"],[0.4444444444444444,\"#bd3786\"],[0.5555555555555556,\"#d8576b\"],[0.6666666666666666,\"#ed7953\"],[0.7777777777777778,\"#fb9f3a\"],[0.8888888888888888,\"#fdca26\"],[1.0,\"#f0f921\"]],\"sequentialminus\":[[0.0,\"#0d0887\"],[0.1111111111111111,\"#46039f\"],[0.2222222222222222,\"#7201a8\"],[0.3333333333333333,\"#9c179e\"],[0.4444444444444444,\"#bd3786\"],[0.5555555555555556,\"#d8576b\"],[0.6666666666666666,\"#ed7953\"],[0.7777777777777778,\"#fb9f3a\"],[0.8888888888888888,\"#fdca26\"],[1.0,\"#f0f921\"]],\"diverging\":[[0,\"#8e0152\"],[0.1,\"#c51b7d\"],[0.2,\"#de77ae\"],[0.3,\"#f1b6da\"],[0.4,\"#fde0ef\"],[0.5,\"#f7f7f7\"],[0.6,\"#e6f5d0\"],[0.7,\"#b8e186\"],[0.8,\"#7fbc41\"],[0.9,\"#4d9221\"],[1,\"#276419\"]]},\"xaxis\":{\"gridcolor\":\"white\",\"linecolor\":\"white\",\"ticks\":\"\",\"title\":{\"standoff\":15},\"zerolinecolor\":\"white\",\"automargin\":true,\"zerolinewidth\":2},\"yaxis\":{\"gridcolor\":\"white\",\"linecolor\":\"white\",\"ticks\":\"\",\"title\":{\"standoff\":15},\"zerolinecolor\":\"white\",\"automargin\":true,\"zerolinewidth\":2},\"scene\":{\"xaxis\":{\"backgroundcolor\":\"#E5ECF6\",\"gridcolor\":\"white\",\"linecolor\":\"white\",\"showbackground\":true,\"ticks\":\"\",\"zerolinecolor\":\"white\",\"gridwidth\":2},\"yaxis\":{\"backgroundcolor\":\"#E5ECF6\",\"gridcolor\":\"white\",\"linecolor\":\"white\",\"showbackground\":true,\"ticks\":\"\",\"zerolinecolor\":\"white\",\"gridwidth\":2},\"zaxis\":{\"backgroundcolor\":\"#E5ECF6\",\"gridcolor\":\"white\",\"linecolor\":\"white\",\"showbackground\":true,\"ticks\":\"\",\"zerolinecolor\":\"white\",\"gridwidth\":2}},\"shapedefaults\":{\"line\":{\"color\":\"#2a3f5f\"}},\"annotationdefaults\":{\"arrowcolor\":\"#2a3f5f\",\"arrowhead\":0,\"arrowwidth\":1},\"geo\":{\"bgcolor\":\"white\",\"landcolor\":\"#E5ECF6\",\"subunitcolor\":\"white\",\"showland\":true,\"showlakes\":true,\"lakecolor\":\"white\"},\"title\":{\"x\":0.05},\"mapbox\":{\"style\":\"light\"}}},\"xaxis\":{\"title\":{\"text\":\"RPA [m/s\\u00b2]\"},\"showline\":true,\"linewidth\":1,\"linecolor\":\"black\"},\"yaxis\":{\"title\":{\"text\":\"IDI [m/s]\"},\"showline\":true,\"linewidth\":1,\"linecolor\":\"black\"},\"height\":400,\"width\":500,\"plot_bgcolor\":\"white\"},                        {\"responsive\": true}                    ).then(function(){\n",
       "                            \n",
       "var gd = document.getElementById('ebce386c-f206-441f-bd9d-8e2b165556b8');\n",
       "var x = new MutationObserver(function (mutations, observer) {{\n",
       "        var display = window.getComputedStyle(gd).display;\n",
       "        if (!display || display === 'none') {{\n",
       "            console.log([gd, 'removed!']);\n",
       "            Plotly.purge(gd);\n",
       "            observer.disconnect();\n",
       "        }}\n",
       "}});\n",
       "\n",
       "// Listen for the removal of the full notebook cells\n",
       "var notebookContainer = gd.closest('#notebook-container');\n",
       "if (notebookContainer) {{\n",
       "    x.observe(notebookContainer, {childList: true});\n",
       "}}\n",
       "\n",
       "// Listen for the clearing of the current output cell\n",
       "var outputEl = gd.closest('.output');\n",
       "if (outputEl) {{\n",
       "    x.observe(outputEl, {childList: true});\n",
       "}}\n",
       "\n",
       "                        })                };                });            </script>        </div>"
      ]
     },
     "metadata": {},
     "output_type": "display_data"
    }
   ],
   "source": [
    "# Definir un diccionario que asigna formas a cada categoría\n",
    "shapes = {'Motorway_1': 'circle', 'Motorway_2': 'circle', 'Motorway_3': 'circle',\n",
    "          'Rural_1': 'x', 'Rural_2': 'x', 'Rural_3': 'x',\n",
    "          'Urban_1': 'square', 'Urban_2': 'square', 'Urban_3': 'square'}\n",
    "\n",
    "# Definir un diccionario que asigna colores a cada categoría\n",
    "colors = {'Motorway_1': 'darkblue', 'Motorway_2': 'darkorange', 'Motorway_3': 'darkred',\n",
    "          'Rural_1': 'darkred', 'Rural_2': 'darkorange', 'Rural_3': 'darkblue',\n",
    "          'Urban_1': 'darkorange', 'Urban_2': 'darkred', 'Urban_3': 'darkblue'}\n",
    "\n",
    "# Crear el gráfico de dispersión con diferentes formas y colores para cada categoría\n",
    "fig = go.Figure()\n",
    "\n",
    "# Iterar sobre cada categoría en tu lista predefinida de categorías\n",
    "for categoria, shape in shapes.items():\n",
    "    # Filtrar el DataFrame por la categoría actual\n",
    "    df_categoria = df_final_T[df_final_T['ciclo'] == categoria]\n",
    "    \n",
    "    # Agregar una traza para la categoría actual con la forma y color correspondientes\n",
    "    fig.add_trace(go.Scatter(\n",
    "        x=df_categoria['RPA'],\n",
    "        y=df_categoria['i'],\n",
    "        mode='markers',\n",
    "        name=categoria,\n",
    "        marker=dict(symbol=shape, size=10, color=colors[categoria])\n",
    "    ))\n",
    "\n",
    "  # Actualizar ejes\n",
    "fig.update_xaxes(showline=True, linewidth=1, linecolor='black', title_text=\"RPA [m/s²]\")\n",
    "fig.update_yaxes(showline=True, linewidth=1, linecolor='black', title_text=\"IDI [m/s]\")    \n",
    "fig.update_layout(height=400, width=500, plot_bgcolor=\"white\")\n",
    "# Mostrar el gráfico\n",
    "fig.show()\n"
   ]
  },
  {
   "cell_type": "markdown",
   "id": "9bd127ba",
   "metadata": {},
   "source": [
    "### CREAR Ciclos Poligonales Equivalentes"
   ]
  },
  {
   "cell_type": "code",
   "execution_count": 118,
   "id": "3a919104",
   "metadata": {},
   "outputs": [],
   "source": [
    "import pandas as pd\n",
    "import numpy as np\n",
    "def velocidad_poligonal (df):\n",
    "\n",
    "    # Definir la tolerancia para la suavidad de la curva\n",
    "    tolerancia = 0.35  # Unidad: m/s\n",
    "\n",
    "    # Crear una lista para almacenar los vértices de la curva poligonal\n",
    "    vertices = []\n",
    "\n",
    "    # Iterar sobre el DataFrame para generar la curva poligonal\n",
    "    for i in range(len(df) - 1):\n",
    "        diff_velocidad = abs(df['v_m_s_f'][i + 1] - df['v_m_s_f'][i])\n",
    "        if diff_velocidad > tolerancia:\n",
    "            vertices.append((df['t_s'][i], df['v_m_s_f'][i]))\n",
    "\n",
    "    # Añadir el último punto del DataFrame como el último vértice\n",
    "    vertices.append((df['t_s'].iloc[-1], df['v_m_s_f'].iloc[-1]))\n",
    "\n",
    "    # Convertir la lista de vértices a un DataFrame para facilitar su manipulación\n",
    "    df_vertices = pd.DataFrame(vertices, columns=['t_s', 'v_m_s_f'])\n",
    "\n",
    "    # Crear una función para interpolar la curva poligonal\n",
    "    def interpolar_velocidad(tiempo):\n",
    "        velocidad = np.interp(tiempo, df_vertices['t_s'], df_vertices['v_m_s_f'])\n",
    "        return velocidad\n",
    "\n",
    "    # Agregar la curva poligonal como una nueva columna al DataFrame original\n",
    "    df['vel_poligonal'] = interpolar_velocidad(df['t_s'])\n",
    "    return df"
   ]
  },
  {
   "cell_type": "code",
   "execution_count": 119,
   "id": "a58b4005",
   "metadata": {},
   "outputs": [],
   "source": []
  },
  {
   "cell_type": "code",
   "execution_count": 120,
   "id": "b948a05f",
   "metadata": {},
   "outputs": [],
   "source": [
    "\n"
   ]
  },
  {
   "cell_type": "code",
   "execution_count": 121,
   "id": "ed5a1830",
   "metadata": {},
   "outputs": [
    {
     "data": {
      "text/plain": [
       "Index(['t_s', 'v_km_h', 'RPM', 'TCO_C', 'Latitude', 'Longitude',\n",
       "       'Altitude_msnm', 'v_km_h_gps', 'v_km_h_f', 'v_m_s_f', 'RPM_f',\n",
       "       'intervalo', 'delta_tiempo', 'distance', 'acel_m_s2', 'ABS_Aceleracion',\n",
       "       'Acel_cumul', 'Derivada_Aceleracion', 'ABS_Derivada_Aceleracion',\n",
       "       'Der_Acel_cumul', 'Altitude_api', 'vel_poligonal'],\n",
       "      dtype='object')"
      ]
     },
     "execution_count": 121,
     "metadata": {},
     "output_type": "execute_result"
    }
   ],
   "source": [
    "Motorway_3.columns"
   ]
  },
  {
   "cell_type": "code",
   "execution_count": 123,
   "id": "63b5c44f",
   "metadata": {},
   "outputs": [
    {
     "data": {
      "application/vnd.plotly.v1+json": {
       "config": {
        "plotlyServerURL": "https://plot.ly"
       },
       "data": [
        {
         "line": {
          "color": "darkblue"
         },
         "mode": "lines",
         "name": "v_m_s_f",
         "type": "scatter",
         "x": [
          0,
          1,
          2,
          3,
          4,
          5,
          6,
          7,
          8,
          9,
          10,
          11,
          12,
          13,
          14,
          15,
          16,
          17,
          18,
          19,
          20,
          21,
          22,
          23,
          24,
          25,
          26,
          27,
          28,
          29,
          30,
          31,
          32,
          33,
          34,
          35,
          36,
          37,
          38,
          39,
          40,
          41,
          42,
          43,
          44,
          45,
          46,
          47,
          48,
          49,
          50,
          51,
          52,
          53,
          54,
          55,
          56,
          57,
          58,
          59,
          60,
          61,
          62,
          63,
          64,
          65,
          66,
          67,
          68,
          69,
          70,
          71,
          72,
          73,
          74,
          75,
          76,
          77,
          78,
          79,
          80,
          81,
          82,
          83,
          84,
          85,
          86,
          87,
          88,
          89,
          90,
          91,
          92,
          93,
          94,
          95,
          96,
          97,
          98,
          99,
          100,
          101,
          102,
          103,
          104,
          105,
          106,
          107,
          108,
          109,
          110,
          111,
          112,
          113,
          114,
          115,
          116,
          117,
          118,
          119,
          120,
          121,
          122,
          123,
          124,
          125,
          126,
          127,
          128,
          129,
          130,
          131,
          132,
          133,
          134,
          135,
          136,
          137,
          138,
          139,
          140,
          141,
          142,
          143,
          144,
          145,
          146,
          147,
          148,
          149,
          150,
          151,
          152,
          153,
          154,
          155,
          156,
          157,
          158,
          159,
          160,
          161,
          162,
          163,
          164,
          165,
          166,
          167,
          168,
          169,
          170,
          171,
          172,
          173,
          174,
          175,
          176,
          177,
          178,
          179,
          180,
          181,
          182,
          183,
          184,
          185,
          186,
          187,
          188,
          189,
          190,
          191,
          192,
          193,
          194,
          195,
          196,
          197,
          198,
          199,
          200,
          201,
          202,
          203,
          204,
          205,
          206,
          207,
          208,
          209,
          210,
          211,
          212,
          213,
          214,
          215,
          216,
          217,
          218,
          219,
          220,
          221,
          222,
          223,
          224,
          225,
          226,
          227,
          228,
          229,
          230,
          231,
          232,
          233,
          234,
          235,
          236,
          237,
          238,
          239,
          240,
          241,
          242,
          243,
          244,
          245,
          246,
          247,
          248,
          249,
          250,
          251,
          252,
          253,
          254,
          255,
          256,
          257,
          258,
          259,
          260,
          261,
          262,
          263,
          264,
          265,
          266,
          267,
          268,
          269,
          270,
          271,
          272,
          273,
          274,
          275,
          276,
          277,
          278,
          279,
          280,
          281,
          282,
          283,
          284,
          285,
          286,
          287,
          288,
          289,
          290,
          291,
          292,
          293,
          294,
          295,
          296,
          297,
          298,
          299,
          300,
          301,
          302,
          303,
          304,
          305,
          306,
          307,
          308,
          309,
          310,
          311,
          312,
          313,
          314,
          315,
          316,
          317,
          318,
          319,
          320,
          321,
          322,
          323,
          324,
          325,
          326,
          327,
          328,
          329,
          330,
          331,
          332,
          333,
          334,
          335,
          336,
          337,
          338,
          339,
          340,
          341,
          342,
          343,
          344,
          345,
          346,
          347,
          348,
          349,
          350,
          351,
          352,
          353,
          354,
          355,
          356,
          357,
          358,
          359,
          360,
          361,
          362,
          363,
          364,
          365,
          366,
          367,
          368,
          369,
          370,
          371,
          372,
          373,
          374,
          375,
          376,
          377,
          378,
          379,
          380,
          381,
          382,
          383,
          384,
          385,
          386,
          387,
          388,
          389,
          390,
          391,
          392,
          393,
          394,
          395,
          396,
          397,
          398,
          399,
          400,
          401,
          402,
          403,
          404,
          405,
          406,
          407,
          408,
          409,
          410,
          411,
          412,
          413,
          414,
          415,
          416,
          417,
          418,
          419,
          420,
          421,
          422,
          423,
          424,
          425,
          426,
          427,
          428,
          429,
          430,
          431,
          432,
          433,
          434,
          435,
          436,
          437,
          438,
          439,
          440,
          441,
          442,
          443,
          444,
          445,
          446,
          447,
          448,
          449,
          450,
          451,
          452,
          453,
          454,
          455,
          456,
          457,
          458,
          459,
          460,
          461,
          462,
          463,
          464,
          465,
          466,
          467,
          468,
          469,
          470,
          471,
          472,
          473,
          474,
          475,
          476,
          477,
          478,
          479,
          480,
          481,
          482,
          483,
          484,
          485,
          486,
          487,
          488,
          489,
          490,
          491,
          492,
          493,
          494,
          495,
          496,
          497,
          498,
          499,
          500,
          501,
          502,
          503,
          504,
          505,
          506,
          507,
          508,
          509,
          510,
          511,
          512,
          513,
          514,
          515,
          516,
          517,
          518,
          519,
          520,
          521,
          522,
          523,
          524,
          525,
          526,
          527,
          528,
          529,
          530,
          531,
          532,
          533,
          534,
          535,
          536,
          537,
          538,
          539,
          540,
          541,
          542,
          543,
          544,
          545,
          546,
          547,
          548,
          549,
          550,
          551,
          552,
          553,
          554,
          555,
          556,
          557,
          558,
          559,
          560,
          561,
          562,
          563,
          564,
          565,
          566,
          567,
          568,
          569,
          570,
          571,
          572,
          573,
          574,
          575,
          576,
          577,
          578,
          579,
          580,
          581,
          582,
          583,
          584,
          585,
          586,
          587,
          588,
          589,
          590,
          591,
          592,
          593,
          594,
          595,
          596,
          597,
          598,
          599,
          600,
          601,
          602,
          603,
          604,
          605,
          606,
          607,
          608,
          609,
          610,
          611,
          612,
          613,
          614,
          615,
          616,
          617,
          618,
          619,
          620,
          621,
          622,
          623,
          624,
          625,
          626,
          627,
          628,
          629,
          630,
          631,
          632,
          633,
          634,
          635,
          636,
          637,
          638,
          639,
          640,
          641,
          642,
          643,
          644,
          645,
          646,
          647,
          648,
          649,
          650,
          651,
          652,
          653,
          654,
          655,
          656,
          657,
          658,
          659,
          660,
          661,
          662,
          663,
          664,
          665,
          666,
          667,
          668,
          669,
          670,
          671,
          672,
          673,
          674,
          675,
          676,
          677,
          678,
          679,
          680,
          681,
          682,
          683,
          684,
          685,
          686,
          687,
          688,
          689,
          690,
          691,
          692,
          693,
          694,
          695,
          696,
          697,
          698,
          699,
          700,
          701,
          702,
          703,
          704,
          705,
          706,
          707,
          708,
          709,
          710,
          711,
          712,
          713,
          714,
          715,
          716,
          717,
          718,
          719,
          720,
          721,
          722,
          723,
          724,
          725,
          726,
          727,
          728,
          729,
          730,
          731,
          732,
          733,
          734,
          735,
          736,
          737,
          738,
          739,
          740,
          741,
          742,
          743,
          744,
          745,
          746,
          747,
          748,
          749,
          750,
          751,
          752,
          753,
          754,
          755,
          756,
          757,
          758,
          759,
          760,
          761,
          762,
          763,
          764,
          765,
          766,
          767,
          768,
          769,
          770,
          771,
          772,
          773,
          774,
          775,
          776,
          777,
          778,
          779,
          780,
          781,
          782,
          783,
          784,
          785,
          786,
          787,
          788,
          789,
          790,
          791,
          792,
          793,
          794,
          795,
          796,
          797,
          798,
          799,
          800,
          801,
          802,
          803,
          804,
          805,
          806,
          807,
          808,
          809,
          810,
          811,
          812,
          813,
          814,
          815,
          816,
          817,
          818,
          819,
          820,
          821,
          822,
          823,
          824,
          825,
          826,
          827,
          828,
          829,
          830,
          831,
          832,
          833,
          834,
          835,
          836,
          837,
          838,
          839,
          840,
          841,
          842,
          843,
          844,
          845,
          846,
          847,
          848,
          849,
          850,
          851,
          852,
          853,
          854,
          855,
          856,
          857,
          858,
          859,
          860,
          861,
          862,
          863,
          864,
          865,
          866,
          867,
          868,
          869,
          870,
          871,
          872,
          873,
          874,
          875,
          876,
          877,
          878,
          879,
          880,
          881,
          882,
          883,
          884,
          885,
          886,
          887,
          888,
          889,
          890,
          891,
          892,
          893,
          894,
          895,
          896,
          897,
          898,
          899,
          900,
          901,
          902,
          903,
          904,
          905,
          906,
          907,
          908,
          909,
          910,
          911,
          912,
          913,
          914,
          915,
          916,
          917,
          918,
          919,
          920,
          921,
          922,
          923,
          924,
          925,
          926,
          927,
          928,
          929,
          930,
          931,
          932,
          933,
          934,
          935,
          936,
          937,
          938,
          939,
          940,
          941,
          942,
          943,
          944,
          945,
          946,
          947,
          948,
          949,
          950,
          951,
          952,
          953,
          954,
          955,
          956,
          957,
          958,
          959,
          960,
          961,
          962,
          963,
          964,
          965,
          966,
          967,
          968,
          969,
          970,
          971,
          972,
          973,
          974,
          975,
          976,
          977,
          978,
          979,
          980,
          981,
          982,
          983,
          984,
          985,
          986,
          987,
          988,
          989,
          990,
          991,
          992,
          993,
          994,
          995,
          996,
          997,
          998,
          999,
          1000,
          1001,
          1002,
          1003,
          1004,
          1005,
          1006,
          1007,
          1008,
          1009,
          1010,
          1011,
          1012,
          1013,
          1014,
          1015,
          1016,
          1017,
          1018,
          1019,
          1020,
          1021,
          1022,
          1023,
          1024,
          1025,
          1026,
          1027,
          1028,
          1029,
          1030,
          1031,
          1032,
          1033,
          1034,
          1035,
          1036,
          1037,
          1038,
          1039,
          1040,
          1041,
          1042,
          1043,
          1044,
          1045,
          1046,
          1047,
          1048,
          1049,
          1050,
          1051,
          1052,
          1053,
          1054,
          1055,
          1056,
          1057,
          1058,
          1059,
          1060,
          1061,
          1062,
          1063,
          1064,
          1065,
          1066,
          1067,
          1068,
          1069,
          1070,
          1071,
          1072,
          1073,
          1074,
          1075,
          1076,
          1077,
          1078,
          1079,
          1080,
          1081,
          1082,
          1083,
          1084,
          1085,
          1086,
          1087,
          1088,
          1089,
          1090,
          1091,
          1092,
          1093,
          1094,
          1095,
          1096,
          1097,
          1098,
          1099,
          1100,
          1101,
          1102,
          1103,
          1104,
          1105,
          1106,
          1107,
          1108,
          1109,
          1110,
          1111,
          1112,
          1113,
          1114,
          1115,
          1116,
          1117,
          1118,
          1119,
          1120,
          1121,
          1122,
          1123,
          1124,
          1125,
          1126,
          1127,
          1128,
          1129,
          1130,
          1131,
          1132,
          1133,
          1134,
          1135,
          1136,
          1137,
          1138,
          1139,
          1140,
          1141,
          1142,
          1143,
          1144,
          1145,
          1146,
          1147,
          1148,
          1149,
          1150,
          1151,
          1152,
          1153,
          1154,
          1155,
          1156,
          1157,
          1158,
          1159,
          1160,
          1161,
          1162,
          1163,
          1164,
          1165,
          1166,
          1167,
          1168,
          1169,
          1170,
          1171,
          1172,
          1173,
          1174,
          1175,
          1176,
          1177,
          1178,
          1179,
          1180,
          1181,
          1182,
          1183,
          1184,
          1185,
          1186,
          1187,
          1188,
          1189,
          1190,
          1191,
          1192,
          1193,
          1194,
          1195,
          1196,
          1197,
          1198,
          1199,
          1200,
          1201,
          1202,
          1203,
          1204,
          1205,
          1206,
          1207,
          1208,
          1209,
          1210,
          1211,
          1212,
          1213,
          1214,
          1215,
          1216,
          1217,
          1218,
          1219,
          1220,
          1221,
          1222,
          1223,
          1224,
          1225,
          1226,
          1227,
          1228,
          1229,
          1230,
          1231,
          1232,
          1233,
          1234,
          1235,
          1236,
          1237,
          1238,
          1239,
          1240,
          1241,
          1242,
          1243,
          1244,
          1245,
          1246,
          1247,
          1248,
          1249,
          1250,
          1251,
          1252,
          1253,
          1254,
          1255,
          1256,
          1257,
          1258,
          1259,
          1260,
          1261,
          1262,
          1263,
          1264,
          1265,
          1266,
          1267,
          1268,
          1269,
          1270,
          1271,
          1272,
          1273,
          1274,
          1275,
          1276,
          1277,
          1278,
          1279,
          1280,
          1281,
          1282,
          1283,
          1284,
          1285,
          1286,
          1287,
          1288,
          1289,
          1290,
          1291,
          1292,
          1293,
          1294,
          1295,
          1296,
          1297,
          1298,
          1299,
          1300,
          1301,
          1302,
          1303,
          1304,
          1305,
          1306,
          1307,
          1308,
          1309,
          1310,
          1311,
          1312,
          1313,
          1314,
          1315,
          1316,
          1317,
          1318,
          1319,
          1320,
          1321,
          1322,
          1323,
          1324,
          1325,
          1326,
          1327,
          1328,
          1329,
          1330,
          1331,
          1332,
          1333,
          1334,
          1335,
          1336,
          1337,
          1338,
          1339,
          1340,
          1341,
          1342,
          1343,
          1344,
          1345,
          1346,
          1347,
          1348,
          1349,
          1350,
          1351,
          1352,
          1353,
          1354,
          1355,
          1356,
          1357,
          1358,
          1359,
          1360,
          1361,
          1362,
          1363,
          1364,
          1365,
          1366,
          1367,
          1368,
          1369,
          1370,
          1371,
          1372,
          1373,
          1374,
          1375,
          1376,
          1377,
          1378,
          1379,
          1380,
          1381,
          1382,
          1383,
          1384,
          1385,
          1386,
          1387,
          1388,
          1389,
          1390,
          1391,
          1392,
          1393,
          1394,
          1395,
          1396,
          1397,
          1398,
          1399,
          1400,
          1401,
          1402,
          1403,
          1404,
          1405,
          1406,
          1407,
          1408,
          1409,
          1410,
          1411,
          1412,
          1413,
          1414,
          1415,
          1416,
          1417,
          1418,
          1419,
          1420,
          1421,
          1422,
          1423,
          1424,
          1425,
          1426,
          1427,
          1428,
          1429,
          1430,
          1431,
          1432,
          1433,
          1434,
          1435,
          1436,
          1437,
          1438,
          1439,
          1440,
          1441,
          1442,
          1443,
          1444,
          1445,
          1446,
          1447,
          1448,
          1449,
          1450,
          1451,
          1452,
          1453,
          1454,
          1455,
          1456,
          1457,
          1458,
          1459,
          1460,
          1461,
          1462,
          1463,
          1464,
          1465,
          1466,
          1467,
          1468,
          1469,
          1470,
          1471,
          1472,
          1473,
          1474,
          1475,
          1476,
          1477,
          1478,
          1479,
          1480,
          1481,
          1482,
          1483,
          1484,
          1485,
          1486,
          1487,
          1488,
          1489,
          1490,
          1491,
          1492,
          1493,
          1494,
          1495,
          1496,
          1497,
          1498,
          1499,
          1500,
          1501,
          1502,
          1503,
          1504,
          1505,
          1506,
          1507,
          1508,
          1509,
          1510,
          1511,
          1512,
          1513,
          1514,
          1515,
          1516,
          1517,
          1518,
          1519,
          1520,
          1521,
          1522,
          1523,
          1524,
          1525,
          1526,
          1527,
          1528,
          1529,
          1530,
          1531,
          1532,
          1533,
          1534,
          1535,
          1536,
          1537,
          1538,
          1539,
          1540,
          1541,
          1542,
          1543,
          1544,
          1545,
          1546,
          1547,
          1548,
          1549,
          1550,
          1551,
          1552,
          1553,
          1554,
          1555,
          1556,
          1557,
          1558,
          1559,
          1560,
          1561,
          1562,
          1563,
          1564,
          1565,
          1566,
          1567,
          1568,
          1569,
          1570,
          1571,
          1572,
          1573,
          1574,
          1575,
          1576,
          1577,
          1578,
          1579,
          1580,
          1581,
          1582,
          1583,
          1584,
          1585,
          1586,
          1587,
          1588,
          1589,
          1590,
          1591,
          1592,
          1593,
          1594,
          1595,
          1596,
          1597,
          1598,
          1599,
          1600,
          1601,
          1602,
          1603,
          1604,
          1605,
          1606,
          1607,
          1608,
          1609,
          1610,
          1611,
          1612,
          1613,
          1614,
          1615,
          1616,
          1617,
          1618,
          1619,
          1620,
          1621,
          1622,
          1623,
          1624,
          1625,
          1626,
          1627,
          1628,
          1629,
          1630,
          1631,
          1632,
          1633,
          1634,
          1635,
          1636,
          1637,
          1638,
          1639,
          1640,
          1641,
          1642,
          1643,
          1644,
          1645,
          1646,
          1647,
          1648,
          1649,
          1650,
          1651,
          1652,
          1653,
          1654,
          1655,
          1656,
          1657,
          1658,
          1659,
          1660,
          1661,
          1662,
          1663,
          1664,
          1665,
          1666,
          1667,
          1668,
          1669,
          1670,
          1671,
          1672,
          1673,
          1674,
          1675,
          1676,
          1677,
          1678,
          1679,
          1680,
          1681,
          1682,
          1683,
          1684,
          1685,
          1686,
          1687,
          1688,
          1689,
          1690,
          1691,
          1692,
          1693,
          1694,
          1695,
          1696,
          1697,
          1698,
          1699,
          1700,
          1701,
          1702,
          1703,
          1704,
          1705,
          1706,
          1707,
          1708,
          1709,
          1710,
          1711,
          1712,
          1713,
          1714,
          1715,
          1716,
          1717,
          1718,
          1719,
          1720,
          1721,
          1722,
          1723,
          1724,
          1725,
          1726,
          1727,
          1728,
          1729,
          1730,
          1731,
          1732,
          1733,
          1734,
          1735,
          1736,
          1737,
          1738,
          1739,
          1740,
          1741,
          1742,
          1743,
          1744,
          1745,
          1746,
          1747,
          1748,
          1749,
          1750,
          1751,
          1752,
          1753,
          1754,
          1755,
          1756,
          1757,
          1758,
          1759,
          1760,
          1761,
          1762,
          1763,
          1764,
          1765,
          1766,
          1767,
          1768,
          1769,
          1770,
          1771,
          1772,
          1773,
          1774,
          1775,
          1776,
          1777,
          1778,
          1779,
          1780,
          1781,
          1782,
          1783,
          1784,
          1785,
          1786,
          1787,
          1788,
          1789,
          1790,
          1791,
          1792,
          1793,
          1794,
          1795,
          1796,
          1797,
          1798,
          1799,
          1800,
          1801,
          1802,
          1803,
          1804,
          1805,
          1806,
          1807,
          1808,
          1809,
          1810,
          1811,
          1812,
          1813,
          1814,
          1815,
          1816,
          1817,
          1818,
          1819,
          1820,
          1821,
          1822,
          1823,
          1824,
          1825,
          1826,
          1827,
          1828,
          1829,
          1830,
          1831,
          1832,
          1833,
          1834,
          1835,
          1836,
          1837,
          1838,
          1839,
          1840,
          1841,
          1842,
          1843,
          1844,
          1845,
          1846,
          1847,
          1848,
          1849,
          1850,
          1851,
          1852,
          1853,
          1854,
          1855,
          1856,
          1857,
          1858,
          1859,
          1860,
          1861,
          1862,
          1863,
          1864,
          1865,
          1866,
          1867,
          1868,
          1869,
          1870,
          1871,
          1872,
          1873,
          1874,
          1875,
          1876,
          1877,
          1878,
          1879,
          1880,
          1881,
          1882,
          1883,
          1884,
          1885,
          1886,
          1887,
          1888,
          1889,
          1890,
          1891,
          1892,
          1893,
          1894,
          1895,
          1896,
          1897,
          1898,
          1899,
          1900,
          1901,
          1902,
          1903,
          1904,
          1905,
          1906,
          1907,
          1908,
          1909,
          1910,
          1911,
          1912,
          1913,
          1914,
          1915,
          1916,
          1917,
          1918,
          1919,
          1920,
          1921,
          1922,
          1923,
          1924,
          1925,
          1926,
          1927,
          1928,
          1929,
          1930,
          1931,
          1932,
          1933,
          1934,
          1935,
          1936,
          1937,
          1938,
          1939,
          1940,
          1941,
          1942,
          1943,
          1944,
          1945,
          1946,
          1947,
          1948,
          1949
         ],
         "y": [
          0,
          0,
          0.3083333333333333,
          1.5,
          3.055555555555555,
          4.213888888888889,
          4.880555555555556,
          5.094444444444444,
          4.952777777777778,
          4.747222222222222,
          4.444444444444445,
          4.141666666666667,
          3.936111111111111,
          3.844444444444444,
          3.952777777777778,
          4.108333333333333,
          4.136111111111111,
          3.891666666666667,
          3.636111111111111,
          3.636111111111111,
          3.913888888888889,
          4.047222222222222,
          4.066666666666666,
          3.677777777777778,
          3.016666666666667,
          2.275,
          1.908333333333333,
          1.691666666666667,
          1.341666666666667,
          0.8333333333333333,
          0.3027777777777778,
          0,
          0,
          0,
          0,
          0,
          0,
          0,
          0,
          0,
          0,
          0.7027777777777777,
          1.997222222222222,
          3.363888888888888,
          4.011111111111111,
          4.263888888888888,
          4.827777777777778,
          5.975000000000001,
          7.327777777777778,
          8.147222222222222,
          8.427777777777777,
          8.308333333333334,
          8.405555555555555,
          8.516666666666666,
          8.730555555555556,
          8.769444444444444,
          8.658333333333333,
          8.319444444444445,
          8.025,
          8.041666666666666,
          8.46111111111111,
          9.194444444444445,
          9.930555555555555,
          10.51111111111111,
          10.88611111111111,
          11.06388888888889,
          11.15833333333333,
          11.03888888888889,
          10.98333333333333,
          10.66388888888889,
          10.03611111111111,
          8.744444444444444,
          7.372222222222222,
          6.111111111111111,
          4.905555555555556,
          3.308333333333333,
          1.786111111111111,
          0.7861111111111111,
          0.2777777777777778,
          0,
          0,
          0,
          0,
          0,
          0,
          0.6972222222222222,
          1.905555555555556,
          3.055555555555555,
          3.591666666666666,
          3.588888888888889,
          3.172222222222222,
          2.825,
          3.144444444444444,
          4.069444444444445,
          5.222222222222222,
          6.422222222222222,
          7.694444444444444,
          8.947222222222223,
          9.980555555555556,
          10.41388888888889,
          10.41944444444444,
          10.55555555555556,
          11.08611111111111,
          11.66666666666667,
          12.22222222222222,
          12.825,
          13.26111111111111,
          13.35833333333333,
          13.03055555555556,
          12.525,
          11.96388888888889,
          11.33611111111111,
          10.68611111111111,
          9.811111111111112,
          9.11111111111111,
          8.372222222222222,
          7.919444444444444,
          7.777777777777778,
          8.380555555555556,
          9.06111111111111,
          9.408333333333333,
          9.661111111111111,
          10.31388888888889,
          10.94444444444444,
          11.15555555555556,
          11.40555555555556,
          12.075,
          12.73333333333333,
          13.08611111111111,
          13.33333333333333,
          13.58611111111111,
          13.96111111111111,
          14.37222222222222,
          14.76944444444444,
          14.95277777777778,
          15.025,
          14.98888888888889,
          15.01666666666667,
          15.12777777777778,
          15.24722222222222,
          15.29166666666667,
          15.27777777777778,
          15.29722222222222,
          15.25,
          15.14722222222222,
          14.6,
          13.25555555555555,
          11.48333333333333,
          10.35,
          10.27777777777778,
          10.76111111111111,
          11.43611111111111,
          12.22222222222222,
          13.00833333333333,
          13.68333333333333,
          14.07222222222222,
          14.23888888888889,
          14.11944444444444,
          13.91388888888889,
          13.58611111111111,
          13.40555555555556,
          13.26111111111111,
          13.08055555555556,
          12.87222222222222,
          12.33611111111111,
          11.14722222222222,
          9.330555555555556,
          7.925,
          7.533333333333333,
          8.122222222222222,
          8.822222222222223,
          9.183333333333334,
          9.141666666666666,
          8.88888888888889,
          8.636111111111111,
          8.636111111111111,
          8.88888888888889,
          9.119444444444444,
          9.191666666666668,
          9.141666666666666,
          9.188888888888888,
          9.430555555555555,
          10.15833333333333,
          10.93055555555556,
          11.41111111111111,
          11.80833333333333,
          12.38055555555555,
          12.77777777777778,
          12.80277777777778,
          12.80277777777778,
          12.73055555555555,
          12.54722222222222,
          12.28888888888889,
          11.53611111111111,
          9.705555555555554,
          7.05,
          4.455555555555555,
          2.513888888888889,
          1.352777777777778,
          1.144444444444444,
          1.972222222222222,
          3.886111111111111,
          5.311111111111111,
          5.905555555555556,
          6.038888888888888,
          6.641666666666667,
          7.316666666666666,
          7.961111111111111,
          8.28611111111111,
          8.475,
          8.769444444444444,
          9.261111111111111,
          9.625,
          10.07777777777778,
          10.58611111111111,
          10.95,
          11.3,
          11.94444444444444,
          12.63611111111111,
          12.85,
          12.80277777777778,
          12.75277777777778,
          12.45277777777778,
          12.08611111111111,
          11.5,
          10.69444444444444,
          9.291666666666668,
          7.638888888888888,
          5.777777777777778,
          4.261111111111111,
          3.011111111111111,
          1.919444444444445,
          0.8083333333333333,
          0,
          0,
          0,
          0,
          0,
          0,
          0,
          0,
          0,
          0,
          0,
          0,
          0,
          0,
          0,
          0,
          0,
          0,
          0,
          0,
          0,
          0,
          0,
          0,
          1.352777777777778,
          3.691666666666666,
          5.591666666666666,
          6.052777777777777,
          6.425,
          7.633333333333333,
          9.444444444444445,
          11.23055555555556,
          12.56388888888889,
          13.04722222222222,
          13.22222222222222,
          13.96666666666667,
          15.075,
          16.00555555555555,
          16.44166666666667,
          16.43611111111111,
          16.21666666666667,
          16.14444444444444,
          16.21944444444444,
          15.60277777777778,
          13.67777777777778,
          10.54722222222222,
          7.283333333333333,
          4.380555555555556,
          2.333333333333333,
          1.016666666666667,
          0.325,
          0,
          0,
          0,
          0,
          0,
          0,
          0,
          0,
          0,
          0,
          0,
          0,
          0,
          0,
          0,
          0,
          0,
          0,
          0,
          0,
          0,
          0,
          0,
          0,
          0,
          0,
          0,
          0,
          0,
          0,
          0,
          0,
          0,
          0,
          0,
          0,
          0,
          0,
          0,
          0.8916666666666666,
          2.783333333333333,
          4.686111111111111,
          5.552777777777777,
          5.797222222222222,
          6.302777777777778,
          7.425,
          8.883333333333333,
          10.09722222222222,
          10.65277777777778,
          10.70555555555556,
          10.65555555555556,
          10.79722222222222,
          10.87222222222222,
          10.78611111111111,
          10.58055555555556,
          10.25277777777778,
          10.04722222222222,
          10,
          9.927777777777779,
          9.794444444444444,
          9.697222222222221,
          9.722222222222221,
          9.727777777777778,
          9.769444444444444,
          9.602777777777778,
          8.816666666666666,
          7.475,
          6.011111111111111,
          4.516666666666667,
          2.936111111111111,
          1.497222222222222,
          0.6305555555555555,
          0.1972222222222222,
          0,
          0,
          0,
          0,
          0,
          0,
          0.15,
          0.4111111111111111,
          0.5194444444444445,
          0.2416666666666667,
          0,
          0.3,
          1.647222222222222,
          3.636111111111111,
          4.944444444444445,
          5.363888888888888,
          5.686111111111111,
          6.608333333333333,
          7.733333333333333,
          8.544444444444444,
          9.313888888888888,
          9.838888888888889,
          10.025,
          10.19166666666667,
          10.75555555555555,
          11.36111111111111,
          11.65555555555556,
          11.99166666666667,
          12.68611111111111,
          13.61111111111111,
          13.98888888888889,
          13.77777777777778,
          13.23888888888889,
          12.87222222222222,
          12.42777777777778,
          12.01666666666667,
          11.36388888888889,
          10.18611111111111,
          8.394444444444444,
          6.344444444444444,
          4.333333333333333,
          2.591666666666667,
          1.205555555555555,
          0.3638888888888889,
          0,
          0,
          0.5472222222222222,
          2.1,
          4.152777777777778,
          5.316666666666666,
          5.625,
          5.958333333333333,
          7.183333333333333,
          8.936111111111112,
          10.08888888888889,
          10.35,
          10.03055555555556,
          9.713888888888889,
          9.327777777777778,
          8.927777777777777,
          8.641666666666666,
          8.261111111111111,
          7.5,
          6.388888888888888,
          5.350000000000001,
          4.35,
          3.405555555555555,
          2.452777777777778,
          1.691666666666667,
          1.136111111111111,
          0.8333333333333333,
          0.4611111111111111,
          0,
          0,
          0,
          0,
          0,
          0,
          0,
          0.1666666666666667,
          1.488888888888889,
          3.497222222222222,
          4.805555555555555,
          4.980555555555555,
          5.238888888888889,
          6.288888888888889,
          7.722222222222222,
          8.927777777777777,
          10.14166666666667,
          10.84166666666667,
          10.99722222222222,
          11.15833333333333,
          11.89722222222222,
          12.85,
          13.44444444444444,
          13.70555555555556,
          13.91388888888889,
          14.44444444444444,
          15,
          15.20555555555556,
          15,
          14.84166666666667,
          14.90555555555556,
          15.025,
          15.03055555555556,
          14.95277777777778,
          14.64166666666667,
          14.18055555555555,
          13.93611111111111,
          13.97222222222222,
          14.18611111111111,
          14.43333333333333,
          14.72777777777778,
          15,
          15.17222222222222,
          15.34722222222222,
          15.46666666666667,
          15.65,
          15.78611111111111,
          15.78611111111111,
          15.65,
          15.46111111111111,
          15.35,
          15.27777777777778,
          15.20555555555556,
          15.07222222222222,
          14.975,
          15,
          14.975,
          15.07222222222222,
          15.20555555555556,
          15.27777777777778,
          15.35,
          15.46111111111111,
          15.65,
          15.76111111111111,
          15.88055555555556,
          15.76111111111111,
          15.62777777777778,
          15.53055555555556,
          15.55555555555556,
          15.53055555555556,
          15.62777777777778,
          15.78611111111111,
          15.80833333333333,
          15.55555555555556,
          15.35,
          15.20277777777778,
          15.03611111111111,
          14.78611111111111,
          14.38611111111111,
          13.67777777777778,
          12.31944444444444,
          10.68333333333333,
          9.044444444444444,
          7.830555555555556,
          6.788888888888889,
          6.247222222222222,
          6,
          5.858333333333333,
          5.555555555555555,
          5.277777777777778,
          5,
          4.722222222222222,
          4.444444444444445,
          4.191666666666666,
          3.841666666666667,
          3.358333333333333,
          2.777777777777778,
          2.202777777777778,
          1.716666666666667,
          1.263888888888889,
          0.8833333333333333,
          0.5361111111111111,
          0.2527777777777778,
          0,
          0,
          0,
          0,
          0,
          0,
          0,
          0,
          0,
          0,
          0,
          0,
          0,
          0,
          0,
          0,
          0,
          0,
          0,
          1.061111111111111,
          2.416666666666667,
          3.247222222222222,
          3.333333333333333,
          3.475,
          4.094444444444444,
          5,
          5.833333333333333,
          6.691666666666666,
          7.405555555555555,
          8.247222222222222,
          9.01388888888889,
          9.41388888888889,
          9.366666666666665,
          9.461111111111112,
          9.663888888888888,
          9.722222222222221,
          9.747222222222224,
          10.04722222222222,
          10.50833333333333,
          10.80833333333333,
          10.88055555555556,
          10.78611111111111,
          10.60277777777778,
          10.23055555555555,
          9.747222222222224,
          9.191666666666668,
          8.516666666666666,
          7.897222222222222,
          7.427777777777777,
          7.247222222222222,
          7.247222222222222,
          7.475,
          7.802777777777777,
          8.030555555555555,
          8.030555555555555,
          7.777777777777778,
          7.524999999999999,
          7.524999999999999,
          7.752777777777777,
          8.030555555555555,
          8.380555555555556,
          8.88888888888889,
          9.397222222222222,
          9.747222222222224,
          10.04722222222222,
          10.18333333333333,
          10.07222222222222,
          9.722222222222221,
          9.072222222222221,
          8.174999999999999,
          7.102777777777778,
          6.205555555555556,
          5.555555555555555,
          5.252777777777777,
          5,
          4.675,
          4.516666666666667,
          4.722222222222222,
          5.302777777777778,
          5.713888888888889,
          5.916666666666667,
          6.083333333333333,
          6.547222222222222,
          7.244444444444444,
          7.997222222222222,
          8.658333333333333,
          9.141666666666666,
          9.444444444444445,
          9.375,
          9.305555555555555,
          9.319444444444443,
          9.53611111111111,
          9.674999999999999,
          9.674999999999999,
          9.53888888888889,
          9.372222222222222,
          9.166666666666666,
          8.96111111111111,
          8.794444444444444,
          8.683333333333334,
          8.61111111111111,
          8.563888888888888,
          8.333333333333334,
          8.036111111111111,
          8.21111111111111,
          8.705555555555556,
          9.225,
          9.4,
          9.491666666666667,
          9.372222222222222,
          9.238888888888889,
          9.119444444444444,
          9.238888888888889,
          9.372222222222222,
          9.444444444444445,
          9.516666666666666,
          9.65,
          9.747222222222224,
          9.747222222222224,
          9.674999999999999,
          9.469444444444445,
          9.141666666666666,
          8.936111111111112,
          8.841666666666667,
          8.96111111111111,
          9.094444444444445,
          9.191666666666668,
          9.166666666666666,
          9.141666666666666,
          9.213888888888889,
          9.444444444444445,
          9.65,
          9.816666666666668,
          9.952777777777778,
          9.952777777777778,
          9.794444444444444,
          9.697222222222221,
          9.769444444444444,
          9.674999999999999,
          9.141666666666666,
          7.983333333333333,
          6.808333333333334,
          6.063888888888888,
          5.858333333333333,
          5.833333333333333,
          5.772222222222222,
          5.608333333333333,
          5.4,
          5.308333333333333,
          5.263888888888888,
          5.230555555555555,
          5.302777777777778,
          6.025,
          7.030555555555555,
          7.452777777777778,
          6.944444444444445,
          6.555555555555555,
          6.524999999999999,
          6.738888888888889,
          6.944444444444445,
          7.127777777777777,
          7.283333333333333,
          7.816666666666666,
          9.122222222222224,
          10.30555555555556,
          10.775,
          10.50555555555555,
          10.40833333333333,
          10.48333333333333,
          10.53055555555556,
          10.25277777777778,
          10.07222222222222,
          10.25277777777778,
          10.88055555555556,
          11.61944444444444,
          12.24722222222222,
          12.40555555555556,
          12.34166666666667,
          12.12777777777778,
          12.03888888888889,
          11.87222222222222,
          11.71388888888889,
          11.45277777777778,
          10.61944444444444,
          9.116666666666667,
          7.322222222222222,
          5.391666666666667,
          3.552777777777778,
          2.602777777777777,
          2.580555555555555,
          2.855555555555555,
          3.386111111111111,
          4.527777777777778,
          5.902777777777778,
          6.797222222222222,
          7.058333333333334,
          6.872222222222222,
          6.738888888888889,
          6.555555555555555,
          6.85,
          7.594444444444444,
          8.563888888888888,
          9.527777777777777,
          10.325,
          10.89444444444444,
          11.48888888888889,
          12.40555555555556,
          13.35833333333333,
          14.26111111111111,
          14.76111111111111,
          14.93611111111111,
          14.88055555555555,
          15.07222222222222,
          15.25277777777778,
          15.58055555555556,
          15.78611111111111,
          15.85833333333333,
          15.83333333333333,
          15.83333333333333,
          15.83333333333333,
          15.85833333333333,
          15.78611111111111,
          15.58055555555556,
          15.27777777777778,
          15.04722222222222,
          14.65,
          13.85,
          12.86111111111111,
          12.13611111111111,
          11.60555555555556,
          10.93333333333333,
          10.41944444444444,
          10.12222222222222,
          10.14166666666667,
          10.18333333333333,
          10.39444444444444,
          10.02222222222222,
          9.391666666666667,
          8.825,
          8.955555555555556,
          9.366666666666665,
          10.11944444444444,
          11.12777777777778,
          12.14722222222222,
          12.78888888888889,
          13.10555555555555,
          13.05555555555556,
          12.96944444444444,
          12.97222222222222,
          13.15,
          12.60833333333333,
          11.14722222222222,
          8.944444444444445,
          6.675,
          4.825,
          3.611111111111111,
          2.663888888888889,
          1.594444444444445,
          0.9638888888888889,
          1.513888888888889,
          3.047222222222222,
          4.419444444444444,
          4.919444444444444,
          5.213888888888889,
          6.052777777777777,
          7.361111111111111,
          8.719444444444445,
          9.78611111111111,
          10.325,
          10.25833333333333,
          10.025,
          9.769444444444444,
          9.272222222222222,
          8.747222222222222,
          8.683333333333334,
          9.438888888888888,
          10.54166666666667,
          11.63611111111111,
          12.7,
          13.46111111111111,
          14.02222222222222,
          14.43888888888889,
          14.60277777777778,
          14.31944444444444,
          13.88888888888889,
          13.60555555555555,
          13.33333333333333,
          13.05833333333333,
          12.79166666666667,
          12.53888888888889,
          11.80277777777778,
          10.20833333333333,
          8.058333333333334,
          5.922222222222222,
          4.258333333333333,
          3.341666666666666,
          3.308333333333333,
          3.944444444444444,
          4.997222222222222,
          5.977777777777778,
          6.244444444444444,
          6.322222222222223,
          6.883333333333334,
          8.044444444444444,
          9.216666666666667,
          9.808333333333334,
          9.794444444444444,
          9.841666666666667,
          10.50833333333333,
          11.36388888888889,
          11.96944444444444,
          12.15,
          11.99166666666667,
          11.66666666666667,
          11.38888888888889,
          11.06388888888889,
          10.90555555555556,
          11.08611111111111,
          11.73888888888889,
          12.40555555555556,
          12.75277777777778,
          12.825,
          13.10277777777778,
          13.56388888888889,
          13.86388888888889,
          13.93611111111111,
          13.81666666666667,
          13.65833333333333,
          13.65833333333333,
          13.81666666666667,
          13.91388888888889,
          13.88888888888889,
          13.88888888888889,
          13.86388888888889,
          13.96111111111111,
          14.09444444444444,
          14.19166666666667,
          14.16666666666667,
          14.14166666666667,
          14.23888888888889,
          14.37222222222222,
          14.49166666666667,
          14.37222222222222,
          14.23888888888889,
          14.14166666666667,
          14.16666666666667,
          14.16666666666667,
          14.16111111111111,
          14.16666666666667,
          14.26944444444444,
          14.39722222222222,
          14.48611111111111,
          14.39722222222222,
          14.20555555555556,
          13.90277777777778,
          13.18888888888889,
          12.11388888888889,
          10.54722222222222,
          9.077777777777778,
          7.875,
          7.430555555555555,
          7.563888888888889,
          7.875,
          8.197222222222223,
          8.61111111111111,
          9.072222222222221,
          9.238888888888889,
          9.141666666666666,
          8.863888888888889,
          8.333333333333334,
          7.749999999999999,
          7.611111111111111,
          8.055555555555555,
          8.927777777777777,
          9.669444444444444,
          9.938888888888888,
          9.819444444444445,
          9.552777777777777,
          9.136111111111111,
          8.494444444444444,
          7.722222222222222,
          7.024999999999999,
          6.308333333333334,
          5.697222222222223,
          4.897222222222222,
          3.933333333333333,
          2.722222222222222,
          1.741666666666666,
          1.019444444444444,
          0.4694444444444444,
          0,
          0,
          0,
          0,
          0,
          0,
          0,
          0,
          0,
          0,
          0,
          0,
          0,
          0,
          0,
          0,
          0,
          0,
          0,
          0,
          0,
          0,
          0,
          0,
          0.1472222222222222,
          1.516666666666667,
          3.725,
          5.469444444444445,
          6.019444444444445,
          6.344444444444444,
          7.113888888888889,
          8.422222222222222,
          9.86111111111111,
          10.88055555555556,
          11.18055555555556,
          11.35277777777778,
          12.01944444444445,
          12.76388888888889,
          12.99722222222222,
          12.86666666666667,
          12.49722222222222,
          11.64722222222222,
          10.00833333333333,
          7.744444444444444,
          5.691666666666666,
          4.469444444444444,
          4.069444444444445,
          4.280555555555556,
          4.977777777777778,
          5.844444444444444,
          6.388888888888888,
          6.683333333333333,
          6.919444444444444,
          7.247222222222222,
          7.802777777777777,
          8.58611111111111,
          9.516666666666666,
          10.13611111111111,
          10.325,
          10.37222222222222,
          10.43611111111111,
          10.325,
          10.09444444444444,
          9.561111111111112,
          8.336111111111112,
          6.611111111111111,
          5.4,
          4.933333333333334,
          5,
          5.325,
          5.76111111111111,
          6.158333333333333,
          6.341666666666666,
          6.363888888888889,
          6.483333333333333,
          6.897222222222221,
          7.524999999999999,
          8.055555555555555,
          8.261111111111111,
          8.102777777777778,
          7.777777777777778,
          7.475,
          7.269444444444445,
          7.197222222222222,
          7.197222222222222,
          7.247222222222222,
          7.524999999999999,
          8.030555555555555,
          8.61111111111111,
          9.119444444444444,
          9.863888888888889,
          10.73888888888889,
          11.29444444444444,
          11.50833333333333,
          11.94444444444444,
          12.75277777777778,
          13.63611111111111,
          14.39722222222222,
          15.09444444444444,
          15.36388888888889,
          15.41944444444444,
          15.58055555555556,
          16.08611111111111,
          16.31666666666667,
          16.15833333333333,
          15.80833333333333,
          15.60277777777778,
          15.53055555555556,
          15.53055555555556,
          15.60277777777778,
          15.83333333333333,
          16.06388888888889,
          16.13611111111111,
          16.11666666666667,
          16.13333333333333,
          15.93055555555556,
          15.67222222222222,
          15.51388888888889,
          15.58055555555556,
          15.48333333333333,
          15.35,
          15.25277777777778,
          15.27777777777778,
          15.30277777777778,
          15.20555555555556,
          15.09444444444444,
          14.90555555555556,
          14.81666666666667,
          14.62777777777778,
          14.51666666666667,
          14.41944444444444,
          14.44444444444444,
          14.46944444444444,
          14.37222222222222,
          14.26111111111111,
          14.07222222222222,
          13.96111111111111,
          13.88888888888889,
          13.86111111111111,
          13.55833333333333,
          13.225,
          12.95555555555556,
          12.86944444444444,
          12.68333333333333,
          12.59444444444444,
          12.40555555555556,
          12.31666666666667,
          12.12777777777778,
          12.03888888888889,
          11.89722222222222,
          11.64166666666667,
          11.13611111111111,
          10.55555555555556,
          10,
          9.419444444444443,
          9.055555555555555,
          8.372222222222222,
          6.930555555555555,
          5.155555555555555,
          4.172222222222222,
          4.149999999999999,
          4.783333333333333,
          5.788888888888889,
          7.016666666666667,
          8.069444444444445,
          8.483333333333333,
          8.513888888888888,
          8.658333333333333,
          9.194444444444445,
          9.908333333333333,
          10.84166666666667,
          11.60555555555556,
          11.94166666666667,
          11.98055555555556,
          12.00833333333333,
          11.83611111111111,
          11.50833333333333,
          11.08055555555556,
          10.50277777777778,
          9.238888888888889,
          7.919444444444444,
          7.177777777777777,
          7.227777777777778,
          7.475,
          7.777777777777778,
          8.055555555555555,
          8.333333333333334,
          8.61111111111111,
          8.91388888888889,
          9.141666666666666,
          9.119444444444444,
          8.98611111111111,
          8.838888888888889,
          8.572222222222221,
          7.983333333333333,
          7.608333333333333,
          7.811111111111111,
          8.655555555555555,
          9.669444444444444,
          10.55555555555556,
          11.08611111111111,
          11.43611111111111,
          11.61944444444444,
          11.71388888888889,
          11.61944444444444,
          11.43611111111111,
          11.13333333333333,
          10.48888888888889,
          9.005555555555556,
          7.536111111111111,
          6.8,
          7.063888888888888,
          7.358333333333333,
          7.475,
          7.641666666666667,
          8.28611111111111,
          9.166666666666666,
          9.674999999999999,
          9.722222222222221,
          9.469444444444445,
          9.166666666666666,
          8.88888888888889,
          8.636111111111111,
          8.261111111111111,
          7.825,
          7.5,
          7.524999999999999,
          7.705555555555555,
          8.15,
          8.91388888888889,
          9.602777777777778,
          9.747222222222224,
          9.444444444444445,
          9.238888888888889,
          9.094444444444445,
          8.91388888888889,
          8.61111111111111,
          8.308333333333334,
          8.127777777777778,
          7.961111111111111,
          7.875,
          7.847222222222222,
          7.138888888888888,
          5.838888888888889,
          4.652777777777778,
          4.491666666666667,
          5.013888888888889,
          6.052777777777777,
          7.441666666666666,
          8.808333333333334,
          9.68888888888889,
          9.666666666666666,
          9.291666666666668,
          8.905555555555557,
          8.63888888888889,
          8.325,
          8.055555555555555,
          7.777777777777778,
          7.5,
          7.197222222222222,
          6.969444444444444,
          6.969444444444444,
          7.230555555555556,
          7.438888888888889,
          7.425,
          7.186111111111111,
          6.952777777777778,
          7.063888888888888,
          7.358333333333333,
          7.547222222222222,
          7.547222222222222,
          7.427777777777777,
          6.897222222222221,
          6.252777777777778,
          5.688888888888889,
          5.336111111111111,
          5.358333333333333,
          6.097222222222221,
          7.394444444444445,
          8.394444444444444,
          8.7,
          8.308333333333334,
          7.777777777777778,
          7.269444444444445,
          6.938888888888889,
          6.622222222222222,
          6.244444444444444,
          5.788888888888889,
          5.294444444444444,
          4.649999999999999,
          4.358333333333333,
          4.277777777777778,
          4.213888888888889,
          3.941666666666666,
          3.513888888888889,
          2.680555555555556,
          1.819444444444444,
          1.152777777777778,
          0.5666666666666667,
          0,
          0,
          0,
          0,
          0,
          0,
          0,
          0,
          0,
          0,
          0,
          0,
          0,
          0,
          0,
          0,
          0,
          0,
          0,
          0,
          0,
          0,
          0,
          0,
          0,
          0,
          0,
          0,
          0,
          0,
          0,
          0,
          0,
          0,
          0,
          0,
          0,
          0,
          0,
          0,
          0,
          0,
          0,
          0,
          0,
          0,
          0,
          0,
          0,
          0,
          0,
          0,
          0,
          0,
          0,
          0,
          0,
          0,
          0,
          0.9444444444444444,
          2.125,
          2.65,
          2.711111111111111,
          2.983333333333333,
          3.636111111111111,
          4.141666666666667,
          4.419444444444444,
          4.444444444444445,
          4.516666666666667,
          4.649999999999999,
          4.769444444444445,
          4.675,
          4.444444444444445,
          4.191666666666666,
          4.141666666666667,
          4.469444444444444,
          5.325,
          6.691666666666666,
          7.936111111111111,
          8.625,
          8.908333333333333,
          9.347222222222221,
          9.972222222222221,
          10.51944444444444,
          10.88055555555556,
          11.03888888888889,
          11.20555555555556,
          11.31666666666667,
          11.41388888888889,
          11.41388888888889,
          11.34166666666667,
          11.11666666666667,
          10.91111111111111,
          10.66388888888889,
          10.33888888888889,
          10.14722222222222,
          9.622222222222222,
          8.216666666666667,
          6.461111111111111,
          6.022222222222222,
          7.005555555555555,
          8.694444444444445,
          9.747222222222224,
          10.11944444444444,
          10.35,
          11.10833333333333,
          11.81944444444444,
          12.27777777777778,
          12.91111111111111,
          13.82777777777778,
          14.32222222222222,
          14.26111111111111,
          14.21388888888889,
          14.35,
          14.53888888888889,
          14.675,
          14.71666666666667,
          14.425,
          14.04722222222222,
          13.54444444444444,
          12.79444444444444,
          11.64444444444444,
          10.3,
          8.886111111111111,
          7.45,
          6.183333333333334,
          5.277777777777778,
          4.649999999999999,
          4.238888888888889,
          4.094444444444444,
          4.55,
          5.5,
          6.85,
          8.308333333333334,
          9.227777777777778,
          9.327777777777778,
          8.91111111111111,
          8.658333333333333,
          8.247222222222222,
          7.508333333333334,
          6.761111111111111,
          6.316666666666666,
          6.136111111111111,
          6.111111111111111,
          6.402777777777778,
          6.913888888888889,
          7.722222222222222,
          8.533333333333333,
          8.894444444444446,
          8.238888888888889,
          6.833333333333334,
          5.041666666666666,
          3.388888888888888,
          1.958333333333333,
          0.7999999999999999,
          0,
          0,
          0,
          0,
          0.9138888888888889,
          2.583333333333333,
          4.399999999999999,
          5.344444444444444,
          5.977777777777778,
          6.697222222222222,
          7.880555555555556,
          9.294444444444444,
          10.33055555555555,
          10.96111111111111,
          11.34166666666667,
          11.975,
          12.40833333333333,
          12.57222222222222,
          12.42777777777778,
          12.29444444444444,
          12.22222222222222,
          12.15,
          12.03888888888889,
          11.89722222222222,
          11.69166666666667,
          11.06388888888889,
          10.01666666666667,
          8.522222222222222,
          7.225000000000001,
          6.227777777777778,
          5.644444444444445,
          5.277777777777778,
          5.230555555555555,
          5.325,
          5.508333333333333,
          5.880555555555556,
          6.413888888888889,
          6.825,
          7.063888888888888,
          7.149999999999999,
          7.247222222222222,
          7.161111111111111,
          7.327777777777778,
          7.913888888888888,
          8.852777777777778,
          9.997222222222222,
          11.28611111111111,
          12.46111111111111,
          13.41111111111111,
          14.09444444444444,
          14.41944444444444,
          14.51666666666667,
          14.74722222222222,
          14.88055555555555,
          14.86388888888889,
          14.65,
          14.03611111111111,
          13.23055555555556,
          12.88333333333333,
          13.21666666666667,
          13.79166666666667,
          14.41944444444444,
          14.92777777777778,
          15.325,
          15.44166666666667,
          15.35,
          15.325,
          15.50833333333333,
          15.50833333333333,
          15.35,
          15.25277777777778,
          15.27777777777778,
          15.27777777777778,
          15.27777777777778,
          15.27777777777778,
          15.27777777777778,
          15.27777777777778,
          15.27777777777778,
          15.27777777777778,
          15.27777777777778,
          15.3,
          15.20833333333333,
          15.07777777777778,
          14.99722222222222,
          14.94722222222222,
          14.61944444444445,
          14.27222222222222,
          14.12222222222222,
          14.16666666666667,
          14.16666666666667,
          14.16666666666667,
          14.16666666666667,
          14.16666666666667,
          14.16666666666667,
          14.19166666666667,
          14.07222222222222,
          14.00833333333333,
          14.11388888888889,
          14.43611111111111,
          14.725,
          15.01111111111111,
          15.28333333333333,
          15.60277777777778,
          15.73888888888889,
          15.58055555555556,
          15.325,
          15.25277777777778,
          15.27777777777778,
          15.27777777777778,
          15.30277777777778,
          15.20555555555556,
          15.09444444444444,
          14.90555555555556,
          14.79444444444444,
          14.72222222222222,
          14.65,
          14.53888888888889,
          14.37222222222222,
          14.21388888888889,
          13.81666666666667,
          13.40555555555556,
          13.03055555555556,
          12.80277777777778,
          12.45277777777778,
          11.96944444444444,
          11.43611111111111,
          10.73888888888889,
          9.674999999999999,
          8.869444444444444,
          8.336111111111112,
          7.933333333333333,
          7.508333333333334,
          7.475,
          7.5,
          7.524999999999999,
          7.427777777777777,
          7.316666666666666,
          7.127777777777777,
          7.016666666666667,
          6.897222222222221,
          7.016666666666667,
          7.174999999999999,
          7.247222222222222,
          6.85,
          6.183333333333334,
          5.530555555555556,
          5.350000000000001,
          5.530555555555556,
          5.76111111111111,
          5.880555555555556,
          6.111111111111111,
          6.705555555555556,
          7.411111111111111,
          8.216666666666667,
          9.244444444444445,
          10.05555555555556,
          10.41944444444444,
          10.50833333333333,
          10.88611111111111,
          11.34166666666667,
          11.88611111111111,
          12.54722222222222,
          13.33888888888889,
          13.72222222222222,
          13.80277777777778,
          13.76944444444444,
          13.97777777777778,
          14.09166666666667,
          14.29166666666667,
          14.36944444444444,
          14.51111111111111,
          14.72222222222222,
          14.92777777777778,
          15.11944444444444,
          15.15833333333333,
          15.025,
          14.76944444444444,
          14.69722222222222,
          14.72222222222222,
          14.72222222222222,
          14.74722222222222,
          14.65,
          14.51944444444445,
          14.425,
          14.37777777777778,
          14.14166666666667,
          13.85,
          13.60555555555555,
          13.31666666666667,
          12.81666666666667,
          11.83055555555556,
          10.51666666666667,
          8.866666666666667,
          7.155555555555556,
          4.722222222222222,
          2.283333333333334,
          0.5166666666666667,
          0,
          0,
          0,
          0,
          0,
          0,
          0,
          0,
          0,
          0,
          0,
          0,
          0,
          0,
          0,
          0,
          0,
          0,
          0,
          0,
          0,
          0,
          0,
          0,
          0,
          0,
          0,
          0,
          0,
          0,
          0,
          0,
          0,
          0,
          0,
          0,
          0,
          0,
          0,
          0.7222222222222222,
          1.691666666666667,
          2.658333333333333,
          3.461111111111111,
          4.333333333333333,
          4.716666666666667,
          4.786111111111111,
          5.063888888888889,
          5.786111111111111,
          6.663888888888888,
          7.472222222222221,
          8.427777777777777,
          9.372222222222222,
          9.905555555555555,
          10.14166666666667,
          10.52222222222222,
          11.07777777777778,
          11.56388888888889,
          11.86388888888889,
          11.95833333333333,
          11.99166666666667,
          12.19722222222222,
          12.525,
          12.73055555555555,
          12.80277777777778,
          12.75277777777778,
          12.84722222222222,
          12.94444444444444,
          13.18611111111111,
          13.6,
          14.13888888888889,
          14.33611111111111,
          14.18888888888889,
          13.89444444444445,
          13.61111111111111,
          13.30833333333333,
          13.10277777777778,
          13.05555555555556,
          12.96388888888889,
          12.87777777777778,
          12.98333333333333,
          13.31388888888889,
          13.63888888888889,
          13.84166666666667,
          13.93611111111111,
          13.84166666666667,
          13.64166666666667,
          13.32777777777778,
          12.94444444444444,
          12.51944444444444,
          12.27777777777778,
          12.15,
          11.96944444444444,
          11.64166666666667,
          11.48333333333333,
          11.24722222222222,
          10.95277777777778,
          10.43611111111111,
          10.14166666666667,
          9.880555555555555,
          9.816666666666668,
          9.680555555555555,
          9.472222222222223,
          8.819444444444445,
          7.408333333333333,
          5.161111111111111,
          2.741666666666666,
          1.041666666666667,
          0.2444444444444444,
          0,
          0,
          0,
          0,
          0,
          0,
          0,
          0,
          0,
          0,
          0,
          0,
          0,
          0,
          0,
          0,
          0,
          0,
          0,
          0,
          0,
          0,
          0,
          0,
          0,
          0,
          0,
          0.1611111111111111,
          1.547222222222222,
          3.630555555555556,
          4.891666666666667,
          5.149999999999999,
          5.316666666666666,
          6.183333333333334,
          7.122222222222222,
          7.425,
          7.116666666666667,
          6.638888888888888,
          6.105555555555555,
          5.205555555555555,
          4.213888888888889,
          3.652777777777778,
          3.980555555555556,
          4.655555555555556,
          4.963888888888889,
          4.755555555555556,
          4.569444444444444,
          4.736111111111112,
          5.269444444444444,
          6.136111111111111,
          7.222222222222222,
          8.261111111111111,
          9.238888888888889,
          10.325,
          11.26944444444444,
          11.61944444444444,
          11.83333333333333,
          12.45277777777778,
          13.26111111111111,
          14.05555555555556,
          14.48333333333333,
          14.58611111111111,
          14.41944444444444,
          14.44444444444444,
          14.46944444444444,
          14.37222222222222,
          14.23888888888889,
          14.14166666666667,
          14.19166666666667,
          14.11944444444444,
          13.93611111111111,
          13.54166666666667,
          13.21944444444444,
          12.57222222222222,
          11.34722222222222,
          9.855555555555554,
          8.891666666666666,
          8.294444444444444,
          7.486111111111111,
          6.227777777777778,
          4.8,
          3.383333333333333,
          2.338888888888889,
          1.608333333333333,
          1.086111111111111,
          0.6027777777777777,
          0.2305555555555555,
          0,
          0,
          0,
          0,
          0,
          0,
          0,
          0,
          0,
          0,
          0,
          0,
          0,
          0,
          0,
          0.6944444444444444,
          1.705555555555555,
          2.375,
          2.552777777777778,
          3.386111111111111,
          4.355555555555555,
          5.022222222222221,
          5.252777777777777,
          5.277777777777778,
          5.350000000000001,
          5.508333333333333,
          5.547222222222222,
          5.244444444444444,
          5.102777777777778,
          4.211111111111111,
          2.533333333333333,
          0.9166666666666666,
          1.322222222222222,
          3.205555555555555,
          5.113888888888889,
          5.691666666666666,
          5.813888888888889,
          6.686111111111111,
          8.386111111111111,
          9.502777777777778,
          9.883333333333333,
          9.975,
          10.27777777777778,
          10.58055555555556,
          10.80833333333333,
          10.80833333333333,
          10.58055555555556,
          10.27777777777778,
          10,
          9.674999999999999,
          9.58611111111111,
          9.602777777777778,
          9.444444444444445,
          8.966666666666667,
          8.238888888888889,
          7.141666666666667,
          5.927777777777778,
          4.958333333333334,
          4.166666666666667,
          3.333333333333333,
          2.5,
          1.641666666666667,
          0.8583333333333333,
          0.2777777777777778,
          0,
          0,
          0,
          0,
          0,
          0,
          0,
          0,
          0,
          0,
          0.8916666666666666,
          2.105555555555556,
          3.341666666666666,
          3.930555555555555,
          3.994444444444444,
          3.941666666666666,
          4.430555555555555,
          5.208333333333333,
          6.166666666666666,
          7.155555555555556,
          8.177777777777777,
          8.677777777777777,
          8.752777777777778,
          8.538888888888888,
          8.658333333333333,
          9.191666666666668,
          10.28888888888889,
          11.64444444444444,
          12.96666666666667,
          13.74722222222222,
          13.97222222222222,
          13.86388888888889,
          13.96111111111111,
          14.09444444444444,
          14.21388888888889,
          14.11944444444444,
          13.91388888888889,
          13.59166666666667,
          13.39444444444444,
          13.21388888888889,
          13.03888888888889,
          12.75,
          12.37222222222222,
          12.03055555555556,
          11.69722222222222,
          11.48611111111111,
          11.37777777777778,
          11.34166666666667,
          11.13611111111111,
          10.80833333333333,
          10.60277777777778,
          10.50833333333333,
          10.62777777777778,
          10.76111111111111,
          10.83333333333333,
          10.89722222222222,
          11.04166666666667,
          11.21944444444444,
          11.41666666666667,
          11.63611111111111,
          11.61944444444444,
          11.43611111111111,
          11.38888888888889,
          11.71388888888889,
          12.175,
          12.5,
          12.45277777777778,
          12.31666666666667,
          12.12777777777778,
          12.01666666666667,
          11.91944444444444,
          11.94444444444444,
          11.96944444444444,
          11.89722222222222,
          11.69166666666667,
          11.36388888888889,
          11.18333333333333,
          11.03888888888889,
          10.94444444444444,
          10.41944444444444,
          9.233333333333334,
          7.597222222222222,
          6.022222222222222,
          4.836111111111111,
          4.227777777777778,
          3.972222222222222,
          4.080555555555556,
          4.675,
          5.927777777777778,
          6.705555555555556,
          6.808333333333334,
          6.375,
          5.788888888888889,
          4.769444444444445,
          4.113888888888889,
          4.422222222222222,
          5.294444444444444,
          6.291666666666666,
          7.483333333333333,
          8.469444444444443,
          8.636111111111111,
          8.427777777777777,
          8.26388888888889,
          8.158333333333333,
          7.591666666666666,
          6.375,
          4.852777777777777,
          3.575,
          2.280555555555556,
          0.9138888888888889,
          0,
          0,
          0,
          0,
          0,
          0,
          0,
          0
         ]
        },
        {
         "line": {
          "color": "darkorange"
         },
         "mode": "lines",
         "name": "vel_poligonal",
         "type": "scatter",
         "x": [
          0,
          1,
          2,
          3,
          4,
          5,
          6,
          7,
          8,
          9,
          10,
          11,
          12,
          13,
          14,
          15,
          16,
          17,
          18,
          19,
          20,
          21,
          22,
          23,
          24,
          25,
          26,
          27,
          28,
          29,
          30,
          31,
          32,
          33,
          34,
          35,
          36,
          37,
          38,
          39,
          40,
          41,
          42,
          43,
          44,
          45,
          46,
          47,
          48,
          49,
          50,
          51,
          52,
          53,
          54,
          55,
          56,
          57,
          58,
          59,
          60,
          61,
          62,
          63,
          64,
          65,
          66,
          67,
          68,
          69,
          70,
          71,
          72,
          73,
          74,
          75,
          76,
          77,
          78,
          79,
          80,
          81,
          82,
          83,
          84,
          85,
          86,
          87,
          88,
          89,
          90,
          91,
          92,
          93,
          94,
          95,
          96,
          97,
          98,
          99,
          100,
          101,
          102,
          103,
          104,
          105,
          106,
          107,
          108,
          109,
          110,
          111,
          112,
          113,
          114,
          115,
          116,
          117,
          118,
          119,
          120,
          121,
          122,
          123,
          124,
          125,
          126,
          127,
          128,
          129,
          130,
          131,
          132,
          133,
          134,
          135,
          136,
          137,
          138,
          139,
          140,
          141,
          142,
          143,
          144,
          145,
          146,
          147,
          148,
          149,
          150,
          151,
          152,
          153,
          154,
          155,
          156,
          157,
          158,
          159,
          160,
          161,
          162,
          163,
          164,
          165,
          166,
          167,
          168,
          169,
          170,
          171,
          172,
          173,
          174,
          175,
          176,
          177,
          178,
          179,
          180,
          181,
          182,
          183,
          184,
          185,
          186,
          187,
          188,
          189,
          190,
          191,
          192,
          193,
          194,
          195,
          196,
          197,
          198,
          199,
          200,
          201,
          202,
          203,
          204,
          205,
          206,
          207,
          208,
          209,
          210,
          211,
          212,
          213,
          214,
          215,
          216,
          217,
          218,
          219,
          220,
          221,
          222,
          223,
          224,
          225,
          226,
          227,
          228,
          229,
          230,
          231,
          232,
          233,
          234,
          235,
          236,
          237,
          238,
          239,
          240,
          241,
          242,
          243,
          244,
          245,
          246,
          247,
          248,
          249,
          250,
          251,
          252,
          253,
          254,
          255,
          256,
          257,
          258,
          259,
          260,
          261,
          262,
          263,
          264,
          265,
          266,
          267,
          268,
          269,
          270,
          271,
          272,
          273,
          274,
          275,
          276,
          277,
          278,
          279,
          280,
          281,
          282,
          283,
          284,
          285,
          286,
          287,
          288,
          289,
          290,
          291,
          292,
          293,
          294,
          295,
          296,
          297,
          298,
          299,
          300,
          301,
          302,
          303,
          304,
          305,
          306,
          307,
          308,
          309,
          310,
          311,
          312,
          313,
          314,
          315,
          316,
          317,
          318,
          319,
          320,
          321,
          322,
          323,
          324,
          325,
          326,
          327,
          328,
          329,
          330,
          331,
          332,
          333,
          334,
          335,
          336,
          337,
          338,
          339,
          340,
          341,
          342,
          343,
          344,
          345,
          346,
          347,
          348,
          349,
          350,
          351,
          352,
          353,
          354,
          355,
          356,
          357,
          358,
          359,
          360,
          361,
          362,
          363,
          364,
          365,
          366,
          367,
          368,
          369,
          370,
          371,
          372,
          373,
          374,
          375,
          376,
          377,
          378,
          379,
          380,
          381,
          382,
          383,
          384,
          385,
          386,
          387,
          388,
          389,
          390,
          391,
          392,
          393,
          394,
          395,
          396,
          397,
          398,
          399,
          400,
          401,
          402,
          403,
          404,
          405,
          406,
          407,
          408,
          409,
          410,
          411,
          412,
          413,
          414,
          415,
          416,
          417,
          418,
          419,
          420,
          421,
          422,
          423,
          424,
          425,
          426,
          427,
          428,
          429,
          430,
          431,
          432,
          433,
          434,
          435,
          436,
          437,
          438,
          439,
          440,
          441,
          442,
          443,
          444,
          445,
          446,
          447,
          448,
          449,
          450,
          451,
          452,
          453,
          454,
          455,
          456,
          457,
          458,
          459,
          460,
          461,
          462,
          463,
          464,
          465,
          466,
          467,
          468,
          469,
          470,
          471,
          472,
          473,
          474,
          475,
          476,
          477,
          478,
          479,
          480,
          481,
          482,
          483,
          484,
          485,
          486,
          487,
          488,
          489,
          490,
          491,
          492,
          493,
          494,
          495,
          496,
          497,
          498,
          499,
          500,
          501,
          502,
          503,
          504,
          505,
          506,
          507,
          508,
          509,
          510,
          511,
          512,
          513,
          514,
          515,
          516,
          517,
          518,
          519,
          520,
          521,
          522,
          523,
          524,
          525,
          526,
          527,
          528,
          529,
          530,
          531,
          532,
          533,
          534,
          535,
          536,
          537,
          538,
          539,
          540,
          541,
          542,
          543,
          544,
          545,
          546,
          547,
          548,
          549,
          550,
          551,
          552,
          553,
          554,
          555,
          556,
          557,
          558,
          559,
          560,
          561,
          562,
          563,
          564,
          565,
          566,
          567,
          568,
          569,
          570,
          571,
          572,
          573,
          574,
          575,
          576,
          577,
          578,
          579,
          580,
          581,
          582,
          583,
          584,
          585,
          586,
          587,
          588,
          589,
          590,
          591,
          592,
          593,
          594,
          595,
          596,
          597,
          598,
          599,
          600,
          601,
          602,
          603,
          604,
          605,
          606,
          607,
          608,
          609,
          610,
          611,
          612,
          613,
          614,
          615,
          616,
          617,
          618,
          619,
          620,
          621,
          622,
          623,
          624,
          625,
          626,
          627,
          628,
          629,
          630,
          631,
          632,
          633,
          634,
          635,
          636,
          637,
          638,
          639,
          640,
          641,
          642,
          643,
          644,
          645,
          646,
          647,
          648,
          649,
          650,
          651,
          652,
          653,
          654,
          655,
          656,
          657,
          658,
          659,
          660,
          661,
          662,
          663,
          664,
          665,
          666,
          667,
          668,
          669,
          670,
          671,
          672,
          673,
          674,
          675,
          676,
          677,
          678,
          679,
          680,
          681,
          682,
          683,
          684,
          685,
          686,
          687,
          688,
          689,
          690,
          691,
          692,
          693,
          694,
          695,
          696,
          697,
          698,
          699,
          700,
          701,
          702,
          703,
          704,
          705,
          706,
          707,
          708,
          709,
          710,
          711,
          712,
          713,
          714,
          715,
          716,
          717,
          718,
          719,
          720,
          721,
          722,
          723,
          724,
          725,
          726,
          727,
          728,
          729,
          730,
          731,
          732,
          733,
          734,
          735,
          736,
          737,
          738,
          739,
          740,
          741,
          742,
          743,
          744,
          745,
          746,
          747,
          748,
          749,
          750,
          751,
          752,
          753,
          754,
          755,
          756,
          757,
          758,
          759,
          760,
          761,
          762,
          763,
          764,
          765,
          766,
          767,
          768,
          769,
          770,
          771,
          772,
          773,
          774,
          775,
          776,
          777,
          778,
          779,
          780,
          781,
          782,
          783,
          784,
          785,
          786,
          787,
          788,
          789,
          790,
          791,
          792,
          793,
          794,
          795,
          796,
          797,
          798,
          799,
          800,
          801,
          802,
          803,
          804,
          805,
          806,
          807,
          808,
          809,
          810,
          811,
          812,
          813,
          814,
          815,
          816,
          817,
          818,
          819,
          820,
          821,
          822,
          823,
          824,
          825,
          826,
          827,
          828,
          829,
          830,
          831,
          832,
          833,
          834,
          835,
          836,
          837,
          838,
          839,
          840,
          841,
          842,
          843,
          844,
          845,
          846,
          847,
          848,
          849,
          850,
          851,
          852,
          853,
          854,
          855,
          856,
          857,
          858,
          859,
          860,
          861,
          862,
          863,
          864,
          865,
          866,
          867,
          868,
          869,
          870,
          871,
          872,
          873,
          874,
          875,
          876,
          877,
          878,
          879,
          880,
          881,
          882,
          883,
          884,
          885,
          886,
          887,
          888,
          889,
          890,
          891,
          892,
          893,
          894,
          895,
          896,
          897,
          898,
          899,
          900,
          901,
          902,
          903,
          904,
          905,
          906,
          907,
          908,
          909,
          910,
          911,
          912,
          913,
          914,
          915,
          916,
          917,
          918,
          919,
          920,
          921,
          922,
          923,
          924,
          925,
          926,
          927,
          928,
          929,
          930,
          931,
          932,
          933,
          934,
          935,
          936,
          937,
          938,
          939,
          940,
          941,
          942,
          943,
          944,
          945,
          946,
          947,
          948,
          949,
          950,
          951,
          952,
          953,
          954,
          955,
          956,
          957,
          958,
          959,
          960,
          961,
          962,
          963,
          964,
          965,
          966,
          967,
          968,
          969,
          970,
          971,
          972,
          973,
          974,
          975,
          976,
          977,
          978,
          979,
          980,
          981,
          982,
          983,
          984,
          985,
          986,
          987,
          988,
          989,
          990,
          991,
          992,
          993,
          994,
          995,
          996,
          997,
          998,
          999,
          1000,
          1001,
          1002,
          1003,
          1004,
          1005,
          1006,
          1007,
          1008,
          1009,
          1010,
          1011,
          1012,
          1013,
          1014,
          1015,
          1016,
          1017,
          1018,
          1019,
          1020,
          1021,
          1022,
          1023,
          1024,
          1025,
          1026,
          1027,
          1028,
          1029,
          1030,
          1031,
          1032,
          1033,
          1034,
          1035,
          1036,
          1037,
          1038,
          1039,
          1040,
          1041,
          1042,
          1043,
          1044,
          1045,
          1046,
          1047,
          1048,
          1049,
          1050,
          1051,
          1052,
          1053,
          1054,
          1055,
          1056,
          1057,
          1058,
          1059,
          1060,
          1061,
          1062,
          1063,
          1064,
          1065,
          1066,
          1067,
          1068,
          1069,
          1070,
          1071,
          1072,
          1073,
          1074,
          1075,
          1076,
          1077,
          1078,
          1079,
          1080,
          1081,
          1082,
          1083,
          1084,
          1085,
          1086,
          1087,
          1088,
          1089,
          1090,
          1091,
          1092,
          1093,
          1094,
          1095,
          1096,
          1097,
          1098,
          1099,
          1100,
          1101,
          1102,
          1103,
          1104,
          1105,
          1106,
          1107,
          1108,
          1109,
          1110,
          1111,
          1112,
          1113,
          1114,
          1115,
          1116,
          1117,
          1118,
          1119,
          1120,
          1121,
          1122,
          1123,
          1124,
          1125,
          1126,
          1127,
          1128,
          1129,
          1130,
          1131,
          1132,
          1133,
          1134,
          1135,
          1136,
          1137,
          1138,
          1139,
          1140,
          1141,
          1142,
          1143,
          1144,
          1145,
          1146,
          1147,
          1148,
          1149,
          1150,
          1151,
          1152,
          1153,
          1154,
          1155,
          1156,
          1157,
          1158,
          1159,
          1160,
          1161,
          1162,
          1163,
          1164,
          1165,
          1166,
          1167,
          1168,
          1169,
          1170,
          1171,
          1172,
          1173,
          1174,
          1175,
          1176,
          1177,
          1178,
          1179,
          1180,
          1181,
          1182,
          1183,
          1184,
          1185,
          1186,
          1187,
          1188,
          1189,
          1190,
          1191,
          1192,
          1193,
          1194,
          1195,
          1196,
          1197,
          1198,
          1199,
          1200,
          1201,
          1202,
          1203,
          1204,
          1205,
          1206,
          1207,
          1208,
          1209,
          1210,
          1211,
          1212,
          1213,
          1214,
          1215,
          1216,
          1217,
          1218,
          1219,
          1220,
          1221,
          1222,
          1223,
          1224,
          1225,
          1226,
          1227,
          1228,
          1229,
          1230,
          1231,
          1232,
          1233,
          1234,
          1235,
          1236,
          1237,
          1238,
          1239,
          1240,
          1241,
          1242,
          1243,
          1244,
          1245,
          1246,
          1247,
          1248,
          1249,
          1250,
          1251,
          1252,
          1253,
          1254,
          1255,
          1256,
          1257,
          1258,
          1259,
          1260,
          1261,
          1262,
          1263,
          1264,
          1265,
          1266,
          1267,
          1268,
          1269,
          1270,
          1271,
          1272,
          1273,
          1274,
          1275,
          1276,
          1277,
          1278,
          1279,
          1280,
          1281,
          1282,
          1283,
          1284,
          1285,
          1286,
          1287,
          1288,
          1289,
          1290,
          1291,
          1292,
          1293,
          1294,
          1295,
          1296,
          1297,
          1298,
          1299,
          1300,
          1301,
          1302,
          1303,
          1304,
          1305,
          1306,
          1307,
          1308,
          1309,
          1310,
          1311,
          1312,
          1313,
          1314,
          1315,
          1316,
          1317,
          1318,
          1319,
          1320,
          1321,
          1322,
          1323,
          1324,
          1325,
          1326,
          1327,
          1328,
          1329,
          1330,
          1331,
          1332,
          1333,
          1334,
          1335,
          1336,
          1337,
          1338,
          1339,
          1340,
          1341,
          1342,
          1343,
          1344,
          1345,
          1346,
          1347,
          1348,
          1349,
          1350,
          1351,
          1352,
          1353,
          1354,
          1355,
          1356,
          1357,
          1358,
          1359,
          1360,
          1361,
          1362,
          1363,
          1364,
          1365,
          1366,
          1367,
          1368,
          1369,
          1370,
          1371,
          1372,
          1373,
          1374,
          1375,
          1376,
          1377,
          1378,
          1379,
          1380,
          1381,
          1382,
          1383,
          1384,
          1385,
          1386,
          1387,
          1388,
          1389,
          1390,
          1391,
          1392,
          1393,
          1394,
          1395,
          1396,
          1397,
          1398,
          1399,
          1400,
          1401,
          1402,
          1403,
          1404,
          1405,
          1406,
          1407,
          1408,
          1409,
          1410,
          1411,
          1412,
          1413,
          1414,
          1415,
          1416,
          1417,
          1418,
          1419,
          1420,
          1421,
          1422,
          1423,
          1424,
          1425,
          1426,
          1427,
          1428,
          1429,
          1430,
          1431,
          1432,
          1433,
          1434,
          1435,
          1436,
          1437,
          1438,
          1439,
          1440,
          1441,
          1442,
          1443,
          1444,
          1445,
          1446,
          1447,
          1448,
          1449,
          1450,
          1451,
          1452,
          1453,
          1454,
          1455,
          1456,
          1457,
          1458,
          1459,
          1460,
          1461,
          1462,
          1463,
          1464,
          1465,
          1466,
          1467,
          1468,
          1469,
          1470,
          1471,
          1472,
          1473,
          1474,
          1475,
          1476,
          1477,
          1478,
          1479,
          1480,
          1481,
          1482,
          1483,
          1484,
          1485,
          1486,
          1487,
          1488,
          1489,
          1490,
          1491,
          1492,
          1493,
          1494,
          1495,
          1496,
          1497,
          1498,
          1499,
          1500,
          1501,
          1502,
          1503,
          1504,
          1505,
          1506,
          1507,
          1508,
          1509,
          1510,
          1511,
          1512,
          1513,
          1514,
          1515,
          1516,
          1517,
          1518,
          1519,
          1520,
          1521,
          1522,
          1523,
          1524,
          1525,
          1526,
          1527,
          1528,
          1529,
          1530,
          1531,
          1532,
          1533,
          1534,
          1535,
          1536,
          1537,
          1538,
          1539,
          1540,
          1541,
          1542,
          1543,
          1544,
          1545,
          1546,
          1547,
          1548,
          1549,
          1550,
          1551,
          1552,
          1553,
          1554,
          1555,
          1556,
          1557,
          1558,
          1559,
          1560,
          1561,
          1562,
          1563,
          1564,
          1565,
          1566,
          1567,
          1568,
          1569,
          1570,
          1571,
          1572,
          1573,
          1574,
          1575,
          1576,
          1577,
          1578,
          1579,
          1580,
          1581,
          1582,
          1583,
          1584,
          1585,
          1586,
          1587,
          1588,
          1589,
          1590,
          1591,
          1592,
          1593,
          1594,
          1595,
          1596,
          1597,
          1598,
          1599,
          1600,
          1601,
          1602,
          1603,
          1604,
          1605,
          1606,
          1607,
          1608,
          1609,
          1610,
          1611,
          1612,
          1613,
          1614,
          1615,
          1616,
          1617,
          1618,
          1619,
          1620,
          1621,
          1622,
          1623,
          1624,
          1625,
          1626,
          1627,
          1628,
          1629,
          1630,
          1631,
          1632,
          1633,
          1634,
          1635,
          1636,
          1637,
          1638,
          1639,
          1640,
          1641,
          1642,
          1643,
          1644,
          1645,
          1646,
          1647,
          1648,
          1649,
          1650,
          1651,
          1652,
          1653,
          1654,
          1655,
          1656,
          1657,
          1658,
          1659,
          1660,
          1661,
          1662,
          1663,
          1664,
          1665,
          1666,
          1667,
          1668,
          1669,
          1670,
          1671,
          1672,
          1673,
          1674,
          1675,
          1676,
          1677,
          1678,
          1679,
          1680,
          1681,
          1682,
          1683,
          1684,
          1685,
          1686,
          1687,
          1688,
          1689,
          1690,
          1691,
          1692,
          1693,
          1694,
          1695,
          1696,
          1697,
          1698,
          1699,
          1700,
          1701,
          1702,
          1703,
          1704,
          1705,
          1706,
          1707,
          1708,
          1709,
          1710,
          1711,
          1712,
          1713,
          1714,
          1715,
          1716,
          1717,
          1718,
          1719,
          1720,
          1721,
          1722,
          1723,
          1724,
          1725,
          1726,
          1727,
          1728,
          1729,
          1730,
          1731,
          1732,
          1733,
          1734,
          1735,
          1736,
          1737,
          1738,
          1739,
          1740,
          1741,
          1742,
          1743,
          1744,
          1745,
          1746,
          1747,
          1748,
          1749,
          1750,
          1751,
          1752,
          1753,
          1754,
          1755,
          1756,
          1757,
          1758,
          1759,
          1760,
          1761,
          1762,
          1763,
          1764,
          1765,
          1766,
          1767,
          1768,
          1769,
          1770,
          1771,
          1772,
          1773,
          1774,
          1775,
          1776,
          1777,
          1778,
          1779,
          1780,
          1781,
          1782,
          1783,
          1784,
          1785,
          1786,
          1787,
          1788,
          1789,
          1790,
          1791,
          1792,
          1793,
          1794,
          1795,
          1796,
          1797,
          1798,
          1799,
          1800,
          1801,
          1802,
          1803,
          1804,
          1805,
          1806,
          1807,
          1808,
          1809,
          1810,
          1811,
          1812,
          1813,
          1814,
          1815,
          1816,
          1817,
          1818,
          1819,
          1820,
          1821,
          1822,
          1823,
          1824,
          1825,
          1826,
          1827,
          1828,
          1829,
          1830,
          1831,
          1832,
          1833,
          1834,
          1835,
          1836,
          1837,
          1838,
          1839,
          1840,
          1841,
          1842,
          1843,
          1844,
          1845,
          1846,
          1847,
          1848,
          1849,
          1850,
          1851,
          1852,
          1853,
          1854,
          1855,
          1856,
          1857,
          1858,
          1859,
          1860,
          1861,
          1862,
          1863,
          1864,
          1865,
          1866,
          1867,
          1868,
          1869,
          1870,
          1871,
          1872,
          1873,
          1874,
          1875,
          1876,
          1877,
          1878,
          1879,
          1880,
          1881,
          1882,
          1883,
          1884,
          1885,
          1886,
          1887,
          1888,
          1889,
          1890,
          1891,
          1892,
          1893,
          1894,
          1895,
          1896,
          1897,
          1898,
          1899,
          1900,
          1901,
          1902,
          1903,
          1904,
          1905,
          1906,
          1907,
          1908,
          1909,
          1910,
          1911,
          1912,
          1913,
          1914,
          1915,
          1916,
          1917,
          1918,
          1919,
          1920,
          1921,
          1922,
          1923,
          1924,
          1925,
          1926,
          1927,
          1928,
          1929,
          1930,
          1931,
          1932,
          1933,
          1934,
          1935,
          1936,
          1937,
          1938,
          1939,
          1940,
          1941,
          1942,
          1943,
          1944,
          1945,
          1946,
          1947,
          1948,
          1949
         ],
         "y": [
          0.3083333333333333,
          0.3083333333333333,
          0.3083333333333333,
          1.5,
          3.055555555555555,
          4.213888888888889,
          4.205228758169934,
          4.19656862745098,
          4.187908496732025,
          4.179248366013072,
          4.170588235294117,
          4.161928104575163,
          4.153267973856209,
          4.144607843137255,
          4.1359477124183,
          4.127287581699346,
          4.118627450980392,
          4.109967320261438,
          4.101307189542483,
          4.09264705882353,
          4.083986928104575,
          4.075326797385621,
          4.066666666666666,
          3.677777777777778,
          3.016666666666667,
          2.275,
          1.983333333333333,
          1.691666666666667,
          1.341666666666667,
          0.8333333333333333,
          0.7575757575757576,
          0.6818181818181818,
          0.606060606060606,
          0.5303030303030303,
          0.4545454545454545,
          0.3787878787878788,
          0.303030303030303,
          0.2272727272727273,
          0.1515151515151516,
          0.0757575757575758,
          0,
          0.7027777777777777,
          1.997222222222222,
          3.363888888888888,
          3.813888888888888,
          4.263888888888888,
          4.827777777777778,
          5.975000000000001,
          7.327777777777778,
          7.392676767676767,
          7.457575757575757,
          7.522474747474747,
          7.587373737373737,
          7.652272727272727,
          7.717171717171717,
          7.782070707070707,
          7.846969696969697,
          7.911868686868686,
          7.976767676767676,
          8.041666666666666,
          8.46111111111111,
          9.194444444444445,
          9.930555555555555,
          10.51111111111111,
          10.53657407407407,
          10.56203703703704,
          10.5875,
          10.61296296296296,
          10.63842592592593,
          10.66388888888889,
          10.03611111111111,
          8.744444444444444,
          7.372222222222222,
          6.111111111111111,
          4.905555555555556,
          3.308333333333333,
          1.786111111111111,
          0.7861111111111111,
          0.6738095238095237,
          0.5615079365079365,
          0.4492063492063492,
          0.3369047619047619,
          0.2246031746031746,
          0.1123015873015872,
          0,
          0.6972222222222222,
          1.905555555555556,
          3.055555555555555,
          3.322222222222222,
          3.588888888888889,
          3.440740740740741,
          3.292592592592592,
          3.144444444444444,
          4.069444444444445,
          5.222222222222222,
          6.422222222222222,
          7.694444444444444,
          8.947222222222223,
          9.980555555555556,
          10.17222222222222,
          10.36388888888889,
          10.55555555555556,
          11.08611111111111,
          11.66666666666667,
          12.22222222222222,
          12.825,
          12.89351851851852,
          12.96203703703704,
          13.03055555555556,
          12.525,
          11.96388888888889,
          11.33611111111111,
          10.68611111111111,
          9.811111111111112,
          9.11111111111111,
          8.372222222222222,
          8.075,
          7.777777777777778,
          8.380555555555556,
          8.807407407407409,
          9.23425925925926,
          9.661111111111111,
          10.31388888888889,
          10.67777777777778,
          11.04166666666667,
          11.40555555555556,
          12.075,
          12.73333333333333,
          13.01759259259259,
          13.30185185185185,
          13.58611111111111,
          13.96111111111111,
          14.37222222222222,
          14.43680555555556,
          14.50138888888889,
          14.56597222222222,
          14.63055555555555,
          14.69513888888889,
          14.75972222222222,
          14.82430555555556,
          14.88888888888889,
          14.95347222222222,
          15.01805555555556,
          15.08263888888889,
          15.14722222222222,
          14.6,
          13.25555555555555,
          11.48333333333333,
          10.88055555555556,
          10.27777777777778,
          10.76111111111111,
          11.43611111111111,
          12.22222222222222,
          13.00833333333333,
          13.68333333333333,
          13.59320987654321,
          13.50308641975309,
          13.41296296296296,
          13.32283950617284,
          13.23271604938272,
          13.14259259259259,
          13.05246913580247,
          12.96234567901235,
          12.87222222222222,
          12.33611111111111,
          11.14722222222222,
          9.330555555555556,
          7.925,
          7.533333333333333,
          8.122222222222222,
          8.822222222222223,
          8.877525252525253,
          8.932828282828284,
          8.988131313131314,
          9.043434343434344,
          9.098737373737373,
          9.154040404040405,
          9.209343434343435,
          9.264646464646464,
          9.319949494949494,
          9.375252525252526,
          9.430555555555555,
          10.15833333333333,
          10.93055555555556,
          11.41111111111111,
          11.80833333333333,
          12.38055555555555,
          12.36527777777778,
          12.35,
          12.33472222222222,
          12.31944444444444,
          12.30416666666667,
          12.28888888888889,
          11.53611111111111,
          9.705555555555554,
          7.05,
          4.455555555555555,
          2.513888888888889,
          1.829166666666667,
          1.144444444444444,
          1.972222222222222,
          3.886111111111111,
          5.311111111111111,
          5.674999999999999,
          6.038888888888888,
          6.641666666666667,
          7.316666666666666,
          7.67986111111111,
          8.043055555555554,
          8.40625,
          8.769444444444444,
          9.261111111111111,
          9.625,
          10.07777777777778,
          10.58611111111111,
          10.94305555555555,
          11.3,
          11.94444444444444,
          12.04611111111111,
          12.14777777777778,
          12.24944444444444,
          12.35111111111111,
          12.45277777777778,
          12.08611111111111,
          11.5,
          10.69444444444444,
          9.291666666666668,
          7.638888888888888,
          5.777777777777778,
          4.261111111111111,
          3.011111111111111,
          1.919444444444445,
          0.8083333333333333,
          0.7746527777777777,
          0.7409722222222223,
          0.7072916666666667,
          0.6736111111111112,
          0.6399305555555556,
          0.60625,
          0.5725694444444445,
          0.538888888888889,
          0.5052083333333334,
          0.4715277777777778,
          0.4378472222222223,
          0.4041666666666667,
          0.3704861111111111,
          0.3368055555555556,
          0.3031250000000001,
          0.2694444444444445,
          0.2357638888888889,
          0.2020833333333334,
          0.1684027777777778,
          0.1347222222222223,
          0.1010416666666667,
          0.0673611111111112,
          0.0336805555555556,
          0,
          1.352777777777778,
          3.691666666666666,
          5.591666666666666,
          6.052777777777777,
          6.425,
          7.633333333333333,
          9.444444444444445,
          11.23055555555556,
          12.56388888888889,
          12.89305555555556,
          13.22222222222222,
          13.96666666666667,
          15.075,
          16.00555555555555,
          16.04833333333333,
          16.09111111111111,
          16.13388888888889,
          16.17666666666667,
          16.21944444444444,
          15.60277777777778,
          13.67777777777778,
          10.54722222222222,
          7.283333333333333,
          4.380555555555556,
          2.333333333333333,
          1.016666666666667,
          0.99125,
          0.9658333333333333,
          0.9404166666666667,
          0.9149999999999999,
          0.8895833333333333,
          0.8641666666666666,
          0.83875,
          0.8133333333333332,
          0.7879166666666666,
          0.7625,
          0.7370833333333333,
          0.7116666666666667,
          0.68625,
          0.6608333333333334,
          0.6354166666666666,
          0.61,
          0.5845833333333333,
          0.5591666666666666,
          0.53375,
          0.5083333333333333,
          0.4829166666666667,
          0.4575,
          0.4320833333333334,
          0.4066666666666667,
          0.38125,
          0.3558333333333333,
          0.3304166666666667,
          0.305,
          0.2795833333333334,
          0.2541666666666667,
          0.22875,
          0.2033333333333334,
          0.1779166666666667,
          0.1525000000000001,
          0.1270833333333333,
          0.1016666666666667,
          0.07625000000000004,
          0.0508333333333334,
          0.02541666666666675,
          0,
          0.8916666666666666,
          2.783333333333333,
          4.686111111111111,
          5.241666666666667,
          5.797222222222222,
          6.302777777777778,
          7.425,
          8.883333333333333,
          10.09722222222222,
          10.06813725490196,
          10.0390522875817,
          10.00996732026144,
          9.980882352941178,
          9.951797385620916,
          9.922712418300653,
          9.893627450980393,
          9.86454248366013,
          9.83545751633987,
          9.806372549019608,
          9.777287581699348,
          9.748202614379085,
          9.719117647058823,
          9.690032679738563,
          9.6609477124183,
          9.63186274509804,
          9.602777777777778,
          8.816666666666666,
          7.475,
          6.011111111111111,
          4.516666666666667,
          2.936111111111111,
          1.497222222222222,
          0.6305555555555555,
          0.6051282051282051,
          0.5797008547008546,
          0.5542735042735043,
          0.5288461538461539,
          0.5034188034188034,
          0.477991452991453,
          0.4525641025641025,
          0.4271367521367521,
          0.4017094017094017,
          0.3762820512820513,
          0.3508547008547008,
          0.3254273504273504,
          0.3,
          1.647222222222222,
          3.636111111111111,
          4.944444444444445,
          5.315277777777778,
          5.686111111111111,
          6.608333333333333,
          7.733333333333333,
          8.544444444444444,
          9.313888888888888,
          9.606481481481481,
          9.899074074074074,
          10.19166666666667,
          10.75555555555555,
          11.16759259259259,
          11.57962962962963,
          11.99166666666667,
          12.68611111111111,
          13.61111111111111,
          13.69444444444444,
          13.77777777777778,
          13.23888888888889,
          12.87222222222222,
          12.42777777777778,
          12.01666666666667,
          11.36388888888889,
          10.18611111111111,
          8.394444444444444,
          6.344444444444444,
          4.333333333333333,
          2.591666666666667,
          1.205555555555555,
          0.3638888888888889,
          0.1819444444444444,
          0,
          0.5472222222222222,
          2.1,
          4.152777777777778,
          4.75462962962963,
          5.356481481481481,
          5.958333333333333,
          7.183333333333333,
          8.936111111111112,
          9.130555555555556,
          9.325,
          9.519444444444444,
          9.713888888888889,
          9.327777777777778,
          8.98472222222222,
          8.641666666666666,
          8.261111111111111,
          7.5,
          6.388888888888888,
          5.350000000000001,
          4.35,
          3.405555555555555,
          2.452777777777778,
          1.691666666666667,
          1.2625,
          0.8333333333333333,
          0.4611111111111111,
          0.4243055555555555,
          0.3875,
          0.3506944444444444,
          0.3138888888888889,
          0.2770833333333333,
          0.2402777777777778,
          0.2034722222222222,
          0.1666666666666667,
          1.488888888888889,
          3.497222222222222,
          4.077777777777778,
          4.658333333333333,
          5.238888888888889,
          6.288888888888889,
          7.722222222222222,
          8.927777777777777,
          10.14166666666667,
          10.48055555555555,
          10.81944444444444,
          11.15833333333333,
          11.89722222222222,
          12.85,
          13.20462962962963,
          13.55925925925926,
          13.91388888888889,
          14.44444444444444,
          14.46635802469136,
          14.48827160493827,
          14.51018518518518,
          14.5320987654321,
          14.55401234567901,
          14.57592592592593,
          14.59783950617284,
          14.61975308641975,
          14.64166666666667,
          14.64502583979328,
          14.6483850129199,
          14.65174418604651,
          14.65510335917313,
          14.65846253229974,
          14.66182170542636,
          14.66518087855297,
          14.66854005167959,
          14.6718992248062,
          14.67525839793282,
          14.67861757105943,
          14.68197674418604,
          14.68533591731266,
          14.68869509043927,
          14.69205426356589,
          14.6954134366925,
          14.69877260981912,
          14.70213178294573,
          14.70549095607235,
          14.70885012919896,
          14.71220930232558,
          14.7155684754522,
          14.71892764857881,
          14.72228682170543,
          14.72564599483204,
          14.72900516795866,
          14.73236434108527,
          14.73572351421189,
          14.7390826873385,
          14.74244186046512,
          14.74580103359173,
          14.74916020671835,
          14.75251937984496,
          14.75587855297158,
          14.75923772609819,
          14.76259689922481,
          14.76595607235142,
          14.76931524547803,
          14.77267441860465,
          14.77603359173126,
          14.77939276485788,
          14.78275193798449,
          14.78611111111111,
          14.38611111111111,
          13.67777777777778,
          12.31944444444444,
          10.68333333333333,
          9.044444444444444,
          7.830555555555556,
          6.788888888888889,
          6.494166666666667,
          6.199444444444445,
          5.904722222222222,
          5.609999999999999,
          5.315277777777778,
          5.020555555555555,
          4.725833333333333,
          4.431111111111111,
          4.136388888888889,
          3.841666666666667,
          3.358333333333333,
          2.777777777777778,
          2.202777777777778,
          1.716666666666667,
          1.263888888888889,
          1.206439393939394,
          1.148989898989899,
          1.091540404040404,
          1.034090909090909,
          0.9766414141414141,
          0.9191919191919191,
          0.8617424242424242,
          0.8042929292929293,
          0.7468434343434344,
          0.6893939393939394,
          0.6319444444444444,
          0.5744949494949495,
          0.5170454545454546,
          0.4595959595959596,
          0.4021464646464646,
          0.3446969696969697,
          0.2872474747474748,
          0.2297979797979799,
          0.1723484848484849,
          0.1148989898989901,
          0.05744949494949503,
          0,
          1.061111111111111,
          2.416666666666667,
          2.769444444444444,
          3.122222222222222,
          3.475,
          4.094444444444444,
          5,
          5.833333333333333,
          6.691666666666666,
          7.405555555555555,
          8.247222222222222,
          9.01388888888889,
          9.161507936507936,
          9.309126984126985,
          9.456746031746032,
          9.60436507936508,
          9.751984126984127,
          9.899603174603175,
          10.04722222222222,
          10.15833333333333,
          10.26944444444444,
          10.38055555555556,
          10.49166666666667,
          10.60277777777778,
          10.23055555555555,
          9.747222222222224,
          9.191666666666668,
          8.516666666666666,
          7.897222222222222,
          7.908333333333333,
          7.919444444444444,
          7.930555555555555,
          7.941666666666666,
          7.952777777777778,
          7.963888888888889,
          7.975,
          7.986111111111111,
          7.997222222222222,
          8.008333333333333,
          8.019444444444444,
          8.030555555555555,
          8.380555555555556,
          8.88888888888889,
          9.397222222222222,
          9.462222222222222,
          9.527222222222221,
          9.592222222222222,
          9.657222222222222,
          9.722222222222221,
          9.072222222222221,
          8.174999999999999,
          7.102777777777778,
          6.205555555555556,
          5.958333333333334,
          5.711111111111111,
          5.463888888888889,
          5.216666666666667,
          4.969444444444445,
          4.722222222222222,
          5.302777777777778,
          5.562962962962963,
          5.823148148148148,
          6.083333333333333,
          6.547222222222222,
          7.244444444444444,
          7.997222222222222,
          8.658333333333333,
          8.634795321637426,
          8.61125730994152,
          8.587719298245613,
          8.564181286549708,
          8.540643274853801,
          8.517105263157895,
          8.493567251461988,
          8.470029239766081,
          8.446491228070174,
          8.42295321637427,
          8.399415204678363,
          8.375877192982456,
          8.352339181286549,
          8.328801169590642,
          8.305263157894736,
          8.28172514619883,
          8.258187134502924,
          8.234649122807017,
          8.21111111111111,
          8.705555555555556,
          8.73493265993266,
          8.764309764309765,
          8.79368686868687,
          8.823063973063974,
          8.852441077441078,
          8.881818181818181,
          8.911195286195285,
          8.94057239057239,
          8.969949494949494,
          8.999326599326599,
          9.028703703703703,
          9.058080808080808,
          9.087457912457912,
          9.116835016835017,
          9.146212121212121,
          9.175589225589226,
          9.204966329966329,
          9.234343434343433,
          9.263720538720538,
          9.293097643097642,
          9.322474747474747,
          9.351851851851851,
          9.381228956228956,
          9.41060606060606,
          9.439983164983165,
          9.46936026936027,
          9.498737373737374,
          9.528114478114476,
          9.557491582491581,
          9.586868686868685,
          9.61624579124579,
          9.645622895622894,
          9.674999999999999,
          9.141666666666666,
          7.983333333333333,
          6.808333333333334,
          6.657777777777778,
          6.507222222222222,
          6.356666666666667,
          6.206111111111111,
          6.055555555555555,
          5.905,
          5.754444444444445,
          5.603888888888889,
          5.453333333333333,
          5.302777777777778,
          6.025,
          7.030555555555555,
          7.452777777777778,
          6.944444444444445,
          7.000925925925926,
          7.057407407407408,
          7.113888888888889,
          7.17037037037037,
          7.226851851851852,
          7.283333333333333,
          7.816666666666666,
          9.122222222222224,
          10.30555555555556,
          10.29895833333333,
          10.29236111111111,
          10.28576388888889,
          10.27916666666667,
          10.27256944444444,
          10.26597222222222,
          10.259375,
          10.25277777777778,
          10.88055555555556,
          11.61944444444444,
          11.59861111111111,
          11.57777777777778,
          11.55694444444444,
          11.53611111111111,
          11.51527777777778,
          11.49444444444444,
          11.47361111111111,
          11.45277777777778,
          10.61944444444444,
          9.116666666666667,
          7.322222222222222,
          5.391666666666667,
          3.552777777777778,
          3.32037037037037,
          3.087962962962963,
          2.855555555555555,
          3.386111111111111,
          4.527777777777778,
          5.902777777777778,
          6.060648148148148,
          6.218518518518518,
          6.376388888888888,
          6.534259259259259,
          6.69212962962963,
          6.85,
          7.594444444444444,
          8.563888888888888,
          9.527777777777777,
          10.325,
          10.89444444444444,
          11.48888888888889,
          12.40555555555556,
          13.35833333333333,
          14.26111111111111,
          14.31024305555556,
          14.359375,
          14.40850694444444,
          14.45763888888889,
          14.50677083333333,
          14.55590277777778,
          14.60503472222222,
          14.65416666666667,
          14.70329861111111,
          14.75243055555556,
          14.8015625,
          14.85069444444444,
          14.89982638888889,
          14.94895833333333,
          14.99809027777778,
          15.04722222222222,
          14.65,
          13.85,
          12.86111111111111,
          12.13611111111111,
          11.60555555555556,
          10.93333333333333,
          10.82555555555555,
          10.71777777777778,
          10.61,
          10.50222222222222,
          10.39444444444444,
          10.02222222222222,
          9.391666666666667,
          9.17361111111111,
          8.955555555555556,
          9.366666666666665,
          10.11944444444444,
          11.12777777777778,
          12.14722222222222,
          12.31435185185185,
          12.48148148148148,
          12.64861111111111,
          12.81574074074074,
          12.98287037037037,
          13.15,
          12.60833333333333,
          11.14722222222222,
          8.944444444444445,
          6.675,
          4.825,
          3.611111111111111,
          2.663888888888889,
          1.594444444444445,
          0.9638888888888889,
          1.513888888888889,
          3.047222222222222,
          4.419444444444444,
          4.816666666666666,
          5.213888888888889,
          6.052777777777777,
          7.361111111111111,
          8.719444444444445,
          9.78611111111111,
          9.781944444444443,
          9.777777777777777,
          9.77361111111111,
          9.769444444444444,
          9.272222222222222,
          8.977777777777778,
          8.683333333333334,
          9.438888888888888,
          10.54166666666667,
          11.63611111111111,
          12.7,
          13.46111111111111,
          14.02222222222222,
          14.1212962962963,
          14.22037037037037,
          14.31944444444444,
          14.02268518518518,
          13.72592592592592,
          13.42916666666667,
          13.13240740740741,
          12.83564814814815,
          12.53888888888889,
          11.80277777777778,
          10.20833333333333,
          8.058333333333334,
          5.922222222222222,
          4.258333333333333,
          3.783333333333333,
          3.308333333333333,
          3.944444444444444,
          4.997222222222222,
          5.438888888888889,
          5.880555555555556,
          6.322222222222223,
          6.883333333333334,
          8.044444444444444,
          9.216666666666667,
          9.425,
          9.633333333333333,
          9.841666666666667,
          10.50833333333333,
          11.36388888888889,
          11.32916666666667,
          11.29444444444444,
          11.25972222222222,
          11.225,
          11.19027777777778,
          11.15555555555556,
          11.12083333333333,
          11.08611111111111,
          11.73888888888889,
          12.07986111111111,
          12.42083333333333,
          12.76180555555556,
          13.10277777777778,
          13.12777777777778,
          13.15277777777778,
          13.17777777777778,
          13.20277777777778,
          13.22777777777778,
          13.25277777777778,
          13.27777777777778,
          13.30277777777778,
          13.32777777777778,
          13.35277777777778,
          13.37777777777778,
          13.40277777777778,
          13.42777777777778,
          13.45277777777778,
          13.47777777777778,
          13.50277777777778,
          13.52777777777778,
          13.55277777777778,
          13.57777777777778,
          13.60277777777778,
          13.62777777777778,
          13.65277777777778,
          13.67777777777778,
          13.70277777777778,
          13.72777777777778,
          13.75277777777778,
          13.77777777777778,
          13.80277777777778,
          13.82777777777778,
          13.85277777777778,
          13.87777777777778,
          13.90277777777778,
          13.18888888888889,
          12.11388888888889,
          10.54722222222222,
          9.077777777777778,
          7.875,
          7.955555555555556,
          8.036111111111111,
          8.116666666666667,
          8.197222222222223,
          8.61111111111111,
          8.674305555555556,
          8.7375,
          8.800694444444444,
          8.863888888888889,
          8.333333333333334,
          7.972222222222222,
          7.611111111111111,
          8.055555555555555,
          8.927777777777777,
          9.084027777777777,
          9.240277777777777,
          9.396527777777777,
          9.552777777777777,
          9.136111111111111,
          8.494444444444444,
          7.722222222222222,
          7.024999999999999,
          6.308333333333334,
          5.697222222222223,
          4.897222222222222,
          3.933333333333333,
          2.722222222222222,
          1.741666666666666,
          1.019444444444444,
          0.4694444444444444,
          0.4565555555555555,
          0.4436666666666667,
          0.4307777777777778,
          0.4178888888888889,
          0.405,
          0.3921111111111111,
          0.3792222222222222,
          0.3663333333333333,
          0.3534444444444444,
          0.3405555555555556,
          0.3276666666666667,
          0.3147777777777778,
          0.3018888888888889,
          0.289,
          0.2761111111111111,
          0.2632222222222222,
          0.2503333333333334,
          0.2374444444444445,
          0.2245555555555556,
          0.2116666666666667,
          0.1987777777777778,
          0.1858888888888889,
          0.173,
          0.1601111111111111,
          0.1472222222222222,
          1.516666666666667,
          3.725,
          5.469444444444445,
          5.906944444444445,
          6.344444444444444,
          7.113888888888889,
          8.422222222222222,
          9.86111111111111,
          10.35833333333333,
          10.85555555555555,
          11.35277777777778,
          12.01944444444445,
          12.30185185185185,
          12.58425925925926,
          12.86666666666667,
          12.49722222222222,
          11.64722222222222,
          10.00833333333333,
          7.744444444444444,
          5.691666666666666,
          4.469444444444444,
          4.375,
          4.280555555555556,
          4.977777777777778,
          5.844444444444444,
          6.195138888888889,
          6.545833333333333,
          6.896527777777777,
          7.247222222222222,
          7.802777777777777,
          8.58611111111111,
          9.516666666666666,
          9.612962962962962,
          9.709259259259259,
          9.805555555555555,
          9.901851851851852,
          9.998148148148148,
          10.09444444444444,
          9.561111111111112,
          8.336111111111112,
          6.611111111111111,
          5.4,
          5.375,
          5.350000000000001,
          5.325,
          5.76111111111111,
          5.941666666666666,
          6.122222222222222,
          6.302777777777777,
          6.483333333333333,
          6.897222222222221,
          7.524999999999999,
          7.524999999999999,
          7.524999999999999,
          7.524999999999999,
          7.524999999999999,
          7.524999999999999,
          7.524999999999999,
          7.524999999999999,
          7.524999999999999,
          7.524999999999999,
          7.524999999999999,
          8.030555555555555,
          8.61111111111111,
          9.119444444444444,
          9.863888888888889,
          10.73888888888889,
          11.12361111111111,
          11.50833333333333,
          11.94444444444444,
          12.75277777777778,
          13.63611111111111,
          14.39722222222222,
          14.69305555555556,
          14.98888888888889,
          15.28472222222222,
          15.58055555555556,
          15.77314814814815,
          15.96574074074074,
          16.15833333333333,
          16.06014492753623,
          15.96195652173913,
          15.86376811594203,
          15.76557971014493,
          15.66739130434783,
          15.56920289855073,
          15.47101449275362,
          15.37282608695652,
          15.27463768115942,
          15.17644927536232,
          15.07826086956522,
          14.98007246376812,
          14.88188405797102,
          14.78369565217391,
          14.68550724637681,
          14.58731884057971,
          14.48913043478261,
          14.39094202898551,
          14.29275362318841,
          14.1945652173913,
          14.0963768115942,
          13.9981884057971,
          13.9,
          13.8018115942029,
          13.7036231884058,
          13.6054347826087,
          13.50724637681159,
          13.40905797101449,
          13.31086956521739,
          13.21268115942029,
          13.11449275362319,
          13.01630434782609,
          12.91811594202898,
          12.81992753623188,
          12.72173913043478,
          12.62355072463768,
          12.52536231884058,
          12.42717391304348,
          12.32898550724638,
          12.23079710144927,
          12.13260869565217,
          12.03442028985507,
          11.93623188405797,
          11.83804347826087,
          11.73985507246377,
          11.64166666666667,
          11.13611111111111,
          10.55555555555556,
          10,
          9.419444444444443,
          9.055555555555555,
          8.372222222222222,
          6.930555555555555,
          5.155555555555555,
          4.652777777777777,
          4.149999999999999,
          4.783333333333333,
          5.788888888888889,
          7.016666666666667,
          8.069444444444445,
          8.26574074074074,
          8.462037037037037,
          8.658333333333333,
          9.194444444444445,
          9.908333333333333,
          10.84166666666667,
          10.95277777777778,
          11.06388888888889,
          11.175,
          11.28611111111111,
          11.39722222222222,
          11.50833333333333,
          11.08055555555556,
          10.50277777777778,
          9.238888888888889,
          7.919444444444444,
          7.96965811965812,
          8.019871794871795,
          8.07008547008547,
          8.120299145299144,
          8.17051282051282,
          8.220726495726495,
          8.27094017094017,
          8.321153846153845,
          8.371367521367521,
          8.421581196581196,
          8.47179487179487,
          8.522008547008546,
          8.572222222222221,
          7.983333333333333,
          7.897222222222222,
          7.811111111111111,
          8.655555555555555,
          9.669444444444444,
          10.55555555555556,
          11.08611111111111,
          11.09398148148148,
          11.10185185185185,
          11.10972222222222,
          11.11759259259259,
          11.12546296296296,
          11.13333333333333,
          10.48888888888889,
          9.005555555555556,
          7.536111111111111,
          7.557222222222221,
          7.578333333333333,
          7.599444444444444,
          7.620555555555556,
          7.641666666666667,
          8.28611111111111,
          9.166666666666666,
          9.07824074074074,
          8.989814814814814,
          8.901388888888889,
          8.812962962962963,
          8.724537037037036,
          8.636111111111111,
          8.261111111111111,
          8.122222222222222,
          7.983333333333333,
          7.844444444444444,
          7.705555555555555,
          8.15,
          8.91388888888889,
          8.825000000000001,
          8.736111111111112,
          8.647222222222222,
          8.558333333333334,
          8.469444444444445,
          8.380555555555556,
          8.291666666666668,
          8.202777777777778,
          8.113888888888889,
          8.025,
          7.936111111111111,
          7.847222222222222,
          7.138888888888888,
          5.838888888888889,
          5.165277777777778,
          4.491666666666667,
          5.013888888888889,
          6.052777777777777,
          7.441666666666666,
          8.808333333333334,
          9.2375,
          9.666666666666666,
          9.291666666666668,
          9.193567251461989,
          9.095467836257312,
          8.997368421052633,
          8.899269005847954,
          8.801169590643276,
          8.703070175438597,
          8.604970760233918,
          8.50687134502924,
          8.408771929824562,
          8.310672514619883,
          8.212573099415206,
          8.114473684210527,
          8.016374269005848,
          7.91827485380117,
          7.820175438596491,
          7.722076023391812,
          7.623976608187133,
          7.525877192982455,
          7.427777777777777,
          6.897222222222221,
          6.252777777777778,
          5.688888888888889,
          5.523611111111111,
          5.358333333333333,
          6.097222222222221,
          7.394444444444445,
          8.047222222222222,
          8.7,
          8.308333333333334,
          7.777777777777778,
          7.392592592592592,
          7.007407407407407,
          6.622222222222222,
          6.244444444444444,
          5.788888888888889,
          5.294444444444444,
          5.023888888888889,
          4.753333333333333,
          4.482777777777778,
          4.212222222222222,
          3.941666666666666,
          3.513888888888889,
          2.680555555555556,
          1.819444444444444,
          1.152777777777778,
          0.5666666666666667,
          0.5570621468926553,
          0.5474576271186441,
          0.5378531073446328,
          0.5282485875706214,
          0.5186440677966102,
          0.5090395480225989,
          0.4994350282485875,
          0.4898305084745763,
          0.480225988700565,
          0.4706214689265537,
          0.4610169491525424,
          0.4514124293785311,
          0.4418079096045198,
          0.4322033898305085,
          0.4225988700564972,
          0.4129943502824859,
          0.4033898305084745,
          0.3937853107344633,
          0.384180790960452,
          0.3745762711864407,
          0.3649717514124294,
          0.3553672316384181,
          0.3457627118644068,
          0.3361581920903955,
          0.3265536723163842,
          0.3169491525423729,
          0.3073446327683616,
          0.2977401129943503,
          0.288135593220339,
          0.2785310734463277,
          0.2689265536723164,
          0.2593220338983051,
          0.2497175141242938,
          0.2401129943502825,
          0.2305084745762712,
          0.2209039548022599,
          0.2112994350282486,
          0.2016949152542373,
          0.192090395480226,
          0.1824858757062147,
          0.1728813559322034,
          0.1632768361581921,
          0.1536723163841808,
          0.1440677966101696,
          0.1344632768361582,
          0.1248587570621469,
          0.1152542372881356,
          0.1056497175141243,
          0.09604519774011305,
          0.08644067796610172,
          0.07683615819209044,
          0.06723163841807911,
          0.05762711864406789,
          0.04802259887005655,
          0.03841807909604522,
          0.028813559322034,
          0.01920903954802267,
          0.009604519774011333,
          0,
          0.9444444444444444,
          2.125,
          2.411111111111111,
          2.697222222222222,
          2.983333333333333,
          3.636111111111111,
          3.711868686868687,
          3.787626262626262,
          3.863383838383838,
          3.939141414141414,
          4.01489898989899,
          4.090656565656565,
          4.166414141414141,
          4.242171717171717,
          4.317929292929293,
          4.393686868686869,
          4.469444444444444,
          5.325,
          6.691666666666666,
          7.936111111111111,
          8.422222222222222,
          8.908333333333333,
          9.347222222222221,
          9.972222222222221,
          10.51944444444444,
          10.48842592592593,
          10.45740740740741,
          10.42638888888889,
          10.39537037037037,
          10.36435185185185,
          10.33333333333333,
          10.30231481481481,
          10.2712962962963,
          10.24027777777778,
          10.20925925925926,
          10.17824074074074,
          10.14722222222222,
          9.622222222222222,
          8.216666666666667,
          6.461111111111111,
          6.022222222222222,
          7.005555555555555,
          8.694444444444445,
          9.747222222222224,
          10.04861111111111,
          10.35,
          11.10833333333333,
          11.81944444444444,
          12.27777777777778,
          12.91111111111111,
          13.82777777777778,
          13.90243055555555,
          13.97708333333333,
          14.05173611111111,
          14.12638888888889,
          14.20104166666667,
          14.27569444444444,
          14.35034722222222,
          14.425,
          14.04722222222222,
          13.54444444444444,
          12.79444444444444,
          11.64444444444444,
          10.3,
          8.886111111111111,
          7.45,
          6.183333333333334,
          5.277777777777778,
          4.649999999999999,
          4.372222222222222,
          4.094444444444444,
          4.55,
          5.5,
          6.85,
          8.308333333333334,
          8.818055555555556,
          9.327777777777778,
          8.993055555555555,
          8.658333333333333,
          8.247222222222222,
          7.508333333333334,
          6.761111111111111,
          6.671527777777778,
          6.581944444444444,
          6.492361111111111,
          6.402777777777778,
          6.913888888888889,
          7.722222222222222,
          8.533333333333333,
          8.894444444444446,
          8.238888888888889,
          6.833333333333334,
          5.041666666666666,
          3.388888888888888,
          1.958333333333333,
          0.7999999999999999,
          0.6,
          0.4,
          0.2,
          0,
          0.9138888888888889,
          2.583333333333333,
          4.399999999999999,
          5.344444444444444,
          5.977777777777778,
          6.697222222222222,
          7.880555555555556,
          9.294444444444444,
          10.33055555555555,
          10.96111111111111,
          11.34166666666667,
          11.975,
          11.94351851851852,
          11.91203703703704,
          11.88055555555556,
          11.84907407407407,
          11.81759259259259,
          11.78611111111111,
          11.75462962962963,
          11.72314814814815,
          11.69166666666667,
          11.06388888888889,
          10.01666666666667,
          8.522222222222222,
          7.225000000000001,
          6.227777777777778,
          5.644444444444445,
          5.610416666666667,
          5.576388888888889,
          5.542361111111111,
          5.508333333333333,
          5.880555555555556,
          6.413888888888889,
          6.566203703703703,
          6.718518518518518,
          6.870833333333334,
          7.023148148148148,
          7.175462962962962,
          7.327777777777778,
          7.913888888888888,
          8.852777777777778,
          9.997222222222222,
          11.28611111111111,
          12.46111111111111,
          13.41111111111111,
          13.58809523809524,
          13.76507936507937,
          13.94206349206349,
          14.11904761904762,
          14.29603174603175,
          14.47301587301587,
          14.65,
          14.03611111111111,
          13.76296296296296,
          13.48981481481481,
          13.21666666666667,
          13.79166666666667,
          14.41944444444444,
          14.92777777777778,
          14.91502976190476,
          14.90228174603175,
          14.88953373015873,
          14.87678571428571,
          14.8640376984127,
          14.85128968253968,
          14.83854166666667,
          14.82579365079365,
          14.81304563492063,
          14.80029761904762,
          14.7875496031746,
          14.77480158730159,
          14.76205357142857,
          14.74930555555556,
          14.73655753968254,
          14.72380952380952,
          14.71106150793651,
          14.69831349206349,
          14.68556547619048,
          14.67281746031746,
          14.66006944444444,
          14.64732142857143,
          14.63457341269841,
          14.6218253968254,
          14.60907738095238,
          14.59632936507936,
          14.58358134920635,
          14.57083333333333,
          14.55808531746032,
          14.5453373015873,
          14.53258928571429,
          14.51984126984127,
          14.50709325396825,
          14.49434523809524,
          14.48159722222222,
          14.46884920634921,
          14.45610119047619,
          14.44335317460317,
          14.43060515873016,
          14.41785714285714,
          14.40510912698413,
          14.39236111111111,
          14.3796130952381,
          14.36686507936508,
          14.35411706349206,
          14.34136904761905,
          14.32862103174603,
          14.31587301587301,
          14.303125,
          14.29037698412698,
          14.27762896825397,
          14.26488095238095,
          14.25213293650794,
          14.23938492063492,
          14.2266369047619,
          14.21388888888889,
          13.81666666666667,
          13.40555555555556,
          13.10416666666667,
          12.80277777777778,
          12.45277777777778,
          11.96944444444444,
          11.43611111111111,
          10.73888888888889,
          9.674999999999999,
          8.869444444444444,
          8.336111111111112,
          7.933333333333333,
          7.876157407407407,
          7.818981481481481,
          7.761805555555555,
          7.704629629629629,
          7.647453703703703,
          7.590277777777777,
          7.533101851851852,
          7.475925925925925,
          7.418749999999999,
          7.361574074074074,
          7.304398148148148,
          7.247222222222222,
          6.85,
          6.183333333333334,
          6.171296296296297,
          6.159259259259259,
          6.147222222222222,
          6.135185185185185,
          6.123148148148148,
          6.111111111111111,
          6.705555555555556,
          7.411111111111111,
          8.216666666666667,
          9.244444444444445,
          10.05555555555556,
          10.28194444444444,
          10.50833333333333,
          10.88611111111111,
          11.34166666666667,
          11.88611111111111,
          12.54722222222222,
          13.33888888888889,
          13.33803418803419,
          13.33717948717949,
          13.33632478632479,
          13.33547008547009,
          13.33461538461538,
          13.33376068376068,
          13.33290598290598,
          13.33205128205128,
          13.33119658119658,
          13.33034188034188,
          13.32948717948718,
          13.32863247863248,
          13.32777777777778,
          13.32692307692308,
          13.32606837606838,
          13.32521367521367,
          13.32435897435897,
          13.32350427350427,
          13.32264957264957,
          13.32179487179487,
          13.32094017094017,
          13.32008547008547,
          13.31923076923077,
          13.31837606837607,
          13.31752136752137,
          13.31666666666667,
          12.81666666666667,
          11.83055555555556,
          10.51666666666667,
          8.866666666666667,
          7.155555555555556,
          4.722222222222222,
          2.283333333333334,
          0.5166666666666667,
          0.5034188034188035,
          0.4901709401709402,
          0.4769230769230769,
          0.4636752136752137,
          0.4504273504273505,
          0.4371794871794872,
          0.423931623931624,
          0.4106837606837607,
          0.3974358974358975,
          0.3841880341880342,
          0.370940170940171,
          0.3576923076923078,
          0.3444444444444444,
          0.3311965811965812,
          0.317948717948718,
          0.3047008547008547,
          0.2914529914529915,
          0.2782051282051282,
          0.264957264957265,
          0.2517094017094017,
          0.2384615384615385,
          0.2252136752136752,
          0.211965811965812,
          0.1987179487179487,
          0.1854700854700855,
          0.1722222222222222,
          0.158974358974359,
          0.1457264957264958,
          0.1324786324786325,
          0.1192307692307693,
          0.105982905982906,
          0.09273504273504274,
          0.07948717948717948,
          0.06623931623931623,
          0.05299145299145297,
          0.03974358974358971,
          0.02649572649572651,
          0.0132478632478632,
          0,
          0.7222222222222222,
          1.691666666666667,
          2.658333333333333,
          3.461111111111111,
          4.333333333333333,
          4.576851851851852,
          4.82037037037037,
          5.063888888888889,
          5.786111111111111,
          6.663888888888888,
          7.472222222222221,
          8.427777777777777,
          9.372222222222222,
          9.756944444444443,
          10.14166666666667,
          10.52222222222222,
          11.07777777777778,
          11.25347222222222,
          11.42916666666667,
          11.60486111111111,
          11.78055555555556,
          11.95625,
          12.13194444444444,
          12.30763888888889,
          12.48333333333333,
          12.65902777777778,
          12.83472222222222,
          13.01041666666667,
          13.18611111111111,
          13.6,
          13.58487654320988,
          13.56975308641975,
          13.55462962962963,
          13.53950617283951,
          13.52438271604938,
          13.50925925925926,
          13.49413580246913,
          13.47901234567901,
          13.46388888888889,
          13.44876543209876,
          13.43364197530864,
          13.41851851851852,
          13.40339506172839,
          13.38827160493827,
          13.37314814814815,
          13.35802469135802,
          13.3429012345679,
          13.32777777777778,
          12.94444444444444,
          12.69548611111111,
          12.44652777777778,
          12.19756944444444,
          11.94861111111111,
          11.69965277777778,
          11.45069444444444,
          11.20173611111111,
          10.95277777777778,
          10.70601851851852,
          10.45925925925926,
          10.2125,
          9.965740740740742,
          9.718981481481482,
          9.472222222222223,
          8.819444444444445,
          7.408333333333333,
          5.161111111111111,
          2.741666666666666,
          1.041666666666667,
          1.011302681992337,
          0.9809386973180078,
          0.9505747126436782,
          0.9202107279693488,
          0.8898467432950192,
          0.8594827586206897,
          0.8291187739463601,
          0.7987547892720307,
          0.7683908045977013,
          0.7380268199233717,
          0.7076628352490422,
          0.6772988505747126,
          0.6469348659003832,
          0.6165708812260536,
          0.5862068965517242,
          0.5558429118773947,
          0.5254789272030651,
          0.4951149425287357,
          0.4647509578544061,
          0.4343869731800767,
          0.4040229885057471,
          0.3736590038314176,
          0.3432950191570882,
          0.3129310344827586,
          0.2825670498084291,
          0.2522030651340996,
          0.2218390804597701,
          0.1914750957854405,
          0.1611111111111111,
          1.547222222222222,
          3.630555555555556,
          4.192592592592592,
          4.75462962962963,
          5.316666666666666,
          6.183333333333334,
          6.494444444444444,
          6.805555555555556,
          7.116666666666667,
          6.638888888888888,
          6.105555555555555,
          5.205555555555555,
          4.213888888888889,
          4.097222222222222,
          3.980555555555556,
          4.131666666666667,
          4.282777777777778,
          4.433888888888889,
          4.585000000000001,
          4.736111111111112,
          5.269444444444444,
          6.136111111111111,
          7.222222222222222,
          8.261111111111111,
          9.238888888888889,
          10.325,
          10.82777777777778,
          11.33055555555556,
          11.83333333333333,
          12.45277777777778,
          13.26111111111111,
          14.05555555555556,
          14.04469696969697,
          14.03383838383838,
          14.0229797979798,
          14.01212121212121,
          14.00126262626263,
          13.99040404040404,
          13.97954545454546,
          13.96868686868687,
          13.95782828282828,
          13.9469696969697,
          13.93611111111111,
          13.57777777777778,
          13.21944444444444,
          12.57222222222222,
          11.34722222222222,
          9.855555555555554,
          8.891666666666666,
          8.294444444444444,
          7.486111111111111,
          6.227777777777778,
          4.8,
          3.383333333333333,
          2.338888888888889,
          1.608333333333333,
          1.086111111111111,
          0.6027777777777777,
          0.5651041666666666,
          0.5274305555555555,
          0.4897569444444444,
          0.4520833333333333,
          0.4144097222222222,
          0.3767361111111111,
          0.3390625,
          0.3013888888888889,
          0.2637152777777778,
          0.2260416666666666,
          0.1883680555555555,
          0.1506944444444445,
          0.1130208333333333,
          0.07534722222222223,
          0.03767361111111112,
          0,
          0.6944444444444444,
          1.705555555555555,
          2.129166666666666,
          2.552777777777778,
          3.386111111111111,
          4.355555555555555,
          4.448958333333333,
          4.542361111111111,
          4.635763888888889,
          4.729166666666666,
          4.822569444444444,
          4.915972222222222,
          5.009375,
          5.102777777777778,
          4.211111111111111,
          2.533333333333333,
          0.9166666666666666,
          1.322222222222222,
          3.205555555555555,
          5.113888888888889,
          5.463888888888889,
          5.813888888888889,
          6.686111111111111,
          8.386111111111111,
          9.502777777777778,
          9.498290598290598,
          9.493803418803418,
          9.48931623931624,
          9.48482905982906,
          9.48034188034188,
          9.4758547008547,
          9.471367521367522,
          9.466880341880342,
          9.462393162393163,
          9.457905982905983,
          9.453418803418804,
          9.448931623931625,
          9.444444444444445,
          8.966666666666667,
          8.238888888888889,
          7.141666666666667,
          5.927777777777778,
          4.958333333333334,
          4.166666666666667,
          3.333333333333333,
          2.5,
          1.641666666666667,
          0.8583333333333333,
          0.7803030303030303,
          0.7022727272727273,
          0.6242424242424243,
          0.5462121212121211,
          0.4681818181818182,
          0.3901515151515151,
          0.3121212121212121,
          0.2340909090909091,
          0.1560606060606061,
          0.07803030303030312,
          0,
          0.8916666666666666,
          2.105555555555556,
          3.341666666666666,
          3.541666666666667,
          3.741666666666666,
          3.941666666666666,
          4.430555555555555,
          5.208333333333333,
          6.166666666666666,
          7.155555555555556,
          8.177777777777777,
          8.297916666666666,
          8.418055555555554,
          8.538194444444445,
          8.658333333333333,
          9.191666666666668,
          10.28888888888889,
          11.64444444444444,
          12.96666666666667,
          12.95,
          12.93333333333333,
          12.91666666666667,
          12.9,
          12.88333333333333,
          12.86666666666667,
          12.85,
          12.83333333333333,
          12.81666666666667,
          12.8,
          12.78333333333333,
          12.76666666666667,
          12.75,
          12.70290404040404,
          12.65580808080808,
          12.60871212121212,
          12.56161616161616,
          12.5145202020202,
          12.46742424242424,
          12.42032828282828,
          12.37323232323232,
          12.32613636363636,
          12.2790404040404,
          12.23194444444444,
          12.18484848484849,
          12.13775252525252,
          12.09065656565657,
          12.04356060606061,
          11.99646464646465,
          11.94936868686869,
          11.90227272727273,
          11.85517676767677,
          11.80808080808081,
          11.76098484848485,
          11.71388888888889,
          11.66259259259259,
          11.6112962962963,
          11.56,
          11.5087037037037,
          11.45740740740741,
          11.40611111111111,
          11.35481481481481,
          11.30351851851852,
          11.25222222222222,
          11.20092592592593,
          11.14962962962963,
          11.09833333333333,
          11.04703703703704,
          10.99574074074074,
          10.94444444444444,
          10.41944444444444,
          9.233333333333334,
          7.597222222222222,
          6.022222222222222,
          4.836111111111111,
          4.58425925925926,
          4.332407407407407,
          4.080555555555556,
          4.675,
          5.927777777777778,
          6.368055555555555,
          6.808333333333334,
          6.375,
          5.788888888888889,
          4.769444444444445,
          4.595833333333333,
          4.422222222222222,
          5.294444444444444,
          6.291666666666666,
          7.483333333333333,
          7.618333333333333,
          7.753333333333333,
          7.888333333333334,
          8.023333333333333,
          8.158333333333333,
          7.591666666666666,
          6.375,
          4.852777777777777,
          3.575,
          2.280555555555556,
          0.9138888888888889,
          0.7996527777777778,
          0.6854166666666667,
          0.5711805555555556,
          0.4569444444444444,
          0.3427083333333333,
          0.2284722222222222,
          0.1142361111111111,
          0
         ]
        }
       ],
       "layout": {
        "height": 500,
        "legend": {
         "orientation": "h",
         "x": 0.3,
         "y": 1.3
        },
        "plot_bgcolor": "white",
        "template": {
         "data": {
          "bar": [
           {
            "error_x": {
             "color": "#2a3f5f"
            },
            "error_y": {
             "color": "#2a3f5f"
            },
            "marker": {
             "line": {
              "color": "#E5ECF6",
              "width": 0.5
             },
             "pattern": {
              "fillmode": "overlay",
              "size": 10,
              "solidity": 0.2
             }
            },
            "type": "bar"
           }
          ],
          "barpolar": [
           {
            "marker": {
             "line": {
              "color": "#E5ECF6",
              "width": 0.5
             },
             "pattern": {
              "fillmode": "overlay",
              "size": 10,
              "solidity": 0.2
             }
            },
            "type": "barpolar"
           }
          ],
          "carpet": [
           {
            "aaxis": {
             "endlinecolor": "#2a3f5f",
             "gridcolor": "white",
             "linecolor": "white",
             "minorgridcolor": "white",
             "startlinecolor": "#2a3f5f"
            },
            "baxis": {
             "endlinecolor": "#2a3f5f",
             "gridcolor": "white",
             "linecolor": "white",
             "minorgridcolor": "white",
             "startlinecolor": "#2a3f5f"
            },
            "type": "carpet"
           }
          ],
          "choropleth": [
           {
            "colorbar": {
             "outlinewidth": 0,
             "ticks": ""
            },
            "type": "choropleth"
           }
          ],
          "contour": [
           {
            "colorbar": {
             "outlinewidth": 0,
             "ticks": ""
            },
            "colorscale": [
             [
              0,
              "#0d0887"
             ],
             [
              0.1111111111111111,
              "#46039f"
             ],
             [
              0.2222222222222222,
              "#7201a8"
             ],
             [
              0.3333333333333333,
              "#9c179e"
             ],
             [
              0.4444444444444444,
              "#bd3786"
             ],
             [
              0.5555555555555556,
              "#d8576b"
             ],
             [
              0.6666666666666666,
              "#ed7953"
             ],
             [
              0.7777777777777778,
              "#fb9f3a"
             ],
             [
              0.8888888888888888,
              "#fdca26"
             ],
             [
              1,
              "#f0f921"
             ]
            ],
            "type": "contour"
           }
          ],
          "contourcarpet": [
           {
            "colorbar": {
             "outlinewidth": 0,
             "ticks": ""
            },
            "type": "contourcarpet"
           }
          ],
          "heatmap": [
           {
            "colorbar": {
             "outlinewidth": 0,
             "ticks": ""
            },
            "colorscale": [
             [
              0,
              "#0d0887"
             ],
             [
              0.1111111111111111,
              "#46039f"
             ],
             [
              0.2222222222222222,
              "#7201a8"
             ],
             [
              0.3333333333333333,
              "#9c179e"
             ],
             [
              0.4444444444444444,
              "#bd3786"
             ],
             [
              0.5555555555555556,
              "#d8576b"
             ],
             [
              0.6666666666666666,
              "#ed7953"
             ],
             [
              0.7777777777777778,
              "#fb9f3a"
             ],
             [
              0.8888888888888888,
              "#fdca26"
             ],
             [
              1,
              "#f0f921"
             ]
            ],
            "type": "heatmap"
           }
          ],
          "heatmapgl": [
           {
            "colorbar": {
             "outlinewidth": 0,
             "ticks": ""
            },
            "colorscale": [
             [
              0,
              "#0d0887"
             ],
             [
              0.1111111111111111,
              "#46039f"
             ],
             [
              0.2222222222222222,
              "#7201a8"
             ],
             [
              0.3333333333333333,
              "#9c179e"
             ],
             [
              0.4444444444444444,
              "#bd3786"
             ],
             [
              0.5555555555555556,
              "#d8576b"
             ],
             [
              0.6666666666666666,
              "#ed7953"
             ],
             [
              0.7777777777777778,
              "#fb9f3a"
             ],
             [
              0.8888888888888888,
              "#fdca26"
             ],
             [
              1,
              "#f0f921"
             ]
            ],
            "type": "heatmapgl"
           }
          ],
          "histogram": [
           {
            "marker": {
             "pattern": {
              "fillmode": "overlay",
              "size": 10,
              "solidity": 0.2
             }
            },
            "type": "histogram"
           }
          ],
          "histogram2d": [
           {
            "colorbar": {
             "outlinewidth": 0,
             "ticks": ""
            },
            "colorscale": [
             [
              0,
              "#0d0887"
             ],
             [
              0.1111111111111111,
              "#46039f"
             ],
             [
              0.2222222222222222,
              "#7201a8"
             ],
             [
              0.3333333333333333,
              "#9c179e"
             ],
             [
              0.4444444444444444,
              "#bd3786"
             ],
             [
              0.5555555555555556,
              "#d8576b"
             ],
             [
              0.6666666666666666,
              "#ed7953"
             ],
             [
              0.7777777777777778,
              "#fb9f3a"
             ],
             [
              0.8888888888888888,
              "#fdca26"
             ],
             [
              1,
              "#f0f921"
             ]
            ],
            "type": "histogram2d"
           }
          ],
          "histogram2dcontour": [
           {
            "colorbar": {
             "outlinewidth": 0,
             "ticks": ""
            },
            "colorscale": [
             [
              0,
              "#0d0887"
             ],
             [
              0.1111111111111111,
              "#46039f"
             ],
             [
              0.2222222222222222,
              "#7201a8"
             ],
             [
              0.3333333333333333,
              "#9c179e"
             ],
             [
              0.4444444444444444,
              "#bd3786"
             ],
             [
              0.5555555555555556,
              "#d8576b"
             ],
             [
              0.6666666666666666,
              "#ed7953"
             ],
             [
              0.7777777777777778,
              "#fb9f3a"
             ],
             [
              0.8888888888888888,
              "#fdca26"
             ],
             [
              1,
              "#f0f921"
             ]
            ],
            "type": "histogram2dcontour"
           }
          ],
          "mesh3d": [
           {
            "colorbar": {
             "outlinewidth": 0,
             "ticks": ""
            },
            "type": "mesh3d"
           }
          ],
          "parcoords": [
           {
            "line": {
             "colorbar": {
              "outlinewidth": 0,
              "ticks": ""
             }
            },
            "type": "parcoords"
           }
          ],
          "pie": [
           {
            "automargin": true,
            "type": "pie"
           }
          ],
          "scatter": [
           {
            "fillpattern": {
             "fillmode": "overlay",
             "size": 10,
             "solidity": 0.2
            },
            "type": "scatter"
           }
          ],
          "scatter3d": [
           {
            "line": {
             "colorbar": {
              "outlinewidth": 0,
              "ticks": ""
             }
            },
            "marker": {
             "colorbar": {
              "outlinewidth": 0,
              "ticks": ""
             }
            },
            "type": "scatter3d"
           }
          ],
          "scattercarpet": [
           {
            "marker": {
             "colorbar": {
              "outlinewidth": 0,
              "ticks": ""
             }
            },
            "type": "scattercarpet"
           }
          ],
          "scattergeo": [
           {
            "marker": {
             "colorbar": {
              "outlinewidth": 0,
              "ticks": ""
             }
            },
            "type": "scattergeo"
           }
          ],
          "scattergl": [
           {
            "marker": {
             "colorbar": {
              "outlinewidth": 0,
              "ticks": ""
             }
            },
            "type": "scattergl"
           }
          ],
          "scattermapbox": [
           {
            "marker": {
             "colorbar": {
              "outlinewidth": 0,
              "ticks": ""
             }
            },
            "type": "scattermapbox"
           }
          ],
          "scatterpolar": [
           {
            "marker": {
             "colorbar": {
              "outlinewidth": 0,
              "ticks": ""
             }
            },
            "type": "scatterpolar"
           }
          ],
          "scatterpolargl": [
           {
            "marker": {
             "colorbar": {
              "outlinewidth": 0,
              "ticks": ""
             }
            },
            "type": "scatterpolargl"
           }
          ],
          "scatterternary": [
           {
            "marker": {
             "colorbar": {
              "outlinewidth": 0,
              "ticks": ""
             }
            },
            "type": "scatterternary"
           }
          ],
          "surface": [
           {
            "colorbar": {
             "outlinewidth": 0,
             "ticks": ""
            },
            "colorscale": [
             [
              0,
              "#0d0887"
             ],
             [
              0.1111111111111111,
              "#46039f"
             ],
             [
              0.2222222222222222,
              "#7201a8"
             ],
             [
              0.3333333333333333,
              "#9c179e"
             ],
             [
              0.4444444444444444,
              "#bd3786"
             ],
             [
              0.5555555555555556,
              "#d8576b"
             ],
             [
              0.6666666666666666,
              "#ed7953"
             ],
             [
              0.7777777777777778,
              "#fb9f3a"
             ],
             [
              0.8888888888888888,
              "#fdca26"
             ],
             [
              1,
              "#f0f921"
             ]
            ],
            "type": "surface"
           }
          ],
          "table": [
           {
            "cells": {
             "fill": {
              "color": "#EBF0F8"
             },
             "line": {
              "color": "white"
             }
            },
            "header": {
             "fill": {
              "color": "#C8D4E3"
             },
             "line": {
              "color": "white"
             }
            },
            "type": "table"
           }
          ]
         },
         "layout": {
          "annotationdefaults": {
           "arrowcolor": "#2a3f5f",
           "arrowhead": 0,
           "arrowwidth": 1
          },
          "autotypenumbers": "strict",
          "coloraxis": {
           "colorbar": {
            "outlinewidth": 0,
            "ticks": ""
           }
          },
          "colorscale": {
           "diverging": [
            [
             0,
             "#8e0152"
            ],
            [
             0.1,
             "#c51b7d"
            ],
            [
             0.2,
             "#de77ae"
            ],
            [
             0.3,
             "#f1b6da"
            ],
            [
             0.4,
             "#fde0ef"
            ],
            [
             0.5,
             "#f7f7f7"
            ],
            [
             0.6,
             "#e6f5d0"
            ],
            [
             0.7,
             "#b8e186"
            ],
            [
             0.8,
             "#7fbc41"
            ],
            [
             0.9,
             "#4d9221"
            ],
            [
             1,
             "#276419"
            ]
           ],
           "sequential": [
            [
             0,
             "#0d0887"
            ],
            [
             0.1111111111111111,
             "#46039f"
            ],
            [
             0.2222222222222222,
             "#7201a8"
            ],
            [
             0.3333333333333333,
             "#9c179e"
            ],
            [
             0.4444444444444444,
             "#bd3786"
            ],
            [
             0.5555555555555556,
             "#d8576b"
            ],
            [
             0.6666666666666666,
             "#ed7953"
            ],
            [
             0.7777777777777778,
             "#fb9f3a"
            ],
            [
             0.8888888888888888,
             "#fdca26"
            ],
            [
             1,
             "#f0f921"
            ]
           ],
           "sequentialminus": [
            [
             0,
             "#0d0887"
            ],
            [
             0.1111111111111111,
             "#46039f"
            ],
            [
             0.2222222222222222,
             "#7201a8"
            ],
            [
             0.3333333333333333,
             "#9c179e"
            ],
            [
             0.4444444444444444,
             "#bd3786"
            ],
            [
             0.5555555555555556,
             "#d8576b"
            ],
            [
             0.6666666666666666,
             "#ed7953"
            ],
            [
             0.7777777777777778,
             "#fb9f3a"
            ],
            [
             0.8888888888888888,
             "#fdca26"
            ],
            [
             1,
             "#f0f921"
            ]
           ]
          },
          "colorway": [
           "#636efa",
           "#EF553B",
           "#00cc96",
           "#ab63fa",
           "#FFA15A",
           "#19d3f3",
           "#FF6692",
           "#B6E880",
           "#FF97FF",
           "#FECB52"
          ],
          "font": {
           "color": "#2a3f5f"
          },
          "geo": {
           "bgcolor": "white",
           "lakecolor": "white",
           "landcolor": "#E5ECF6",
           "showlakes": true,
           "showland": true,
           "subunitcolor": "white"
          },
          "hoverlabel": {
           "align": "left"
          },
          "hovermode": "closest",
          "mapbox": {
           "style": "light"
          },
          "paper_bgcolor": "white",
          "plot_bgcolor": "#E5ECF6",
          "polar": {
           "angularaxis": {
            "gridcolor": "white",
            "linecolor": "white",
            "ticks": ""
           },
           "bgcolor": "#E5ECF6",
           "radialaxis": {
            "gridcolor": "white",
            "linecolor": "white",
            "ticks": ""
           }
          },
          "scene": {
           "xaxis": {
            "backgroundcolor": "#E5ECF6",
            "gridcolor": "white",
            "gridwidth": 2,
            "linecolor": "white",
            "showbackground": true,
            "ticks": "",
            "zerolinecolor": "white"
           },
           "yaxis": {
            "backgroundcolor": "#E5ECF6",
            "gridcolor": "white",
            "gridwidth": 2,
            "linecolor": "white",
            "showbackground": true,
            "ticks": "",
            "zerolinecolor": "white"
           },
           "zaxis": {
            "backgroundcolor": "#E5ECF6",
            "gridcolor": "white",
            "gridwidth": 2,
            "linecolor": "white",
            "showbackground": true,
            "ticks": "",
            "zerolinecolor": "white"
           }
          },
          "shapedefaults": {
           "line": {
            "color": "#2a3f5f"
           }
          },
          "ternary": {
           "aaxis": {
            "gridcolor": "white",
            "linecolor": "white",
            "ticks": ""
           },
           "baxis": {
            "gridcolor": "white",
            "linecolor": "white",
            "ticks": ""
           },
           "bgcolor": "#E5ECF6",
           "caxis": {
            "gridcolor": "white",
            "linecolor": "white",
            "ticks": ""
           }
          },
          "title": {
           "x": 0.05
          },
          "xaxis": {
           "automargin": true,
           "gridcolor": "white",
           "linecolor": "white",
           "ticks": "",
           "title": {
            "standoff": 15
           },
           "zerolinecolor": "white",
           "zerolinewidth": 2
          },
          "yaxis": {
           "automargin": true,
           "gridcolor": "white",
           "linecolor": "white",
           "ticks": "",
           "title": {
            "standoff": 15
           },
           "zerolinecolor": "white",
           "zerolinewidth": 2
          }
         }
        },
        "width": 900,
        "xaxis": {
         "title": {
          "text": "Time [s]"
         },
         "zeroline": true,
         "zerolinecolor": "black",
         "zerolinewidth": 1
        },
        "yaxis": {
         "title": {
          "text": "Speed [km/h]"
         },
         "zeroline": true,
         "zerolinecolor": "black",
         "zerolinewidth": 1
        }
       }
      },
      "text/html": [
       "<div>                            <div id=\"039f8ba9-c9bd-4531-883d-53ac46884abb\" class=\"plotly-graph-div\" style=\"height:500px; width:900px;\"></div>            <script type=\"text/javascript\">                require([\"plotly\"], function(Plotly) {                    window.PLOTLYENV=window.PLOTLYENV || {};                                    if (document.getElementById(\"039f8ba9-c9bd-4531-883d-53ac46884abb\")) {                    Plotly.newPlot(                        \"039f8ba9-c9bd-4531-883d-53ac46884abb\",                        [{\"line\":{\"color\":\"darkblue\"},\"mode\":\"lines\",\"name\":\"v_m_s_f\",\"x\":[0,1,2,3,4,5,6,7,8,9,10,11,12,13,14,15,16,17,18,19,20,21,22,23,24,25,26,27,28,29,30,31,32,33,34,35,36,37,38,39,40,41,42,43,44,45,46,47,48,49,50,51,52,53,54,55,56,57,58,59,60,61,62,63,64,65,66,67,68,69,70,71,72,73,74,75,76,77,78,79,80,81,82,83,84,85,86,87,88,89,90,91,92,93,94,95,96,97,98,99,100,101,102,103,104,105,106,107,108,109,110,111,112,113,114,115,116,117,118,119,120,121,122,123,124,125,126,127,128,129,130,131,132,133,134,135,136,137,138,139,140,141,142,143,144,145,146,147,148,149,150,151,152,153,154,155,156,157,158,159,160,161,162,163,164,165,166,167,168,169,170,171,172,173,174,175,176,177,178,179,180,181,182,183,184,185,186,187,188,189,190,191,192,193,194,195,196,197,198,199,200,201,202,203,204,205,206,207,208,209,210,211,212,213,214,215,216,217,218,219,220,221,222,223,224,225,226,227,228,229,230,231,232,233,234,235,236,237,238,239,240,241,242,243,244,245,246,247,248,249,250,251,252,253,254,255,256,257,258,259,260,261,262,263,264,265,266,267,268,269,270,271,272,273,274,275,276,277,278,279,280,281,282,283,284,285,286,287,288,289,290,291,292,293,294,295,296,297,298,299,300,301,302,303,304,305,306,307,308,309,310,311,312,313,314,315,316,317,318,319,320,321,322,323,324,325,326,327,328,329,330,331,332,333,334,335,336,337,338,339,340,341,342,343,344,345,346,347,348,349,350,351,352,353,354,355,356,357,358,359,360,361,362,363,364,365,366,367,368,369,370,371,372,373,374,375,376,377,378,379,380,381,382,383,384,385,386,387,388,389,390,391,392,393,394,395,396,397,398,399,400,401,402,403,404,405,406,407,408,409,410,411,412,413,414,415,416,417,418,419,420,421,422,423,424,425,426,427,428,429,430,431,432,433,434,435,436,437,438,439,440,441,442,443,444,445,446,447,448,449,450,451,452,453,454,455,456,457,458,459,460,461,462,463,464,465,466,467,468,469,470,471,472,473,474,475,476,477,478,479,480,481,482,483,484,485,486,487,488,489,490,491,492,493,494,495,496,497,498,499,500,501,502,503,504,505,506,507,508,509,510,511,512,513,514,515,516,517,518,519,520,521,522,523,524,525,526,527,528,529,530,531,532,533,534,535,536,537,538,539,540,541,542,543,544,545,546,547,548,549,550,551,552,553,554,555,556,557,558,559,560,561,562,563,564,565,566,567,568,569,570,571,572,573,574,575,576,577,578,579,580,581,582,583,584,585,586,587,588,589,590,591,592,593,594,595,596,597,598,599,600,601,602,603,604,605,606,607,608,609,610,611,612,613,614,615,616,617,618,619,620,621,622,623,624,625,626,627,628,629,630,631,632,633,634,635,636,637,638,639,640,641,642,643,644,645,646,647,648,649,650,651,652,653,654,655,656,657,658,659,660,661,662,663,664,665,666,667,668,669,670,671,672,673,674,675,676,677,678,679,680,681,682,683,684,685,686,687,688,689,690,691,692,693,694,695,696,697,698,699,700,701,702,703,704,705,706,707,708,709,710,711,712,713,714,715,716,717,718,719,720,721,722,723,724,725,726,727,728,729,730,731,732,733,734,735,736,737,738,739,740,741,742,743,744,745,746,747,748,749,750,751,752,753,754,755,756,757,758,759,760,761,762,763,764,765,766,767,768,769,770,771,772,773,774,775,776,777,778,779,780,781,782,783,784,785,786,787,788,789,790,791,792,793,794,795,796,797,798,799,800,801,802,803,804,805,806,807,808,809,810,811,812,813,814,815,816,817,818,819,820,821,822,823,824,825,826,827,828,829,830,831,832,833,834,835,836,837,838,839,840,841,842,843,844,845,846,847,848,849,850,851,852,853,854,855,856,857,858,859,860,861,862,863,864,865,866,867,868,869,870,871,872,873,874,875,876,877,878,879,880,881,882,883,884,885,886,887,888,889,890,891,892,893,894,895,896,897,898,899,900,901,902,903,904,905,906,907,908,909,910,911,912,913,914,915,916,917,918,919,920,921,922,923,924,925,926,927,928,929,930,931,932,933,934,935,936,937,938,939,940,941,942,943,944,945,946,947,948,949,950,951,952,953,954,955,956,957,958,959,960,961,962,963,964,965,966,967,968,969,970,971,972,973,974,975,976,977,978,979,980,981,982,983,984,985,986,987,988,989,990,991,992,993,994,995,996,997,998,999,1000,1001,1002,1003,1004,1005,1006,1007,1008,1009,1010,1011,1012,1013,1014,1015,1016,1017,1018,1019,1020,1021,1022,1023,1024,1025,1026,1027,1028,1029,1030,1031,1032,1033,1034,1035,1036,1037,1038,1039,1040,1041,1042,1043,1044,1045,1046,1047,1048,1049,1050,1051,1052,1053,1054,1055,1056,1057,1058,1059,1060,1061,1062,1063,1064,1065,1066,1067,1068,1069,1070,1071,1072,1073,1074,1075,1076,1077,1078,1079,1080,1081,1082,1083,1084,1085,1086,1087,1088,1089,1090,1091,1092,1093,1094,1095,1096,1097,1098,1099,1100,1101,1102,1103,1104,1105,1106,1107,1108,1109,1110,1111,1112,1113,1114,1115,1116,1117,1118,1119,1120,1121,1122,1123,1124,1125,1126,1127,1128,1129,1130,1131,1132,1133,1134,1135,1136,1137,1138,1139,1140,1141,1142,1143,1144,1145,1146,1147,1148,1149,1150,1151,1152,1153,1154,1155,1156,1157,1158,1159,1160,1161,1162,1163,1164,1165,1166,1167,1168,1169,1170,1171,1172,1173,1174,1175,1176,1177,1178,1179,1180,1181,1182,1183,1184,1185,1186,1187,1188,1189,1190,1191,1192,1193,1194,1195,1196,1197,1198,1199,1200,1201,1202,1203,1204,1205,1206,1207,1208,1209,1210,1211,1212,1213,1214,1215,1216,1217,1218,1219,1220,1221,1222,1223,1224,1225,1226,1227,1228,1229,1230,1231,1232,1233,1234,1235,1236,1237,1238,1239,1240,1241,1242,1243,1244,1245,1246,1247,1248,1249,1250,1251,1252,1253,1254,1255,1256,1257,1258,1259,1260,1261,1262,1263,1264,1265,1266,1267,1268,1269,1270,1271,1272,1273,1274,1275,1276,1277,1278,1279,1280,1281,1282,1283,1284,1285,1286,1287,1288,1289,1290,1291,1292,1293,1294,1295,1296,1297,1298,1299,1300,1301,1302,1303,1304,1305,1306,1307,1308,1309,1310,1311,1312,1313,1314,1315,1316,1317,1318,1319,1320,1321,1322,1323,1324,1325,1326,1327,1328,1329,1330,1331,1332,1333,1334,1335,1336,1337,1338,1339,1340,1341,1342,1343,1344,1345,1346,1347,1348,1349,1350,1351,1352,1353,1354,1355,1356,1357,1358,1359,1360,1361,1362,1363,1364,1365,1366,1367,1368,1369,1370,1371,1372,1373,1374,1375,1376,1377,1378,1379,1380,1381,1382,1383,1384,1385,1386,1387,1388,1389,1390,1391,1392,1393,1394,1395,1396,1397,1398,1399,1400,1401,1402,1403,1404,1405,1406,1407,1408,1409,1410,1411,1412,1413,1414,1415,1416,1417,1418,1419,1420,1421,1422,1423,1424,1425,1426,1427,1428,1429,1430,1431,1432,1433,1434,1435,1436,1437,1438,1439,1440,1441,1442,1443,1444,1445,1446,1447,1448,1449,1450,1451,1452,1453,1454,1455,1456,1457,1458,1459,1460,1461,1462,1463,1464,1465,1466,1467,1468,1469,1470,1471,1472,1473,1474,1475,1476,1477,1478,1479,1480,1481,1482,1483,1484,1485,1486,1487,1488,1489,1490,1491,1492,1493,1494,1495,1496,1497,1498,1499,1500,1501,1502,1503,1504,1505,1506,1507,1508,1509,1510,1511,1512,1513,1514,1515,1516,1517,1518,1519,1520,1521,1522,1523,1524,1525,1526,1527,1528,1529,1530,1531,1532,1533,1534,1535,1536,1537,1538,1539,1540,1541,1542,1543,1544,1545,1546,1547,1548,1549,1550,1551,1552,1553,1554,1555,1556,1557,1558,1559,1560,1561,1562,1563,1564,1565,1566,1567,1568,1569,1570,1571,1572,1573,1574,1575,1576,1577,1578,1579,1580,1581,1582,1583,1584,1585,1586,1587,1588,1589,1590,1591,1592,1593,1594,1595,1596,1597,1598,1599,1600,1601,1602,1603,1604,1605,1606,1607,1608,1609,1610,1611,1612,1613,1614,1615,1616,1617,1618,1619,1620,1621,1622,1623,1624,1625,1626,1627,1628,1629,1630,1631,1632,1633,1634,1635,1636,1637,1638,1639,1640,1641,1642,1643,1644,1645,1646,1647,1648,1649,1650,1651,1652,1653,1654,1655,1656,1657,1658,1659,1660,1661,1662,1663,1664,1665,1666,1667,1668,1669,1670,1671,1672,1673,1674,1675,1676,1677,1678,1679,1680,1681,1682,1683,1684,1685,1686,1687,1688,1689,1690,1691,1692,1693,1694,1695,1696,1697,1698,1699,1700,1701,1702,1703,1704,1705,1706,1707,1708,1709,1710,1711,1712,1713,1714,1715,1716,1717,1718,1719,1720,1721,1722,1723,1724,1725,1726,1727,1728,1729,1730,1731,1732,1733,1734,1735,1736,1737,1738,1739,1740,1741,1742,1743,1744,1745,1746,1747,1748,1749,1750,1751,1752,1753,1754,1755,1756,1757,1758,1759,1760,1761,1762,1763,1764,1765,1766,1767,1768,1769,1770,1771,1772,1773,1774,1775,1776,1777,1778,1779,1780,1781,1782,1783,1784,1785,1786,1787,1788,1789,1790,1791,1792,1793,1794,1795,1796,1797,1798,1799,1800,1801,1802,1803,1804,1805,1806,1807,1808,1809,1810,1811,1812,1813,1814,1815,1816,1817,1818,1819,1820,1821,1822,1823,1824,1825,1826,1827,1828,1829,1830,1831,1832,1833,1834,1835,1836,1837,1838,1839,1840,1841,1842,1843,1844,1845,1846,1847,1848,1849,1850,1851,1852,1853,1854,1855,1856,1857,1858,1859,1860,1861,1862,1863,1864,1865,1866,1867,1868,1869,1870,1871,1872,1873,1874,1875,1876,1877,1878,1879,1880,1881,1882,1883,1884,1885,1886,1887,1888,1889,1890,1891,1892,1893,1894,1895,1896,1897,1898,1899,1900,1901,1902,1903,1904,1905,1906,1907,1908,1909,1910,1911,1912,1913,1914,1915,1916,1917,1918,1919,1920,1921,1922,1923,1924,1925,1926,1927,1928,1929,1930,1931,1932,1933,1934,1935,1936,1937,1938,1939,1940,1941,1942,1943,1944,1945,1946,1947,1948,1949],\"y\":[0.0,0.0,0.3083333333333333,1.5,3.055555555555555,4.213888888888889,4.880555555555556,5.094444444444444,4.952777777777778,4.747222222222222,4.444444444444445,4.141666666666667,3.936111111111111,3.844444444444444,3.952777777777778,4.108333333333333,4.136111111111111,3.891666666666667,3.636111111111111,3.636111111111111,3.913888888888889,4.047222222222222,4.066666666666666,3.677777777777778,3.016666666666667,2.275,1.908333333333333,1.691666666666667,1.341666666666667,0.8333333333333333,0.3027777777777778,0.0,0.0,0.0,0.0,0.0,0.0,0.0,0.0,0.0,0.0,0.7027777777777777,1.997222222222222,3.363888888888888,4.011111111111111,4.263888888888888,4.827777777777778,5.975000000000001,7.327777777777778,8.147222222222222,8.427777777777777,8.308333333333334,8.405555555555555,8.516666666666666,8.730555555555556,8.769444444444444,8.658333333333333,8.319444444444445,8.025,8.041666666666666,8.46111111111111,9.194444444444445,9.930555555555555,10.51111111111111,10.88611111111111,11.06388888888889,11.15833333333333,11.03888888888889,10.98333333333333,10.66388888888889,10.03611111111111,8.744444444444444,7.372222222222222,6.111111111111111,4.905555555555556,3.308333333333333,1.786111111111111,0.7861111111111111,0.2777777777777778,0.0,0.0,0.0,0.0,0.0,0.0,0.6972222222222222,1.905555555555556,3.055555555555555,3.591666666666666,3.588888888888889,3.172222222222222,2.825,3.144444444444444,4.069444444444445,5.222222222222222,6.422222222222222,7.694444444444444,8.947222222222223,9.980555555555556,10.41388888888889,10.41944444444444,10.55555555555556,11.08611111111111,11.66666666666667,12.22222222222222,12.825,13.26111111111111,13.35833333333333,13.03055555555556,12.525,11.96388888888889,11.33611111111111,10.68611111111111,9.811111111111112,9.11111111111111,8.372222222222222,7.919444444444444,7.777777777777778,8.380555555555556,9.06111111111111,9.408333333333333,9.661111111111111,10.31388888888889,10.94444444444444,11.15555555555556,11.40555555555556,12.075,12.73333333333333,13.08611111111111,13.33333333333333,13.58611111111111,13.96111111111111,14.37222222222222,14.76944444444444,14.95277777777778,15.025,14.98888888888889,15.01666666666667,15.12777777777778,15.24722222222222,15.29166666666667,15.27777777777778,15.29722222222222,15.25,15.14722222222222,14.6,13.25555555555555,11.48333333333333,10.35,10.27777777777778,10.76111111111111,11.43611111111111,12.22222222222222,13.00833333333333,13.68333333333333,14.07222222222222,14.23888888888889,14.11944444444444,13.91388888888889,13.58611111111111,13.40555555555556,13.26111111111111,13.08055555555556,12.87222222222222,12.33611111111111,11.14722222222222,9.330555555555556,7.925,7.533333333333333,8.122222222222222,8.822222222222223,9.183333333333334,9.141666666666666,8.88888888888889,8.636111111111111,8.636111111111111,8.88888888888889,9.119444444444444,9.191666666666668,9.141666666666666,9.188888888888888,9.430555555555555,10.15833333333333,10.93055555555556,11.41111111111111,11.80833333333333,12.38055555555555,12.77777777777778,12.80277777777778,12.80277777777778,12.73055555555555,12.54722222222222,12.28888888888889,11.53611111111111,9.705555555555554,7.05,4.455555555555555,2.513888888888889,1.352777777777778,1.144444444444444,1.972222222222222,3.886111111111111,5.311111111111111,5.905555555555556,6.038888888888888,6.641666666666667,7.316666666666666,7.961111111111111,8.28611111111111,8.475,8.769444444444444,9.261111111111111,9.625,10.07777777777778,10.58611111111111,10.95,11.3,11.94444444444444,12.63611111111111,12.85,12.80277777777778,12.75277777777778,12.45277777777778,12.08611111111111,11.5,10.69444444444444,9.291666666666668,7.638888888888888,5.777777777777778,4.261111111111111,3.011111111111111,1.919444444444445,0.8083333333333333,0.0,0.0,0.0,0.0,0.0,0.0,0.0,0.0,0.0,0.0,0.0,0.0,0.0,0.0,0.0,0.0,0.0,0.0,0.0,0.0,0.0,0.0,0.0,0.0,1.352777777777778,3.691666666666666,5.591666666666666,6.052777777777777,6.425,7.633333333333333,9.444444444444445,11.23055555555556,12.56388888888889,13.04722222222222,13.22222222222222,13.96666666666667,15.075,16.00555555555555,16.44166666666667,16.43611111111111,16.21666666666667,16.14444444444444,16.21944444444444,15.60277777777778,13.67777777777778,10.54722222222222,7.283333333333333,4.380555555555556,2.333333333333333,1.016666666666667,0.325,0.0,0.0,0.0,0.0,0.0,0.0,0.0,0.0,0.0,0.0,0.0,0.0,0.0,0.0,0.0,0.0,0.0,0.0,0.0,0.0,0.0,0.0,0.0,0.0,0.0,0.0,0.0,0.0,0.0,0.0,0.0,0.0,0.0,0.0,0.0,0.0,0.0,0.0,0.0,0.8916666666666666,2.783333333333333,4.686111111111111,5.552777777777777,5.797222222222222,6.302777777777778,7.425,8.883333333333333,10.09722222222222,10.65277777777778,10.70555555555556,10.65555555555556,10.79722222222222,10.87222222222222,10.78611111111111,10.58055555555556,10.25277777777778,10.04722222222222,10.0,9.927777777777779,9.794444444444444,9.697222222222221,9.722222222222221,9.727777777777778,9.769444444444444,9.602777777777778,8.816666666666666,7.475,6.011111111111111,4.516666666666667,2.936111111111111,1.497222222222222,0.6305555555555555,0.1972222222222222,0.0,0.0,0.0,0.0,0.0,0.0,0.15,0.4111111111111111,0.5194444444444445,0.2416666666666667,0.0,0.3,1.647222222222222,3.636111111111111,4.944444444444445,5.363888888888888,5.686111111111111,6.608333333333333,7.733333333333333,8.544444444444444,9.313888888888888,9.838888888888889,10.025,10.19166666666667,10.75555555555555,11.36111111111111,11.65555555555556,11.99166666666667,12.68611111111111,13.61111111111111,13.98888888888889,13.77777777777778,13.23888888888889,12.87222222222222,12.42777777777778,12.01666666666667,11.36388888888889,10.18611111111111,8.394444444444444,6.344444444444444,4.333333333333333,2.591666666666667,1.205555555555555,0.3638888888888889,0.0,0.0,0.5472222222222222,2.1,4.152777777777778,5.316666666666666,5.625,5.958333333333333,7.183333333333333,8.936111111111112,10.08888888888889,10.35,10.03055555555556,9.713888888888889,9.327777777777778,8.927777777777777,8.641666666666666,8.261111111111111,7.5,6.388888888888888,5.350000000000001,4.35,3.405555555555555,2.452777777777778,1.691666666666667,1.136111111111111,0.8333333333333333,0.4611111111111111,0.0,0.0,0.0,0.0,0.0,0.0,0.0,0.1666666666666667,1.488888888888889,3.497222222222222,4.805555555555555,4.980555555555555,5.238888888888889,6.288888888888889,7.722222222222222,8.927777777777777,10.14166666666667,10.84166666666667,10.99722222222222,11.15833333333333,11.89722222222222,12.85,13.44444444444444,13.70555555555556,13.91388888888889,14.44444444444444,15.0,15.20555555555556,15.0,14.84166666666667,14.90555555555556,15.025,15.03055555555556,14.95277777777778,14.64166666666667,14.18055555555555,13.93611111111111,13.97222222222222,14.18611111111111,14.43333333333333,14.72777777777778,15.0,15.17222222222222,15.34722222222222,15.46666666666667,15.65,15.78611111111111,15.78611111111111,15.65,15.46111111111111,15.35,15.27777777777778,15.20555555555556,15.07222222222222,14.975,15.0,14.975,15.07222222222222,15.20555555555556,15.27777777777778,15.35,15.46111111111111,15.65,15.76111111111111,15.88055555555556,15.76111111111111,15.62777777777778,15.53055555555556,15.55555555555556,15.53055555555556,15.62777777777778,15.78611111111111,15.80833333333333,15.55555555555556,15.35,15.20277777777778,15.03611111111111,14.78611111111111,14.38611111111111,13.67777777777778,12.31944444444444,10.68333333333333,9.044444444444444,7.830555555555556,6.788888888888889,6.247222222222222,6.0,5.858333333333333,5.555555555555555,5.277777777777778,5.0,4.722222222222222,4.444444444444445,4.191666666666666,3.841666666666667,3.358333333333333,2.777777777777778,2.202777777777778,1.716666666666667,1.263888888888889,0.8833333333333333,0.5361111111111111,0.2527777777777778,0.0,0.0,0.0,0.0,0.0,0.0,0.0,0.0,0.0,0.0,0.0,0.0,0.0,0.0,0.0,0.0,0.0,0.0,0.0,1.061111111111111,2.416666666666667,3.247222222222222,3.333333333333333,3.475,4.094444444444444,5.0,5.833333333333333,6.691666666666666,7.405555555555555,8.247222222222222,9.01388888888889,9.41388888888889,9.366666666666665,9.461111111111112,9.663888888888888,9.722222222222221,9.747222222222224,10.04722222222222,10.50833333333333,10.80833333333333,10.88055555555556,10.78611111111111,10.60277777777778,10.23055555555555,9.747222222222224,9.191666666666668,8.516666666666666,7.897222222222222,7.427777777777777,7.247222222222222,7.247222222222222,7.475,7.802777777777777,8.030555555555555,8.030555555555555,7.777777777777778,7.524999999999999,7.524999999999999,7.752777777777777,8.030555555555555,8.380555555555556,8.88888888888889,9.397222222222222,9.747222222222224,10.04722222222222,10.18333333333333,10.07222222222222,9.722222222222221,9.072222222222221,8.174999999999999,7.102777777777778,6.205555555555556,5.555555555555555,5.252777777777777,5.0,4.675,4.516666666666667,4.722222222222222,5.302777777777778,5.713888888888889,5.916666666666667,6.083333333333333,6.547222222222222,7.244444444444444,7.997222222222222,8.658333333333333,9.141666666666666,9.444444444444445,9.375,9.305555555555555,9.319444444444443,9.53611111111111,9.674999999999999,9.674999999999999,9.53888888888889,9.372222222222222,9.166666666666666,8.96111111111111,8.794444444444444,8.683333333333334,8.61111111111111,8.563888888888888,8.333333333333334,8.036111111111111,8.21111111111111,8.705555555555556,9.225,9.4,9.491666666666667,9.372222222222222,9.238888888888889,9.119444444444444,9.238888888888889,9.372222222222222,9.444444444444445,9.516666666666666,9.65,9.747222222222224,9.747222222222224,9.674999999999999,9.469444444444445,9.141666666666666,8.936111111111112,8.841666666666667,8.96111111111111,9.094444444444445,9.191666666666668,9.166666666666666,9.141666666666666,9.213888888888889,9.444444444444445,9.65,9.816666666666668,9.952777777777778,9.952777777777778,9.794444444444444,9.697222222222221,9.769444444444444,9.674999999999999,9.141666666666666,7.983333333333333,6.808333333333334,6.063888888888888,5.858333333333333,5.833333333333333,5.772222222222222,5.608333333333333,5.4,5.308333333333333,5.263888888888888,5.230555555555555,5.302777777777778,6.025,7.030555555555555,7.452777777777778,6.944444444444445,6.555555555555555,6.524999999999999,6.738888888888889,6.944444444444445,7.127777777777777,7.283333333333333,7.816666666666666,9.122222222222224,10.30555555555556,10.775,10.50555555555555,10.40833333333333,10.48333333333333,10.53055555555556,10.25277777777778,10.07222222222222,10.25277777777778,10.88055555555556,11.61944444444444,12.24722222222222,12.40555555555556,12.34166666666667,12.12777777777778,12.03888888888889,11.87222222222222,11.71388888888889,11.45277777777778,10.61944444444444,9.116666666666667,7.322222222222222,5.391666666666667,3.552777777777778,2.602777777777777,2.580555555555555,2.855555555555555,3.386111111111111,4.527777777777778,5.902777777777778,6.797222222222222,7.058333333333334,6.872222222222222,6.738888888888889,6.555555555555555,6.85,7.594444444444444,8.563888888888888,9.527777777777777,10.325,10.89444444444444,11.48888888888889,12.40555555555556,13.35833333333333,14.26111111111111,14.76111111111111,14.93611111111111,14.88055555555555,15.07222222222222,15.25277777777778,15.58055555555556,15.78611111111111,15.85833333333333,15.83333333333333,15.83333333333333,15.83333333333333,15.85833333333333,15.78611111111111,15.58055555555556,15.27777777777778,15.04722222222222,14.65,13.85,12.86111111111111,12.13611111111111,11.60555555555556,10.93333333333333,10.41944444444444,10.12222222222222,10.14166666666667,10.18333333333333,10.39444444444444,10.02222222222222,9.391666666666667,8.825,8.955555555555556,9.366666666666665,10.11944444444444,11.12777777777778,12.14722222222222,12.78888888888889,13.10555555555555,13.05555555555556,12.96944444444444,12.97222222222222,13.15,12.60833333333333,11.14722222222222,8.944444444444445,6.675,4.825,3.611111111111111,2.663888888888889,1.594444444444445,0.9638888888888889,1.513888888888889,3.047222222222222,4.419444444444444,4.919444444444444,5.213888888888889,6.052777777777777,7.361111111111111,8.719444444444445,9.78611111111111,10.325,10.25833333333333,10.025,9.769444444444444,9.272222222222222,8.747222222222222,8.683333333333334,9.438888888888888,10.54166666666667,11.63611111111111,12.7,13.46111111111111,14.02222222222222,14.43888888888889,14.60277777777778,14.31944444444444,13.88888888888889,13.60555555555555,13.33333333333333,13.05833333333333,12.79166666666667,12.53888888888889,11.80277777777778,10.20833333333333,8.058333333333334,5.922222222222222,4.258333333333333,3.341666666666666,3.308333333333333,3.944444444444444,4.997222222222222,5.977777777777778,6.244444444444444,6.322222222222223,6.883333333333334,8.044444444444444,9.216666666666667,9.808333333333334,9.794444444444444,9.841666666666667,10.50833333333333,11.36388888888889,11.96944444444444,12.15,11.99166666666667,11.66666666666667,11.38888888888889,11.06388888888889,10.90555555555556,11.08611111111111,11.73888888888889,12.40555555555556,12.75277777777778,12.825,13.10277777777778,13.56388888888889,13.86388888888889,13.93611111111111,13.81666666666667,13.65833333333333,13.65833333333333,13.81666666666667,13.91388888888889,13.88888888888889,13.88888888888889,13.86388888888889,13.96111111111111,14.09444444444444,14.19166666666667,14.16666666666667,14.14166666666667,14.23888888888889,14.37222222222222,14.49166666666667,14.37222222222222,14.23888888888889,14.14166666666667,14.16666666666667,14.16666666666667,14.16111111111111,14.16666666666667,14.26944444444444,14.39722222222222,14.48611111111111,14.39722222222222,14.20555555555556,13.90277777777778,13.18888888888889,12.11388888888889,10.54722222222222,9.077777777777778,7.875,7.430555555555555,7.563888888888889,7.875,8.197222222222223,8.61111111111111,9.072222222222221,9.238888888888889,9.141666666666666,8.863888888888889,8.333333333333334,7.749999999999999,7.611111111111111,8.055555555555555,8.927777777777777,9.669444444444444,9.938888888888888,9.819444444444445,9.552777777777777,9.136111111111111,8.494444444444444,7.722222222222222,7.024999999999999,6.308333333333334,5.697222222222223,4.897222222222222,3.933333333333333,2.722222222222222,1.741666666666666,1.019444444444444,0.4694444444444444,0.0,0.0,0.0,0.0,0.0,0.0,0.0,0.0,0.0,0.0,0.0,0.0,0.0,0.0,0.0,0.0,0.0,0.0,0.0,0.0,0.0,0.0,0.0,0.0,0.1472222222222222,1.516666666666667,3.725,5.469444444444445,6.019444444444445,6.344444444444444,7.113888888888889,8.422222222222222,9.86111111111111,10.88055555555556,11.18055555555556,11.35277777777778,12.01944444444445,12.76388888888889,12.99722222222222,12.86666666666667,12.49722222222222,11.64722222222222,10.00833333333333,7.744444444444444,5.691666666666666,4.469444444444444,4.069444444444445,4.280555555555556,4.977777777777778,5.844444444444444,6.388888888888888,6.683333333333333,6.919444444444444,7.247222222222222,7.802777777777777,8.58611111111111,9.516666666666666,10.13611111111111,10.325,10.37222222222222,10.43611111111111,10.325,10.09444444444444,9.561111111111112,8.336111111111112,6.611111111111111,5.4,4.933333333333334,5.0,5.325,5.76111111111111,6.158333333333333,6.341666666666666,6.363888888888889,6.483333333333333,6.897222222222221,7.524999999999999,8.055555555555555,8.261111111111111,8.102777777777778,7.777777777777778,7.475,7.269444444444445,7.197222222222222,7.197222222222222,7.247222222222222,7.524999999999999,8.030555555555555,8.61111111111111,9.119444444444444,9.863888888888889,10.73888888888889,11.29444444444444,11.50833333333333,11.94444444444444,12.75277777777778,13.63611111111111,14.39722222222222,15.09444444444444,15.36388888888889,15.41944444444444,15.58055555555556,16.08611111111111,16.31666666666667,16.15833333333333,15.80833333333333,15.60277777777778,15.53055555555556,15.53055555555556,15.60277777777778,15.83333333333333,16.06388888888889,16.13611111111111,16.11666666666667,16.13333333333333,15.93055555555556,15.67222222222222,15.51388888888889,15.58055555555556,15.48333333333333,15.35,15.25277777777778,15.27777777777778,15.30277777777778,15.20555555555556,15.09444444444444,14.90555555555556,14.81666666666667,14.62777777777778,14.51666666666667,14.41944444444444,14.44444444444444,14.46944444444444,14.37222222222222,14.26111111111111,14.07222222222222,13.96111111111111,13.88888888888889,13.86111111111111,13.55833333333333,13.225,12.95555555555556,12.86944444444444,12.68333333333333,12.59444444444444,12.40555555555556,12.31666666666667,12.12777777777778,12.03888888888889,11.89722222222222,11.64166666666667,11.13611111111111,10.55555555555556,10.0,9.419444444444443,9.055555555555555,8.372222222222222,6.930555555555555,5.155555555555555,4.172222222222222,4.149999999999999,4.783333333333333,5.788888888888889,7.016666666666667,8.069444444444445,8.483333333333333,8.513888888888888,8.658333333333333,9.194444444444445,9.908333333333333,10.84166666666667,11.60555555555556,11.94166666666667,11.98055555555556,12.00833333333333,11.83611111111111,11.50833333333333,11.08055555555556,10.50277777777778,9.238888888888889,7.919444444444444,7.177777777777777,7.227777777777778,7.475,7.777777777777778,8.055555555555555,8.333333333333334,8.61111111111111,8.91388888888889,9.141666666666666,9.119444444444444,8.98611111111111,8.838888888888889,8.572222222222221,7.983333333333333,7.608333333333333,7.811111111111111,8.655555555555555,9.669444444444444,10.55555555555556,11.08611111111111,11.43611111111111,11.61944444444444,11.71388888888889,11.61944444444444,11.43611111111111,11.13333333333333,10.48888888888889,9.005555555555556,7.536111111111111,6.8,7.063888888888888,7.358333333333333,7.475,7.641666666666667,8.28611111111111,9.166666666666666,9.674999999999999,9.722222222222221,9.469444444444445,9.166666666666666,8.88888888888889,8.636111111111111,8.261111111111111,7.825,7.5,7.524999999999999,7.705555555555555,8.15,8.91388888888889,9.602777777777778,9.747222222222224,9.444444444444445,9.238888888888889,9.094444444444445,8.91388888888889,8.61111111111111,8.308333333333334,8.127777777777778,7.961111111111111,7.875,7.847222222222222,7.138888888888888,5.838888888888889,4.652777777777778,4.491666666666667,5.013888888888889,6.052777777777777,7.441666666666666,8.808333333333334,9.68888888888889,9.666666666666666,9.291666666666668,8.905555555555557,8.63888888888889,8.325,8.055555555555555,7.777777777777778,7.5,7.197222222222222,6.969444444444444,6.969444444444444,7.230555555555556,7.438888888888889,7.425,7.186111111111111,6.952777777777778,7.063888888888888,7.358333333333333,7.547222222222222,7.547222222222222,7.427777777777777,6.897222222222221,6.252777777777778,5.688888888888889,5.336111111111111,5.358333333333333,6.097222222222221,7.394444444444445,8.394444444444444,8.7,8.308333333333334,7.777777777777778,7.269444444444445,6.938888888888889,6.622222222222222,6.244444444444444,5.788888888888889,5.294444444444444,4.649999999999999,4.358333333333333,4.277777777777778,4.213888888888889,3.941666666666666,3.513888888888889,2.680555555555556,1.819444444444444,1.152777777777778,0.5666666666666667,0.0,0.0,0.0,0.0,0.0,0.0,0.0,0.0,0.0,0.0,0.0,0.0,0.0,0.0,0.0,0.0,0.0,0.0,0.0,0.0,0.0,0.0,0.0,0.0,0.0,0.0,0.0,0.0,0.0,0.0,0.0,0.0,0.0,0.0,0.0,0.0,0.0,0.0,0.0,0.0,0.0,0.0,0.0,0.0,0.0,0.0,0.0,0.0,0.0,0.0,0.0,0.0,0.0,0.0,0.0,0.0,0.0,0.0,0.0,0.9444444444444444,2.125,2.65,2.711111111111111,2.983333333333333,3.636111111111111,4.141666666666667,4.419444444444444,4.444444444444445,4.516666666666667,4.649999999999999,4.769444444444445,4.675,4.444444444444445,4.191666666666666,4.141666666666667,4.469444444444444,5.325,6.691666666666666,7.936111111111111,8.625,8.908333333333333,9.347222222222221,9.972222222222221,10.51944444444444,10.88055555555556,11.03888888888889,11.20555555555556,11.31666666666667,11.41388888888889,11.41388888888889,11.34166666666667,11.11666666666667,10.91111111111111,10.66388888888889,10.33888888888889,10.14722222222222,9.622222222222222,8.216666666666667,6.461111111111111,6.022222222222222,7.005555555555555,8.694444444444445,9.747222222222224,10.11944444444444,10.35,11.10833333333333,11.81944444444444,12.27777777777778,12.91111111111111,13.82777777777778,14.32222222222222,14.26111111111111,14.21388888888889,14.35,14.53888888888889,14.675,14.71666666666667,14.425,14.04722222222222,13.54444444444444,12.79444444444444,11.64444444444444,10.3,8.886111111111111,7.45,6.183333333333334,5.277777777777778,4.649999999999999,4.238888888888889,4.094444444444444,4.55,5.5,6.85,8.308333333333334,9.227777777777778,9.327777777777778,8.91111111111111,8.658333333333333,8.247222222222222,7.508333333333334,6.761111111111111,6.316666666666666,6.136111111111111,6.111111111111111,6.402777777777778,6.913888888888889,7.722222222222222,8.533333333333333,8.894444444444446,8.238888888888889,6.833333333333334,5.041666666666666,3.388888888888888,1.958333333333333,0.7999999999999999,0.0,0.0,0.0,0.0,0.9138888888888889,2.583333333333333,4.399999999999999,5.344444444444444,5.977777777777778,6.697222222222222,7.880555555555556,9.294444444444444,10.33055555555555,10.96111111111111,11.34166666666667,11.975,12.40833333333333,12.57222222222222,12.42777777777778,12.29444444444444,12.22222222222222,12.15,12.03888888888889,11.89722222222222,11.69166666666667,11.06388888888889,10.01666666666667,8.522222222222222,7.225000000000001,6.227777777777778,5.644444444444445,5.277777777777778,5.230555555555555,5.325,5.508333333333333,5.880555555555556,6.413888888888889,6.825,7.063888888888888,7.149999999999999,7.247222222222222,7.161111111111111,7.327777777777778,7.913888888888888,8.852777777777778,9.997222222222222,11.28611111111111,12.46111111111111,13.41111111111111,14.09444444444444,14.41944444444444,14.51666666666667,14.74722222222222,14.88055555555555,14.86388888888889,14.65,14.03611111111111,13.23055555555556,12.88333333333333,13.21666666666667,13.79166666666667,14.41944444444444,14.92777777777778,15.325,15.44166666666667,15.35,15.325,15.50833333333333,15.50833333333333,15.35,15.25277777777778,15.27777777777778,15.27777777777778,15.27777777777778,15.27777777777778,15.27777777777778,15.27777777777778,15.27777777777778,15.27777777777778,15.27777777777778,15.3,15.20833333333333,15.07777777777778,14.99722222222222,14.94722222222222,14.61944444444445,14.27222222222222,14.12222222222222,14.16666666666667,14.16666666666667,14.16666666666667,14.16666666666667,14.16666666666667,14.16666666666667,14.19166666666667,14.07222222222222,14.00833333333333,14.11388888888889,14.43611111111111,14.725,15.01111111111111,15.28333333333333,15.60277777777778,15.73888888888889,15.58055555555556,15.325,15.25277777777778,15.27777777777778,15.27777777777778,15.30277777777778,15.20555555555556,15.09444444444444,14.90555555555556,14.79444444444444,14.72222222222222,14.65,14.53888888888889,14.37222222222222,14.21388888888889,13.81666666666667,13.40555555555556,13.03055555555556,12.80277777777778,12.45277777777778,11.96944444444444,11.43611111111111,10.73888888888889,9.674999999999999,8.869444444444444,8.336111111111112,7.933333333333333,7.508333333333334,7.475,7.5,7.524999999999999,7.427777777777777,7.316666666666666,7.127777777777777,7.016666666666667,6.897222222222221,7.016666666666667,7.174999999999999,7.247222222222222,6.85,6.183333333333334,5.530555555555556,5.350000000000001,5.530555555555556,5.76111111111111,5.880555555555556,6.111111111111111,6.705555555555556,7.411111111111111,8.216666666666667,9.244444444444445,10.05555555555556,10.41944444444444,10.50833333333333,10.88611111111111,11.34166666666667,11.88611111111111,12.54722222222222,13.33888888888889,13.72222222222222,13.80277777777778,13.76944444444444,13.97777777777778,14.09166666666667,14.29166666666667,14.36944444444444,14.51111111111111,14.72222222222222,14.92777777777778,15.11944444444444,15.15833333333333,15.025,14.76944444444444,14.69722222222222,14.72222222222222,14.72222222222222,14.74722222222222,14.65,14.51944444444445,14.425,14.37777777777778,14.14166666666667,13.85,13.60555555555555,13.31666666666667,12.81666666666667,11.83055555555556,10.51666666666667,8.866666666666667,7.155555555555556,4.722222222222222,2.283333333333334,0.5166666666666667,0.0,0.0,0.0,0.0,0.0,0.0,0.0,0.0,0.0,0.0,0.0,0.0,0.0,0.0,0.0,0.0,0.0,0.0,0.0,0.0,0.0,0.0,0.0,0.0,0.0,0.0,0.0,0.0,0.0,0.0,0.0,0.0,0.0,0.0,0.0,0.0,0.0,0.0,0.0,0.7222222222222222,1.691666666666667,2.658333333333333,3.461111111111111,4.333333333333333,4.716666666666667,4.786111111111111,5.063888888888889,5.786111111111111,6.663888888888888,7.472222222222221,8.427777777777777,9.372222222222222,9.905555555555555,10.14166666666667,10.52222222222222,11.07777777777778,11.56388888888889,11.86388888888889,11.95833333333333,11.99166666666667,12.19722222222222,12.525,12.73055555555555,12.80277777777778,12.75277777777778,12.84722222222222,12.94444444444444,13.18611111111111,13.6,14.13888888888889,14.33611111111111,14.18888888888889,13.89444444444445,13.61111111111111,13.30833333333333,13.10277777777778,13.05555555555556,12.96388888888889,12.87777777777778,12.98333333333333,13.31388888888889,13.63888888888889,13.84166666666667,13.93611111111111,13.84166666666667,13.64166666666667,13.32777777777778,12.94444444444444,12.51944444444444,12.27777777777778,12.15,11.96944444444444,11.64166666666667,11.48333333333333,11.24722222222222,10.95277777777778,10.43611111111111,10.14166666666667,9.880555555555555,9.816666666666668,9.680555555555555,9.472222222222223,8.819444444444445,7.408333333333333,5.161111111111111,2.741666666666666,1.041666666666667,0.2444444444444444,0.0,0.0,0.0,0.0,0.0,0.0,0.0,0.0,0.0,0.0,0.0,0.0,0.0,0.0,0.0,0.0,0.0,0.0,0.0,0.0,0.0,0.0,0.0,0.0,0.0,0.0,0.0,0.1611111111111111,1.547222222222222,3.630555555555556,4.891666666666667,5.149999999999999,5.316666666666666,6.183333333333334,7.122222222222222,7.425,7.116666666666667,6.638888888888888,6.105555555555555,5.205555555555555,4.213888888888889,3.652777777777778,3.980555555555556,4.655555555555556,4.963888888888889,4.755555555555556,4.569444444444444,4.736111111111112,5.269444444444444,6.136111111111111,7.222222222222222,8.261111111111111,9.238888888888889,10.325,11.26944444444444,11.61944444444444,11.83333333333333,12.45277777777778,13.26111111111111,14.05555555555556,14.48333333333333,14.58611111111111,14.41944444444444,14.44444444444444,14.46944444444444,14.37222222222222,14.23888888888889,14.14166666666667,14.19166666666667,14.11944444444444,13.93611111111111,13.54166666666667,13.21944444444444,12.57222222222222,11.34722222222222,9.855555555555554,8.891666666666666,8.294444444444444,7.486111111111111,6.227777777777778,4.8,3.383333333333333,2.338888888888889,1.608333333333333,1.086111111111111,0.6027777777777777,0.2305555555555555,0.0,0.0,0.0,0.0,0.0,0.0,0.0,0.0,0.0,0.0,0.0,0.0,0.0,0.0,0.0,0.6944444444444444,1.705555555555555,2.375,2.552777777777778,3.386111111111111,4.355555555555555,5.022222222222221,5.252777777777777,5.277777777777778,5.350000000000001,5.508333333333333,5.547222222222222,5.244444444444444,5.102777777777778,4.211111111111111,2.533333333333333,0.9166666666666666,1.322222222222222,3.205555555555555,5.113888888888889,5.691666666666666,5.813888888888889,6.686111111111111,8.386111111111111,9.502777777777778,9.883333333333333,9.975,10.27777777777778,10.58055555555556,10.80833333333333,10.80833333333333,10.58055555555556,10.27777777777778,10.0,9.674999999999999,9.58611111111111,9.602777777777778,9.444444444444445,8.966666666666667,8.238888888888889,7.141666666666667,5.927777777777778,4.958333333333334,4.166666666666667,3.333333333333333,2.5,1.641666666666667,0.8583333333333333,0.2777777777777778,0.0,0.0,0.0,0.0,0.0,0.0,0.0,0.0,0.0,0.0,0.8916666666666666,2.105555555555556,3.341666666666666,3.930555555555555,3.994444444444444,3.941666666666666,4.430555555555555,5.208333333333333,6.166666666666666,7.155555555555556,8.177777777777777,8.677777777777777,8.752777777777778,8.538888888888888,8.658333333333333,9.191666666666668,10.28888888888889,11.64444444444444,12.96666666666667,13.74722222222222,13.97222222222222,13.86388888888889,13.96111111111111,14.09444444444444,14.21388888888889,14.11944444444444,13.91388888888889,13.59166666666667,13.39444444444444,13.21388888888889,13.03888888888889,12.75,12.37222222222222,12.03055555555556,11.69722222222222,11.48611111111111,11.37777777777778,11.34166666666667,11.13611111111111,10.80833333333333,10.60277777777778,10.50833333333333,10.62777777777778,10.76111111111111,10.83333333333333,10.89722222222222,11.04166666666667,11.21944444444444,11.41666666666667,11.63611111111111,11.61944444444444,11.43611111111111,11.38888888888889,11.71388888888889,12.175,12.5,12.45277777777778,12.31666666666667,12.12777777777778,12.01666666666667,11.91944444444444,11.94444444444444,11.96944444444444,11.89722222222222,11.69166666666667,11.36388888888889,11.18333333333333,11.03888888888889,10.94444444444444,10.41944444444444,9.233333333333334,7.597222222222222,6.022222222222222,4.836111111111111,4.227777777777778,3.972222222222222,4.080555555555556,4.675,5.927777777777778,6.705555555555556,6.808333333333334,6.375,5.788888888888889,4.769444444444445,4.113888888888889,4.422222222222222,5.294444444444444,6.291666666666666,7.483333333333333,8.469444444444443,8.636111111111111,8.427777777777777,8.26388888888889,8.158333333333333,7.591666666666666,6.375,4.852777777777777,3.575,2.280555555555556,0.9138888888888889,0.0,0.0,0.0,0.0,0.0,0.0,0.0,0.0],\"type\":\"scatter\"},{\"line\":{\"color\":\"darkorange\"},\"mode\":\"lines\",\"name\":\"vel_poligonal\",\"x\":[0,1,2,3,4,5,6,7,8,9,10,11,12,13,14,15,16,17,18,19,20,21,22,23,24,25,26,27,28,29,30,31,32,33,34,35,36,37,38,39,40,41,42,43,44,45,46,47,48,49,50,51,52,53,54,55,56,57,58,59,60,61,62,63,64,65,66,67,68,69,70,71,72,73,74,75,76,77,78,79,80,81,82,83,84,85,86,87,88,89,90,91,92,93,94,95,96,97,98,99,100,101,102,103,104,105,106,107,108,109,110,111,112,113,114,115,116,117,118,119,120,121,122,123,124,125,126,127,128,129,130,131,132,133,134,135,136,137,138,139,140,141,142,143,144,145,146,147,148,149,150,151,152,153,154,155,156,157,158,159,160,161,162,163,164,165,166,167,168,169,170,171,172,173,174,175,176,177,178,179,180,181,182,183,184,185,186,187,188,189,190,191,192,193,194,195,196,197,198,199,200,201,202,203,204,205,206,207,208,209,210,211,212,213,214,215,216,217,218,219,220,221,222,223,224,225,226,227,228,229,230,231,232,233,234,235,236,237,238,239,240,241,242,243,244,245,246,247,248,249,250,251,252,253,254,255,256,257,258,259,260,261,262,263,264,265,266,267,268,269,270,271,272,273,274,275,276,277,278,279,280,281,282,283,284,285,286,287,288,289,290,291,292,293,294,295,296,297,298,299,300,301,302,303,304,305,306,307,308,309,310,311,312,313,314,315,316,317,318,319,320,321,322,323,324,325,326,327,328,329,330,331,332,333,334,335,336,337,338,339,340,341,342,343,344,345,346,347,348,349,350,351,352,353,354,355,356,357,358,359,360,361,362,363,364,365,366,367,368,369,370,371,372,373,374,375,376,377,378,379,380,381,382,383,384,385,386,387,388,389,390,391,392,393,394,395,396,397,398,399,400,401,402,403,404,405,406,407,408,409,410,411,412,413,414,415,416,417,418,419,420,421,422,423,424,425,426,427,428,429,430,431,432,433,434,435,436,437,438,439,440,441,442,443,444,445,446,447,448,449,450,451,452,453,454,455,456,457,458,459,460,461,462,463,464,465,466,467,468,469,470,471,472,473,474,475,476,477,478,479,480,481,482,483,484,485,486,487,488,489,490,491,492,493,494,495,496,497,498,499,500,501,502,503,504,505,506,507,508,509,510,511,512,513,514,515,516,517,518,519,520,521,522,523,524,525,526,527,528,529,530,531,532,533,534,535,536,537,538,539,540,541,542,543,544,545,546,547,548,549,550,551,552,553,554,555,556,557,558,559,560,561,562,563,564,565,566,567,568,569,570,571,572,573,574,575,576,577,578,579,580,581,582,583,584,585,586,587,588,589,590,591,592,593,594,595,596,597,598,599,600,601,602,603,604,605,606,607,608,609,610,611,612,613,614,615,616,617,618,619,620,621,622,623,624,625,626,627,628,629,630,631,632,633,634,635,636,637,638,639,640,641,642,643,644,645,646,647,648,649,650,651,652,653,654,655,656,657,658,659,660,661,662,663,664,665,666,667,668,669,670,671,672,673,674,675,676,677,678,679,680,681,682,683,684,685,686,687,688,689,690,691,692,693,694,695,696,697,698,699,700,701,702,703,704,705,706,707,708,709,710,711,712,713,714,715,716,717,718,719,720,721,722,723,724,725,726,727,728,729,730,731,732,733,734,735,736,737,738,739,740,741,742,743,744,745,746,747,748,749,750,751,752,753,754,755,756,757,758,759,760,761,762,763,764,765,766,767,768,769,770,771,772,773,774,775,776,777,778,779,780,781,782,783,784,785,786,787,788,789,790,791,792,793,794,795,796,797,798,799,800,801,802,803,804,805,806,807,808,809,810,811,812,813,814,815,816,817,818,819,820,821,822,823,824,825,826,827,828,829,830,831,832,833,834,835,836,837,838,839,840,841,842,843,844,845,846,847,848,849,850,851,852,853,854,855,856,857,858,859,860,861,862,863,864,865,866,867,868,869,870,871,872,873,874,875,876,877,878,879,880,881,882,883,884,885,886,887,888,889,890,891,892,893,894,895,896,897,898,899,900,901,902,903,904,905,906,907,908,909,910,911,912,913,914,915,916,917,918,919,920,921,922,923,924,925,926,927,928,929,930,931,932,933,934,935,936,937,938,939,940,941,942,943,944,945,946,947,948,949,950,951,952,953,954,955,956,957,958,959,960,961,962,963,964,965,966,967,968,969,970,971,972,973,974,975,976,977,978,979,980,981,982,983,984,985,986,987,988,989,990,991,992,993,994,995,996,997,998,999,1000,1001,1002,1003,1004,1005,1006,1007,1008,1009,1010,1011,1012,1013,1014,1015,1016,1017,1018,1019,1020,1021,1022,1023,1024,1025,1026,1027,1028,1029,1030,1031,1032,1033,1034,1035,1036,1037,1038,1039,1040,1041,1042,1043,1044,1045,1046,1047,1048,1049,1050,1051,1052,1053,1054,1055,1056,1057,1058,1059,1060,1061,1062,1063,1064,1065,1066,1067,1068,1069,1070,1071,1072,1073,1074,1075,1076,1077,1078,1079,1080,1081,1082,1083,1084,1085,1086,1087,1088,1089,1090,1091,1092,1093,1094,1095,1096,1097,1098,1099,1100,1101,1102,1103,1104,1105,1106,1107,1108,1109,1110,1111,1112,1113,1114,1115,1116,1117,1118,1119,1120,1121,1122,1123,1124,1125,1126,1127,1128,1129,1130,1131,1132,1133,1134,1135,1136,1137,1138,1139,1140,1141,1142,1143,1144,1145,1146,1147,1148,1149,1150,1151,1152,1153,1154,1155,1156,1157,1158,1159,1160,1161,1162,1163,1164,1165,1166,1167,1168,1169,1170,1171,1172,1173,1174,1175,1176,1177,1178,1179,1180,1181,1182,1183,1184,1185,1186,1187,1188,1189,1190,1191,1192,1193,1194,1195,1196,1197,1198,1199,1200,1201,1202,1203,1204,1205,1206,1207,1208,1209,1210,1211,1212,1213,1214,1215,1216,1217,1218,1219,1220,1221,1222,1223,1224,1225,1226,1227,1228,1229,1230,1231,1232,1233,1234,1235,1236,1237,1238,1239,1240,1241,1242,1243,1244,1245,1246,1247,1248,1249,1250,1251,1252,1253,1254,1255,1256,1257,1258,1259,1260,1261,1262,1263,1264,1265,1266,1267,1268,1269,1270,1271,1272,1273,1274,1275,1276,1277,1278,1279,1280,1281,1282,1283,1284,1285,1286,1287,1288,1289,1290,1291,1292,1293,1294,1295,1296,1297,1298,1299,1300,1301,1302,1303,1304,1305,1306,1307,1308,1309,1310,1311,1312,1313,1314,1315,1316,1317,1318,1319,1320,1321,1322,1323,1324,1325,1326,1327,1328,1329,1330,1331,1332,1333,1334,1335,1336,1337,1338,1339,1340,1341,1342,1343,1344,1345,1346,1347,1348,1349,1350,1351,1352,1353,1354,1355,1356,1357,1358,1359,1360,1361,1362,1363,1364,1365,1366,1367,1368,1369,1370,1371,1372,1373,1374,1375,1376,1377,1378,1379,1380,1381,1382,1383,1384,1385,1386,1387,1388,1389,1390,1391,1392,1393,1394,1395,1396,1397,1398,1399,1400,1401,1402,1403,1404,1405,1406,1407,1408,1409,1410,1411,1412,1413,1414,1415,1416,1417,1418,1419,1420,1421,1422,1423,1424,1425,1426,1427,1428,1429,1430,1431,1432,1433,1434,1435,1436,1437,1438,1439,1440,1441,1442,1443,1444,1445,1446,1447,1448,1449,1450,1451,1452,1453,1454,1455,1456,1457,1458,1459,1460,1461,1462,1463,1464,1465,1466,1467,1468,1469,1470,1471,1472,1473,1474,1475,1476,1477,1478,1479,1480,1481,1482,1483,1484,1485,1486,1487,1488,1489,1490,1491,1492,1493,1494,1495,1496,1497,1498,1499,1500,1501,1502,1503,1504,1505,1506,1507,1508,1509,1510,1511,1512,1513,1514,1515,1516,1517,1518,1519,1520,1521,1522,1523,1524,1525,1526,1527,1528,1529,1530,1531,1532,1533,1534,1535,1536,1537,1538,1539,1540,1541,1542,1543,1544,1545,1546,1547,1548,1549,1550,1551,1552,1553,1554,1555,1556,1557,1558,1559,1560,1561,1562,1563,1564,1565,1566,1567,1568,1569,1570,1571,1572,1573,1574,1575,1576,1577,1578,1579,1580,1581,1582,1583,1584,1585,1586,1587,1588,1589,1590,1591,1592,1593,1594,1595,1596,1597,1598,1599,1600,1601,1602,1603,1604,1605,1606,1607,1608,1609,1610,1611,1612,1613,1614,1615,1616,1617,1618,1619,1620,1621,1622,1623,1624,1625,1626,1627,1628,1629,1630,1631,1632,1633,1634,1635,1636,1637,1638,1639,1640,1641,1642,1643,1644,1645,1646,1647,1648,1649,1650,1651,1652,1653,1654,1655,1656,1657,1658,1659,1660,1661,1662,1663,1664,1665,1666,1667,1668,1669,1670,1671,1672,1673,1674,1675,1676,1677,1678,1679,1680,1681,1682,1683,1684,1685,1686,1687,1688,1689,1690,1691,1692,1693,1694,1695,1696,1697,1698,1699,1700,1701,1702,1703,1704,1705,1706,1707,1708,1709,1710,1711,1712,1713,1714,1715,1716,1717,1718,1719,1720,1721,1722,1723,1724,1725,1726,1727,1728,1729,1730,1731,1732,1733,1734,1735,1736,1737,1738,1739,1740,1741,1742,1743,1744,1745,1746,1747,1748,1749,1750,1751,1752,1753,1754,1755,1756,1757,1758,1759,1760,1761,1762,1763,1764,1765,1766,1767,1768,1769,1770,1771,1772,1773,1774,1775,1776,1777,1778,1779,1780,1781,1782,1783,1784,1785,1786,1787,1788,1789,1790,1791,1792,1793,1794,1795,1796,1797,1798,1799,1800,1801,1802,1803,1804,1805,1806,1807,1808,1809,1810,1811,1812,1813,1814,1815,1816,1817,1818,1819,1820,1821,1822,1823,1824,1825,1826,1827,1828,1829,1830,1831,1832,1833,1834,1835,1836,1837,1838,1839,1840,1841,1842,1843,1844,1845,1846,1847,1848,1849,1850,1851,1852,1853,1854,1855,1856,1857,1858,1859,1860,1861,1862,1863,1864,1865,1866,1867,1868,1869,1870,1871,1872,1873,1874,1875,1876,1877,1878,1879,1880,1881,1882,1883,1884,1885,1886,1887,1888,1889,1890,1891,1892,1893,1894,1895,1896,1897,1898,1899,1900,1901,1902,1903,1904,1905,1906,1907,1908,1909,1910,1911,1912,1913,1914,1915,1916,1917,1918,1919,1920,1921,1922,1923,1924,1925,1926,1927,1928,1929,1930,1931,1932,1933,1934,1935,1936,1937,1938,1939,1940,1941,1942,1943,1944,1945,1946,1947,1948,1949],\"y\":[0.3083333333333333,0.3083333333333333,0.3083333333333333,1.5,3.055555555555555,4.213888888888889,4.205228758169934,4.19656862745098,4.187908496732025,4.179248366013072,4.170588235294117,4.161928104575163,4.153267973856209,4.144607843137255,4.1359477124183,4.127287581699346,4.118627450980392,4.109967320261438,4.101307189542483,4.09264705882353,4.083986928104575,4.075326797385621,4.066666666666666,3.677777777777778,3.016666666666667,2.275,1.983333333333333,1.691666666666667,1.341666666666667,0.8333333333333333,0.7575757575757576,0.6818181818181818,0.606060606060606,0.5303030303030303,0.4545454545454545,0.3787878787878788,0.303030303030303,0.2272727272727273,0.1515151515151516,0.0757575757575758,0.0,0.7027777777777777,1.997222222222222,3.363888888888888,3.813888888888888,4.263888888888888,4.827777777777778,5.975000000000001,7.327777777777778,7.392676767676767,7.457575757575757,7.522474747474747,7.587373737373737,7.652272727272727,7.717171717171717,7.782070707070707,7.846969696969697,7.911868686868686,7.976767676767676,8.041666666666666,8.46111111111111,9.194444444444445,9.930555555555555,10.51111111111111,10.53657407407407,10.56203703703704,10.5875,10.61296296296296,10.63842592592593,10.66388888888889,10.03611111111111,8.744444444444444,7.372222222222222,6.111111111111111,4.905555555555556,3.308333333333333,1.786111111111111,0.7861111111111111,0.6738095238095237,0.5615079365079365,0.4492063492063492,0.3369047619047619,0.2246031746031746,0.1123015873015872,0.0,0.6972222222222222,1.905555555555556,3.055555555555555,3.322222222222222,3.588888888888889,3.440740740740741,3.292592592592592,3.144444444444444,4.069444444444445,5.222222222222222,6.422222222222222,7.694444444444444,8.947222222222223,9.980555555555556,10.17222222222222,10.36388888888889,10.55555555555556,11.08611111111111,11.66666666666667,12.22222222222222,12.825,12.89351851851852,12.96203703703704,13.03055555555556,12.525,11.96388888888889,11.33611111111111,10.68611111111111,9.811111111111112,9.11111111111111,8.372222222222222,8.075,7.777777777777778,8.380555555555556,8.807407407407409,9.23425925925926,9.661111111111111,10.31388888888889,10.67777777777778,11.04166666666667,11.40555555555556,12.075,12.73333333333333,13.01759259259259,13.30185185185185,13.58611111111111,13.96111111111111,14.37222222222222,14.43680555555556,14.50138888888889,14.56597222222222,14.63055555555555,14.69513888888889,14.75972222222222,14.82430555555556,14.88888888888889,14.95347222222222,15.01805555555556,15.08263888888889,15.14722222222222,14.6,13.25555555555555,11.48333333333333,10.88055555555556,10.27777777777778,10.76111111111111,11.43611111111111,12.22222222222222,13.00833333333333,13.68333333333333,13.59320987654321,13.50308641975309,13.41296296296296,13.32283950617284,13.23271604938272,13.14259259259259,13.05246913580247,12.96234567901235,12.87222222222222,12.33611111111111,11.14722222222222,9.330555555555556,7.925,7.533333333333333,8.122222222222222,8.822222222222223,8.877525252525253,8.932828282828284,8.988131313131314,9.043434343434344,9.098737373737373,9.154040404040405,9.209343434343435,9.264646464646464,9.319949494949494,9.375252525252526,9.430555555555555,10.15833333333333,10.93055555555556,11.41111111111111,11.80833333333333,12.38055555555555,12.36527777777778,12.35,12.33472222222222,12.31944444444444,12.30416666666667,12.28888888888889,11.53611111111111,9.705555555555554,7.05,4.455555555555555,2.513888888888889,1.829166666666667,1.144444444444444,1.972222222222222,3.886111111111111,5.311111111111111,5.674999999999999,6.038888888888888,6.641666666666667,7.316666666666666,7.67986111111111,8.043055555555554,8.40625,8.769444444444444,9.261111111111111,9.625,10.07777777777778,10.58611111111111,10.94305555555555,11.3,11.94444444444444,12.04611111111111,12.14777777777778,12.24944444444444,12.35111111111111,12.45277777777778,12.08611111111111,11.5,10.69444444444444,9.291666666666668,7.638888888888888,5.777777777777778,4.261111111111111,3.011111111111111,1.919444444444445,0.8083333333333333,0.7746527777777777,0.7409722222222223,0.7072916666666667,0.6736111111111112,0.6399305555555556,0.60625,0.5725694444444445,0.538888888888889,0.5052083333333334,0.4715277777777778,0.4378472222222223,0.4041666666666667,0.3704861111111111,0.3368055555555556,0.3031250000000001,0.2694444444444445,0.2357638888888889,0.2020833333333334,0.1684027777777778,0.1347222222222223,0.1010416666666667,0.0673611111111112,0.0336805555555556,0.0,1.352777777777778,3.691666666666666,5.591666666666666,6.052777777777777,6.425,7.633333333333333,9.444444444444445,11.23055555555556,12.56388888888889,12.89305555555556,13.22222222222222,13.96666666666667,15.075,16.00555555555555,16.04833333333333,16.09111111111111,16.13388888888889,16.17666666666667,16.21944444444444,15.60277777777778,13.67777777777778,10.54722222222222,7.283333333333333,4.380555555555556,2.333333333333333,1.016666666666667,0.99125,0.9658333333333333,0.9404166666666667,0.9149999999999999,0.8895833333333333,0.8641666666666666,0.83875,0.8133333333333332,0.7879166666666666,0.7625,0.7370833333333333,0.7116666666666667,0.68625,0.6608333333333334,0.6354166666666666,0.61,0.5845833333333333,0.5591666666666666,0.53375,0.5083333333333333,0.4829166666666667,0.4575,0.4320833333333334,0.4066666666666667,0.38125,0.3558333333333333,0.3304166666666667,0.305,0.2795833333333334,0.2541666666666667,0.22875,0.2033333333333334,0.1779166666666667,0.1525000000000001,0.1270833333333333,0.1016666666666667,0.07625000000000004,0.0508333333333334,0.02541666666666675,0.0,0.8916666666666666,2.783333333333333,4.686111111111111,5.241666666666667,5.797222222222222,6.302777777777778,7.425,8.883333333333333,10.09722222222222,10.06813725490196,10.0390522875817,10.00996732026144,9.980882352941178,9.951797385620916,9.922712418300653,9.893627450980393,9.86454248366013,9.83545751633987,9.806372549019608,9.777287581699348,9.748202614379085,9.719117647058823,9.690032679738563,9.6609477124183,9.63186274509804,9.602777777777778,8.816666666666666,7.475,6.011111111111111,4.516666666666667,2.936111111111111,1.497222222222222,0.6305555555555555,0.6051282051282051,0.5797008547008546,0.5542735042735043,0.5288461538461539,0.5034188034188034,0.477991452991453,0.4525641025641025,0.4271367521367521,0.4017094017094017,0.3762820512820513,0.3508547008547008,0.3254273504273504,0.3,1.647222222222222,3.636111111111111,4.944444444444445,5.315277777777778,5.686111111111111,6.608333333333333,7.733333333333333,8.544444444444444,9.313888888888888,9.606481481481481,9.899074074074074,10.19166666666667,10.75555555555555,11.16759259259259,11.57962962962963,11.99166666666667,12.68611111111111,13.61111111111111,13.69444444444444,13.77777777777778,13.23888888888889,12.87222222222222,12.42777777777778,12.01666666666667,11.36388888888889,10.18611111111111,8.394444444444444,6.344444444444444,4.333333333333333,2.591666666666667,1.205555555555555,0.3638888888888889,0.1819444444444444,0.0,0.5472222222222222,2.1,4.152777777777778,4.75462962962963,5.356481481481481,5.958333333333333,7.183333333333333,8.936111111111112,9.130555555555556,9.325,9.519444444444444,9.713888888888889,9.327777777777778,8.98472222222222,8.641666666666666,8.261111111111111,7.5,6.388888888888888,5.350000000000001,4.35,3.405555555555555,2.452777777777778,1.691666666666667,1.2625,0.8333333333333333,0.4611111111111111,0.4243055555555555,0.3875,0.3506944444444444,0.3138888888888889,0.2770833333333333,0.2402777777777778,0.2034722222222222,0.1666666666666667,1.488888888888889,3.497222222222222,4.077777777777778,4.658333333333333,5.238888888888889,6.288888888888889,7.722222222222222,8.927777777777777,10.14166666666667,10.48055555555555,10.81944444444444,11.15833333333333,11.89722222222222,12.85,13.20462962962963,13.55925925925926,13.91388888888889,14.44444444444444,14.46635802469136,14.48827160493827,14.51018518518518,14.5320987654321,14.55401234567901,14.57592592592593,14.59783950617284,14.61975308641975,14.64166666666667,14.64502583979328,14.6483850129199,14.65174418604651,14.65510335917313,14.65846253229974,14.66182170542636,14.66518087855297,14.66854005167959,14.6718992248062,14.67525839793282,14.67861757105943,14.68197674418604,14.68533591731266,14.68869509043927,14.69205426356589,14.6954134366925,14.69877260981912,14.70213178294573,14.70549095607235,14.70885012919896,14.71220930232558,14.7155684754522,14.71892764857881,14.72228682170543,14.72564599483204,14.72900516795866,14.73236434108527,14.73572351421189,14.7390826873385,14.74244186046512,14.74580103359173,14.74916020671835,14.75251937984496,14.75587855297158,14.75923772609819,14.76259689922481,14.76595607235142,14.76931524547803,14.77267441860465,14.77603359173126,14.77939276485788,14.78275193798449,14.78611111111111,14.38611111111111,13.67777777777778,12.31944444444444,10.68333333333333,9.044444444444444,7.830555555555556,6.788888888888889,6.494166666666667,6.199444444444445,5.904722222222222,5.609999999999999,5.315277777777778,5.020555555555555,4.725833333333333,4.431111111111111,4.136388888888889,3.841666666666667,3.358333333333333,2.777777777777778,2.202777777777778,1.716666666666667,1.263888888888889,1.206439393939394,1.148989898989899,1.091540404040404,1.034090909090909,0.9766414141414141,0.9191919191919191,0.8617424242424242,0.8042929292929293,0.7468434343434344,0.6893939393939394,0.6319444444444444,0.5744949494949495,0.5170454545454546,0.4595959595959596,0.4021464646464646,0.3446969696969697,0.2872474747474748,0.2297979797979799,0.1723484848484849,0.1148989898989901,0.05744949494949503,0.0,1.061111111111111,2.416666666666667,2.769444444444444,3.122222222222222,3.475,4.094444444444444,5.0,5.833333333333333,6.691666666666666,7.405555555555555,8.247222222222222,9.01388888888889,9.161507936507936,9.309126984126985,9.456746031746032,9.60436507936508,9.751984126984127,9.899603174603175,10.04722222222222,10.15833333333333,10.26944444444444,10.38055555555556,10.49166666666667,10.60277777777778,10.23055555555555,9.747222222222224,9.191666666666668,8.516666666666666,7.897222222222222,7.908333333333333,7.919444444444444,7.930555555555555,7.941666666666666,7.952777777777778,7.963888888888889,7.975,7.986111111111111,7.997222222222222,8.008333333333333,8.019444444444444,8.030555555555555,8.380555555555556,8.88888888888889,9.397222222222222,9.462222222222222,9.527222222222221,9.592222222222222,9.657222222222222,9.722222222222221,9.072222222222221,8.174999999999999,7.102777777777778,6.205555555555556,5.958333333333334,5.711111111111111,5.463888888888889,5.216666666666667,4.969444444444445,4.722222222222222,5.302777777777778,5.562962962962963,5.823148148148148,6.083333333333333,6.547222222222222,7.244444444444444,7.997222222222222,8.658333333333333,8.634795321637426,8.61125730994152,8.587719298245613,8.564181286549708,8.540643274853801,8.517105263157895,8.493567251461988,8.470029239766081,8.446491228070174,8.42295321637427,8.399415204678363,8.375877192982456,8.352339181286549,8.328801169590642,8.305263157894736,8.28172514619883,8.258187134502924,8.234649122807017,8.21111111111111,8.705555555555556,8.73493265993266,8.764309764309765,8.79368686868687,8.823063973063974,8.852441077441078,8.881818181818181,8.911195286195285,8.94057239057239,8.969949494949494,8.999326599326599,9.028703703703703,9.058080808080808,9.087457912457912,9.116835016835017,9.146212121212121,9.175589225589226,9.204966329966329,9.234343434343433,9.263720538720538,9.293097643097642,9.322474747474747,9.351851851851851,9.381228956228956,9.41060606060606,9.439983164983165,9.46936026936027,9.498737373737374,9.528114478114476,9.557491582491581,9.586868686868685,9.61624579124579,9.645622895622894,9.674999999999999,9.141666666666666,7.983333333333333,6.808333333333334,6.657777777777778,6.507222222222222,6.356666666666667,6.206111111111111,6.055555555555555,5.905,5.754444444444445,5.603888888888889,5.453333333333333,5.302777777777778,6.025,7.030555555555555,7.452777777777778,6.944444444444445,7.000925925925926,7.057407407407408,7.113888888888889,7.17037037037037,7.226851851851852,7.283333333333333,7.816666666666666,9.122222222222224,10.30555555555556,10.29895833333333,10.29236111111111,10.28576388888889,10.27916666666667,10.27256944444444,10.26597222222222,10.259375,10.25277777777778,10.88055555555556,11.61944444444444,11.59861111111111,11.57777777777778,11.55694444444444,11.53611111111111,11.51527777777778,11.49444444444444,11.47361111111111,11.45277777777778,10.61944444444444,9.116666666666667,7.322222222222222,5.391666666666667,3.552777777777778,3.32037037037037,3.087962962962963,2.855555555555555,3.386111111111111,4.527777777777778,5.902777777777778,6.060648148148148,6.218518518518518,6.376388888888888,6.534259259259259,6.69212962962963,6.85,7.594444444444444,8.563888888888888,9.527777777777777,10.325,10.89444444444444,11.48888888888889,12.40555555555556,13.35833333333333,14.26111111111111,14.31024305555556,14.359375,14.40850694444444,14.45763888888889,14.50677083333333,14.55590277777778,14.60503472222222,14.65416666666667,14.70329861111111,14.75243055555556,14.8015625,14.85069444444444,14.89982638888889,14.94895833333333,14.99809027777778,15.04722222222222,14.65,13.85,12.86111111111111,12.13611111111111,11.60555555555556,10.93333333333333,10.82555555555555,10.71777777777778,10.61,10.50222222222222,10.39444444444444,10.02222222222222,9.391666666666667,9.17361111111111,8.955555555555556,9.366666666666665,10.11944444444444,11.12777777777778,12.14722222222222,12.31435185185185,12.48148148148148,12.64861111111111,12.81574074074074,12.98287037037037,13.15,12.60833333333333,11.14722222222222,8.944444444444445,6.675,4.825,3.611111111111111,2.663888888888889,1.594444444444445,0.9638888888888889,1.513888888888889,3.047222222222222,4.419444444444444,4.816666666666666,5.213888888888889,6.052777777777777,7.361111111111111,8.719444444444445,9.78611111111111,9.781944444444443,9.777777777777777,9.77361111111111,9.769444444444444,9.272222222222222,8.977777777777778,8.683333333333334,9.438888888888888,10.54166666666667,11.63611111111111,12.7,13.46111111111111,14.02222222222222,14.1212962962963,14.22037037037037,14.31944444444444,14.02268518518518,13.72592592592592,13.42916666666667,13.13240740740741,12.83564814814815,12.53888888888889,11.80277777777778,10.20833333333333,8.058333333333334,5.922222222222222,4.258333333333333,3.783333333333333,3.308333333333333,3.944444444444444,4.997222222222222,5.438888888888889,5.880555555555556,6.322222222222223,6.883333333333334,8.044444444444444,9.216666666666667,9.425,9.633333333333333,9.841666666666667,10.50833333333333,11.36388888888889,11.32916666666667,11.29444444444444,11.25972222222222,11.225,11.19027777777778,11.15555555555556,11.12083333333333,11.08611111111111,11.73888888888889,12.07986111111111,12.42083333333333,12.76180555555556,13.10277777777778,13.12777777777778,13.15277777777778,13.17777777777778,13.20277777777778,13.22777777777778,13.25277777777778,13.27777777777778,13.30277777777778,13.32777777777778,13.35277777777778,13.37777777777778,13.40277777777778,13.42777777777778,13.45277777777778,13.47777777777778,13.50277777777778,13.52777777777778,13.55277777777778,13.57777777777778,13.60277777777778,13.62777777777778,13.65277777777778,13.67777777777778,13.70277777777778,13.72777777777778,13.75277777777778,13.77777777777778,13.80277777777778,13.82777777777778,13.85277777777778,13.87777777777778,13.90277777777778,13.18888888888889,12.11388888888889,10.54722222222222,9.077777777777778,7.875,7.955555555555556,8.036111111111111,8.116666666666667,8.197222222222223,8.61111111111111,8.674305555555556,8.7375,8.800694444444444,8.863888888888889,8.333333333333334,7.972222222222222,7.611111111111111,8.055555555555555,8.927777777777777,9.084027777777777,9.240277777777777,9.396527777777777,9.552777777777777,9.136111111111111,8.494444444444444,7.722222222222222,7.024999999999999,6.308333333333334,5.697222222222223,4.897222222222222,3.933333333333333,2.722222222222222,1.741666666666666,1.019444444444444,0.4694444444444444,0.4565555555555555,0.4436666666666667,0.4307777777777778,0.4178888888888889,0.405,0.3921111111111111,0.3792222222222222,0.3663333333333333,0.3534444444444444,0.3405555555555556,0.3276666666666667,0.3147777777777778,0.3018888888888889,0.289,0.2761111111111111,0.2632222222222222,0.2503333333333334,0.2374444444444445,0.2245555555555556,0.2116666666666667,0.1987777777777778,0.1858888888888889,0.173,0.1601111111111111,0.1472222222222222,1.516666666666667,3.725,5.469444444444445,5.906944444444445,6.344444444444444,7.113888888888889,8.422222222222222,9.86111111111111,10.35833333333333,10.85555555555555,11.35277777777778,12.01944444444445,12.30185185185185,12.58425925925926,12.86666666666667,12.49722222222222,11.64722222222222,10.00833333333333,7.744444444444444,5.691666666666666,4.469444444444444,4.375,4.280555555555556,4.977777777777778,5.844444444444444,6.195138888888889,6.545833333333333,6.896527777777777,7.247222222222222,7.802777777777777,8.58611111111111,9.516666666666666,9.612962962962962,9.709259259259259,9.805555555555555,9.901851851851852,9.998148148148148,10.09444444444444,9.561111111111112,8.336111111111112,6.611111111111111,5.4,5.375,5.350000000000001,5.325,5.76111111111111,5.941666666666666,6.122222222222222,6.302777777777777,6.483333333333333,6.897222222222221,7.524999999999999,7.524999999999999,7.524999999999999,7.524999999999999,7.524999999999999,7.524999999999999,7.524999999999999,7.524999999999999,7.524999999999999,7.524999999999999,7.524999999999999,8.030555555555555,8.61111111111111,9.119444444444444,9.863888888888889,10.73888888888889,11.12361111111111,11.50833333333333,11.94444444444444,12.75277777777778,13.63611111111111,14.39722222222222,14.69305555555556,14.98888888888889,15.28472222222222,15.58055555555556,15.77314814814815,15.96574074074074,16.15833333333333,16.06014492753623,15.96195652173913,15.86376811594203,15.76557971014493,15.66739130434783,15.56920289855073,15.47101449275362,15.37282608695652,15.27463768115942,15.17644927536232,15.07826086956522,14.98007246376812,14.88188405797102,14.78369565217391,14.68550724637681,14.58731884057971,14.48913043478261,14.39094202898551,14.29275362318841,14.1945652173913,14.0963768115942,13.9981884057971,13.9,13.8018115942029,13.7036231884058,13.6054347826087,13.50724637681159,13.40905797101449,13.31086956521739,13.21268115942029,13.11449275362319,13.01630434782609,12.91811594202898,12.81992753623188,12.72173913043478,12.62355072463768,12.52536231884058,12.42717391304348,12.32898550724638,12.23079710144927,12.13260869565217,12.03442028985507,11.93623188405797,11.83804347826087,11.73985507246377,11.64166666666667,11.13611111111111,10.55555555555556,10.0,9.419444444444443,9.055555555555555,8.372222222222222,6.930555555555555,5.155555555555555,4.652777777777777,4.149999999999999,4.783333333333333,5.788888888888889,7.016666666666667,8.069444444444445,8.26574074074074,8.462037037037037,8.658333333333333,9.194444444444445,9.908333333333333,10.84166666666667,10.95277777777778,11.06388888888889,11.175,11.28611111111111,11.39722222222222,11.50833333333333,11.08055555555556,10.50277777777778,9.238888888888889,7.919444444444444,7.96965811965812,8.019871794871795,8.07008547008547,8.120299145299144,8.17051282051282,8.220726495726495,8.27094017094017,8.321153846153845,8.371367521367521,8.421581196581196,8.47179487179487,8.522008547008546,8.572222222222221,7.983333333333333,7.897222222222222,7.811111111111111,8.655555555555555,9.669444444444444,10.55555555555556,11.08611111111111,11.09398148148148,11.10185185185185,11.10972222222222,11.11759259259259,11.12546296296296,11.13333333333333,10.48888888888889,9.005555555555556,7.536111111111111,7.557222222222221,7.578333333333333,7.599444444444444,7.620555555555556,7.641666666666667,8.28611111111111,9.166666666666666,9.07824074074074,8.989814814814814,8.901388888888889,8.812962962962963,8.724537037037036,8.636111111111111,8.261111111111111,8.122222222222222,7.983333333333333,7.844444444444444,7.705555555555555,8.15,8.91388888888889,8.825000000000001,8.736111111111112,8.647222222222222,8.558333333333334,8.469444444444445,8.380555555555556,8.291666666666668,8.202777777777778,8.113888888888889,8.025,7.936111111111111,7.847222222222222,7.138888888888888,5.838888888888889,5.165277777777778,4.491666666666667,5.013888888888889,6.052777777777777,7.441666666666666,8.808333333333334,9.2375,9.666666666666666,9.291666666666668,9.193567251461989,9.095467836257312,8.997368421052633,8.899269005847954,8.801169590643276,8.703070175438597,8.604970760233918,8.50687134502924,8.408771929824562,8.310672514619883,8.212573099415206,8.114473684210527,8.016374269005848,7.91827485380117,7.820175438596491,7.722076023391812,7.623976608187133,7.525877192982455,7.427777777777777,6.897222222222221,6.252777777777778,5.688888888888889,5.523611111111111,5.358333333333333,6.097222222222221,7.394444444444445,8.047222222222222,8.7,8.308333333333334,7.777777777777778,7.392592592592592,7.007407407407407,6.622222222222222,6.244444444444444,5.788888888888889,5.294444444444444,5.023888888888889,4.753333333333333,4.482777777777778,4.212222222222222,3.941666666666666,3.513888888888889,2.680555555555556,1.819444444444444,1.152777777777778,0.5666666666666667,0.5570621468926553,0.5474576271186441,0.5378531073446328,0.5282485875706214,0.5186440677966102,0.5090395480225989,0.4994350282485875,0.4898305084745763,0.480225988700565,0.4706214689265537,0.4610169491525424,0.4514124293785311,0.4418079096045198,0.4322033898305085,0.4225988700564972,0.4129943502824859,0.4033898305084745,0.3937853107344633,0.384180790960452,0.3745762711864407,0.3649717514124294,0.3553672316384181,0.3457627118644068,0.3361581920903955,0.3265536723163842,0.3169491525423729,0.3073446327683616,0.2977401129943503,0.288135593220339,0.2785310734463277,0.2689265536723164,0.2593220338983051,0.2497175141242938,0.2401129943502825,0.2305084745762712,0.2209039548022599,0.2112994350282486,0.2016949152542373,0.192090395480226,0.1824858757062147,0.1728813559322034,0.1632768361581921,0.1536723163841808,0.1440677966101696,0.1344632768361582,0.1248587570621469,0.1152542372881356,0.1056497175141243,0.09604519774011305,0.08644067796610172,0.07683615819209044,0.06723163841807911,0.05762711864406789,0.04802259887005655,0.03841807909604522,0.028813559322034,0.01920903954802267,0.009604519774011333,0.0,0.9444444444444444,2.125,2.411111111111111,2.697222222222222,2.983333333333333,3.636111111111111,3.711868686868687,3.787626262626262,3.863383838383838,3.939141414141414,4.01489898989899,4.090656565656565,4.166414141414141,4.242171717171717,4.317929292929293,4.393686868686869,4.469444444444444,5.325,6.691666666666666,7.936111111111111,8.422222222222222,8.908333333333333,9.347222222222221,9.972222222222221,10.51944444444444,10.48842592592593,10.45740740740741,10.42638888888889,10.39537037037037,10.36435185185185,10.33333333333333,10.30231481481481,10.2712962962963,10.24027777777778,10.20925925925926,10.17824074074074,10.14722222222222,9.622222222222222,8.216666666666667,6.461111111111111,6.022222222222222,7.005555555555555,8.694444444444445,9.747222222222224,10.04861111111111,10.35,11.10833333333333,11.81944444444444,12.27777777777778,12.91111111111111,13.82777777777778,13.90243055555555,13.97708333333333,14.05173611111111,14.12638888888889,14.20104166666667,14.27569444444444,14.35034722222222,14.425,14.04722222222222,13.54444444444444,12.79444444444444,11.64444444444444,10.3,8.886111111111111,7.45,6.183333333333334,5.277777777777778,4.649999999999999,4.372222222222222,4.094444444444444,4.55,5.5,6.85,8.308333333333334,8.818055555555556,9.327777777777778,8.993055555555555,8.658333333333333,8.247222222222222,7.508333333333334,6.761111111111111,6.671527777777778,6.581944444444444,6.492361111111111,6.402777777777778,6.913888888888889,7.722222222222222,8.533333333333333,8.894444444444446,8.238888888888889,6.833333333333334,5.041666666666666,3.388888888888888,1.958333333333333,0.7999999999999999,0.6,0.4,0.2,0.0,0.9138888888888889,2.583333333333333,4.399999999999999,5.344444444444444,5.977777777777778,6.697222222222222,7.880555555555556,9.294444444444444,10.33055555555555,10.96111111111111,11.34166666666667,11.975,11.94351851851852,11.91203703703704,11.88055555555556,11.84907407407407,11.81759259259259,11.78611111111111,11.75462962962963,11.72314814814815,11.69166666666667,11.06388888888889,10.01666666666667,8.522222222222222,7.225000000000001,6.227777777777778,5.644444444444445,5.610416666666667,5.576388888888889,5.542361111111111,5.508333333333333,5.880555555555556,6.413888888888889,6.566203703703703,6.718518518518518,6.870833333333334,7.023148148148148,7.175462962962962,7.327777777777778,7.913888888888888,8.852777777777778,9.997222222222222,11.28611111111111,12.46111111111111,13.41111111111111,13.58809523809524,13.76507936507937,13.94206349206349,14.11904761904762,14.29603174603175,14.47301587301587,14.65,14.03611111111111,13.76296296296296,13.48981481481481,13.21666666666667,13.79166666666667,14.41944444444444,14.92777777777778,14.91502976190476,14.90228174603175,14.88953373015873,14.87678571428571,14.8640376984127,14.85128968253968,14.83854166666667,14.82579365079365,14.81304563492063,14.80029761904762,14.7875496031746,14.77480158730159,14.76205357142857,14.74930555555556,14.73655753968254,14.72380952380952,14.71106150793651,14.69831349206349,14.68556547619048,14.67281746031746,14.66006944444444,14.64732142857143,14.63457341269841,14.6218253968254,14.60907738095238,14.59632936507936,14.58358134920635,14.57083333333333,14.55808531746032,14.5453373015873,14.53258928571429,14.51984126984127,14.50709325396825,14.49434523809524,14.48159722222222,14.46884920634921,14.45610119047619,14.44335317460317,14.43060515873016,14.41785714285714,14.40510912698413,14.39236111111111,14.3796130952381,14.36686507936508,14.35411706349206,14.34136904761905,14.32862103174603,14.31587301587301,14.303125,14.29037698412698,14.27762896825397,14.26488095238095,14.25213293650794,14.23938492063492,14.2266369047619,14.21388888888889,13.81666666666667,13.40555555555556,13.10416666666667,12.80277777777778,12.45277777777778,11.96944444444444,11.43611111111111,10.73888888888889,9.674999999999999,8.869444444444444,8.336111111111112,7.933333333333333,7.876157407407407,7.818981481481481,7.761805555555555,7.704629629629629,7.647453703703703,7.590277777777777,7.533101851851852,7.475925925925925,7.418749999999999,7.361574074074074,7.304398148148148,7.247222222222222,6.85,6.183333333333334,6.171296296296297,6.159259259259259,6.147222222222222,6.135185185185185,6.123148148148148,6.111111111111111,6.705555555555556,7.411111111111111,8.216666666666667,9.244444444444445,10.05555555555556,10.28194444444444,10.50833333333333,10.88611111111111,11.34166666666667,11.88611111111111,12.54722222222222,13.33888888888889,13.33803418803419,13.33717948717949,13.33632478632479,13.33547008547009,13.33461538461538,13.33376068376068,13.33290598290598,13.33205128205128,13.33119658119658,13.33034188034188,13.32948717948718,13.32863247863248,13.32777777777778,13.32692307692308,13.32606837606838,13.32521367521367,13.32435897435897,13.32350427350427,13.32264957264957,13.32179487179487,13.32094017094017,13.32008547008547,13.31923076923077,13.31837606837607,13.31752136752137,13.31666666666667,12.81666666666667,11.83055555555556,10.51666666666667,8.866666666666667,7.155555555555556,4.722222222222222,2.283333333333334,0.5166666666666667,0.5034188034188035,0.4901709401709402,0.4769230769230769,0.4636752136752137,0.4504273504273505,0.4371794871794872,0.423931623931624,0.4106837606837607,0.3974358974358975,0.3841880341880342,0.370940170940171,0.3576923076923078,0.3444444444444444,0.3311965811965812,0.317948717948718,0.3047008547008547,0.2914529914529915,0.2782051282051282,0.264957264957265,0.2517094017094017,0.2384615384615385,0.2252136752136752,0.211965811965812,0.1987179487179487,0.1854700854700855,0.1722222222222222,0.158974358974359,0.1457264957264958,0.1324786324786325,0.1192307692307693,0.105982905982906,0.09273504273504274,0.07948717948717948,0.06623931623931623,0.05299145299145297,0.03974358974358971,0.02649572649572651,0.0132478632478632,0.0,0.7222222222222222,1.691666666666667,2.658333333333333,3.461111111111111,4.333333333333333,4.576851851851852,4.82037037037037,5.063888888888889,5.786111111111111,6.663888888888888,7.472222222222221,8.427777777777777,9.372222222222222,9.756944444444443,10.14166666666667,10.52222222222222,11.07777777777778,11.25347222222222,11.42916666666667,11.60486111111111,11.78055555555556,11.95625,12.13194444444444,12.30763888888889,12.48333333333333,12.65902777777778,12.83472222222222,13.01041666666667,13.18611111111111,13.6,13.58487654320988,13.56975308641975,13.55462962962963,13.53950617283951,13.52438271604938,13.50925925925926,13.49413580246913,13.47901234567901,13.46388888888889,13.44876543209876,13.43364197530864,13.41851851851852,13.40339506172839,13.38827160493827,13.37314814814815,13.35802469135802,13.3429012345679,13.32777777777778,12.94444444444444,12.69548611111111,12.44652777777778,12.19756944444444,11.94861111111111,11.69965277777778,11.45069444444444,11.20173611111111,10.95277777777778,10.70601851851852,10.45925925925926,10.2125,9.965740740740742,9.718981481481482,9.472222222222223,8.819444444444445,7.408333333333333,5.161111111111111,2.741666666666666,1.041666666666667,1.011302681992337,0.9809386973180078,0.9505747126436782,0.9202107279693488,0.8898467432950192,0.8594827586206897,0.8291187739463601,0.7987547892720307,0.7683908045977013,0.7380268199233717,0.7076628352490422,0.6772988505747126,0.6469348659003832,0.6165708812260536,0.5862068965517242,0.5558429118773947,0.5254789272030651,0.4951149425287357,0.4647509578544061,0.4343869731800767,0.4040229885057471,0.3736590038314176,0.3432950191570882,0.3129310344827586,0.2825670498084291,0.2522030651340996,0.2218390804597701,0.1914750957854405,0.1611111111111111,1.547222222222222,3.630555555555556,4.192592592592592,4.75462962962963,5.316666666666666,6.183333333333334,6.494444444444444,6.805555555555556,7.116666666666667,6.638888888888888,6.105555555555555,5.205555555555555,4.213888888888889,4.097222222222222,3.980555555555556,4.131666666666667,4.282777777777778,4.433888888888889,4.585000000000001,4.736111111111112,5.269444444444444,6.136111111111111,7.222222222222222,8.261111111111111,9.238888888888889,10.325,10.82777777777778,11.33055555555556,11.83333333333333,12.45277777777778,13.26111111111111,14.05555555555556,14.04469696969697,14.03383838383838,14.0229797979798,14.01212121212121,14.00126262626263,13.99040404040404,13.97954545454546,13.96868686868687,13.95782828282828,13.9469696969697,13.93611111111111,13.57777777777778,13.21944444444444,12.57222222222222,11.34722222222222,9.855555555555554,8.891666666666666,8.294444444444444,7.486111111111111,6.227777777777778,4.8,3.383333333333333,2.338888888888889,1.608333333333333,1.086111111111111,0.6027777777777777,0.5651041666666666,0.5274305555555555,0.4897569444444444,0.4520833333333333,0.4144097222222222,0.3767361111111111,0.3390625,0.3013888888888889,0.2637152777777778,0.2260416666666666,0.1883680555555555,0.1506944444444445,0.1130208333333333,0.07534722222222223,0.03767361111111112,0.0,0.6944444444444444,1.705555555555555,2.129166666666666,2.552777777777778,3.386111111111111,4.355555555555555,4.448958333333333,4.542361111111111,4.635763888888889,4.729166666666666,4.822569444444444,4.915972222222222,5.009375,5.102777777777778,4.211111111111111,2.533333333333333,0.9166666666666666,1.322222222222222,3.205555555555555,5.113888888888889,5.463888888888889,5.813888888888889,6.686111111111111,8.386111111111111,9.502777777777778,9.498290598290598,9.493803418803418,9.48931623931624,9.48482905982906,9.48034188034188,9.4758547008547,9.471367521367522,9.466880341880342,9.462393162393163,9.457905982905983,9.453418803418804,9.448931623931625,9.444444444444445,8.966666666666667,8.238888888888889,7.141666666666667,5.927777777777778,4.958333333333334,4.166666666666667,3.333333333333333,2.5,1.641666666666667,0.8583333333333333,0.7803030303030303,0.7022727272727273,0.6242424242424243,0.5462121212121211,0.4681818181818182,0.3901515151515151,0.3121212121212121,0.2340909090909091,0.1560606060606061,0.07803030303030312,0.0,0.8916666666666666,2.105555555555556,3.341666666666666,3.541666666666667,3.741666666666666,3.941666666666666,4.430555555555555,5.208333333333333,6.166666666666666,7.155555555555556,8.177777777777777,8.297916666666666,8.418055555555554,8.538194444444445,8.658333333333333,9.191666666666668,10.28888888888889,11.64444444444444,12.96666666666667,12.95,12.93333333333333,12.91666666666667,12.9,12.88333333333333,12.86666666666667,12.85,12.83333333333333,12.81666666666667,12.8,12.78333333333333,12.76666666666667,12.75,12.70290404040404,12.65580808080808,12.60871212121212,12.56161616161616,12.5145202020202,12.46742424242424,12.42032828282828,12.37323232323232,12.32613636363636,12.2790404040404,12.23194444444444,12.18484848484849,12.13775252525252,12.09065656565657,12.04356060606061,11.99646464646465,11.94936868686869,11.90227272727273,11.85517676767677,11.80808080808081,11.76098484848485,11.71388888888889,11.66259259259259,11.6112962962963,11.56,11.5087037037037,11.45740740740741,11.40611111111111,11.35481481481481,11.30351851851852,11.25222222222222,11.20092592592593,11.14962962962963,11.09833333333333,11.04703703703704,10.99574074074074,10.94444444444444,10.41944444444444,9.233333333333334,7.597222222222222,6.022222222222222,4.836111111111111,4.58425925925926,4.332407407407407,4.080555555555556,4.675,5.927777777777778,6.368055555555555,6.808333333333334,6.375,5.788888888888889,4.769444444444445,4.595833333333333,4.422222222222222,5.294444444444444,6.291666666666666,7.483333333333333,7.618333333333333,7.753333333333333,7.888333333333334,8.023333333333333,8.158333333333333,7.591666666666666,6.375,4.852777777777777,3.575,2.280555555555556,0.9138888888888889,0.7996527777777778,0.6854166666666667,0.5711805555555556,0.4569444444444444,0.3427083333333333,0.2284722222222222,0.1142361111111111,0.0],\"type\":\"scatter\"}],                        {\"template\":{\"data\":{\"histogram2dcontour\":[{\"type\":\"histogram2dcontour\",\"colorbar\":{\"outlinewidth\":0,\"ticks\":\"\"},\"colorscale\":[[0.0,\"#0d0887\"],[0.1111111111111111,\"#46039f\"],[0.2222222222222222,\"#7201a8\"],[0.3333333333333333,\"#9c179e\"],[0.4444444444444444,\"#bd3786\"],[0.5555555555555556,\"#d8576b\"],[0.6666666666666666,\"#ed7953\"],[0.7777777777777778,\"#fb9f3a\"],[0.8888888888888888,\"#fdca26\"],[1.0,\"#f0f921\"]]}],\"choropleth\":[{\"type\":\"choropleth\",\"colorbar\":{\"outlinewidth\":0,\"ticks\":\"\"}}],\"histogram2d\":[{\"type\":\"histogram2d\",\"colorbar\":{\"outlinewidth\":0,\"ticks\":\"\"},\"colorscale\":[[0.0,\"#0d0887\"],[0.1111111111111111,\"#46039f\"],[0.2222222222222222,\"#7201a8\"],[0.3333333333333333,\"#9c179e\"],[0.4444444444444444,\"#bd3786\"],[0.5555555555555556,\"#d8576b\"],[0.6666666666666666,\"#ed7953\"],[0.7777777777777778,\"#fb9f3a\"],[0.8888888888888888,\"#fdca26\"],[1.0,\"#f0f921\"]]}],\"heatmap\":[{\"type\":\"heatmap\",\"colorbar\":{\"outlinewidth\":0,\"ticks\":\"\"},\"colorscale\":[[0.0,\"#0d0887\"],[0.1111111111111111,\"#46039f\"],[0.2222222222222222,\"#7201a8\"],[0.3333333333333333,\"#9c179e\"],[0.4444444444444444,\"#bd3786\"],[0.5555555555555556,\"#d8576b\"],[0.6666666666666666,\"#ed7953\"],[0.7777777777777778,\"#fb9f3a\"],[0.8888888888888888,\"#fdca26\"],[1.0,\"#f0f921\"]]}],\"heatmapgl\":[{\"type\":\"heatmapgl\",\"colorbar\":{\"outlinewidth\":0,\"ticks\":\"\"},\"colorscale\":[[0.0,\"#0d0887\"],[0.1111111111111111,\"#46039f\"],[0.2222222222222222,\"#7201a8\"],[0.3333333333333333,\"#9c179e\"],[0.4444444444444444,\"#bd3786\"],[0.5555555555555556,\"#d8576b\"],[0.6666666666666666,\"#ed7953\"],[0.7777777777777778,\"#fb9f3a\"],[0.8888888888888888,\"#fdca26\"],[1.0,\"#f0f921\"]]}],\"contourcarpet\":[{\"type\":\"contourcarpet\",\"colorbar\":{\"outlinewidth\":0,\"ticks\":\"\"}}],\"contour\":[{\"type\":\"contour\",\"colorbar\":{\"outlinewidth\":0,\"ticks\":\"\"},\"colorscale\":[[0.0,\"#0d0887\"],[0.1111111111111111,\"#46039f\"],[0.2222222222222222,\"#7201a8\"],[0.3333333333333333,\"#9c179e\"],[0.4444444444444444,\"#bd3786\"],[0.5555555555555556,\"#d8576b\"],[0.6666666666666666,\"#ed7953\"],[0.7777777777777778,\"#fb9f3a\"],[0.8888888888888888,\"#fdca26\"],[1.0,\"#f0f921\"]]}],\"surface\":[{\"type\":\"surface\",\"colorbar\":{\"outlinewidth\":0,\"ticks\":\"\"},\"colorscale\":[[0.0,\"#0d0887\"],[0.1111111111111111,\"#46039f\"],[0.2222222222222222,\"#7201a8\"],[0.3333333333333333,\"#9c179e\"],[0.4444444444444444,\"#bd3786\"],[0.5555555555555556,\"#d8576b\"],[0.6666666666666666,\"#ed7953\"],[0.7777777777777778,\"#fb9f3a\"],[0.8888888888888888,\"#fdca26\"],[1.0,\"#f0f921\"]]}],\"mesh3d\":[{\"type\":\"mesh3d\",\"colorbar\":{\"outlinewidth\":0,\"ticks\":\"\"}}],\"scatter\":[{\"fillpattern\":{\"fillmode\":\"overlay\",\"size\":10,\"solidity\":0.2},\"type\":\"scatter\"}],\"parcoords\":[{\"type\":\"parcoords\",\"line\":{\"colorbar\":{\"outlinewidth\":0,\"ticks\":\"\"}}}],\"scatterpolargl\":[{\"type\":\"scatterpolargl\",\"marker\":{\"colorbar\":{\"outlinewidth\":0,\"ticks\":\"\"}}}],\"bar\":[{\"error_x\":{\"color\":\"#2a3f5f\"},\"error_y\":{\"color\":\"#2a3f5f\"},\"marker\":{\"line\":{\"color\":\"#E5ECF6\",\"width\":0.5},\"pattern\":{\"fillmode\":\"overlay\",\"size\":10,\"solidity\":0.2}},\"type\":\"bar\"}],\"scattergeo\":[{\"type\":\"scattergeo\",\"marker\":{\"colorbar\":{\"outlinewidth\":0,\"ticks\":\"\"}}}],\"scatterpolar\":[{\"type\":\"scatterpolar\",\"marker\":{\"colorbar\":{\"outlinewidth\":0,\"ticks\":\"\"}}}],\"histogram\":[{\"marker\":{\"pattern\":{\"fillmode\":\"overlay\",\"size\":10,\"solidity\":0.2}},\"type\":\"histogram\"}],\"scattergl\":[{\"type\":\"scattergl\",\"marker\":{\"colorbar\":{\"outlinewidth\":0,\"ticks\":\"\"}}}],\"scatter3d\":[{\"type\":\"scatter3d\",\"line\":{\"colorbar\":{\"outlinewidth\":0,\"ticks\":\"\"}},\"marker\":{\"colorbar\":{\"outlinewidth\":0,\"ticks\":\"\"}}}],\"scattermapbox\":[{\"type\":\"scattermapbox\",\"marker\":{\"colorbar\":{\"outlinewidth\":0,\"ticks\":\"\"}}}],\"scatterternary\":[{\"type\":\"scatterternary\",\"marker\":{\"colorbar\":{\"outlinewidth\":0,\"ticks\":\"\"}}}],\"scattercarpet\":[{\"type\":\"scattercarpet\",\"marker\":{\"colorbar\":{\"outlinewidth\":0,\"ticks\":\"\"}}}],\"carpet\":[{\"aaxis\":{\"endlinecolor\":\"#2a3f5f\",\"gridcolor\":\"white\",\"linecolor\":\"white\",\"minorgridcolor\":\"white\",\"startlinecolor\":\"#2a3f5f\"},\"baxis\":{\"endlinecolor\":\"#2a3f5f\",\"gridcolor\":\"white\",\"linecolor\":\"white\",\"minorgridcolor\":\"white\",\"startlinecolor\":\"#2a3f5f\"},\"type\":\"carpet\"}],\"table\":[{\"cells\":{\"fill\":{\"color\":\"#EBF0F8\"},\"line\":{\"color\":\"white\"}},\"header\":{\"fill\":{\"color\":\"#C8D4E3\"},\"line\":{\"color\":\"white\"}},\"type\":\"table\"}],\"barpolar\":[{\"marker\":{\"line\":{\"color\":\"#E5ECF6\",\"width\":0.5},\"pattern\":{\"fillmode\":\"overlay\",\"size\":10,\"solidity\":0.2}},\"type\":\"barpolar\"}],\"pie\":[{\"automargin\":true,\"type\":\"pie\"}]},\"layout\":{\"autotypenumbers\":\"strict\",\"colorway\":[\"#636efa\",\"#EF553B\",\"#00cc96\",\"#ab63fa\",\"#FFA15A\",\"#19d3f3\",\"#FF6692\",\"#B6E880\",\"#FF97FF\",\"#FECB52\"],\"font\":{\"color\":\"#2a3f5f\"},\"hovermode\":\"closest\",\"hoverlabel\":{\"align\":\"left\"},\"paper_bgcolor\":\"white\",\"plot_bgcolor\":\"#E5ECF6\",\"polar\":{\"bgcolor\":\"#E5ECF6\",\"angularaxis\":{\"gridcolor\":\"white\",\"linecolor\":\"white\",\"ticks\":\"\"},\"radialaxis\":{\"gridcolor\":\"white\",\"linecolor\":\"white\",\"ticks\":\"\"}},\"ternary\":{\"bgcolor\":\"#E5ECF6\",\"aaxis\":{\"gridcolor\":\"white\",\"linecolor\":\"white\",\"ticks\":\"\"},\"baxis\":{\"gridcolor\":\"white\",\"linecolor\":\"white\",\"ticks\":\"\"},\"caxis\":{\"gridcolor\":\"white\",\"linecolor\":\"white\",\"ticks\":\"\"}},\"coloraxis\":{\"colorbar\":{\"outlinewidth\":0,\"ticks\":\"\"}},\"colorscale\":{\"sequential\":[[0.0,\"#0d0887\"],[0.1111111111111111,\"#46039f\"],[0.2222222222222222,\"#7201a8\"],[0.3333333333333333,\"#9c179e\"],[0.4444444444444444,\"#bd3786\"],[0.5555555555555556,\"#d8576b\"],[0.6666666666666666,\"#ed7953\"],[0.7777777777777778,\"#fb9f3a\"],[0.8888888888888888,\"#fdca26\"],[1.0,\"#f0f921\"]],\"sequentialminus\":[[0.0,\"#0d0887\"],[0.1111111111111111,\"#46039f\"],[0.2222222222222222,\"#7201a8\"],[0.3333333333333333,\"#9c179e\"],[0.4444444444444444,\"#bd3786\"],[0.5555555555555556,\"#d8576b\"],[0.6666666666666666,\"#ed7953\"],[0.7777777777777778,\"#fb9f3a\"],[0.8888888888888888,\"#fdca26\"],[1.0,\"#f0f921\"]],\"diverging\":[[0,\"#8e0152\"],[0.1,\"#c51b7d\"],[0.2,\"#de77ae\"],[0.3,\"#f1b6da\"],[0.4,\"#fde0ef\"],[0.5,\"#f7f7f7\"],[0.6,\"#e6f5d0\"],[0.7,\"#b8e186\"],[0.8,\"#7fbc41\"],[0.9,\"#4d9221\"],[1,\"#276419\"]]},\"xaxis\":{\"gridcolor\":\"white\",\"linecolor\":\"white\",\"ticks\":\"\",\"title\":{\"standoff\":15},\"zerolinecolor\":\"white\",\"automargin\":true,\"zerolinewidth\":2},\"yaxis\":{\"gridcolor\":\"white\",\"linecolor\":\"white\",\"ticks\":\"\",\"title\":{\"standoff\":15},\"zerolinecolor\":\"white\",\"automargin\":true,\"zerolinewidth\":2},\"scene\":{\"xaxis\":{\"backgroundcolor\":\"#E5ECF6\",\"gridcolor\":\"white\",\"linecolor\":\"white\",\"showbackground\":true,\"ticks\":\"\",\"zerolinecolor\":\"white\",\"gridwidth\":2},\"yaxis\":{\"backgroundcolor\":\"#E5ECF6\",\"gridcolor\":\"white\",\"linecolor\":\"white\",\"showbackground\":true,\"ticks\":\"\",\"zerolinecolor\":\"white\",\"gridwidth\":2},\"zaxis\":{\"backgroundcolor\":\"#E5ECF6\",\"gridcolor\":\"white\",\"linecolor\":\"white\",\"showbackground\":true,\"ticks\":\"\",\"zerolinecolor\":\"white\",\"gridwidth\":2}},\"shapedefaults\":{\"line\":{\"color\":\"#2a3f5f\"}},\"annotationdefaults\":{\"arrowcolor\":\"#2a3f5f\",\"arrowhead\":0,\"arrowwidth\":1},\"geo\":{\"bgcolor\":\"white\",\"landcolor\":\"#E5ECF6\",\"subunitcolor\":\"white\",\"showland\":true,\"showlakes\":true,\"lakecolor\":\"white\"},\"title\":{\"x\":0.05},\"mapbox\":{\"style\":\"light\"}}},\"xaxis\":{\"title\":{\"text\":\"Time [s]\"},\"zeroline\":true,\"zerolinewidth\":1,\"zerolinecolor\":\"black\"},\"yaxis\":{\"title\":{\"text\":\"Speed [km/h]\"},\"zeroline\":true,\"zerolinewidth\":1,\"zerolinecolor\":\"black\"},\"legend\":{\"orientation\":\"h\",\"x\":0.3,\"y\":1.3},\"height\":500,\"width\":900,\"plot_bgcolor\":\"white\"},                        {\"responsive\": true}                    ).then(function(){\n",
       "                            \n",
       "var gd = document.getElementById('039f8ba9-c9bd-4531-883d-53ac46884abb');\n",
       "var x = new MutationObserver(function (mutations, observer) {{\n",
       "        var display = window.getComputedStyle(gd).display;\n",
       "        if (!display || display === 'none') {{\n",
       "            console.log([gd, 'removed!']);\n",
       "            Plotly.purge(gd);\n",
       "            observer.disconnect();\n",
       "        }}\n",
       "}});\n",
       "\n",
       "// Listen for the removal of the full notebook cells\n",
       "var notebookContainer = gd.closest('#notebook-container');\n",
       "if (notebookContainer) {{\n",
       "    x.observe(notebookContainer, {childList: true});\n",
       "}}\n",
       "\n",
       "// Listen for the clearing of the current output cell\n",
       "var outputEl = gd.closest('.output');\n",
       "if (outputEl) {{\n",
       "    x.observe(outputEl, {childList: true});\n",
       "}}\n",
       "\n",
       "                        })                };                });            </script>        </div>"
      ]
     },
     "metadata": {},
     "output_type": "display_data"
    }
   ],
   "source": []
  },
  {
   "cell_type": "code",
   "execution_count": null,
   "id": "3c471d16",
   "metadata": {},
   "outputs": [],
   "source": []
  },
  {
   "cell_type": "code",
   "execution_count": null,
   "id": "830efe81",
   "metadata": {},
   "outputs": [],
   "source": []
  }
 ],
 "metadata": {
  "kernelspec": {
   "display_name": "Python 3 (ipykernel)",
   "language": "python",
   "name": "python3"
  },
  "language_info": {
   "codemirror_mode": {
    "name": "ipython",
    "version": 3
   },
   "file_extension": ".py",
   "mimetype": "text/x-python",
   "name": "python",
   "nbconvert_exporter": "python",
   "pygments_lexer": "ipython3",
   "version": "3.11.7"
  }
 },
 "nbformat": 4,
 "nbformat_minor": 5
}
