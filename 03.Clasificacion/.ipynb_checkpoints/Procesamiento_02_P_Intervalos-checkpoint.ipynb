{
 "cells": [
  {
   "cell_type": "code",
   "execution_count": 1,
   "id": "bf94c570-ea88-4bc0-9ab0-3b3cb9723819",
   "metadata": {},
   "outputs": [],
   "source": [
    "import pandas as pd\n",
    "import os\n",
    "import numpy as np\n",
    "from scipy.signal import savgol_filter\n",
    "import plotly.graph_objects as go\n",
    "from scipy.integrate import simps\n",
    "\n"
   ]
  },
  {
   "cell_type": "code",
   "execution_count": 2,
   "id": "15a8b8a4-6a07-474b-95ff-06107ecda87f",
   "metadata": {},
   "outputs": [],
   "source": [
    "# Función para calculo de aceleracion. h ~ datos por segundo\n",
    "def calcular_acel(df,h): # en m/s2\n",
    "    vel = df[\"v_km_h_f\"]\n",
    "    v = np.array(vel)/3.6  # Pasa de km/h a m/s\n",
    "    n = len(v)\n",
    "    a = np.zeros(n)\n",
    "    for i in range(n):\n",
    "        if i == 0:\n",
    "            a[i]=(-v[i+2] + 4*v[i+1] - 3*v[i])/(2*h)\n",
    "            #print(\"i=0\")\n",
    "        elif i == 1:\n",
    "            a[i]=(v[i+1] - v[i-1])/(2*h)\n",
    "            #print(\"i=1\")\n",
    "        elif i == n-2:\n",
    "            a[i]=(v[i+1] - v[i-1])/(2*h)\n",
    "            #print(\"i=n-2\")\n",
    "        elif i == n-1:\n",
    "            a[i]=(3*v[i] - 4*v[i-1] + v[i-2])/(2*h)\n",
    "            #print(\"i=n-1\")\n",
    "        else:\n",
    "            a[i] = (-v[i+2] + 8*v[i+1] - 8*v[i-1] + v[i-2])/(12*h)\n",
    "    return(a)\n",
    "\n",
    "import pandas as pd\n",
    "\n",
    "def parametros_seccion(df1): \n",
    "    umbral = 0.1 #con valores de aceleración mayor a 0.1 m/s2. para ia, RPA y crucero\n",
    "    \n",
    "    # Calcular la distancia recorrida\n",
    "    df1[\"v_m_s_f\"] = df1[\"v_km_h_f\"]/3.6\n",
    "    distance_traveled = (simps(df1[\"v_m_s_f\"].values, df1.t_s.values))  # En km\n",
    "    # Calcular el tiempo total del recorrido\n",
    "    total_time = (df1[\"t_s\"].iloc[-1] - df1[\"t_s\"].iloc[0])\n",
    "    # Calcular la velocidad media\n",
    "    speed_mean = (simps(df1[\"v_km_h_f\"], df1[\"t_s\"] * 1)) / (len(df1[\"t_s\"]))\n",
    "    # Calcular la velocidad máxima\n",
    "    speed_max = df1[\"v_km_h_f\"].max()\n",
    "    # Calcular la velocidad máxima\n",
    "    speed_mean_sup = (df1[\"v_km_h_f\"].max()+speed_mean)/2\n",
    "    # Calcular la aceleración media y máxima tanto negativa como positiva\n",
    "    acel_pos_mean = df1[df1.acel_m_s2 > 0].acel_m_s2.mean()\n",
    "    acel_pos_max = df1[df1.acel_m_s2 > 0].acel_m_s2.max()\n",
    "    acel_neg_mean = df1[df1.acel_m_s2 <= 0].acel_m_s2.mean()\n",
    "    acel_neg_max = df1[df1.acel_m_s2 <= 0].acel_m_s2.min()\n",
    "    # Calcular tiempo en ralentí, tiempo en movimiento, tiempo en crucero\n",
    "    time_ralenti = ((df1[df1.v_km_h_f <= 0].shape[0])) * (100 / total_time)\n",
    "    time_mov = (df1[df1.v_km_h_f > 0].shape[0]) * (100 / total_time)\n",
    "    \n",
    "    t_crucero = (df1[(df1['ABS_Aceleracion'] <= 0.1) & (df1['v_km_h_f'] > 0)].shape[0]) * (100 / total_time)\n",
    "    \n",
    "    # Funcion que cuenta el numero de veces con valores de aceleración mayor a 0.1 m/s2.   \n",
    "  \n",
    "    df_filtered = df1[df1['acel_m_s2'] > umbral]\n",
    "    n_datos = len(df_filtered)\n",
    "    ## CALCULAR RPA\n",
    "    # Calcular el producto de la velocidad por la aceleración [m3/s3 o W/kg]\n",
    "    df1['vxa'] = df1['v_m_s_f']*df1[\"acel_m_s2\"]\n",
    "    # Calcular la distnacia recorrida del intervalo en metros\n",
    "    distance_traveled =  (simps(df1[\"v_km_h_f\"].divide(3.6).values,df1.t_s.values)) \n",
    "    # Calculo de velocidad media en cada intervalo         \n",
    "    m_v_urban = df1['v_km_h_f'].mean()  \n",
    "    # Extraer solo el dataframe con acel mayor a 0.1\n",
    "    df_sort_Urban = df1[df1[\"acel_m_s2\"]>0.1]\n",
    "    # Ordenar de manera creciente de la vxa\n",
    "    df_sort_vxa_urb = df_sort_Urban.sort_values(by='vxa')\n",
    "    #Percentil para cada intervalo\n",
    "    df_sort_vxa_urb['Percentil'] = range(1, len(df_sort_vxa_urb) + 1)\n",
    "    df_sort_vxa_urb['Percentil']  = df_sort_vxa_urb['Percentil']/len(df_sort_vxa_urb)\n",
    "    # interpolacion lineal para calcular el valor vxa para 0.95 en cada intervalo\n",
    "    vxa_pos_urbano = df_sort_vxa_urb['vxa'].quantile(0.95, interpolation='linear')\n",
    "    #Aceleració positiva relativa RPA\n",
    "    RPA = (sum(df_sort_vxa_urb[\"vxa\"]))/(distance_traveled)\n",
    "    # Acumulado del valor absoluto de la derivada de la aceleracion\n",
    "    ABS_Der_Acel = df1[\"Der_Acel_cumul\"].max() #Acumulado del valor absoluto de la derivada de la aceleracion\n",
    "    # Acumulado del valor absoluto de la derivada de la aceleracion por cada km recorrido\n",
    "    ABS_Der_Acel_Per_distance = ABS_Der_Acel/(distance_traveled) #ABS_Der_Acel en cada km recorrido\n",
    "    # Acumulado del valor absoluto de la aceleracion \n",
    "    ABS_Acel = df1['Acel_cumul'].max() #Acumulado del valor absoluto de la aceleracion\n",
    "    # Acumulado del valor absoluto de la aceleracion por cada km recorrido\n",
    "    ABS_Acel_Per_distance = ABS_Acel/(distance_traveled) #ABS_Acel en cada km recorrido\n",
    "    # Indice XXX\n",
    "    indiceX = (n_datos*RPA)/(total_time*((time_mov-t_crucero)/100))\n",
    "    # Crear el DataFrame con los resultados\n",
    "    results_df = pd.DataFrame(columns=[\"Variable\", \"Valor\"])\n",
    "    results_df[\"Variable\"] = [\"distance_traveled\", \"total_time\", \"speed_mean\", \"speed_max\", \"speed_mean_sup\",\n",
    "                              \"acel_pos_mean\", \"acel_pos_max\", \"n_ia\", \"RPA\", \"acel_neg_mean\", \"acel_neg_max\",\n",
    "                              \"time_ralenti\", \"time_mov\",\"t_crucero\", \"ABS_Der_Acel\", \"ABS_Der_Acel/distance\", \"ABS_Acel\", \n",
    "                              \"ABS_Acel/distance\", \"indiceX\"]\n",
    "    results_df[\"Valor\"] = [distance_traveled/1000, total_time, speed_mean, speed_max, speed_mean_sup,\n",
    "                            acel_pos_mean, acel_pos_max, n_datos, RPA, acel_neg_mean, acel_neg_max,\n",
    "                            time_ralenti, time_mov,t_crucero, ABS_Der_Acel, ABS_Der_Acel_Per_distance, ABS_Acel, \n",
    "                           ABS_Acel_Per_distance, indiceX]\n",
    "    # Redondear los valores a dos decimales\n",
    "    results_df[\"Valor\"] = results_df[\"Valor\"].round(5)\n",
    "    \n",
    "    return results_df\n",
    "\n",
    "\n",
    "# Funcion para Calcular tiempo con velocidad por debajo de un umbral (intervalo Rural)\n",
    "def umbral_ad_rural (df1):\n",
    "    umbral = 60 #Velocidad minima del intervalo \n",
    "    # Calcular el tiempo total del recorrido\n",
    "    total_time_1 = df1[\"t_s\"].iloc[-1] - df1[\"t_s\"].iloc[0]\n",
    "    time_low = ((df1[df1.v_km_h_f<= umbral].shape[0]))*(100/total_time_1)\n",
    "    time_high = ((df1[df1.v_km_h_f> umbral].shape[0]))*(100/total_time_1)\n",
    "    print(\"El tiempo con velocidad por menor o igual a 60 km/h durante Intervalo Rural {:.1f} %\".format(time_low))\n",
    "    print(\"El tiempo con velocidad por mayor a 60 km/h durante Intervalo Rural {:.1f} %\".format(time_high))\n",
    "\n",
    "# Funcion para Calcular tiempo con velocidad por debajo de un umbral (intervalo Motorway)\n",
    "def umbral_ad_aut (df1):\n",
    "    umbral = 90 #Velocidad minima del intervalo \n",
    "    # Calcular el tiempo total del recorrido\n",
    "    total_time_1 = df1[\"t_s\"].iloc[-1] - df1[\"t_s\"].iloc[0]\n",
    "    time_low = ((df1[df1.v_km_h_f<= umbral].shape[0]))*(100/total_time_1)\n",
    "    time_high = ((df1[df1.v_km_h_f> umbral].shape[0]))*(100/total_time_1)\n",
    "    print(\"El tiempo con velocidad por menor o igual a 90 km/h durante Intervalo Motorway {:.1f} %\".format(time_low))\n",
    "    print(\"El tiempo con velocidad por mayor a 90 km/h durante Intervalo Motorway {:.1f} %\".format(time_high))\n",
    "\n",
    "    \n",
    "def calcular_parametros_acel(df):\n",
    "    Data_time = 1 # Un dato por segundo\n",
    "    df = df.reset_index(drop=True) # Reindexar el DF\n",
    "    df[\"v_m_s_f\"] = df[\"v_km_h_f\"]/3.6\n",
    "    df[\"t_s\"] = range(len(df)) # Crear nueva columna de tiempo con una frecuencia de 1hz\n",
    "    df[\"acel_m_s2\"] = calcular_acel(df,Data_time) \n",
    "    df['ABS_Aceleracion'] = abs(df['acel_m_s2'])\n",
    "    df['Acel_cumul'] = df['ABS_Aceleracion'].cumsum()\n",
    "    df['Derivada_Aceleracion'] = df['acel_m_s2'].diff()\n",
    "    df['Derivada_Aceleracion'].fillna(0, inplace=True)\n",
    "    df['ABS_Derivada_Aceleracion'] = abs(df['Derivada_Aceleracion'])\n",
    "    df['Der_Acel_cumul'] = df['ABS_Derivada_Aceleracion'].cumsum()\n",
    "    return df"
   ]
  },
  {
   "cell_type": "code",
   "execution_count": 3,
   "id": "d48e3213",
   "metadata": {},
   "outputs": [],
   "source": [
    "# Ruta del directorio donde se encuentran los archivos Excel originales\n",
    "directorio_origen = 'C:/Users/Lenovo/OneDrive - Universidad de Castilla-La Mancha/JAVIER_LONDONO/RDE_Development/01.Data_Acquisitions'\n",
    "\n",
    "# Ruta del directorio donde se guardarán los archivos Excel modificados\n",
    "directorio_destino = 'C:/Users/Lenovo/OneDrive - Universidad de Castilla-La Mancha/JAVIER_LONDONO/RDE_Development/03.Clasificacion'\n",
    "\n",
    "# Lista para almacenar los nombres de los archivos Excel en el directorio de origen\n",
    "archivos_excel = []\n",
    "\n",
    "# Recorrer el directorio de origen y guardar los nombres de los archivos Excel\n",
    "for archivo in os.listdir(directorio_origen):\n",
    "    if archivo.endswith('.xlsx'):\n",
    "        archivos_excel.append(archivo)\n",
    "\n",
    "# Iterar sobre cada archivo Excel\n",
    "for archivo in archivos_excel:\n",
    "    # Ruta completa del archivo de origen\n",
    "    ruta_origen = os.path.join(directorio_origen, archivo)\n",
    "    \n",
    "    # Cargar el archivo Excel en un DataFrame\n",
    "    df = pd.read_excel(ruta_origen)\n",
    "    \n",
    "    # Aplicar la función para calcular los parámetros de aceleración\n",
    "    df_modificado = calcular_parametros_acel(df)\n",
    "    \n",
    "    # Generar la ruta de destino para guardar el archivo modificado\n",
    "    ruta_destino = os.path.join(directorio_destino, archivo)\n",
    "    \n",
    "    # Guardar el DataFrame modificado como un nuevo archivo Excel\n",
    "    df_modificado.to_excel(ruta_destino, index=False)\n"
   ]
  },
  {
   "cell_type": "code",
   "execution_count": 4,
   "id": "ada0750c",
   "metadata": {},
   "outputs": [],
   "source": [
    "import pandas as pd\n",
    "import os\n",
    "\n",
    "# Ruta del directorio donde se encuentran los archivos Excel\n",
    "directorio = 'C:/Users/Lenovo/OneDrive - Universidad de Castilla-La Mancha/JAVIER_LONDONO/RDE_Development/03.Clasificacion'\n",
    "directorio_guardar = 'C:/Users/Lenovo/OneDrive - Universidad de Castilla-La Mancha/JAVIER_LONDONO/RDE_Development/03.Clasificacion/Parametros Intervalos'\n",
    "\n",
    "# Lista para almacenar los nombres de los archivos Excel\n",
    "archivos_excel = []\n",
    "\n",
    "# Lista para almacenar los DataFrames con los resultados\n",
    "resultados = []\n",
    "\n",
    "# Recorrer el directorio y guardar los nombres de los archivos Excel\n",
    "for archivo in os.listdir(directorio):\n",
    "    if archivo.endswith('2024.xlsx'):\n",
    "        archivos_excel.append(archivo)\n",
    "\n",
    "# Iterar sobre cada archivo Excel\n",
    "for archivo in archivos_excel:\n",
    "    # Ruta completa del archivo\n",
    "    ruta_archivo = os.path.join(directorio, archivo)\n",
    "    \n",
    "    # Cargar el archivo Excel en un DataFrame\n",
    "    df = pd.read_excel(ruta_archivo)\n",
    "    \n",
    "\n",
    "\n",
    "    # Aplicar la función para calcular los parámetros de sección\n",
    "    df_resultados = parametros_seccion(df)\n",
    "\n",
    "    \n",
    "    # Generar la ruta de destino para guardar el archivo modificado\n",
    "    ruta_destino = os.path.join(directorio_guardar, \"P_\"+archivo )\n",
    "    \n",
    "    # Guardar el DataFrame modificado como un nuevo archivo Excel\n",
    "    df_resultados.to_excel(ruta_destino, index=False)\n",
    "\n",
    "\n"
   ]
  },
  {
   "cell_type": "code",
   "execution_count": 5,
   "id": "d7e90c99",
   "metadata": {},
   "outputs": [
    {
     "name": "stdout",
     "output_type": "stream",
     "text": [
      "                Parameter  Motorway_1  Motorway_2  Motorway_3     Rural_1  \\\n",
      "0       distance_traveled    33.80503    33.80646    33.87392    34.62031   \n",
      "1              total_time  1052.00000  1076.00000  1119.00000  1713.00000   \n",
      "2              speed_mean   115.57276   113.00208   108.88047    72.71477   \n",
      "3               speed_max   137.17000   132.17000   135.76000    89.74000   \n",
      "4          speed_mean_sup   126.37138   122.58604   122.32023    81.22739   \n",
      "5           acel_pos_mean     0.16027     0.14493     0.36751     0.24588   \n",
      "6            acel_pos_max     2.05301     2.59074     1.95880     2.03171   \n",
      "7                    n_ia   222.00000   240.00000   437.00000   546.00000   \n",
      "8                     RPA     0.04966     0.04790     0.16756     0.09695   \n",
      "9           acel_neg_mean    -0.12556    -0.13705    -0.34992    -0.23231   \n",
      "10           acel_neg_max    -2.64213    -1.60301    -2.16065    -3.12014   \n",
      "11           time_ralenti     0.38023     0.18587     0.17873     0.93403   \n",
      "12               time_mov    99.71483    99.90706    99.91063    99.12434   \n",
      "13              t_crucero    55.79848    53.99628    17.60500    34.26737   \n",
      "14           ABS_Der_Acel    72.88102    75.45972   152.03472   189.35231   \n",
      "15  ABS_Der_Acel/distance     0.00216     0.00223     0.00449     0.00547   \n",
      "16               ABS_Acel   148.25486   151.69931   401.53056   409.48657   \n",
      "17      ABS_Acel/distance     0.00439     0.00449     0.01185     0.01183   \n",
      "18                indiceX     0.02386     0.02327     0.07951     0.04765   \n",
      "\n",
      "       Rural_2     Rural_3     Urban_1     Urban_2     Urban_3  \n",
      "0     34.57223    34.58639    15.38732    15.38433    15.33228  \n",
      "1   1605.00000  2213.00000  1949.00000  1786.00000  2549.00000  \n",
      "2     77.49690    56.23803    28.40735    30.99249    21.64558  \n",
      "3     89.09000    67.76000    59.19000    60.18000    42.09000  \n",
      "4     83.29345    61.99901    43.79868    45.58624    31.86779  \n",
      "5      0.25495     0.13206     0.49459     0.53238     0.27224  \n",
      "6      1.88356     1.03056     2.32153     2.53472     1.94861  \n",
      "7    493.00000   348.00000   707.00000   675.00000   803.00000  \n",
      "8      0.09907     0.04220     0.20612     0.22671     0.10355  \n",
      "9     -0.24659    -0.12877    -0.37826    -0.44176    -0.21802  \n",
      "10    -3.28079    -1.82731    -3.32778    -2.94606    -1.92199  \n",
      "11     0.49844     0.58744    15.49513    13.49384    14.75088  \n",
      "12    99.56386    99.45775    84.55618    86.56215    85.28835  \n",
      "13    37.94393    69.27248    13.64802    13.60582    25.02942  \n",
      "14   200.04583    88.04537   422.21065   430.60231   322.19907  \n",
      "15     0.00579     0.00255     0.02744     0.02799     0.02101  \n",
      "16   402.61968   288.69120   835.90579   862.83287   617.43981  \n",
      "17     0.01165     0.00835     0.05432     0.05609     0.04027  \n",
      "18     0.04939     0.02198     0.10545     0.11744     0.05414  \n"
     ]
    }
   ],
   "source": [
    "import pandas as pd\n",
    "import os\n",
    "\n",
    "def obtener_nombres_archivos(directorio, extension):\n",
    "    return [archivo for archivo in os.listdir(directorio) if archivo.endswith(extension)]\n",
    "\n",
    "def obtener_nombres_completos(nombres_archivos):\n",
    "    return [os.path.splitext(archivo)[0] for archivo in nombres_archivos]\n",
    "\n",
    "def obtener_nombres_finales(nombres_archivos, numeracion):\n",
    "    return [nombre[11:-8] + str(num) for nombre, num in zip(nombres_archivos, numeracion)]\n",
    "\n",
    "# Directorio donde se encuentran los archivos Excel\n",
    "directorio = 'C:/Users/Lenovo/OneDrive - Universidad de Castilla-La Mancha/JAVIER_LONDONO/RDE_Development/03.Clasificacion/Parametros Intervalos'\n",
    "\n",
    "# Obtener los nombres de los archivos Excel\n",
    "archivos_excel = obtener_nombres_archivos(directorio, '2024.xlsx')\n",
    "\n",
    "# Obtener los nombres base de los archivos (sin extensión)\n",
    "nombres_archivos_base = obtener_nombres_completos(archivos_excel)\n",
    "\n",
    "# Numeración para agregar a los nombres finales\n",
    "Numeracion = [1, 2, 3, 1, 2, 3, 1, 2, 3]\n",
    "\n",
    "# Obtener los nombres finales de los archivos\n",
    "Nombres_r = obtener_nombres_finales(nombres_archivos_base, Numeracion)\n",
    "\n",
    "# Lista para almacenar los DataFrames\n",
    "dataframes = []\n",
    "\n",
    "# Cargar los archivos Excel y cambiar el nombre de la segunda columna\n",
    "for nombre_archivo in archivos_excel:\n",
    "    # Cargar el archivo Excel\n",
    "    ruta_archivo = os.path.join(directorio, nombre_archivo)\n",
    "    df = pd.read_excel(ruta_archivo)\n",
    "    # Cambiar el nombre de la segunda columna\n",
    "    df.columns = [df.columns[0], Nombres_r.pop(0)]\n",
    "    # Agregar el DataFrame a la lista\n",
    "    dataframes.append(df)\n",
    "\n",
    "# Combinar los DataFrames en uno solo\n",
    "df_final = pd.concat([dataframes[0].iloc[:, :2]] + [df.iloc[:, 1] for df in dataframes[1:]], axis=1)\n",
    "# Cambiar el nombre de la columna 'A' a 'NuevoNombre'\n",
    "df_final = df_final.rename(columns={'Variable': 'Parameter'})\n",
    "# Mostrar el DataFrame final\n",
    "print(df_final)\n",
    "\n"
   ]
  },
  {
   "cell_type": "code",
   "execution_count": 6,
   "id": "a47b4f81",
   "metadata": {},
   "outputs": [],
   "source": [
    "# Transponer el DataFrame\n",
    "df_final_T = df_final.transpose()\n",
    "# Establecer la primera fila como nombres de columna\n",
    "df_final_T.columns = df_final_T.iloc[0]\n",
    "# Eliminar la primera fila (que ahora es el nombre de la columna)\n",
    "df_final_T = df_final_T[1:]\n",
    "# Actualizar Index y cambiar nombre a Ciclo\n",
    "df_final_T.reset_index(inplace=True)\n",
    "df_final_T.rename(columns={'index': 'ciclo'}, inplace=True)\n",
    "# ver dataFrame\n",
    "df_final_T\n",
    "\n",
    "# guardar datos OBD motor en un archivo :\n",
    "df_final_T.to_excel('C:/Users/Lenovo/OneDrive - Universidad de Castilla-La Mancha/JAVIER_LONDONO/RDE_Development/03.Clasificacion/Parametros Intervalos/Parametros_Intervalos.xlsx', index=False)"
   ]
  },
  {
   "cell_type": "code",
   "execution_count": 7,
   "id": "1025b409",
   "metadata": {},
   "outputs": [
    {
     "name": "stdout",
     "output_type": "stream",
     "text": [
      "                 NombreOriginal NombreFinal\n",
      "0  P_Interval_Motorway_05042024  Motorway_1\n",
      "1  P_Interval_Motorway_15042024  Motorway_2\n",
      "2  P_Interval_Motorway_29042024  Motorway_3\n",
      "3     P_Interval_Rural_05042024     Rural_1\n",
      "4     P_Interval_Rural_15042024     Rural_2\n",
      "5     P_Interval_Rural_29042024     Rural_3\n",
      "6     P_Interval_Urban_02042024     Urban_1\n",
      "7     P_Interval_Urban_15042024     Urban_2\n",
      "8     P_Interval_Urban_19042024     Urban_3\n"
     ]
    }
   ],
   "source": [
    "import os\n",
    "import pandas as pd\n",
    "\n",
    "def obtener_nombres_archivos(directorio, extension):\n",
    "    return [archivo for archivo in os.listdir(directorio) if archivo.endswith(extension)]\n",
    "\n",
    "def obtener_nombres_completos(nombres_archivos):\n",
    "    return [os.path.splitext(archivo)[0] for archivo in nombres_archivos]\n",
    "\n",
    "def obtener_nombres_finales(nombres_archivos, numeracion):\n",
    "    return [nombre[11:-8] + str(num) for nombre, num in zip(nombres_archivos, numeracion)]\n",
    "\n",
    "def generar_dataframe_equivalencias(directorio, extension, numeracion):\n",
    "    # Obtener los nombres de los archivos Excel\n",
    "    archivos_excel = obtener_nombres_archivos(directorio, extension)\n",
    "    \n",
    "    # Obtener los nombres base de los archivos (sin extensión)\n",
    "    nombres_archivos_base = obtener_nombres_completos(archivos_excel)\n",
    "    \n",
    "    # Obtener los nombres finales de los archivos\n",
    "    nombres_finales = obtener_nombres_finales(nombres_archivos_base, numeracion)\n",
    "    \n",
    "    # Crear el DataFrame con las equivalencias de nombres\n",
    "    equivalencias_df = pd.DataFrame({'NombreOriginal': nombres_archivos_base, 'NombreFinal': nombres_finales})\n",
    "    \n",
    "    return equivalencias_df\n",
    "\n",
    "# Directorio donde se encuentran los archivos Excel\n",
    "directorio = 'C:/Users/Lenovo/OneDrive - Universidad de Castilla-La Mancha/JAVIER_LONDONO/RDE_Development/03.Clasificacion/Parametros Intervalos'\n",
    "\n",
    "# Extensión de los archivos Excel\n",
    "extension = '2024.xlsx'\n",
    "\n",
    "# Numeración para agregar a los nombres finales\n",
    "numeracion = [1, 2, 3, 1, 2, 3, 1, 2, 3]\n",
    "\n",
    "# Generar el DataFrame con las equivalencias de nombres\n",
    "equivalencias_df = generar_dataframe_equivalencias(directorio, extension, numeracion)\n",
    "\n",
    "# Mostrar el DataFrame con las equivalencias de nombres\n",
    "print(equivalencias_df)\n",
    "\n",
    "# guardar datos OBD motor en un archivo CSV :\n",
    "equivalencias_df.to_excel('C:/Users/Lenovo/OneDrive - Universidad de Castilla-La Mancha/JAVIER_LONDONO/RDE_Development/03.Clasificacion/Parametros Intervalos/Equivalencias_Intervalos.xlsx', index=False)\n"
   ]
  },
  {
   "cell_type": "code",
   "execution_count": 26,
   "id": "0e3ce5ad",
   "metadata": {},
   "outputs": [
    {
     "data": {
      "application/vnd.plotly.v1+json": {
       "config": {
        "plotlyServerURL": "https://plot.ly"
       },
       "data": [
        {
         "marker": {
          "color": "black",
          "size": 10,
          "symbol": "x"
         },
         "mode": "markers",
         "name": "Motorway_1",
         "type": "scatter",
         "x": [
          0.04966
         ],
         "y": [
          0.29327983427752263
         ]
        },
        {
         "marker": {
          "color": "black",
          "size": 10,
          "symbol": "x"
         },
         "mode": "markers",
         "name": "Motorway_2",
         "type": "scatter",
         "x": [
          0.0479
         ],
         "y": [
          0.2901930686484084
         ]
        },
        {
         "marker": {
          "color": "black",
          "size": 10,
          "symbol": "x"
         },
         "mode": "markers",
         "name": "Motorway_3",
         "type": "scatter",
         "x": [
          0.16756
         ],
         "y": [
          0.7562523044634507
         ]
        },
        {
         "marker": {
          "color": "black",
          "size": 10,
          "symbol": "x"
         },
         "mode": "markers",
         "name": "Rural_1",
         "type": "scatter",
         "x": [
          0.09695
         ],
         "y": [
          0.48641132208595056
         ]
        },
        {
         "marker": {
          "color": "black",
          "size": 10,
          "symbol": "x"
         },
         "mode": "markers",
         "name": "Rural_2",
         "type": "scatter",
         "x": [
          0.09907
         ],
         "y": [
          0.5032331946901096
         ]
        },
        {
         "marker": {
          "color": "black",
          "size": 10,
          "symbol": "x"
         },
         "mode": "markers",
         "name": "Rural_3",
         "type": "scatter",
         "x": [
          0.0422
         ],
         "y": [
          0.2504086729489655
         ]
        },
        {
         "marker": {
          "color": "black",
          "size": 10,
          "symbol": "x"
         },
         "mode": "markers",
         "name": "Urban_1",
         "type": "scatter",
         "x": [
          0.20612
         ],
         "y": [
          0.8383669236527073
         ]
        },
        {
         "marker": {
          "color": "black",
          "size": 10,
          "symbol": "x"
         },
         "mode": "markers",
         "name": "Urban_2",
         "type": "scatter",
         "x": [
          0.22671
         ],
         "y": [
          0.9325795496084015
         ]
        },
        {
         "marker": {
          "color": "black",
          "size": 10,
          "symbol": "x"
         },
         "mode": "markers",
         "name": "Urban_3",
         "type": "scatter",
         "x": [
          0.10355
         ],
         "y": [
          0.4633407508095055
         ]
        },
        {
         "line": {
          "color": "gray",
          "dash": "dash",
          "width": 1
         },
         "mode": "lines",
         "name": "Regresión",
         "type": "scatter",
         "x": [
          0.04966,
          0.0479,
          0.16756,
          0.09695,
          0.09907,
          0.0422,
          0.20612,
          0.22671,
          0.10355
         ],
         "y": [
          0.2963047621110516,
          0.28992922976946345,
          0.7233929797662986,
          0.46761096917565403,
          0.47529058767802157,
          0.26928119889045665,
          0.8630750974320012,
          0.9376615809054663,
          0.49151921545660937
         ]
        }
       ],
       "layout": {
        "height": 600,
        "legend": {
         "orientation": "v",
         "x": 1,
         "y": 0.5
        },
        "plot_bgcolor": "white",
        "template": {
         "data": {
          "bar": [
           {
            "error_x": {
             "color": "#2a3f5f"
            },
            "error_y": {
             "color": "#2a3f5f"
            },
            "marker": {
             "line": {
              "color": "#E5ECF6",
              "width": 0.5
             },
             "pattern": {
              "fillmode": "overlay",
              "size": 10,
              "solidity": 0.2
             }
            },
            "type": "bar"
           }
          ],
          "barpolar": [
           {
            "marker": {
             "line": {
              "color": "#E5ECF6",
              "width": 0.5
             },
             "pattern": {
              "fillmode": "overlay",
              "size": 10,
              "solidity": 0.2
             }
            },
            "type": "barpolar"
           }
          ],
          "carpet": [
           {
            "aaxis": {
             "endlinecolor": "#2a3f5f",
             "gridcolor": "white",
             "linecolor": "white",
             "minorgridcolor": "white",
             "startlinecolor": "#2a3f5f"
            },
            "baxis": {
             "endlinecolor": "#2a3f5f",
             "gridcolor": "white",
             "linecolor": "white",
             "minorgridcolor": "white",
             "startlinecolor": "#2a3f5f"
            },
            "type": "carpet"
           }
          ],
          "choropleth": [
           {
            "colorbar": {
             "outlinewidth": 0,
             "ticks": ""
            },
            "type": "choropleth"
           }
          ],
          "contour": [
           {
            "colorbar": {
             "outlinewidth": 0,
             "ticks": ""
            },
            "colorscale": [
             [
              0,
              "#0d0887"
             ],
             [
              0.1111111111111111,
              "#46039f"
             ],
             [
              0.2222222222222222,
              "#7201a8"
             ],
             [
              0.3333333333333333,
              "#9c179e"
             ],
             [
              0.4444444444444444,
              "#bd3786"
             ],
             [
              0.5555555555555556,
              "#d8576b"
             ],
             [
              0.6666666666666666,
              "#ed7953"
             ],
             [
              0.7777777777777778,
              "#fb9f3a"
             ],
             [
              0.8888888888888888,
              "#fdca26"
             ],
             [
              1,
              "#f0f921"
             ]
            ],
            "type": "contour"
           }
          ],
          "contourcarpet": [
           {
            "colorbar": {
             "outlinewidth": 0,
             "ticks": ""
            },
            "type": "contourcarpet"
           }
          ],
          "heatmap": [
           {
            "colorbar": {
             "outlinewidth": 0,
             "ticks": ""
            },
            "colorscale": [
             [
              0,
              "#0d0887"
             ],
             [
              0.1111111111111111,
              "#46039f"
             ],
             [
              0.2222222222222222,
              "#7201a8"
             ],
             [
              0.3333333333333333,
              "#9c179e"
             ],
             [
              0.4444444444444444,
              "#bd3786"
             ],
             [
              0.5555555555555556,
              "#d8576b"
             ],
             [
              0.6666666666666666,
              "#ed7953"
             ],
             [
              0.7777777777777778,
              "#fb9f3a"
             ],
             [
              0.8888888888888888,
              "#fdca26"
             ],
             [
              1,
              "#f0f921"
             ]
            ],
            "type": "heatmap"
           }
          ],
          "heatmapgl": [
           {
            "colorbar": {
             "outlinewidth": 0,
             "ticks": ""
            },
            "colorscale": [
             [
              0,
              "#0d0887"
             ],
             [
              0.1111111111111111,
              "#46039f"
             ],
             [
              0.2222222222222222,
              "#7201a8"
             ],
             [
              0.3333333333333333,
              "#9c179e"
             ],
             [
              0.4444444444444444,
              "#bd3786"
             ],
             [
              0.5555555555555556,
              "#d8576b"
             ],
             [
              0.6666666666666666,
              "#ed7953"
             ],
             [
              0.7777777777777778,
              "#fb9f3a"
             ],
             [
              0.8888888888888888,
              "#fdca26"
             ],
             [
              1,
              "#f0f921"
             ]
            ],
            "type": "heatmapgl"
           }
          ],
          "histogram": [
           {
            "marker": {
             "pattern": {
              "fillmode": "overlay",
              "size": 10,
              "solidity": 0.2
             }
            },
            "type": "histogram"
           }
          ],
          "histogram2d": [
           {
            "colorbar": {
             "outlinewidth": 0,
             "ticks": ""
            },
            "colorscale": [
             [
              0,
              "#0d0887"
             ],
             [
              0.1111111111111111,
              "#46039f"
             ],
             [
              0.2222222222222222,
              "#7201a8"
             ],
             [
              0.3333333333333333,
              "#9c179e"
             ],
             [
              0.4444444444444444,
              "#bd3786"
             ],
             [
              0.5555555555555556,
              "#d8576b"
             ],
             [
              0.6666666666666666,
              "#ed7953"
             ],
             [
              0.7777777777777778,
              "#fb9f3a"
             ],
             [
              0.8888888888888888,
              "#fdca26"
             ],
             [
              1,
              "#f0f921"
             ]
            ],
            "type": "histogram2d"
           }
          ],
          "histogram2dcontour": [
           {
            "colorbar": {
             "outlinewidth": 0,
             "ticks": ""
            },
            "colorscale": [
             [
              0,
              "#0d0887"
             ],
             [
              0.1111111111111111,
              "#46039f"
             ],
             [
              0.2222222222222222,
              "#7201a8"
             ],
             [
              0.3333333333333333,
              "#9c179e"
             ],
             [
              0.4444444444444444,
              "#bd3786"
             ],
             [
              0.5555555555555556,
              "#d8576b"
             ],
             [
              0.6666666666666666,
              "#ed7953"
             ],
             [
              0.7777777777777778,
              "#fb9f3a"
             ],
             [
              0.8888888888888888,
              "#fdca26"
             ],
             [
              1,
              "#f0f921"
             ]
            ],
            "type": "histogram2dcontour"
           }
          ],
          "mesh3d": [
           {
            "colorbar": {
             "outlinewidth": 0,
             "ticks": ""
            },
            "type": "mesh3d"
           }
          ],
          "parcoords": [
           {
            "line": {
             "colorbar": {
              "outlinewidth": 0,
              "ticks": ""
             }
            },
            "type": "parcoords"
           }
          ],
          "pie": [
           {
            "automargin": true,
            "type": "pie"
           }
          ],
          "scatter": [
           {
            "fillpattern": {
             "fillmode": "overlay",
             "size": 10,
             "solidity": 0.2
            },
            "type": "scatter"
           }
          ],
          "scatter3d": [
           {
            "line": {
             "colorbar": {
              "outlinewidth": 0,
              "ticks": ""
             }
            },
            "marker": {
             "colorbar": {
              "outlinewidth": 0,
              "ticks": ""
             }
            },
            "type": "scatter3d"
           }
          ],
          "scattercarpet": [
           {
            "marker": {
             "colorbar": {
              "outlinewidth": 0,
              "ticks": ""
             }
            },
            "type": "scattercarpet"
           }
          ],
          "scattergeo": [
           {
            "marker": {
             "colorbar": {
              "outlinewidth": 0,
              "ticks": ""
             }
            },
            "type": "scattergeo"
           }
          ],
          "scattergl": [
           {
            "marker": {
             "colorbar": {
              "outlinewidth": 0,
              "ticks": ""
             }
            },
            "type": "scattergl"
           }
          ],
          "scattermapbox": [
           {
            "marker": {
             "colorbar": {
              "outlinewidth": 0,
              "ticks": ""
             }
            },
            "type": "scattermapbox"
           }
          ],
          "scatterpolar": [
           {
            "marker": {
             "colorbar": {
              "outlinewidth": 0,
              "ticks": ""
             }
            },
            "type": "scatterpolar"
           }
          ],
          "scatterpolargl": [
           {
            "marker": {
             "colorbar": {
              "outlinewidth": 0,
              "ticks": ""
             }
            },
            "type": "scatterpolargl"
           }
          ],
          "scatterternary": [
           {
            "marker": {
             "colorbar": {
              "outlinewidth": 0,
              "ticks": ""
             }
            },
            "type": "scatterternary"
           }
          ],
          "surface": [
           {
            "colorbar": {
             "outlinewidth": 0,
             "ticks": ""
            },
            "colorscale": [
             [
              0,
              "#0d0887"
             ],
             [
              0.1111111111111111,
              "#46039f"
             ],
             [
              0.2222222222222222,
              "#7201a8"
             ],
             [
              0.3333333333333333,
              "#9c179e"
             ],
             [
              0.4444444444444444,
              "#bd3786"
             ],
             [
              0.5555555555555556,
              "#d8576b"
             ],
             [
              0.6666666666666666,
              "#ed7953"
             ],
             [
              0.7777777777777778,
              "#fb9f3a"
             ],
             [
              0.8888888888888888,
              "#fdca26"
             ],
             [
              1,
              "#f0f921"
             ]
            ],
            "type": "surface"
           }
          ],
          "table": [
           {
            "cells": {
             "fill": {
              "color": "#EBF0F8"
             },
             "line": {
              "color": "white"
             }
            },
            "header": {
             "fill": {
              "color": "#C8D4E3"
             },
             "line": {
              "color": "white"
             }
            },
            "type": "table"
           }
          ]
         },
         "layout": {
          "annotationdefaults": {
           "arrowcolor": "#2a3f5f",
           "arrowhead": 0,
           "arrowwidth": 1
          },
          "autotypenumbers": "strict",
          "coloraxis": {
           "colorbar": {
            "outlinewidth": 0,
            "ticks": ""
           }
          },
          "colorscale": {
           "diverging": [
            [
             0,
             "#8e0152"
            ],
            [
             0.1,
             "#c51b7d"
            ],
            [
             0.2,
             "#de77ae"
            ],
            [
             0.3,
             "#f1b6da"
            ],
            [
             0.4,
             "#fde0ef"
            ],
            [
             0.5,
             "#f7f7f7"
            ],
            [
             0.6,
             "#e6f5d0"
            ],
            [
             0.7,
             "#b8e186"
            ],
            [
             0.8,
             "#7fbc41"
            ],
            [
             0.9,
             "#4d9221"
            ],
            [
             1,
             "#276419"
            ]
           ],
           "sequential": [
            [
             0,
             "#0d0887"
            ],
            [
             0.1111111111111111,
             "#46039f"
            ],
            [
             0.2222222222222222,
             "#7201a8"
            ],
            [
             0.3333333333333333,
             "#9c179e"
            ],
            [
             0.4444444444444444,
             "#bd3786"
            ],
            [
             0.5555555555555556,
             "#d8576b"
            ],
            [
             0.6666666666666666,
             "#ed7953"
            ],
            [
             0.7777777777777778,
             "#fb9f3a"
            ],
            [
             0.8888888888888888,
             "#fdca26"
            ],
            [
             1,
             "#f0f921"
            ]
           ],
           "sequentialminus": [
            [
             0,
             "#0d0887"
            ],
            [
             0.1111111111111111,
             "#46039f"
            ],
            [
             0.2222222222222222,
             "#7201a8"
            ],
            [
             0.3333333333333333,
             "#9c179e"
            ],
            [
             0.4444444444444444,
             "#bd3786"
            ],
            [
             0.5555555555555556,
             "#d8576b"
            ],
            [
             0.6666666666666666,
             "#ed7953"
            ],
            [
             0.7777777777777778,
             "#fb9f3a"
            ],
            [
             0.8888888888888888,
             "#fdca26"
            ],
            [
             1,
             "#f0f921"
            ]
           ]
          },
          "colorway": [
           "#636efa",
           "#EF553B",
           "#00cc96",
           "#ab63fa",
           "#FFA15A",
           "#19d3f3",
           "#FF6692",
           "#B6E880",
           "#FF97FF",
           "#FECB52"
          ],
          "font": {
           "color": "#2a3f5f"
          },
          "geo": {
           "bgcolor": "white",
           "lakecolor": "white",
           "landcolor": "#E5ECF6",
           "showlakes": true,
           "showland": true,
           "subunitcolor": "white"
          },
          "hoverlabel": {
           "align": "left"
          },
          "hovermode": "closest",
          "mapbox": {
           "style": "light"
          },
          "paper_bgcolor": "white",
          "plot_bgcolor": "#E5ECF6",
          "polar": {
           "angularaxis": {
            "gridcolor": "white",
            "linecolor": "white",
            "ticks": ""
           },
           "bgcolor": "#E5ECF6",
           "radialaxis": {
            "gridcolor": "white",
            "linecolor": "white",
            "ticks": ""
           }
          },
          "scene": {
           "xaxis": {
            "backgroundcolor": "#E5ECF6",
            "gridcolor": "white",
            "gridwidth": 2,
            "linecolor": "white",
            "showbackground": true,
            "ticks": "",
            "zerolinecolor": "white"
           },
           "yaxis": {
            "backgroundcolor": "#E5ECF6",
            "gridcolor": "white",
            "gridwidth": 2,
            "linecolor": "white",
            "showbackground": true,
            "ticks": "",
            "zerolinecolor": "white"
           },
           "zaxis": {
            "backgroundcolor": "#E5ECF6",
            "gridcolor": "white",
            "gridwidth": 2,
            "linecolor": "white",
            "showbackground": true,
            "ticks": "",
            "zerolinecolor": "white"
           }
          },
          "shapedefaults": {
           "line": {
            "color": "#2a3f5f"
           }
          },
          "ternary": {
           "aaxis": {
            "gridcolor": "white",
            "linecolor": "white",
            "ticks": ""
           },
           "baxis": {
            "gridcolor": "white",
            "linecolor": "white",
            "ticks": ""
           },
           "bgcolor": "#E5ECF6",
           "caxis": {
            "gridcolor": "white",
            "linecolor": "white",
            "ticks": ""
           }
          },
          "title": {
           "x": 0.05
          },
          "xaxis": {
           "automargin": true,
           "gridcolor": "white",
           "linecolor": "white",
           "ticks": "",
           "title": {
            "standoff": 15
           },
           "zerolinecolor": "white",
           "zerolinewidth": 2
          },
          "yaxis": {
           "automargin": true,
           "gridcolor": "white",
           "linecolor": "white",
           "ticks": "",
           "title": {
            "standoff": 15
           },
           "zerolinecolor": "white",
           "zerolinewidth": 2
          }
         }
        },
        "title": {
         "text": "Regresión Lineal: y = 3.622x + 0.116, R² = 0.992"
        },
        "width": 700
       }
      },
      "text/html": [
       "<div>                            <div id=\"0998bccc-2280-4cf8-aeaf-3c362e4c0eb6\" class=\"plotly-graph-div\" style=\"height:600px; width:700px;\"></div>            <script type=\"text/javascript\">                require([\"plotly\"], function(Plotly) {                    window.PLOTLYENV=window.PLOTLYENV || {};                                    if (document.getElementById(\"0998bccc-2280-4cf8-aeaf-3c362e4c0eb6\")) {                    Plotly.newPlot(                        \"0998bccc-2280-4cf8-aeaf-3c362e4c0eb6\",                        [{\"marker\":{\"color\":\"black\",\"size\":10,\"symbol\":\"x\"},\"mode\":\"markers\",\"name\":\"Motorway_1\",\"x\":[0.04966],\"y\":[0.29327983427752263],\"type\":\"scatter\"},{\"marker\":{\"color\":\"black\",\"size\":10,\"symbol\":\"x\"},\"mode\":\"markers\",\"name\":\"Motorway_2\",\"x\":[0.0479],\"y\":[0.2901930686484084],\"type\":\"scatter\"},{\"marker\":{\"color\":\"black\",\"size\":10,\"symbol\":\"x\"},\"mode\":\"markers\",\"name\":\"Motorway_3\",\"x\":[0.16756],\"y\":[0.7562523044634507],\"type\":\"scatter\"},{\"marker\":{\"color\":\"black\",\"size\":10,\"symbol\":\"x\"},\"mode\":\"markers\",\"name\":\"Rural_1\",\"x\":[0.09695],\"y\":[0.48641132208595056],\"type\":\"scatter\"},{\"marker\":{\"color\":\"black\",\"size\":10,\"symbol\":\"x\"},\"mode\":\"markers\",\"name\":\"Rural_2\",\"x\":[0.09907],\"y\":[0.5032331946901096],\"type\":\"scatter\"},{\"marker\":{\"color\":\"black\",\"size\":10,\"symbol\":\"x\"},\"mode\":\"markers\",\"name\":\"Rural_3\",\"x\":[0.0422],\"y\":[0.2504086729489655],\"type\":\"scatter\"},{\"marker\":{\"color\":\"black\",\"size\":10,\"symbol\":\"x\"},\"mode\":\"markers\",\"name\":\"Urban_1\",\"x\":[0.20612],\"y\":[0.8383669236527073],\"type\":\"scatter\"},{\"marker\":{\"color\":\"black\",\"size\":10,\"symbol\":\"x\"},\"mode\":\"markers\",\"name\":\"Urban_2\",\"x\":[0.22671],\"y\":[0.9325795496084015],\"type\":\"scatter\"},{\"marker\":{\"color\":\"black\",\"size\":10,\"symbol\":\"x\"},\"mode\":\"markers\",\"name\":\"Urban_3\",\"x\":[0.10355],\"y\":[0.4633407508095055],\"type\":\"scatter\"},{\"line\":{\"color\":\"gray\",\"dash\":\"dash\",\"width\":1},\"mode\":\"lines\",\"name\":\"Regresi\\u00f3n\",\"x\":[0.04966,0.0479,0.16756,0.09695,0.09907,0.0422,0.20612,0.22671,0.10355],\"y\":[0.2963047621110516,0.28992922976946345,0.7233929797662986,0.46761096917565403,0.47529058767802157,0.26928119889045665,0.8630750974320012,0.9376615809054663,0.49151921545660937],\"type\":\"scatter\"}],                        {\"template\":{\"data\":{\"histogram2dcontour\":[{\"type\":\"histogram2dcontour\",\"colorbar\":{\"outlinewidth\":0,\"ticks\":\"\"},\"colorscale\":[[0.0,\"#0d0887\"],[0.1111111111111111,\"#46039f\"],[0.2222222222222222,\"#7201a8\"],[0.3333333333333333,\"#9c179e\"],[0.4444444444444444,\"#bd3786\"],[0.5555555555555556,\"#d8576b\"],[0.6666666666666666,\"#ed7953\"],[0.7777777777777778,\"#fb9f3a\"],[0.8888888888888888,\"#fdca26\"],[1.0,\"#f0f921\"]]}],\"choropleth\":[{\"type\":\"choropleth\",\"colorbar\":{\"outlinewidth\":0,\"ticks\":\"\"}}],\"histogram2d\":[{\"type\":\"histogram2d\",\"colorbar\":{\"outlinewidth\":0,\"ticks\":\"\"},\"colorscale\":[[0.0,\"#0d0887\"],[0.1111111111111111,\"#46039f\"],[0.2222222222222222,\"#7201a8\"],[0.3333333333333333,\"#9c179e\"],[0.4444444444444444,\"#bd3786\"],[0.5555555555555556,\"#d8576b\"],[0.6666666666666666,\"#ed7953\"],[0.7777777777777778,\"#fb9f3a\"],[0.8888888888888888,\"#fdca26\"],[1.0,\"#f0f921\"]]}],\"heatmap\":[{\"type\":\"heatmap\",\"colorbar\":{\"outlinewidth\":0,\"ticks\":\"\"},\"colorscale\":[[0.0,\"#0d0887\"],[0.1111111111111111,\"#46039f\"],[0.2222222222222222,\"#7201a8\"],[0.3333333333333333,\"#9c179e\"],[0.4444444444444444,\"#bd3786\"],[0.5555555555555556,\"#d8576b\"],[0.6666666666666666,\"#ed7953\"],[0.7777777777777778,\"#fb9f3a\"],[0.8888888888888888,\"#fdca26\"],[1.0,\"#f0f921\"]]}],\"heatmapgl\":[{\"type\":\"heatmapgl\",\"colorbar\":{\"outlinewidth\":0,\"ticks\":\"\"},\"colorscale\":[[0.0,\"#0d0887\"],[0.1111111111111111,\"#46039f\"],[0.2222222222222222,\"#7201a8\"],[0.3333333333333333,\"#9c179e\"],[0.4444444444444444,\"#bd3786\"],[0.5555555555555556,\"#d8576b\"],[0.6666666666666666,\"#ed7953\"],[0.7777777777777778,\"#fb9f3a\"],[0.8888888888888888,\"#fdca26\"],[1.0,\"#f0f921\"]]}],\"contourcarpet\":[{\"type\":\"contourcarpet\",\"colorbar\":{\"outlinewidth\":0,\"ticks\":\"\"}}],\"contour\":[{\"type\":\"contour\",\"colorbar\":{\"outlinewidth\":0,\"ticks\":\"\"},\"colorscale\":[[0.0,\"#0d0887\"],[0.1111111111111111,\"#46039f\"],[0.2222222222222222,\"#7201a8\"],[0.3333333333333333,\"#9c179e\"],[0.4444444444444444,\"#bd3786\"],[0.5555555555555556,\"#d8576b\"],[0.6666666666666666,\"#ed7953\"],[0.7777777777777778,\"#fb9f3a\"],[0.8888888888888888,\"#fdca26\"],[1.0,\"#f0f921\"]]}],\"surface\":[{\"type\":\"surface\",\"colorbar\":{\"outlinewidth\":0,\"ticks\":\"\"},\"colorscale\":[[0.0,\"#0d0887\"],[0.1111111111111111,\"#46039f\"],[0.2222222222222222,\"#7201a8\"],[0.3333333333333333,\"#9c179e\"],[0.4444444444444444,\"#bd3786\"],[0.5555555555555556,\"#d8576b\"],[0.6666666666666666,\"#ed7953\"],[0.7777777777777778,\"#fb9f3a\"],[0.8888888888888888,\"#fdca26\"],[1.0,\"#f0f921\"]]}],\"mesh3d\":[{\"type\":\"mesh3d\",\"colorbar\":{\"outlinewidth\":0,\"ticks\":\"\"}}],\"scatter\":[{\"fillpattern\":{\"fillmode\":\"overlay\",\"size\":10,\"solidity\":0.2},\"type\":\"scatter\"}],\"parcoords\":[{\"type\":\"parcoords\",\"line\":{\"colorbar\":{\"outlinewidth\":0,\"ticks\":\"\"}}}],\"scatterpolargl\":[{\"type\":\"scatterpolargl\",\"marker\":{\"colorbar\":{\"outlinewidth\":0,\"ticks\":\"\"}}}],\"bar\":[{\"error_x\":{\"color\":\"#2a3f5f\"},\"error_y\":{\"color\":\"#2a3f5f\"},\"marker\":{\"line\":{\"color\":\"#E5ECF6\",\"width\":0.5},\"pattern\":{\"fillmode\":\"overlay\",\"size\":10,\"solidity\":0.2}},\"type\":\"bar\"}],\"scattergeo\":[{\"type\":\"scattergeo\",\"marker\":{\"colorbar\":{\"outlinewidth\":0,\"ticks\":\"\"}}}],\"scatterpolar\":[{\"type\":\"scatterpolar\",\"marker\":{\"colorbar\":{\"outlinewidth\":0,\"ticks\":\"\"}}}],\"histogram\":[{\"marker\":{\"pattern\":{\"fillmode\":\"overlay\",\"size\":10,\"solidity\":0.2}},\"type\":\"histogram\"}],\"scattergl\":[{\"type\":\"scattergl\",\"marker\":{\"colorbar\":{\"outlinewidth\":0,\"ticks\":\"\"}}}],\"scatter3d\":[{\"type\":\"scatter3d\",\"line\":{\"colorbar\":{\"outlinewidth\":0,\"ticks\":\"\"}},\"marker\":{\"colorbar\":{\"outlinewidth\":0,\"ticks\":\"\"}}}],\"scattermapbox\":[{\"type\":\"scattermapbox\",\"marker\":{\"colorbar\":{\"outlinewidth\":0,\"ticks\":\"\"}}}],\"scatterternary\":[{\"type\":\"scatterternary\",\"marker\":{\"colorbar\":{\"outlinewidth\":0,\"ticks\":\"\"}}}],\"scattercarpet\":[{\"type\":\"scattercarpet\",\"marker\":{\"colorbar\":{\"outlinewidth\":0,\"ticks\":\"\"}}}],\"carpet\":[{\"aaxis\":{\"endlinecolor\":\"#2a3f5f\",\"gridcolor\":\"white\",\"linecolor\":\"white\",\"minorgridcolor\":\"white\",\"startlinecolor\":\"#2a3f5f\"},\"baxis\":{\"endlinecolor\":\"#2a3f5f\",\"gridcolor\":\"white\",\"linecolor\":\"white\",\"minorgridcolor\":\"white\",\"startlinecolor\":\"#2a3f5f\"},\"type\":\"carpet\"}],\"table\":[{\"cells\":{\"fill\":{\"color\":\"#EBF0F8\"},\"line\":{\"color\":\"white\"}},\"header\":{\"fill\":{\"color\":\"#C8D4E3\"},\"line\":{\"color\":\"white\"}},\"type\":\"table\"}],\"barpolar\":[{\"marker\":{\"line\":{\"color\":\"#E5ECF6\",\"width\":0.5},\"pattern\":{\"fillmode\":\"overlay\",\"size\":10,\"solidity\":0.2}},\"type\":\"barpolar\"}],\"pie\":[{\"automargin\":true,\"type\":\"pie\"}]},\"layout\":{\"autotypenumbers\":\"strict\",\"colorway\":[\"#636efa\",\"#EF553B\",\"#00cc96\",\"#ab63fa\",\"#FFA15A\",\"#19d3f3\",\"#FF6692\",\"#B6E880\",\"#FF97FF\",\"#FECB52\"],\"font\":{\"color\":\"#2a3f5f\"},\"hovermode\":\"closest\",\"hoverlabel\":{\"align\":\"left\"},\"paper_bgcolor\":\"white\",\"plot_bgcolor\":\"#E5ECF6\",\"polar\":{\"bgcolor\":\"#E5ECF6\",\"angularaxis\":{\"gridcolor\":\"white\",\"linecolor\":\"white\",\"ticks\":\"\"},\"radialaxis\":{\"gridcolor\":\"white\",\"linecolor\":\"white\",\"ticks\":\"\"}},\"ternary\":{\"bgcolor\":\"#E5ECF6\",\"aaxis\":{\"gridcolor\":\"white\",\"linecolor\":\"white\",\"ticks\":\"\"},\"baxis\":{\"gridcolor\":\"white\",\"linecolor\":\"white\",\"ticks\":\"\"},\"caxis\":{\"gridcolor\":\"white\",\"linecolor\":\"white\",\"ticks\":\"\"}},\"coloraxis\":{\"colorbar\":{\"outlinewidth\":0,\"ticks\":\"\"}},\"colorscale\":{\"sequential\":[[0.0,\"#0d0887\"],[0.1111111111111111,\"#46039f\"],[0.2222222222222222,\"#7201a8\"],[0.3333333333333333,\"#9c179e\"],[0.4444444444444444,\"#bd3786\"],[0.5555555555555556,\"#d8576b\"],[0.6666666666666666,\"#ed7953\"],[0.7777777777777778,\"#fb9f3a\"],[0.8888888888888888,\"#fdca26\"],[1.0,\"#f0f921\"]],\"sequentialminus\":[[0.0,\"#0d0887\"],[0.1111111111111111,\"#46039f\"],[0.2222222222222222,\"#7201a8\"],[0.3333333333333333,\"#9c179e\"],[0.4444444444444444,\"#bd3786\"],[0.5555555555555556,\"#d8576b\"],[0.6666666666666666,\"#ed7953\"],[0.7777777777777778,\"#fb9f3a\"],[0.8888888888888888,\"#fdca26\"],[1.0,\"#f0f921\"]],\"diverging\":[[0,\"#8e0152\"],[0.1,\"#c51b7d\"],[0.2,\"#de77ae\"],[0.3,\"#f1b6da\"],[0.4,\"#fde0ef\"],[0.5,\"#f7f7f7\"],[0.6,\"#e6f5d0\"],[0.7,\"#b8e186\"],[0.8,\"#7fbc41\"],[0.9,\"#4d9221\"],[1,\"#276419\"]]},\"xaxis\":{\"gridcolor\":\"white\",\"linecolor\":\"white\",\"ticks\":\"\",\"title\":{\"standoff\":15},\"zerolinecolor\":\"white\",\"automargin\":true,\"zerolinewidth\":2},\"yaxis\":{\"gridcolor\":\"white\",\"linecolor\":\"white\",\"ticks\":\"\",\"title\":{\"standoff\":15},\"zerolinecolor\":\"white\",\"automargin\":true,\"zerolinewidth\":2},\"scene\":{\"xaxis\":{\"backgroundcolor\":\"#E5ECF6\",\"gridcolor\":\"white\",\"linecolor\":\"white\",\"showbackground\":true,\"ticks\":\"\",\"zerolinecolor\":\"white\",\"gridwidth\":2},\"yaxis\":{\"backgroundcolor\":\"#E5ECF6\",\"gridcolor\":\"white\",\"linecolor\":\"white\",\"showbackground\":true,\"ticks\":\"\",\"zerolinecolor\":\"white\",\"gridwidth\":2},\"zaxis\":{\"backgroundcolor\":\"#E5ECF6\",\"gridcolor\":\"white\",\"linecolor\":\"white\",\"showbackground\":true,\"ticks\":\"\",\"zerolinecolor\":\"white\",\"gridwidth\":2}},\"shapedefaults\":{\"line\":{\"color\":\"#2a3f5f\"}},\"annotationdefaults\":{\"arrowcolor\":\"#2a3f5f\",\"arrowhead\":0,\"arrowwidth\":1},\"geo\":{\"bgcolor\":\"white\",\"landcolor\":\"#E5ECF6\",\"subunitcolor\":\"white\",\"showland\":true,\"showlakes\":true,\"lakecolor\":\"white\"},\"title\":{\"x\":0.05},\"mapbox\":{\"style\":\"light\"}}},\"title\":{\"text\":\"Regresi\\u00f3n Lineal: y = 3.622x + 0.116, R\\u00b2 = 0.992\"},\"legend\":{\"orientation\":\"v\",\"x\":1,\"y\":0.5},\"height\":600,\"width\":700,\"plot_bgcolor\":\"white\"},                        {\"responsive\": true}                    ).then(function(){\n",
       "                            \n",
       "var gd = document.getElementById('0998bccc-2280-4cf8-aeaf-3c362e4c0eb6');\n",
       "var x = new MutationObserver(function (mutations, observer) {{\n",
       "        var display = window.getComputedStyle(gd).display;\n",
       "        if (!display || display === 'none') {{\n",
       "            console.log([gd, 'removed!']);\n",
       "            Plotly.purge(gd);\n",
       "            observer.disconnect();\n",
       "        }}\n",
       "}});\n",
       "\n",
       "// Listen for the removal of the full notebook cells\n",
       "var notebookContainer = gd.closest('#notebook-container');\n",
       "if (notebookContainer) {{\n",
       "    x.observe(notebookContainer, {childList: true});\n",
       "}}\n",
       "\n",
       "// Listen for the clearing of the current output cell\n",
       "var outputEl = gd.closest('.output');\n",
       "if (outputEl) {{\n",
       "    x.observe(outputEl, {childList: true});\n",
       "}}\n",
       "\n",
       "                        })                };                });            </script>        </div>"
      ]
     },
     "metadata": {},
     "output_type": "display_data"
    }
   ],
   "source": [
    "import plotly.graph_objects as go\n",
    "import numpy as np\n",
    "from sklearn.linear_model import LinearRegression\n",
    "from sklearn.metrics import r2_score\n",
    "\n",
    "# Supongamos que tienes tu DataFrame Def_all_T con las columnas 'indiceXXX', 'ABS_Acel/distance' y 'ciclo'\n",
    "\n",
    "# # Definir un diccionario que asigna formas a cada categoría\n",
    "# shapes = {'Urban_1': 'circle', 'Urban_2': 'square', 'Rural_1': 'cross',\n",
    "#           'Rural_2': 'x', 'Auto_1': 'triangle-down','Auto_2': 'triangle-up'}\n",
    "\n",
    "# colors = {'Urban_1': 'gray', 'Urban_2': 'black', 'Rural_1': 'gray',\n",
    "#           'Rural_2': 'black', 'Auto_1': 'gray','Auto_2': 'black'}\n",
    "\n",
    "# Crear el gráfico de dispersión con diferentes formas y colores para cada categoría\n",
    "fig = go.Figure()\n",
    "\n",
    "# Iterar sobre cada categoría en tu lista predefinida de categorías\n",
    "for categoria in df_final_T['ciclo'].unique():\n",
    "    # Filtrar el DataFrame por la categoría actual\n",
    "    df_categoria = df_final_T[df_final_T['ciclo'] == categoria]\n",
    "    \n",
    "#     # Agregar una traza para la categoría actual con la forma y color correspondientes\n",
    "#     fig.add_trace(go.Scatter(\n",
    "#         x=df_categoria['indiceX'],\n",
    "#         y=df_categoria['ABS_Acel/distance'],\n",
    "#         mode='markers',\n",
    "#         name=categoria,\n",
    "#         marker=dict(symbol=shapes[categoria], size=10, color=colors[categoria])\n",
    "#     ))\n",
    "\n",
    "    # Agregar una traza para la categoría actual con la forma y color correspondientes\n",
    "    fig.add_trace(go.Scatter(\n",
    "        x=df_categoria['RPA'],\n",
    "        y=df_categoria['i'],\n",
    "        mode='markers',\n",
    "        name=categoria,\n",
    "        marker=dict(symbol=\"x\", size=10, color=\"black\")\n",
    "    ))\n",
    "    \n",
    "# Realizar la regresión lineal solo si hay más de dos muestras\n",
    "if len(df_final_T) >= 2:\n",
    "    X = df_final_T['RPA'].values.reshape(-1, 1)\n",
    "    y = df_final_T['i'].values\n",
    "    model = LinearRegression()\n",
    "    model.fit(X, y)\n",
    "    y_pred = model.predict(X)\n",
    "    \n",
    "    # Calcular el coeficiente de determinación (R2)\n",
    "    r2 = r2_score(y, y_pred)\n",
    "    \n",
    "    # Agregar la línea de tendencia al gráfico\n",
    "    fig.add_trace(go.Scatter(\n",
    "        x=df_final_T['RPA'],\n",
    "        y=y_pred,\n",
    "        mode='lines',\n",
    "        name=f'Regresión',\n",
    "        line=dict(color='gray', dash='dash', width=1)\n",
    "    ))\n",
    "\n",
    "    # Agregar la ecuación de la línea de tendencia y el coeficiente de determinación al título del gráfico\n",
    "    fig.update_layout(\n",
    "        title_text=f'Regresión Lineal: y = {model.coef_[0]:.3f}x + {model.intercept_:.3f}, R² = {r2:.3f}',\n",
    "        legend=dict(orientation=\"v\", x=1, y=0.5),\n",
    "        height=600,\n",
    "        width=700,\n",
    "        plot_bgcolor=\"white\"\n",
    "    )\n",
    "\n",
    "# Mostrar el gráfico\n",
    "fig.show()"
   ]
  },
  {
   "cell_type": "code",
   "execution_count": 25,
   "id": "a45e77e0",
   "metadata": {},
   "outputs": [],
   "source": [
    "df_final_T[\"i\"] = (df_final_T[\"ABS_Acel\"] / (df_final_T[\"n_ia\"]))*((df_final_T[\"time_mov\"]-df_final_T[\"t_crucero\"])/100)\n",
    "# df_final_T[\"i\"] = (df_final_T[\"ABS_Acel\"] / (df_final_T[\"n_ia\"]))*((df_final_T[\"time_mov\"]-df_final_T[\"t_crucero\"])/100)"
   ]
  },
  {
   "cell_type": "code",
   "execution_count": 19,
   "id": "bcb0d51d",
   "metadata": {},
   "outputs": [
    {
     "data": {
      "text/html": [
       "<div>\n",
       "<style scoped>\n",
       "    .dataframe tbody tr th:only-of-type {\n",
       "        vertical-align: middle;\n",
       "    }\n",
       "\n",
       "    .dataframe tbody tr th {\n",
       "        vertical-align: top;\n",
       "    }\n",
       "\n",
       "    .dataframe thead th {\n",
       "        text-align: right;\n",
       "    }\n",
       "</style>\n",
       "<table border=\"1\" class=\"dataframe\">\n",
       "  <thead>\n",
       "    <tr style=\"text-align: right;\">\n",
       "      <th>Parameter</th>\n",
       "      <th>ciclo</th>\n",
       "      <th>distance_traveled</th>\n",
       "      <th>total_time</th>\n",
       "      <th>speed_mean</th>\n",
       "      <th>speed_max</th>\n",
       "      <th>speed_mean_sup</th>\n",
       "      <th>acel_pos_mean</th>\n",
       "      <th>acel_pos_max</th>\n",
       "      <th>n_ia</th>\n",
       "      <th>RPA</th>\n",
       "      <th>...</th>\n",
       "      <th>acel_neg_max</th>\n",
       "      <th>time_ralenti</th>\n",
       "      <th>time_mov</th>\n",
       "      <th>t_crucero</th>\n",
       "      <th>ABS_Der_Acel</th>\n",
       "      <th>ABS_Der_Acel/distance</th>\n",
       "      <th>ABS_Acel</th>\n",
       "      <th>ABS_Acel/distance</th>\n",
       "      <th>indiceX</th>\n",
       "      <th>i</th>\n",
       "    </tr>\n",
       "  </thead>\n",
       "  <tbody>\n",
       "    <tr>\n",
       "      <th>0</th>\n",
       "      <td>Motorway_1</td>\n",
       "      <td>33.80503</td>\n",
       "      <td>1052.0</td>\n",
       "      <td>115.57276</td>\n",
       "      <td>137.17</td>\n",
       "      <td>126.37138</td>\n",
       "      <td>0.16027</td>\n",
       "      <td>2.05301</td>\n",
       "      <td>222.0</td>\n",
       "      <td>0.04966</td>\n",
       "      <td>...</td>\n",
       "      <td>-2.64213</td>\n",
       "      <td>0.38023</td>\n",
       "      <td>99.71483</td>\n",
       "      <td>55.79848</td>\n",
       "      <td>72.88102</td>\n",
       "      <td>0.00216</td>\n",
       "      <td>148.25486</td>\n",
       "      <td>0.00439</td>\n",
       "      <td>0.02386</td>\n",
       "      <td>0.29328</td>\n",
       "    </tr>\n",
       "    <tr>\n",
       "      <th>1</th>\n",
       "      <td>Motorway_2</td>\n",
       "      <td>33.80646</td>\n",
       "      <td>1076.0</td>\n",
       "      <td>113.00208</td>\n",
       "      <td>132.17</td>\n",
       "      <td>122.58604</td>\n",
       "      <td>0.14493</td>\n",
       "      <td>2.59074</td>\n",
       "      <td>240.0</td>\n",
       "      <td>0.0479</td>\n",
       "      <td>...</td>\n",
       "      <td>-1.60301</td>\n",
       "      <td>0.18587</td>\n",
       "      <td>99.90706</td>\n",
       "      <td>53.99628</td>\n",
       "      <td>75.45972</td>\n",
       "      <td>0.00223</td>\n",
       "      <td>151.69931</td>\n",
       "      <td>0.00449</td>\n",
       "      <td>0.02327</td>\n",
       "      <td>0.290193</td>\n",
       "    </tr>\n",
       "    <tr>\n",
       "      <th>2</th>\n",
       "      <td>Motorway_3</td>\n",
       "      <td>33.87392</td>\n",
       "      <td>1119.0</td>\n",
       "      <td>108.88047</td>\n",
       "      <td>135.76</td>\n",
       "      <td>122.32023</td>\n",
       "      <td>0.36751</td>\n",
       "      <td>1.9588</td>\n",
       "      <td>437.0</td>\n",
       "      <td>0.16756</td>\n",
       "      <td>...</td>\n",
       "      <td>-2.16065</td>\n",
       "      <td>0.17873</td>\n",
       "      <td>99.91063</td>\n",
       "      <td>17.605</td>\n",
       "      <td>152.03472</td>\n",
       "      <td>0.00449</td>\n",
       "      <td>401.53056</td>\n",
       "      <td>0.01185</td>\n",
       "      <td>0.07951</td>\n",
       "      <td>0.756252</td>\n",
       "    </tr>\n",
       "    <tr>\n",
       "      <th>3</th>\n",
       "      <td>Rural_1</td>\n",
       "      <td>34.62031</td>\n",
       "      <td>1713.0</td>\n",
       "      <td>72.71477</td>\n",
       "      <td>89.74</td>\n",
       "      <td>81.22739</td>\n",
       "      <td>0.24588</td>\n",
       "      <td>2.03171</td>\n",
       "      <td>546.0</td>\n",
       "      <td>0.09695</td>\n",
       "      <td>...</td>\n",
       "      <td>-3.12014</td>\n",
       "      <td>0.93403</td>\n",
       "      <td>99.12434</td>\n",
       "      <td>34.26737</td>\n",
       "      <td>189.35231</td>\n",
       "      <td>0.00547</td>\n",
       "      <td>409.48657</td>\n",
       "      <td>0.01183</td>\n",
       "      <td>0.04765</td>\n",
       "      <td>0.486411</td>\n",
       "    </tr>\n",
       "    <tr>\n",
       "      <th>4</th>\n",
       "      <td>Rural_2</td>\n",
       "      <td>34.57223</td>\n",
       "      <td>1605.0</td>\n",
       "      <td>77.4969</td>\n",
       "      <td>89.09</td>\n",
       "      <td>83.29345</td>\n",
       "      <td>0.25495</td>\n",
       "      <td>1.88356</td>\n",
       "      <td>493.0</td>\n",
       "      <td>0.09907</td>\n",
       "      <td>...</td>\n",
       "      <td>-3.28079</td>\n",
       "      <td>0.49844</td>\n",
       "      <td>99.56386</td>\n",
       "      <td>37.94393</td>\n",
       "      <td>200.04583</td>\n",
       "      <td>0.00579</td>\n",
       "      <td>402.61968</td>\n",
       "      <td>0.01165</td>\n",
       "      <td>0.04939</td>\n",
       "      <td>0.503233</td>\n",
       "    </tr>\n",
       "    <tr>\n",
       "      <th>5</th>\n",
       "      <td>Rural_3</td>\n",
       "      <td>34.58639</td>\n",
       "      <td>2213.0</td>\n",
       "      <td>56.23803</td>\n",
       "      <td>67.76</td>\n",
       "      <td>61.99901</td>\n",
       "      <td>0.13206</td>\n",
       "      <td>1.03056</td>\n",
       "      <td>348.0</td>\n",
       "      <td>0.0422</td>\n",
       "      <td>...</td>\n",
       "      <td>-1.82731</td>\n",
       "      <td>0.58744</td>\n",
       "      <td>99.45775</td>\n",
       "      <td>69.27248</td>\n",
       "      <td>88.04537</td>\n",
       "      <td>0.00255</td>\n",
       "      <td>288.6912</td>\n",
       "      <td>0.00835</td>\n",
       "      <td>0.02198</td>\n",
       "      <td>0.250409</td>\n",
       "    </tr>\n",
       "    <tr>\n",
       "      <th>6</th>\n",
       "      <td>Urban_1</td>\n",
       "      <td>15.38732</td>\n",
       "      <td>1949.0</td>\n",
       "      <td>28.40735</td>\n",
       "      <td>59.19</td>\n",
       "      <td>43.79868</td>\n",
       "      <td>0.49459</td>\n",
       "      <td>2.32153</td>\n",
       "      <td>707.0</td>\n",
       "      <td>0.20612</td>\n",
       "      <td>...</td>\n",
       "      <td>-3.32778</td>\n",
       "      <td>15.49513</td>\n",
       "      <td>84.55618</td>\n",
       "      <td>13.64802</td>\n",
       "      <td>422.21065</td>\n",
       "      <td>0.02744</td>\n",
       "      <td>835.90579</td>\n",
       "      <td>0.05432</td>\n",
       "      <td>0.10545</td>\n",
       "      <td>0.838367</td>\n",
       "    </tr>\n",
       "    <tr>\n",
       "      <th>7</th>\n",
       "      <td>Urban_2</td>\n",
       "      <td>15.38433</td>\n",
       "      <td>1786.0</td>\n",
       "      <td>30.99249</td>\n",
       "      <td>60.18</td>\n",
       "      <td>45.58624</td>\n",
       "      <td>0.53238</td>\n",
       "      <td>2.53472</td>\n",
       "      <td>675.0</td>\n",
       "      <td>0.22671</td>\n",
       "      <td>...</td>\n",
       "      <td>-2.94606</td>\n",
       "      <td>13.49384</td>\n",
       "      <td>86.56215</td>\n",
       "      <td>13.60582</td>\n",
       "      <td>430.60231</td>\n",
       "      <td>0.02799</td>\n",
       "      <td>862.83287</td>\n",
       "      <td>0.05609</td>\n",
       "      <td>0.11744</td>\n",
       "      <td>0.93258</td>\n",
       "    </tr>\n",
       "    <tr>\n",
       "      <th>8</th>\n",
       "      <td>Urban_3</td>\n",
       "      <td>15.33228</td>\n",
       "      <td>2549.0</td>\n",
       "      <td>21.64558</td>\n",
       "      <td>42.09</td>\n",
       "      <td>31.86779</td>\n",
       "      <td>0.27224</td>\n",
       "      <td>1.94861</td>\n",
       "      <td>803.0</td>\n",
       "      <td>0.10355</td>\n",
       "      <td>...</td>\n",
       "      <td>-1.92199</td>\n",
       "      <td>14.75088</td>\n",
       "      <td>85.28835</td>\n",
       "      <td>25.02942</td>\n",
       "      <td>322.19907</td>\n",
       "      <td>0.02101</td>\n",
       "      <td>617.43981</td>\n",
       "      <td>0.04027</td>\n",
       "      <td>0.05414</td>\n",
       "      <td>0.463341</td>\n",
       "    </tr>\n",
       "  </tbody>\n",
       "</table>\n",
       "<p>9 rows × 21 columns</p>\n",
       "</div>"
      ],
      "text/plain": [
       "Parameter       ciclo distance_traveled total_time speed_mean speed_max  \\\n",
       "0          Motorway_1          33.80503     1052.0  115.57276    137.17   \n",
       "1          Motorway_2          33.80646     1076.0  113.00208    132.17   \n",
       "2          Motorway_3          33.87392     1119.0  108.88047    135.76   \n",
       "3             Rural_1          34.62031     1713.0   72.71477     89.74   \n",
       "4             Rural_2          34.57223     1605.0    77.4969     89.09   \n",
       "5             Rural_3          34.58639     2213.0   56.23803     67.76   \n",
       "6             Urban_1          15.38732     1949.0   28.40735     59.19   \n",
       "7             Urban_2          15.38433     1786.0   30.99249     60.18   \n",
       "8             Urban_3          15.33228     2549.0   21.64558     42.09   \n",
       "\n",
       "Parameter speed_mean_sup acel_pos_mean acel_pos_max   n_ia      RPA  ...  \\\n",
       "0              126.37138       0.16027      2.05301  222.0  0.04966  ...   \n",
       "1              122.58604       0.14493      2.59074  240.0   0.0479  ...   \n",
       "2              122.32023       0.36751       1.9588  437.0  0.16756  ...   \n",
       "3               81.22739       0.24588      2.03171  546.0  0.09695  ...   \n",
       "4               83.29345       0.25495      1.88356  493.0  0.09907  ...   \n",
       "5               61.99901       0.13206      1.03056  348.0   0.0422  ...   \n",
       "6               43.79868       0.49459      2.32153  707.0  0.20612  ...   \n",
       "7               45.58624       0.53238      2.53472  675.0  0.22671  ...   \n",
       "8               31.86779       0.27224      1.94861  803.0  0.10355  ...   \n",
       "\n",
       "Parameter acel_neg_max time_ralenti  time_mov t_crucero ABS_Der_Acel  \\\n",
       "0             -2.64213      0.38023  99.71483  55.79848     72.88102   \n",
       "1             -1.60301      0.18587  99.90706  53.99628     75.45972   \n",
       "2             -2.16065      0.17873  99.91063    17.605    152.03472   \n",
       "3             -3.12014      0.93403  99.12434  34.26737    189.35231   \n",
       "4             -3.28079      0.49844  99.56386  37.94393    200.04583   \n",
       "5             -1.82731      0.58744  99.45775  69.27248     88.04537   \n",
       "6             -3.32778     15.49513  84.55618  13.64802    422.21065   \n",
       "7             -2.94606     13.49384  86.56215  13.60582    430.60231   \n",
       "8             -1.92199     14.75088  85.28835  25.02942    322.19907   \n",
       "\n",
       "Parameter ABS_Der_Acel/distance   ABS_Acel ABS_Acel/distance  indiceX  \\\n",
       "0                       0.00216  148.25486           0.00439  0.02386   \n",
       "1                       0.00223  151.69931           0.00449  0.02327   \n",
       "2                       0.00449  401.53056           0.01185  0.07951   \n",
       "3                       0.00547  409.48657           0.01183  0.04765   \n",
       "4                       0.00579  402.61968           0.01165  0.04939   \n",
       "5                       0.00255   288.6912           0.00835  0.02198   \n",
       "6                       0.02744  835.90579           0.05432  0.10545   \n",
       "7                       0.02799  862.83287           0.05609  0.11744   \n",
       "8                       0.02101  617.43981           0.04027  0.05414   \n",
       "\n",
       "Parameter         i  \n",
       "0           0.29328  \n",
       "1          0.290193  \n",
       "2          0.756252  \n",
       "3          0.486411  \n",
       "4          0.503233  \n",
       "5          0.250409  \n",
       "6          0.838367  \n",
       "7           0.93258  \n",
       "8          0.463341  \n",
       "\n",
       "[9 rows x 21 columns]"
      ]
     },
     "execution_count": 19,
     "metadata": {},
     "output_type": "execute_result"
    }
   ],
   "source": [
    "df_final_T"
   ]
  },
  {
   "cell_type": "code",
   "execution_count": 20,
   "id": "0c28352e",
   "metadata": {},
   "outputs": [],
   "source": [
    "# guardar datos OBD motor en un archivo :\n",
    "df_final_T.to_excel('C:/Users/Lenovo/OneDrive - Universidad de Castilla-La Mancha/JAVIER_LONDONO/RDE_Development/03.Clasificacion/Parametros Intervalos/Parametros_Intervalos.xlsx', index=False)"
   ]
  },
  {
   "cell_type": "code",
   "execution_count": null,
   "id": "12cec26b",
   "metadata": {},
   "outputs": [],
   "source": []
  }
 ],
 "metadata": {
  "kernelspec": {
   "display_name": "Python 3 (ipykernel)",
   "language": "python",
   "name": "python3"
  },
  "language_info": {
   "codemirror_mode": {
    "name": "ipython",
    "version": 3
   },
   "file_extension": ".py",
   "mimetype": "text/x-python",
   "name": "python",
   "nbconvert_exporter": "python",
   "pygments_lexer": "ipython3",
   "version": "3.11.7"
  }
 },
 "nbformat": 4,
 "nbformat_minor": 5
}
