{
 "cells": [
  {
   "cell_type": "code",
   "execution_count": 1,
   "id": "09d9cb36",
   "metadata": {},
   "outputs": [
    {
     "data": {
      "text/html": [
       "<style>.container { width:100% !important; }</style>"
      ],
      "text/plain": [
       "<IPython.core.display.HTML object>"
      ]
     },
     "metadata": {},
     "output_type": "display_data"
    },
    {
     "data": {
      "text/html": [
       "<style>.output_result { max-width:100% !important; }</style>"
      ],
      "text/plain": [
       "<IPython.core.display.HTML object>"
      ]
     },
     "metadata": {},
     "output_type": "display_data"
    }
   ],
   "source": [
    "from IPython.display import display, HTML\n",
    "display(HTML(\"<style>.container { width:100% !important; }</style>\"))\n",
    "display(HTML(\"<style>.output_result { max-width:100% !important; }</style>\"))"
   ]
  },
  {
   "cell_type": "code",
   "execution_count": 2,
   "id": "a3bf1f10",
   "metadata": {},
   "outputs": [],
   "source": [
    "import pandas as pd\n",
    "import os\n",
    "import numpy as np\n",
    "from scipy.signal import savgol_filter\n",
    "import plotly.graph_objects as go\n",
    "from scipy.integrate import simps"
   ]
  },
  {
   "cell_type": "code",
   "execution_count": 3,
   "id": "186c0429",
   "metadata": {},
   "outputs": [],
   "source": [
    "# Función para calculo de aceleracion. h ~ datos por segundo\n",
    "def calcular_acel(df,h): # en m/s2\n",
    "    vel = df[\"v_km_h\"]\n",
    "    v = np.array(vel)/3.6  # Pasa de km/h a m/s\n",
    "    n = len(v)\n",
    "    a = np.zeros(n)\n",
    "    for i in range(n):\n",
    "        if i == 0:\n",
    "            a[i]=(-v[i+2] + 4*v[i+1] - 3*v[i])/(2*h)\n",
    "            #print(\"i=0\")\n",
    "        elif i == 1:\n",
    "            a[i]=(v[i+1] - v[i-1])/(2*h)\n",
    "            #print(\"i=1\")\n",
    "        elif i == n-2:\n",
    "            a[i]=(v[i+1] - v[i-1])/(2*h)\n",
    "            #print(\"i=n-2\")\n",
    "        elif i == n-1:\n",
    "            a[i]=(3*v[i] - 4*v[i-1] + v[i-2])/(2*h)\n",
    "            #print(\"i=n-1\")\n",
    "        else:\n",
    "            a[i] = (-v[i+2] + 8*v[i+1] - 8*v[i-1] + v[i-2])/(12*h)\n",
    "    return(a)\n",
    "\n",
    "import pandas as pd\n",
    "\n",
    "def calcular_parametros_acel(df):\n",
    "    Data_time = 1 # Un dato por segundo\n",
    "    df = df.reset_index(drop=True) # Reindexar el DF\n",
    "    df[\"v_m_s\"] = df[\"v_km_h\"]/3.6\n",
    "    df[\"t_s\"] = range(len(df)) # Crear nueva columna de tiempo con una frecuencia de 1hz\n",
    "    df[\"acel_m_s2\"] = calcular_acel(df,Data_time) \n",
    "    df['ABS_Aceleracion'] = abs(df['acel_m_s2'])\n",
    "    df['Acel_cumul'] = df['ABS_Aceleracion'].cumsum()\n",
    "    df['Derivada_Aceleracion'] = df['acel_m_s2'].diff()\n",
    "    df['Derivada_Aceleracion'].fillna(0, inplace=True)\n",
    "    df['ABS_Derivada_Aceleracion'] = abs(df['Derivada_Aceleracion'])\n",
    "    df['Der_Acel_cumul'] = df['ABS_Derivada_Aceleracion'].cumsum()\n",
    "    return df\n",
    "\n",
    "def parametros_seccion(df1): \n",
    "    umbral = 0.1 #con valores de aceleración mayor a 0.1 m/s2. para ia, RPA y crucero\n",
    "    df1[\"t_s\"] = range(len(df1)) # Crear nueva columna de tiempo con una frecuencia de 1hz\n",
    "    # Calcular la distancia recorrida\n",
    "    df1[\"v_m_s\"] = df1[\"v_km_h\"]/3.6\n",
    "    distance_traveled = (simps(df1[\"v_m_s\"].values, df1.t_s.values))/1000  # En km\n",
    "    # Calcular el tiempo total del recorrido\n",
    "    total_time = (df1[\"t_s\"].iloc[-1] - df1[\"t_s\"].iloc[0])\n",
    "    # Calcular la velocidad media\n",
    "    speed_mean = (simps(df1[\"v_km_h\"], df1[\"t_s\"] * 1)) / (len(df1[\"t_s\"]))\n",
    "    # Calcular la velocidad máxima\n",
    "    speed_max = df1[\"v_km_h\"].max()\n",
    "    # Calcular la velocidad máxima\n",
    "    speed_mean_sup = (df1[\"v_km_h\"].max()+speed_mean)/2\n",
    "    # Calcular la aceleración media y máxima tanto negativa como positiva\n",
    "    acel_pos_mean = df1[df1.acel_m_s2 > 0].acel_m_s2.mean()\n",
    "    acel_pos_max = df1[df1.acel_m_s2 > 0].acel_m_s2.max()\n",
    "    acel_neg_mean = df1[df1.acel_m_s2 <= 0].acel_m_s2.mean()\n",
    "    acel_neg_max = df1[df1.acel_m_s2 <= 0].acel_m_s2.min()\n",
    "    # Calcular tiempo en ralentí, tiempo en movimiento, tiempo en crucero y tiempo en aceleracion\n",
    "    time_ralenti = (df1[(df1['v_km_h'] == 0)].shape[0]) * (100 / total_time)\n",
    "    time_mov = (df1[(df1['v_km_h'] > 0)].shape[0]) * (100 / total_time)\n",
    "    t_crucero = (df1[(df1['ABS_Aceleracion'] <= 0.1) & (df1['v_km_h'] > 0)].shape[0]) * (100 / total_time)\n",
    "    t_acel = time_mov - t_crucero\n",
    "    # Funcion que cuenta el numero de veces con valores de aceleración mayor a 0.1 m/s2.   \n",
    "  \n",
    "    df_filtered = df1[df1['acel_m_s2'] > umbral]\n",
    "    n_datos_pos = len(df_filtered)\n",
    "    df_filtered = df1[df1['acel_m_s2'] < -umbral]\n",
    "    n_datos_neg = len(df_filtered)\n",
    "    n_ia_t = n_datos_pos + n_datos_neg\n",
    "    ## CALCULAR RPA\n",
    "    # Calcular el producto de la velocidad por la aceleración [m3/s3 o W/kg]\n",
    "    df1['vxa'] = df1['v_m_s']*df1[\"acel_m_s2\"]\n",
    "    # Calcular la distnacia recorrida del intervalo en metros\n",
    "    distance_traveled =  (simps(df1[\"v_km_h\"].divide(3.6).values,df1.t_s.values)) \n",
    "    # Calculo de velocidad media en cada intervalo         \n",
    "    m_v_urban = df1['v_km_h'].mean()  \n",
    "    # Extraer solo el dataframe con acel mayor a 0.1\n",
    "    df_sort_Urban = df1[df1[\"acel_m_s2\"]>0.1]\n",
    "    # Ordenar de manera creciente de la vxa\n",
    "    df_sort_vxa_urb = df_sort_Urban.sort_values(by='vxa')\n",
    "    #Percentil para cada intervalo\n",
    "    df_sort_vxa_urb['Percentil'] = range(1, len(df_sort_vxa_urb) + 1)\n",
    "    df_sort_vxa_urb['Percentil']  = df_sort_vxa_urb['Percentil']/len(df_sort_vxa_urb)\n",
    "    # interpolacion lineal para calcular el valor vxa para 0.95 en cada intervalo\n",
    "    vxa_pos_urbano = df_sort_vxa_urb['vxa'].quantile(0.95, interpolation='linear')\n",
    "    #Aceleració positiva relativa RPA\n",
    "    RPA = (sum(df_sort_vxa_urb[\"vxa\"]))/(distance_traveled)\n",
    "    # Acumulado del valor absoluto de la derivada de la aceleracion\n",
    "    ABS_Der_Acel = df1[\"Der_Acel_cumul\"].max() #Acumulado del valor absoluto de la derivada de la aceleracion\n",
    "    # Acumulado del valor absoluto de la derivada de la aceleracion por cada km recorrido\n",
    "    ABS_Der_Acel_Per_distance = ABS_Der_Acel/(distance_traveled) #ABS_Der_Acel en cada km recorrido\n",
    "    # Acumulado del valor absoluto de la aceleracion \n",
    "    ABS_Acel = df1['Acel_cumul'].max() #Acumulado del valor absoluto de la aceleracion\n",
    "    # Acumulado del valor absoluto de la aceleracion por cada km recorrido\n",
    "    ABS_Acel_Per_distance = ABS_Acel/(distance_traveled) #ABS_Acel en cada km recorrido\n",
    "    \n",
    "    \n",
    "    #Indice de dinamismo \n",
    "    i = (ABS_Acel / n_ia_t)*(total_time*(t_acel/100))\n",
    "    \n",
    "    \n",
    "    # Crear el DataFrame con los resultados\n",
    "    results_df = pd.DataFrame(columns=[\"Variable\", \"Valor\"])\n",
    "    results_df[\"Variable\"] = [\"distance_traveled\", \"total_time\", \"speed_mean\", \"speed_max\", \"speed_mean_sup\",\n",
    "                              \"acel_pos_mean\", \"acel_pos_max\", \"n_ia_pos\", \"n_ia_neg\", \"n_ia_t\", \"RPA\", \"acel_neg_mean\", \"acel_neg_max\",\n",
    "                              \"time_ralenti\", \"time_mov\",\"t_crucero\", \"t_acel\", \"ABS_Der_Acel\", \"ABS_Der_Acel/distance\", \"ABS_Acel\", \n",
    "                              \"ABS_Acel/distance\", \"i\"]\n",
    "    results_df[\"Valor\"] = [distance_traveled, total_time, speed_mean, speed_max, speed_mean_sup,\n",
    "                            acel_pos_mean, acel_pos_max, n_datos_pos, n_datos_neg, n_ia_t, RPA, acel_neg_mean, acel_neg_max,\n",
    "                            time_ralenti, time_mov,t_crucero,t_acel, ABS_Der_Acel, ABS_Der_Acel_Per_distance, ABS_Acel, \n",
    "                           ABS_Acel_Per_distance, i]\n",
    "    # Redondear los valores a dos decimales\n",
    "    results_df[\"Valor\"] = results_df[\"Valor\"].round(5)\n",
    "    \n",
    "    return results_df"
   ]
  },
  {
   "cell_type": "code",
   "execution_count": 4,
   "id": "9aac9308",
   "metadata": {},
   "outputs": [],
   "source": [
    "### CALCULAR VARIABLES CICLOS\n",
    "\n",
    "# Ruta del directorio donde se encuentran los archivos Excel originales\n",
    "directorio = 'C:/Users/Lenovo/OneDrive - Universidad de Castilla-La Mancha/JAVIER_LONDONO/RDE_Development/03.Clasificacion/Other_cycles'\n",
    "directorio_guardar = 'C:/Users/Lenovo/OneDrive - Universidad de Castilla-La Mancha/JAVIER_LONDONO/RDE_Development/03.Clasificacion/Other_cycles/Other_cycles_f'\n",
    "\n",
    "# Lista para almacenar los nombres de los archivos Excel\n",
    "archivos_excel = []\n",
    "\n",
    "# Lista para almacenar los DataFrames con los resultados\n",
    "resultados = []\n",
    "\n",
    "# Recorrer el directorio y guardar los nombres de los archivos Excel\n",
    "for archivo in os.listdir(directorio):\n",
    "    if archivo.endswith('.xlsx'):\n",
    "        archivos_excel.append(archivo)\n",
    "\n",
    "# Iterar sobre cada archivo Excel\n",
    "for archivo in archivos_excel:\n",
    "    # Ruta completa del archivo\n",
    "    ruta_archivo = os.path.join(directorio, archivo)\n",
    "    \n",
    "    # Cargar el archivo Excel en un DataFrame\n",
    "    df = pd.read_excel(ruta_archivo)\n",
    "    df=df[df[\"intervalo\"]==\"Motorway\"]\n",
    "    # Aplicar la función para calcular los parámetros de aceleración\n",
    "    df_modificado = calcular_parametros_acel(df)\n",
    " \n",
    "    # Generar la ruta de destino para guardar el archivo modificado\n",
    "    ruta_destino = os.path.join(directorio_guardar, archivo )\n",
    "    \n",
    "    # Guardar el DataFrame modificado como un nuevo archivo Excel\n",
    "    df_modificado.to_excel(ruta_destino, index=False)"
   ]
  },
  {
   "cell_type": "code",
   "execution_count": 5,
   "id": "dc54f494",
   "metadata": {},
   "outputs": [
    {
     "name": "stdout",
     "output_type": "stream",
     "text": [
      "C:/Users/Lenovo/OneDrive - Universidad de Castilla-La Mancha/JAVIER_LONDONO/RDE_Development/03.Clasificacion/Other_cycles/Other_cycles_f\\EPA_HWFET.xlsx\n",
      "C:/Users/Lenovo/OneDrive - Universidad de Castilla-La Mancha/JAVIER_LONDONO/RDE_Development/03.Clasificacion/Other_cycles/Other_cycles_f\\EPA_US06.xlsx\n",
      "C:/Users/Lenovo/OneDrive - Universidad de Castilla-La Mancha/JAVIER_LONDONO/RDE_Development/03.Clasificacion/Other_cycles/Other_cycles_f\\NEDC ECE.xlsx\n",
      "C:/Users/Lenovo/OneDrive - Universidad de Castilla-La Mancha/JAVIER_LONDONO/RDE_Development/03.Clasificacion/Other_cycles/Other_cycles_f\\RDE_95.xlsx\n",
      "C:/Users/Lenovo/OneDrive - Universidad de Castilla-La Mancha/JAVIER_LONDONO/RDE_Development/03.Clasificacion/Other_cycles/Other_cycles_f\\WLTC Class3.xlsx\n"
     ]
    }
   ],
   "source": [
    "### CALCULAR PARAMETROS CICLOS\n",
    "\n",
    "# Ruta del directorio donde se encuentran los archivos Excel originales\n",
    "directorio = 'C:/Users/Lenovo/OneDrive - Universidad de Castilla-La Mancha/JAVIER_LONDONO/RDE_Development/03.Clasificacion/Other_cycles/Other_cycles_f'\n",
    "directorio_guardar = 'C:/Users/Lenovo/OneDrive - Universidad de Castilla-La Mancha/JAVIER_LONDONO/RDE_Development/03.Clasificacion/Other_cycles/Other_cycles_P'\n",
    "\n",
    "# Lista para almacenar los nombres de los archivos Excel\n",
    "archivos_excel = []\n",
    "\n",
    "# Lista para almacenar los DataFrames con los resultados\n",
    "resultados = []\n",
    "\n",
    "# Recorrer el directorio y guardar los nombres de los archivos Excel\n",
    "for archivo in os.listdir(directorio):\n",
    "    if archivo.endswith('.xlsx'):\n",
    "        archivos_excel.append(archivo)\n",
    "\n",
    "# Iterar sobre cada archivo Excel\n",
    "for archivo in archivos_excel:\n",
    "    # Ruta completa del archivo\n",
    "    ruta_archivo = os.path.join(directorio, archivo)\n",
    "    \n",
    "    # Cargar el archivo Excel en un DataFrame\n",
    "    df = pd.read_excel(ruta_archivo)\n",
    "    \n",
    "\n",
    "\n",
    "    # Aplicar la función para calcular los parámetros de sección\n",
    "    print(ruta_archivo)\n",
    "    df_resultados = parametros_seccion(df)\n",
    "\n",
    "    \n",
    "    # Generar la ruta de destino para guardar el archivo modificado\n",
    "    ruta_destino = os.path.join(directorio_guardar, \"P_\"+archivo )\n",
    "    \n",
    "    # Guardar el DataFrame modificado como un nuevo archivo Excel\n",
    "    df_resultados.to_excel(ruta_destino, index=False)"
   ]
  },
  {
   "cell_type": "code",
   "execution_count": 6,
   "id": "78aeb215",
   "metadata": {},
   "outputs": [],
   "source": [
    "def obtener_nombres_archivos(directorio, extension):\n",
    "    return [archivo for archivo in os.listdir(directorio) if archivo.endswith(extension)]\n",
    "\n",
    "def obtener_nombres_completos(nombres_archivos):\n",
    "    return [os.path.splitext(archivo)[0] for archivo in nombres_archivos]\n",
    "\n",
    "def obtener_nombres_finales(nombres_archivos):\n",
    "    return [nombre]\n",
    "\n",
    "# Directorio donde se encuentran los archivos Excel\n",
    "directorio = 'C:/Users/Lenovo/OneDrive - Universidad de Castilla-La Mancha/JAVIER_LONDONO/RDE_Development/03.Clasificacion/Other_cycles/Other_cycles_p'\n",
    "\n",
    "# Obtener los nombres de los archivos Excel\n",
    "archivos_excel = obtener_nombres_archivos(directorio, '.xlsx')\n",
    "\n",
    "# Obtener los nombres base de los archivos (sin extensión)\n",
    "nombres_archivos_base = obtener_nombres_completos(archivos_excel)\n",
    "\n",
    "# # Obtener los nombres finales de los archivos\n",
    "# Nombres_r = obtener_nombres_finales(nombres_archivos_base)\n",
    "\n",
    "# Lista para almacenar los DataFrames\n",
    "dataframes = []\n",
    "\n",
    "# Cargar los archivos Excel y cambiar el nombre de la segunda columna\n",
    "for nombre_archivo in archivos_excel:\n",
    "    # Cargar el archivo Excel\n",
    "    ruta_archivo = os.path.join(directorio, nombre_archivo)\n",
    "    df = pd.read_excel(ruta_archivo)\n",
    "    # Cambiar el nombre de la segunda columna\n",
    "    df.columns = [df.columns[0], nombres_archivos_base.pop(0)]\n",
    "    # Agregar el DataFrame a la lista\n",
    "    dataframes.append(df)\n",
    "\n",
    "# Combinar los DataFrames en uno solo\n",
    "df_final = pd.concat([dataframes[0].iloc[:, :2]] + [df.iloc[:, 1] for df in dataframes[1:]], axis=1)\n",
    "# Cambiar el nombre de la columna 'A' a 'NuevoNombre'\n",
    "df_final = df_final.rename(columns={'Variable': 'Parameter'})\n",
    "# Mostrar el DataFrame final\n",
    "\n",
    "# print(df_final)\n",
    "\n",
    "# guardar datos en un archivo :\n",
    "df_final.to_excel(directorio + \"/PorIntervalos/Par_Other_CiclosMotorway.xlsx\", index=False)"
   ]
  },
  {
   "cell_type": "code",
   "execution_count": 7,
   "id": "77094c08",
   "metadata": {},
   "outputs": [],
   "source": [
    "# Transponer el DataFrame\n",
    "df_final_T = df_final.transpose()\n",
    "# Establecer la primera fila como nombres de columna\n",
    "df_final_T.columns = df_final_T.iloc[0]\n",
    "# Eliminar la primera fila (que ahora es el nombre de la columna)\n",
    "df_final_T = df_final_T[1:]\n",
    "# Actualizar Index y cambiar nombre a Ciclo\n",
    "df_final_T.reset_index(inplace=True)\n",
    "df_final_T.rename(columns={'index': 'ciclo'}, inplace=True)\n",
    "# ver dataFrame\n",
    "df_final_T\n",
    "# guardar datos en un archivo :\n",
    "df_final_T.to_excel(directorio + \"/PorIntervalos/Par_Other_CiclosMotorwayT.xlsx\", index=False)"
   ]
  },
  {
   "cell_type": "code",
   "execution_count": 12,
   "id": "739a84a1",
   "metadata": {},
   "outputs": [
    {
     "data": {
      "application/vnd.plotly.v1+json": {
       "config": {
        "plotlyServerURL": "https://plot.ly"
       },
       "data": [
        {
         "marker": {
          "color": "black",
          "size": 10,
          "symbol": "x"
         },
         "mode": "markers",
         "name": "P_EPA_HWFET",
         "type": "scatter",
         "x": [
          0.0602
         ],
         "y": [
          131.16489
         ]
        },
        {
         "marker": {
          "color": "black",
          "size": 10,
          "symbol": "x"
         },
         "mode": "markers",
         "name": "P_EPA_US06",
         "type": "scatter",
         "x": [
          0.14506
         ],
         "y": [
          176.36451
         ]
        },
        {
         "marker": {
          "color": "black",
          "size": 10,
          "symbol": "x"
         },
         "mode": "markers",
         "name": "P_NEDC ECE",
         "type": "scatter",
         "x": [
          0.09417
         ],
         "y": [
          77.94221
         ]
        },
        {
         "marker": {
          "color": "black",
          "size": 10,
          "symbol": "x"
         },
         "mode": "markers",
         "name": "P_RDE_95",
         "type": "scatter",
         "x": [
          0.21728
         ],
         "y": [
          1568.13356
         ]
        },
        {
         "marker": {
          "color": "black",
          "size": 10,
          "symbol": "x"
         },
         "mode": "markers",
         "name": "P_WLTC Class3",
         "type": "scatter",
         "x": [
          0.12391
         ],
         "y": [
          259.77275
         ]
        }
       ],
       "layout": {
        "height": 400,
        "plot_bgcolor": "white",
        "template": {
         "data": {
          "bar": [
           {
            "error_x": {
             "color": "#2a3f5f"
            },
            "error_y": {
             "color": "#2a3f5f"
            },
            "marker": {
             "line": {
              "color": "#E5ECF6",
              "width": 0.5
             },
             "pattern": {
              "fillmode": "overlay",
              "size": 10,
              "solidity": 0.2
             }
            },
            "type": "bar"
           }
          ],
          "barpolar": [
           {
            "marker": {
             "line": {
              "color": "#E5ECF6",
              "width": 0.5
             },
             "pattern": {
              "fillmode": "overlay",
              "size": 10,
              "solidity": 0.2
             }
            },
            "type": "barpolar"
           }
          ],
          "carpet": [
           {
            "aaxis": {
             "endlinecolor": "#2a3f5f",
             "gridcolor": "white",
             "linecolor": "white",
             "minorgridcolor": "white",
             "startlinecolor": "#2a3f5f"
            },
            "baxis": {
             "endlinecolor": "#2a3f5f",
             "gridcolor": "white",
             "linecolor": "white",
             "minorgridcolor": "white",
             "startlinecolor": "#2a3f5f"
            },
            "type": "carpet"
           }
          ],
          "choropleth": [
           {
            "colorbar": {
             "outlinewidth": 0,
             "ticks": ""
            },
            "type": "choropleth"
           }
          ],
          "contour": [
           {
            "colorbar": {
             "outlinewidth": 0,
             "ticks": ""
            },
            "colorscale": [
             [
              0,
              "#0d0887"
             ],
             [
              0.1111111111111111,
              "#46039f"
             ],
             [
              0.2222222222222222,
              "#7201a8"
             ],
             [
              0.3333333333333333,
              "#9c179e"
             ],
             [
              0.4444444444444444,
              "#bd3786"
             ],
             [
              0.5555555555555556,
              "#d8576b"
             ],
             [
              0.6666666666666666,
              "#ed7953"
             ],
             [
              0.7777777777777778,
              "#fb9f3a"
             ],
             [
              0.8888888888888888,
              "#fdca26"
             ],
             [
              1,
              "#f0f921"
             ]
            ],
            "type": "contour"
           }
          ],
          "contourcarpet": [
           {
            "colorbar": {
             "outlinewidth": 0,
             "ticks": ""
            },
            "type": "contourcarpet"
           }
          ],
          "heatmap": [
           {
            "colorbar": {
             "outlinewidth": 0,
             "ticks": ""
            },
            "colorscale": [
             [
              0,
              "#0d0887"
             ],
             [
              0.1111111111111111,
              "#46039f"
             ],
             [
              0.2222222222222222,
              "#7201a8"
             ],
             [
              0.3333333333333333,
              "#9c179e"
             ],
             [
              0.4444444444444444,
              "#bd3786"
             ],
             [
              0.5555555555555556,
              "#d8576b"
             ],
             [
              0.6666666666666666,
              "#ed7953"
             ],
             [
              0.7777777777777778,
              "#fb9f3a"
             ],
             [
              0.8888888888888888,
              "#fdca26"
             ],
             [
              1,
              "#f0f921"
             ]
            ],
            "type": "heatmap"
           }
          ],
          "heatmapgl": [
           {
            "colorbar": {
             "outlinewidth": 0,
             "ticks": ""
            },
            "colorscale": [
             [
              0,
              "#0d0887"
             ],
             [
              0.1111111111111111,
              "#46039f"
             ],
             [
              0.2222222222222222,
              "#7201a8"
             ],
             [
              0.3333333333333333,
              "#9c179e"
             ],
             [
              0.4444444444444444,
              "#bd3786"
             ],
             [
              0.5555555555555556,
              "#d8576b"
             ],
             [
              0.6666666666666666,
              "#ed7953"
             ],
             [
              0.7777777777777778,
              "#fb9f3a"
             ],
             [
              0.8888888888888888,
              "#fdca26"
             ],
             [
              1,
              "#f0f921"
             ]
            ],
            "type": "heatmapgl"
           }
          ],
          "histogram": [
           {
            "marker": {
             "pattern": {
              "fillmode": "overlay",
              "size": 10,
              "solidity": 0.2
             }
            },
            "type": "histogram"
           }
          ],
          "histogram2d": [
           {
            "colorbar": {
             "outlinewidth": 0,
             "ticks": ""
            },
            "colorscale": [
             [
              0,
              "#0d0887"
             ],
             [
              0.1111111111111111,
              "#46039f"
             ],
             [
              0.2222222222222222,
              "#7201a8"
             ],
             [
              0.3333333333333333,
              "#9c179e"
             ],
             [
              0.4444444444444444,
              "#bd3786"
             ],
             [
              0.5555555555555556,
              "#d8576b"
             ],
             [
              0.6666666666666666,
              "#ed7953"
             ],
             [
              0.7777777777777778,
              "#fb9f3a"
             ],
             [
              0.8888888888888888,
              "#fdca26"
             ],
             [
              1,
              "#f0f921"
             ]
            ],
            "type": "histogram2d"
           }
          ],
          "histogram2dcontour": [
           {
            "colorbar": {
             "outlinewidth": 0,
             "ticks": ""
            },
            "colorscale": [
             [
              0,
              "#0d0887"
             ],
             [
              0.1111111111111111,
              "#46039f"
             ],
             [
              0.2222222222222222,
              "#7201a8"
             ],
             [
              0.3333333333333333,
              "#9c179e"
             ],
             [
              0.4444444444444444,
              "#bd3786"
             ],
             [
              0.5555555555555556,
              "#d8576b"
             ],
             [
              0.6666666666666666,
              "#ed7953"
             ],
             [
              0.7777777777777778,
              "#fb9f3a"
             ],
             [
              0.8888888888888888,
              "#fdca26"
             ],
             [
              1,
              "#f0f921"
             ]
            ],
            "type": "histogram2dcontour"
           }
          ],
          "mesh3d": [
           {
            "colorbar": {
             "outlinewidth": 0,
             "ticks": ""
            },
            "type": "mesh3d"
           }
          ],
          "parcoords": [
           {
            "line": {
             "colorbar": {
              "outlinewidth": 0,
              "ticks": ""
             }
            },
            "type": "parcoords"
           }
          ],
          "pie": [
           {
            "automargin": true,
            "type": "pie"
           }
          ],
          "scatter": [
           {
            "fillpattern": {
             "fillmode": "overlay",
             "size": 10,
             "solidity": 0.2
            },
            "type": "scatter"
           }
          ],
          "scatter3d": [
           {
            "line": {
             "colorbar": {
              "outlinewidth": 0,
              "ticks": ""
             }
            },
            "marker": {
             "colorbar": {
              "outlinewidth": 0,
              "ticks": ""
             }
            },
            "type": "scatter3d"
           }
          ],
          "scattercarpet": [
           {
            "marker": {
             "colorbar": {
              "outlinewidth": 0,
              "ticks": ""
             }
            },
            "type": "scattercarpet"
           }
          ],
          "scattergeo": [
           {
            "marker": {
             "colorbar": {
              "outlinewidth": 0,
              "ticks": ""
             }
            },
            "type": "scattergeo"
           }
          ],
          "scattergl": [
           {
            "marker": {
             "colorbar": {
              "outlinewidth": 0,
              "ticks": ""
             }
            },
            "type": "scattergl"
           }
          ],
          "scattermapbox": [
           {
            "marker": {
             "colorbar": {
              "outlinewidth": 0,
              "ticks": ""
             }
            },
            "type": "scattermapbox"
           }
          ],
          "scatterpolar": [
           {
            "marker": {
             "colorbar": {
              "outlinewidth": 0,
              "ticks": ""
             }
            },
            "type": "scatterpolar"
           }
          ],
          "scatterpolargl": [
           {
            "marker": {
             "colorbar": {
              "outlinewidth": 0,
              "ticks": ""
             }
            },
            "type": "scatterpolargl"
           }
          ],
          "scatterternary": [
           {
            "marker": {
             "colorbar": {
              "outlinewidth": 0,
              "ticks": ""
             }
            },
            "type": "scatterternary"
           }
          ],
          "surface": [
           {
            "colorbar": {
             "outlinewidth": 0,
             "ticks": ""
            },
            "colorscale": [
             [
              0,
              "#0d0887"
             ],
             [
              0.1111111111111111,
              "#46039f"
             ],
             [
              0.2222222222222222,
              "#7201a8"
             ],
             [
              0.3333333333333333,
              "#9c179e"
             ],
             [
              0.4444444444444444,
              "#bd3786"
             ],
             [
              0.5555555555555556,
              "#d8576b"
             ],
             [
              0.6666666666666666,
              "#ed7953"
             ],
             [
              0.7777777777777778,
              "#fb9f3a"
             ],
             [
              0.8888888888888888,
              "#fdca26"
             ],
             [
              1,
              "#f0f921"
             ]
            ],
            "type": "surface"
           }
          ],
          "table": [
           {
            "cells": {
             "fill": {
              "color": "#EBF0F8"
             },
             "line": {
              "color": "white"
             }
            },
            "header": {
             "fill": {
              "color": "#C8D4E3"
             },
             "line": {
              "color": "white"
             }
            },
            "type": "table"
           }
          ]
         },
         "layout": {
          "annotationdefaults": {
           "arrowcolor": "#2a3f5f",
           "arrowhead": 0,
           "arrowwidth": 1
          },
          "autotypenumbers": "strict",
          "coloraxis": {
           "colorbar": {
            "outlinewidth": 0,
            "ticks": ""
           }
          },
          "colorscale": {
           "diverging": [
            [
             0,
             "#8e0152"
            ],
            [
             0.1,
             "#c51b7d"
            ],
            [
             0.2,
             "#de77ae"
            ],
            [
             0.3,
             "#f1b6da"
            ],
            [
             0.4,
             "#fde0ef"
            ],
            [
             0.5,
             "#f7f7f7"
            ],
            [
             0.6,
             "#e6f5d0"
            ],
            [
             0.7,
             "#b8e186"
            ],
            [
             0.8,
             "#7fbc41"
            ],
            [
             0.9,
             "#4d9221"
            ],
            [
             1,
             "#276419"
            ]
           ],
           "sequential": [
            [
             0,
             "#0d0887"
            ],
            [
             0.1111111111111111,
             "#46039f"
            ],
            [
             0.2222222222222222,
             "#7201a8"
            ],
            [
             0.3333333333333333,
             "#9c179e"
            ],
            [
             0.4444444444444444,
             "#bd3786"
            ],
            [
             0.5555555555555556,
             "#d8576b"
            ],
            [
             0.6666666666666666,
             "#ed7953"
            ],
            [
             0.7777777777777778,
             "#fb9f3a"
            ],
            [
             0.8888888888888888,
             "#fdca26"
            ],
            [
             1,
             "#f0f921"
            ]
           ],
           "sequentialminus": [
            [
             0,
             "#0d0887"
            ],
            [
             0.1111111111111111,
             "#46039f"
            ],
            [
             0.2222222222222222,
             "#7201a8"
            ],
            [
             0.3333333333333333,
             "#9c179e"
            ],
            [
             0.4444444444444444,
             "#bd3786"
            ],
            [
             0.5555555555555556,
             "#d8576b"
            ],
            [
             0.6666666666666666,
             "#ed7953"
            ],
            [
             0.7777777777777778,
             "#fb9f3a"
            ],
            [
             0.8888888888888888,
             "#fdca26"
            ],
            [
             1,
             "#f0f921"
            ]
           ]
          },
          "colorway": [
           "#636efa",
           "#EF553B",
           "#00cc96",
           "#ab63fa",
           "#FFA15A",
           "#19d3f3",
           "#FF6692",
           "#B6E880",
           "#FF97FF",
           "#FECB52"
          ],
          "font": {
           "color": "#2a3f5f"
          },
          "geo": {
           "bgcolor": "white",
           "lakecolor": "white",
           "landcolor": "#E5ECF6",
           "showlakes": true,
           "showland": true,
           "subunitcolor": "white"
          },
          "hoverlabel": {
           "align": "left"
          },
          "hovermode": "closest",
          "mapbox": {
           "style": "light"
          },
          "paper_bgcolor": "white",
          "plot_bgcolor": "#E5ECF6",
          "polar": {
           "angularaxis": {
            "gridcolor": "white",
            "linecolor": "white",
            "ticks": ""
           },
           "bgcolor": "#E5ECF6",
           "radialaxis": {
            "gridcolor": "white",
            "linecolor": "white",
            "ticks": ""
           }
          },
          "scene": {
           "xaxis": {
            "backgroundcolor": "#E5ECF6",
            "gridcolor": "white",
            "gridwidth": 2,
            "linecolor": "white",
            "showbackground": true,
            "ticks": "",
            "zerolinecolor": "white"
           },
           "yaxis": {
            "backgroundcolor": "#E5ECF6",
            "gridcolor": "white",
            "gridwidth": 2,
            "linecolor": "white",
            "showbackground": true,
            "ticks": "",
            "zerolinecolor": "white"
           },
           "zaxis": {
            "backgroundcolor": "#E5ECF6",
            "gridcolor": "white",
            "gridwidth": 2,
            "linecolor": "white",
            "showbackground": true,
            "ticks": "",
            "zerolinecolor": "white"
           }
          },
          "shapedefaults": {
           "line": {
            "color": "#2a3f5f"
           }
          },
          "ternary": {
           "aaxis": {
            "gridcolor": "white",
            "linecolor": "white",
            "ticks": ""
           },
           "baxis": {
            "gridcolor": "white",
            "linecolor": "white",
            "ticks": ""
           },
           "bgcolor": "#E5ECF6",
           "caxis": {
            "gridcolor": "white",
            "linecolor": "white",
            "ticks": ""
           }
          },
          "title": {
           "x": 0.05
          },
          "xaxis": {
           "automargin": true,
           "gridcolor": "white",
           "linecolor": "white",
           "ticks": "",
           "title": {
            "standoff": 15
           },
           "zerolinecolor": "white",
           "zerolinewidth": 2
          },
          "yaxis": {
           "automargin": true,
           "gridcolor": "white",
           "linecolor": "white",
           "ticks": "",
           "title": {
            "standoff": 15
           },
           "zerolinecolor": "white",
           "zerolinewidth": 2
          }
         }
        },
        "width": 500,
        "xaxis": {
         "linecolor": "black",
         "linewidth": 1,
         "showline": true,
         "title": {
          "text": "--"
         }
        },
        "yaxis": {
         "linecolor": "black",
         "linewidth": 1,
         "showline": true,
         "title": {
          "text": "IDI [m/s]"
         }
        }
       }
      },
      "text/html": [
       "<div>                            <div id=\"c0b34ee9-fdc0-47d2-977e-b8336162ccf9\" class=\"plotly-graph-div\" style=\"height:400px; width:500px;\"></div>            <script type=\"text/javascript\">                require([\"plotly\"], function(Plotly) {                    window.PLOTLYENV=window.PLOTLYENV || {};                                    if (document.getElementById(\"c0b34ee9-fdc0-47d2-977e-b8336162ccf9\")) {                    Plotly.newPlot(                        \"c0b34ee9-fdc0-47d2-977e-b8336162ccf9\",                        [{\"marker\":{\"color\":\"black\",\"size\":10,\"symbol\":\"x\"},\"mode\":\"markers\",\"name\":\"P_EPA_HWFET\",\"x\":[0.0602],\"y\":[131.16489],\"type\":\"scatter\"},{\"marker\":{\"color\":\"black\",\"size\":10,\"symbol\":\"x\"},\"mode\":\"markers\",\"name\":\"P_EPA_US06\",\"x\":[0.14506],\"y\":[176.36451],\"type\":\"scatter\"},{\"marker\":{\"color\":\"black\",\"size\":10,\"symbol\":\"x\"},\"mode\":\"markers\",\"name\":\"P_NEDC ECE\",\"x\":[0.09417],\"y\":[77.94221],\"type\":\"scatter\"},{\"marker\":{\"color\":\"black\",\"size\":10,\"symbol\":\"x\"},\"mode\":\"markers\",\"name\":\"P_RDE_95\",\"x\":[0.21728],\"y\":[1568.13356],\"type\":\"scatter\"},{\"marker\":{\"color\":\"black\",\"size\":10,\"symbol\":\"x\"},\"mode\":\"markers\",\"name\":\"P_WLTC Class3\",\"x\":[0.12391],\"y\":[259.77275],\"type\":\"scatter\"}],                        {\"template\":{\"data\":{\"histogram2dcontour\":[{\"type\":\"histogram2dcontour\",\"colorbar\":{\"outlinewidth\":0,\"ticks\":\"\"},\"colorscale\":[[0.0,\"#0d0887\"],[0.1111111111111111,\"#46039f\"],[0.2222222222222222,\"#7201a8\"],[0.3333333333333333,\"#9c179e\"],[0.4444444444444444,\"#bd3786\"],[0.5555555555555556,\"#d8576b\"],[0.6666666666666666,\"#ed7953\"],[0.7777777777777778,\"#fb9f3a\"],[0.8888888888888888,\"#fdca26\"],[1.0,\"#f0f921\"]]}],\"choropleth\":[{\"type\":\"choropleth\",\"colorbar\":{\"outlinewidth\":0,\"ticks\":\"\"}}],\"histogram2d\":[{\"type\":\"histogram2d\",\"colorbar\":{\"outlinewidth\":0,\"ticks\":\"\"},\"colorscale\":[[0.0,\"#0d0887\"],[0.1111111111111111,\"#46039f\"],[0.2222222222222222,\"#7201a8\"],[0.3333333333333333,\"#9c179e\"],[0.4444444444444444,\"#bd3786\"],[0.5555555555555556,\"#d8576b\"],[0.6666666666666666,\"#ed7953\"],[0.7777777777777778,\"#fb9f3a\"],[0.8888888888888888,\"#fdca26\"],[1.0,\"#f0f921\"]]}],\"heatmap\":[{\"type\":\"heatmap\",\"colorbar\":{\"outlinewidth\":0,\"ticks\":\"\"},\"colorscale\":[[0.0,\"#0d0887\"],[0.1111111111111111,\"#46039f\"],[0.2222222222222222,\"#7201a8\"],[0.3333333333333333,\"#9c179e\"],[0.4444444444444444,\"#bd3786\"],[0.5555555555555556,\"#d8576b\"],[0.6666666666666666,\"#ed7953\"],[0.7777777777777778,\"#fb9f3a\"],[0.8888888888888888,\"#fdca26\"],[1.0,\"#f0f921\"]]}],\"heatmapgl\":[{\"type\":\"heatmapgl\",\"colorbar\":{\"outlinewidth\":0,\"ticks\":\"\"},\"colorscale\":[[0.0,\"#0d0887\"],[0.1111111111111111,\"#46039f\"],[0.2222222222222222,\"#7201a8\"],[0.3333333333333333,\"#9c179e\"],[0.4444444444444444,\"#bd3786\"],[0.5555555555555556,\"#d8576b\"],[0.6666666666666666,\"#ed7953\"],[0.7777777777777778,\"#fb9f3a\"],[0.8888888888888888,\"#fdca26\"],[1.0,\"#f0f921\"]]}],\"contourcarpet\":[{\"type\":\"contourcarpet\",\"colorbar\":{\"outlinewidth\":0,\"ticks\":\"\"}}],\"contour\":[{\"type\":\"contour\",\"colorbar\":{\"outlinewidth\":0,\"ticks\":\"\"},\"colorscale\":[[0.0,\"#0d0887\"],[0.1111111111111111,\"#46039f\"],[0.2222222222222222,\"#7201a8\"],[0.3333333333333333,\"#9c179e\"],[0.4444444444444444,\"#bd3786\"],[0.5555555555555556,\"#d8576b\"],[0.6666666666666666,\"#ed7953\"],[0.7777777777777778,\"#fb9f3a\"],[0.8888888888888888,\"#fdca26\"],[1.0,\"#f0f921\"]]}],\"surface\":[{\"type\":\"surface\",\"colorbar\":{\"outlinewidth\":0,\"ticks\":\"\"},\"colorscale\":[[0.0,\"#0d0887\"],[0.1111111111111111,\"#46039f\"],[0.2222222222222222,\"#7201a8\"],[0.3333333333333333,\"#9c179e\"],[0.4444444444444444,\"#bd3786\"],[0.5555555555555556,\"#d8576b\"],[0.6666666666666666,\"#ed7953\"],[0.7777777777777778,\"#fb9f3a\"],[0.8888888888888888,\"#fdca26\"],[1.0,\"#f0f921\"]]}],\"mesh3d\":[{\"type\":\"mesh3d\",\"colorbar\":{\"outlinewidth\":0,\"ticks\":\"\"}}],\"scatter\":[{\"fillpattern\":{\"fillmode\":\"overlay\",\"size\":10,\"solidity\":0.2},\"type\":\"scatter\"}],\"parcoords\":[{\"type\":\"parcoords\",\"line\":{\"colorbar\":{\"outlinewidth\":0,\"ticks\":\"\"}}}],\"scatterpolargl\":[{\"type\":\"scatterpolargl\",\"marker\":{\"colorbar\":{\"outlinewidth\":0,\"ticks\":\"\"}}}],\"bar\":[{\"error_x\":{\"color\":\"#2a3f5f\"},\"error_y\":{\"color\":\"#2a3f5f\"},\"marker\":{\"line\":{\"color\":\"#E5ECF6\",\"width\":0.5},\"pattern\":{\"fillmode\":\"overlay\",\"size\":10,\"solidity\":0.2}},\"type\":\"bar\"}],\"scattergeo\":[{\"type\":\"scattergeo\",\"marker\":{\"colorbar\":{\"outlinewidth\":0,\"ticks\":\"\"}}}],\"scatterpolar\":[{\"type\":\"scatterpolar\",\"marker\":{\"colorbar\":{\"outlinewidth\":0,\"ticks\":\"\"}}}],\"histogram\":[{\"marker\":{\"pattern\":{\"fillmode\":\"overlay\",\"size\":10,\"solidity\":0.2}},\"type\":\"histogram\"}],\"scattergl\":[{\"type\":\"scattergl\",\"marker\":{\"colorbar\":{\"outlinewidth\":0,\"ticks\":\"\"}}}],\"scatter3d\":[{\"type\":\"scatter3d\",\"line\":{\"colorbar\":{\"outlinewidth\":0,\"ticks\":\"\"}},\"marker\":{\"colorbar\":{\"outlinewidth\":0,\"ticks\":\"\"}}}],\"scattermapbox\":[{\"type\":\"scattermapbox\",\"marker\":{\"colorbar\":{\"outlinewidth\":0,\"ticks\":\"\"}}}],\"scatterternary\":[{\"type\":\"scatterternary\",\"marker\":{\"colorbar\":{\"outlinewidth\":0,\"ticks\":\"\"}}}],\"scattercarpet\":[{\"type\":\"scattercarpet\",\"marker\":{\"colorbar\":{\"outlinewidth\":0,\"ticks\":\"\"}}}],\"carpet\":[{\"aaxis\":{\"endlinecolor\":\"#2a3f5f\",\"gridcolor\":\"white\",\"linecolor\":\"white\",\"minorgridcolor\":\"white\",\"startlinecolor\":\"#2a3f5f\"},\"baxis\":{\"endlinecolor\":\"#2a3f5f\",\"gridcolor\":\"white\",\"linecolor\":\"white\",\"minorgridcolor\":\"white\",\"startlinecolor\":\"#2a3f5f\"},\"type\":\"carpet\"}],\"table\":[{\"cells\":{\"fill\":{\"color\":\"#EBF0F8\"},\"line\":{\"color\":\"white\"}},\"header\":{\"fill\":{\"color\":\"#C8D4E3\"},\"line\":{\"color\":\"white\"}},\"type\":\"table\"}],\"barpolar\":[{\"marker\":{\"line\":{\"color\":\"#E5ECF6\",\"width\":0.5},\"pattern\":{\"fillmode\":\"overlay\",\"size\":10,\"solidity\":0.2}},\"type\":\"barpolar\"}],\"pie\":[{\"automargin\":true,\"type\":\"pie\"}]},\"layout\":{\"autotypenumbers\":\"strict\",\"colorway\":[\"#636efa\",\"#EF553B\",\"#00cc96\",\"#ab63fa\",\"#FFA15A\",\"#19d3f3\",\"#FF6692\",\"#B6E880\",\"#FF97FF\",\"#FECB52\"],\"font\":{\"color\":\"#2a3f5f\"},\"hovermode\":\"closest\",\"hoverlabel\":{\"align\":\"left\"},\"paper_bgcolor\":\"white\",\"plot_bgcolor\":\"#E5ECF6\",\"polar\":{\"bgcolor\":\"#E5ECF6\",\"angularaxis\":{\"gridcolor\":\"white\",\"linecolor\":\"white\",\"ticks\":\"\"},\"radialaxis\":{\"gridcolor\":\"white\",\"linecolor\":\"white\",\"ticks\":\"\"}},\"ternary\":{\"bgcolor\":\"#E5ECF6\",\"aaxis\":{\"gridcolor\":\"white\",\"linecolor\":\"white\",\"ticks\":\"\"},\"baxis\":{\"gridcolor\":\"white\",\"linecolor\":\"white\",\"ticks\":\"\"},\"caxis\":{\"gridcolor\":\"white\",\"linecolor\":\"white\",\"ticks\":\"\"}},\"coloraxis\":{\"colorbar\":{\"outlinewidth\":0,\"ticks\":\"\"}},\"colorscale\":{\"sequential\":[[0.0,\"#0d0887\"],[0.1111111111111111,\"#46039f\"],[0.2222222222222222,\"#7201a8\"],[0.3333333333333333,\"#9c179e\"],[0.4444444444444444,\"#bd3786\"],[0.5555555555555556,\"#d8576b\"],[0.6666666666666666,\"#ed7953\"],[0.7777777777777778,\"#fb9f3a\"],[0.8888888888888888,\"#fdca26\"],[1.0,\"#f0f921\"]],\"sequentialminus\":[[0.0,\"#0d0887\"],[0.1111111111111111,\"#46039f\"],[0.2222222222222222,\"#7201a8\"],[0.3333333333333333,\"#9c179e\"],[0.4444444444444444,\"#bd3786\"],[0.5555555555555556,\"#d8576b\"],[0.6666666666666666,\"#ed7953\"],[0.7777777777777778,\"#fb9f3a\"],[0.8888888888888888,\"#fdca26\"],[1.0,\"#f0f921\"]],\"diverging\":[[0,\"#8e0152\"],[0.1,\"#c51b7d\"],[0.2,\"#de77ae\"],[0.3,\"#f1b6da\"],[0.4,\"#fde0ef\"],[0.5,\"#f7f7f7\"],[0.6,\"#e6f5d0\"],[0.7,\"#b8e186\"],[0.8,\"#7fbc41\"],[0.9,\"#4d9221\"],[1,\"#276419\"]]},\"xaxis\":{\"gridcolor\":\"white\",\"linecolor\":\"white\",\"ticks\":\"\",\"title\":{\"standoff\":15},\"zerolinecolor\":\"white\",\"automargin\":true,\"zerolinewidth\":2},\"yaxis\":{\"gridcolor\":\"white\",\"linecolor\":\"white\",\"ticks\":\"\",\"title\":{\"standoff\":15},\"zerolinecolor\":\"white\",\"automargin\":true,\"zerolinewidth\":2},\"scene\":{\"xaxis\":{\"backgroundcolor\":\"#E5ECF6\",\"gridcolor\":\"white\",\"linecolor\":\"white\",\"showbackground\":true,\"ticks\":\"\",\"zerolinecolor\":\"white\",\"gridwidth\":2},\"yaxis\":{\"backgroundcolor\":\"#E5ECF6\",\"gridcolor\":\"white\",\"linecolor\":\"white\",\"showbackground\":true,\"ticks\":\"\",\"zerolinecolor\":\"white\",\"gridwidth\":2},\"zaxis\":{\"backgroundcolor\":\"#E5ECF6\",\"gridcolor\":\"white\",\"linecolor\":\"white\",\"showbackground\":true,\"ticks\":\"\",\"zerolinecolor\":\"white\",\"gridwidth\":2}},\"shapedefaults\":{\"line\":{\"color\":\"#2a3f5f\"}},\"annotationdefaults\":{\"arrowcolor\":\"#2a3f5f\",\"arrowhead\":0,\"arrowwidth\":1},\"geo\":{\"bgcolor\":\"white\",\"landcolor\":\"#E5ECF6\",\"subunitcolor\":\"white\",\"showland\":true,\"showlakes\":true,\"lakecolor\":\"white\"},\"title\":{\"x\":0.05},\"mapbox\":{\"style\":\"light\"}}},\"xaxis\":{\"title\":{\"text\":\"--\"},\"showline\":true,\"linewidth\":1,\"linecolor\":\"black\"},\"yaxis\":{\"title\":{\"text\":\"IDI [m/s]\"},\"showline\":true,\"linewidth\":1,\"linecolor\":\"black\"},\"height\":400,\"width\":500,\"plot_bgcolor\":\"white\"},                        {\"responsive\": true}                    ).then(function(){\n",
       "                            \n",
       "var gd = document.getElementById('c0b34ee9-fdc0-47d2-977e-b8336162ccf9');\n",
       "var x = new MutationObserver(function (mutations, observer) {{\n",
       "        var display = window.getComputedStyle(gd).display;\n",
       "        if (!display || display === 'none') {{\n",
       "            console.log([gd, 'removed!']);\n",
       "            Plotly.purge(gd);\n",
       "            observer.disconnect();\n",
       "        }}\n",
       "}});\n",
       "\n",
       "// Listen for the removal of the full notebook cells\n",
       "var notebookContainer = gd.closest('#notebook-container');\n",
       "if (notebookContainer) {{\n",
       "    x.observe(notebookContainer, {childList: true});\n",
       "}}\n",
       "\n",
       "// Listen for the clearing of the current output cell\n",
       "var outputEl = gd.closest('.output');\n",
       "if (outputEl) {{\n",
       "    x.observe(outputEl, {childList: true});\n",
       "}}\n",
       "\n",
       "                        })                };                });            </script>        </div>"
      ]
     },
     "metadata": {},
     "output_type": "display_data"
    }
   ],
   "source": [
    "import plotly.graph_objects as go\n",
    "import numpy as np\n",
    "\n",
    "\n",
    "# # Definir un diccionario que asigna formas a cada categoría\n",
    "# shapes = {'Motorway_1': 'circle', 'Motorway_2': 'circle', 'Motorway_3': 'circle',\n",
    "#           'Rural_1': 'x', 'Rural_2': 'x', 'Rural_3': 'x',\n",
    "#           'Urban_1': 'square', 'Urban_2': 'square', 'Urban_3': 'square'}\n",
    "\n",
    "# # Definir un diccionario que asigna colores a cada categoría\n",
    "# colors = {'Motorway_1': 'darkblue', 'Motorway_2': 'darkorange', 'Motorway_3': 'darkred',\n",
    "#           'Rural_1': 'darkred', 'Rural_2': 'darkorange', 'Rural_3': 'darkblue',\n",
    "#           'Urban_1': 'darkorange', 'Urban_2': 'darkred', 'Urban_3': 'darkblue'}\n",
    "\n",
    "# Crear el gráfico de dispersión con diferentes formas y colores para cada categoría\n",
    "fig = go.Figure()\n",
    "\n",
    "# Iterar sobre cada categoría en tu lista predefinida de categorías\n",
    "for categoria in df_final_T['ciclo'].unique():\n",
    "    # Filtrar el DataFrame por la categoría actual\n",
    "    df_categoria = df_final_T[df_final_T['ciclo'] == categoria]\n",
    "    \n",
    "#     # Agregar una traza para la categoría actual con la forma y color correspondientes\n",
    "#     fig.add_trace(go.Scatter(\n",
    "#         x=df_categoria['RPA'],\n",
    "#         y=df_categoria['i'],\n",
    "#         mode='markers',\n",
    "#         name=categoria,\n",
    "#         marker=dict(symbol=shape, size=10, color=colors[categoria])\n",
    "#     ))\n",
    "\n",
    "    # Agregar una traza para la categoría actual con la forma y color correspondientes\n",
    "    fig.add_trace(go.Scatter(\n",
    "        x=df_categoria['RPA'],\n",
    "        y=df_categoria['i'],\n",
    "        mode='markers',\n",
    "        name=categoria,\n",
    "        marker=dict(symbol=\"x\", size=10, color=\"black\")\n",
    "    ))\n",
    "    \n",
    "# Actualizar ejes\n",
    "fig.update_xaxes(showline=True, linewidth=1, linecolor='black', title_text=\"--\") #\"RPA [m/s²]\"\n",
    "fig.update_yaxes(showline=True, linewidth=1, linecolor='black', title_text=\"IDI [m/s]\")    \n",
    "fig.update_layout(height=400, width=500, plot_bgcolor=\"white\")\n",
    "# Mostrar el gráfico\n",
    "fig.show()\n"
   ]
  },
  {
   "cell_type": "markdown",
   "id": "5b4898ee",
   "metadata": {},
   "source": [
    "Separación de intervalos Urban, Rural, y Motorway de cada uno de los ciclos.  "
   ]
  },
  {
   "cell_type": "code",
   "execution_count": 9,
   "id": "b96061e6",
   "metadata": {},
   "outputs": [
    {
     "data": {
      "text/html": [
       "<div>\n",
       "<style scoped>\n",
       "    .dataframe tbody tr th:only-of-type {\n",
       "        vertical-align: middle;\n",
       "    }\n",
       "\n",
       "    .dataframe tbody tr th {\n",
       "        vertical-align: top;\n",
       "    }\n",
       "\n",
       "    .dataframe thead th {\n",
       "        text-align: right;\n",
       "    }\n",
       "</style>\n",
       "<table border=\"1\" class=\"dataframe\">\n",
       "  <thead>\n",
       "    <tr style=\"text-align: right;\">\n",
       "      <th>Parameter</th>\n",
       "      <th>ciclo</th>\n",
       "      <th>distance_traveled</th>\n",
       "      <th>total_time</th>\n",
       "      <th>speed_mean</th>\n",
       "      <th>speed_max</th>\n",
       "      <th>speed_mean_sup</th>\n",
       "      <th>acel_pos_mean</th>\n",
       "      <th>acel_pos_max</th>\n",
       "      <th>n_ia_pos</th>\n",
       "      <th>n_ia_neg</th>\n",
       "      <th>...</th>\n",
       "      <th>acel_neg_max</th>\n",
       "      <th>time_ralenti</th>\n",
       "      <th>time_mov</th>\n",
       "      <th>t_crucero</th>\n",
       "      <th>t_acel</th>\n",
       "      <th>ABS_Der_Acel</th>\n",
       "      <th>ABS_Der_Acel/distance</th>\n",
       "      <th>ABS_Acel</th>\n",
       "      <th>ABS_Acel/distance</th>\n",
       "      <th>i</th>\n",
       "    </tr>\n",
       "  </thead>\n",
       "  <tbody>\n",
       "    <tr>\n",
       "      <th>0</th>\n",
       "      <td>P_EPA_HWFET</td>\n",
       "      <td>16513.47185</td>\n",
       "      <td>765.0</td>\n",
       "      <td>77.60901</td>\n",
       "      <td>96.439</td>\n",
       "      <td>87.024</td>\n",
       "      <td>0.17179</td>\n",
       "      <td>1.44602</td>\n",
       "      <td>208.0</td>\n",
       "      <td>156.0</td>\n",
       "      <td>...</td>\n",
       "      <td>-1.53546</td>\n",
       "      <td>0.78431</td>\n",
       "      <td>99.34641</td>\n",
       "      <td>52.02614</td>\n",
       "      <td>47.32026</td>\n",
       "      <td>46.70491</td>\n",
       "      <td>0.00283</td>\n",
       "      <td>131.88956</td>\n",
       "      <td>0.00799</td>\n",
       "      <td>131.16489</td>\n",
       "    </tr>\n",
       "    <tr>\n",
       "      <th>1</th>\n",
       "      <td>P_EPA_US06</td>\n",
       "      <td>11673.61806</td>\n",
       "      <td>451.0</td>\n",
       "      <td>92.97572</td>\n",
       "      <td>129.283</td>\n",
       "      <td>111.12936</td>\n",
       "      <td>0.40009</td>\n",
       "      <td>3.5256</td>\n",
       "      <td>163.0</td>\n",
       "      <td>141.0</td>\n",
       "      <td>...</td>\n",
       "      <td>-2.84359</td>\n",
       "      <td>3.54767</td>\n",
       "      <td>96.67406</td>\n",
       "      <td>30.37694</td>\n",
       "      <td>66.29712</td>\n",
       "      <td>94.93037</td>\n",
       "      <td>0.00813</td>\n",
       "      <td>179.31375</td>\n",
       "      <td>0.01536</td>\n",
       "      <td>176.36451</td>\n",
       "    </tr>\n",
       "    <tr>\n",
       "      <th>2</th>\n",
       "      <td>P_NEDC ECE</td>\n",
       "      <td>6954.72234</td>\n",
       "      <td>399.0</td>\n",
       "      <td>62.5925</td>\n",
       "      <td>120.0</td>\n",
       "      <td>91.29625</td>\n",
       "      <td>0.19196</td>\n",
       "      <td>0.90278</td>\n",
       "      <td>111.0</td>\n",
       "      <td>45.0</td>\n",
       "      <td>...</td>\n",
       "      <td>-1.50463</td>\n",
       "      <td>10.27569</td>\n",
       "      <td>89.97494</td>\n",
       "      <td>51.62907</td>\n",
       "      <td>38.34586</td>\n",
       "      <td>14.46762</td>\n",
       "      <td>0.00208</td>\n",
       "      <td>79.47049</td>\n",
       "      <td>0.01143</td>\n",
       "      <td>77.94221</td>\n",
       "    </tr>\n",
       "    <tr>\n",
       "      <th>3</th>\n",
       "      <td>P_RDE_95</td>\n",
       "      <td>57042.59815</td>\n",
       "      <td>2800.0</td>\n",
       "      <td>73.3143</td>\n",
       "      <td>159.29</td>\n",
       "      <td>116.30215</td>\n",
       "      <td>0.52653</td>\n",
       "      <td>2.19259</td>\n",
       "      <td>1151.0</td>\n",
       "      <td>1057.0</td>\n",
       "      <td>...</td>\n",
       "      <td>-2.19051</td>\n",
       "      <td>2.0</td>\n",
       "      <td>98.03571</td>\n",
       "      <td>19.17857</td>\n",
       "      <td>78.85714</td>\n",
       "      <td>552.59028</td>\n",
       "      <td>0.00969</td>\n",
       "      <td>1568.13356</td>\n",
       "      <td>0.02749</td>\n",
       "      <td>1568.13356</td>\n",
       "    </tr>\n",
       "    <tr>\n",
       "      <th>4</th>\n",
       "      <td>P_WLTC Class3</td>\n",
       "      <td>15412.11111</td>\n",
       "      <td>777.0</td>\n",
       "      <td>71.31568</td>\n",
       "      <td>131.3</td>\n",
       "      <td>101.30784</td>\n",
       "      <td>0.3538</td>\n",
       "      <td>1.66204</td>\n",
       "      <td>263.0</td>\n",
       "      <td>251.0</td>\n",
       "      <td>...</td>\n",
       "      <td>-1.57639</td>\n",
       "      <td>4.7619</td>\n",
       "      <td>95.3668</td>\n",
       "      <td>29.72973</td>\n",
       "      <td>65.63707</td>\n",
       "      <td>80.4537</td>\n",
       "      <td>0.00522</td>\n",
       "      <td>261.81019</td>\n",
       "      <td>0.01699</td>\n",
       "      <td>259.77275</td>\n",
       "    </tr>\n",
       "  </tbody>\n",
       "</table>\n",
       "<p>5 rows × 23 columns</p>\n",
       "</div>"
      ],
      "text/plain": [
       "Parameter          ciclo distance_traveled total_time speed_mean speed_max  \\\n",
       "0            P_EPA_HWFET       16513.47185      765.0   77.60901    96.439   \n",
       "1             P_EPA_US06       11673.61806      451.0   92.97572   129.283   \n",
       "2             P_NEDC ECE        6954.72234      399.0    62.5925     120.0   \n",
       "3               P_RDE_95       57042.59815     2800.0    73.3143    159.29   \n",
       "4          P_WLTC Class3       15412.11111      777.0   71.31568     131.3   \n",
       "\n",
       "Parameter speed_mean_sup acel_pos_mean acel_pos_max n_ia_pos n_ia_neg  ...  \\\n",
       "0                 87.024       0.17179      1.44602    208.0    156.0  ...   \n",
       "1              111.12936       0.40009       3.5256    163.0    141.0  ...   \n",
       "2               91.29625       0.19196      0.90278    111.0     45.0  ...   \n",
       "3              116.30215       0.52653      2.19259   1151.0   1057.0  ...   \n",
       "4              101.30784        0.3538      1.66204    263.0    251.0  ...   \n",
       "\n",
       "Parameter acel_neg_max time_ralenti  time_mov t_crucero    t_acel  \\\n",
       "0             -1.53546      0.78431  99.34641  52.02614  47.32026   \n",
       "1             -2.84359      3.54767  96.67406  30.37694  66.29712   \n",
       "2             -1.50463     10.27569  89.97494  51.62907  38.34586   \n",
       "3             -2.19051          2.0  98.03571  19.17857  78.85714   \n",
       "4             -1.57639       4.7619   95.3668  29.72973  65.63707   \n",
       "\n",
       "Parameter ABS_Der_Acel ABS_Der_Acel/distance    ABS_Acel ABS_Acel/distance  \\\n",
       "0             46.70491               0.00283   131.88956           0.00799   \n",
       "1             94.93037               0.00813   179.31375           0.01536   \n",
       "2             14.46762               0.00208    79.47049           0.01143   \n",
       "3            552.59028               0.00969  1568.13356           0.02749   \n",
       "4              80.4537               0.00522   261.81019           0.01699   \n",
       "\n",
       "Parameter           i  \n",
       "0           131.16489  \n",
       "1           176.36451  \n",
       "2            77.94221  \n",
       "3          1568.13356  \n",
       "4           259.77275  \n",
       "\n",
       "[5 rows x 23 columns]"
      ]
     },
     "execution_count": 9,
     "metadata": {},
     "output_type": "execute_result"
    }
   ],
   "source": [
    "df_final_T"
   ]
  },
  {
   "cell_type": "code",
   "execution_count": null,
   "id": "24030df5",
   "metadata": {},
   "outputs": [],
   "source": []
  }
 ],
 "metadata": {
  "kernelspec": {
   "display_name": "Python 3 (ipykernel)",
   "language": "python",
   "name": "python3"
  },
  "language_info": {
   "codemirror_mode": {
    "name": "ipython",
    "version": 3
   },
   "file_extension": ".py",
   "mimetype": "text/x-python",
   "name": "python",
   "nbconvert_exporter": "python",
   "pygments_lexer": "ipython3",
   "version": "3.11.7"
  }
 },
 "nbformat": 4,
 "nbformat_minor": 5
}
