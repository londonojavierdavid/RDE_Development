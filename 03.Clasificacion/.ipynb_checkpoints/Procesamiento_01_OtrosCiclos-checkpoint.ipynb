{
 "cells": [
  {
   "cell_type": "code",
   "execution_count": 1,
   "id": "09d9cb36",
   "metadata": {},
   "outputs": [
    {
     "data": {
      "text/html": [
       "<style>.container { width:100% !important; }</style>"
      ],
      "text/plain": [
       "<IPython.core.display.HTML object>"
      ]
     },
     "metadata": {},
     "output_type": "display_data"
    },
    {
     "data": {
      "text/html": [
       "<style>.output_result { max-width:100% !important; }</style>"
      ],
      "text/plain": [
       "<IPython.core.display.HTML object>"
      ]
     },
     "metadata": {},
     "output_type": "display_data"
    }
   ],
   "source": [
    "from IPython.display import display, HTML\n",
    "display(HTML(\"<style>.container { width:100% !important; }</style>\"))\n",
    "display(HTML(\"<style>.output_result { max-width:100% !important; }</style>\"))"
   ]
  },
  {
   "cell_type": "code",
   "execution_count": 2,
   "id": "a3bf1f10",
   "metadata": {},
   "outputs": [],
   "source": [
    "import pandas as pd\n",
    "import os\n",
    "import numpy as np\n",
    "from scipy.signal import savgol_filter\n",
    "import plotly.graph_objects as go\n",
    "from scipy.integrate import simps"
   ]
  },
  {
   "cell_type": "code",
   "execution_count": 3,
   "id": "186c0429",
   "metadata": {},
   "outputs": [],
   "source": [
    "# Función para calculo de aceleracion. h ~ datos por segundo\n",
    "def calcular_acel(df,h): # en m/s2\n",
    "    vel = df[\"v_km_h\"]\n",
    "    v = np.array(vel)/3.6  # Pasa de km/h a m/s\n",
    "    n = len(v)\n",
    "    a = np.zeros(n)\n",
    "    for i in range(n):\n",
    "        if i == 0:\n",
    "            a[i]=(-v[i+2] + 4*v[i+1] - 3*v[i])/(2*h)\n",
    "            #print(\"i=0\")\n",
    "        elif i == 1:\n",
    "            a[i]=(v[i+1] - v[i-1])/(2*h)\n",
    "            #print(\"i=1\")\n",
    "        elif i == n-2:\n",
    "            a[i]=(v[i+1] - v[i-1])/(2*h)\n",
    "            #print(\"i=n-2\")\n",
    "        elif i == n-1:\n",
    "            a[i]=(3*v[i] - 4*v[i-1] + v[i-2])/(2*h)\n",
    "            #print(\"i=n-1\")\n",
    "        else:\n",
    "            a[i] = (-v[i+2] + 8*v[i+1] - 8*v[i-1] + v[i-2])/(12*h)\n",
    "    return(a)\n",
    "\n",
    "import pandas as pd\n",
    "\n",
    "def calcular_parametros_acel(df):\n",
    "    Data_time = 1 # Un dato por segundo\n",
    "    df = df.reset_index(drop=True) # Reindexar el DF\n",
    "    df[\"v_m_s\"] = df[\"v_km_h\"]/3.6\n",
    "    df[\"t_s\"] = range(len(df)) # Crear nueva columna de tiempo con una frecuencia de 1hz\n",
    "    df[\"acel_m_s2\"] = calcular_acel(df,Data_time) \n",
    "    df['ABS_Aceleracion'] = abs(df['acel_m_s2'])\n",
    "    df['Acel_cumul'] = df['ABS_Aceleracion'].cumsum()\n",
    "    df['Derivada_Aceleracion'] = df['acel_m_s2'].diff()\n",
    "    df['Derivada_Aceleracion'].fillna(0, inplace=True)\n",
    "    df['ABS_Derivada_Aceleracion'] = abs(df['Derivada_Aceleracion'])\n",
    "    df['Der_Acel_cumul'] = df['ABS_Derivada_Aceleracion'].cumsum()\n",
    "    return df\n",
    "\n",
    "def parametros_seccion(df1): \n",
    "    umbral = 0.1 #con valores de aceleración mayor a 0.1 m/s2. para ia, RPA y crucero\n",
    "    \n",
    "    # Calcular la distancia recorrida\n",
    "    df1[\"v_m_s\"] = df1[\"v_km_h\"]/3.6\n",
    "    distance_traveled = (simps(df1[\"v_m_s\"].values, df1.t_s.values))/1000  # En km\n",
    "    # Calcular el tiempo total del recorrido\n",
    "    total_time = (df1[\"t_s\"].iloc[-1] - df1[\"t_s\"].iloc[0])\n",
    "    # Calcular la velocidad media\n",
    "    speed_mean = (simps(df1[\"v_km_h\"], df1[\"t_s\"] * 1)) / (len(df1[\"t_s\"]))\n",
    "    # Calcular la velocidad máxima\n",
    "    speed_max = df1[\"v_km_h\"].max()\n",
    "    # Calcular la velocidad máxima\n",
    "    speed_mean_sup = (df1[\"v_km_h\"].max()+speed_mean)/2\n",
    "    # Calcular la aceleración media y máxima tanto negativa como positiva\n",
    "    acel_pos_mean = df1[df1.acel_m_s2 > 0].acel_m_s2.mean()\n",
    "    acel_pos_max = df1[df1.acel_m_s2 > 0].acel_m_s2.max()\n",
    "    acel_neg_mean = df1[df1.acel_m_s2 <= 0].acel_m_s2.mean()\n",
    "    acel_neg_max = df1[df1.acel_m_s2 <= 0].acel_m_s2.min()\n",
    "    # Calcular tiempo en ralentí, tiempo en movimiento, tiempo en crucero y tiempo en aceleracion\n",
    "    time_ralenti = (df1[(df1['v_km_h'] == 0)].shape[0]) * (100 / total_time)\n",
    "    time_mov = (df1[(df1['v_km_h'] > 0)].shape[0]) * (100 / total_time)\n",
    "    t_crucero = (df1[(df1['ABS_Aceleracion'] <= 0.1) & (df1['v_km_h'] > 0)].shape[0]) * (100 / total_time)\n",
    "    t_acel = time_mov - t_crucero\n",
    "    # Funcion que cuenta el numero de veces con valores de aceleración mayor a 0.1 m/s2.   \n",
    "  \n",
    "    df_filtered = df1[df1['acel_m_s2'] > umbral]\n",
    "    n_datos_pos = len(df_filtered)\n",
    "    df_filtered = df1[df1['acel_m_s2'] < -umbral]\n",
    "    n_datos_neg = len(df_filtered)\n",
    "    n_ia_t = n_datos_pos + n_datos_neg\n",
    "    ## CALCULAR RPA\n",
    "    # Calcular el producto de la velocidad por la aceleración [m3/s3 o W/kg]\n",
    "    df1['vxa'] = df1['v_m_s']*df1[\"acel_m_s2\"]\n",
    "    # Calcular la distnacia recorrida del intervalo en metros\n",
    "    distance_traveled =  (simps(df1[\"v_km_h\"].divide(3.6).values,df1.t_s.values)) \n",
    "    # Calculo de velocidad media en cada intervalo         \n",
    "    m_v_urban = df1['v_km_h'].mean()  \n",
    "    # Extraer solo el dataframe con acel mayor a 0.1\n",
    "    df_sort_Urban = df1[df1[\"acel_m_s2\"]>0.1]\n",
    "    # Ordenar de manera creciente de la vxa\n",
    "    df_sort_vxa_urb = df_sort_Urban.sort_values(by='vxa')\n",
    "    #Percentil para cada intervalo\n",
    "    df_sort_vxa_urb['Percentil'] = range(1, len(df_sort_vxa_urb) + 1)\n",
    "    df_sort_vxa_urb['Percentil']  = df_sort_vxa_urb['Percentil']/len(df_sort_vxa_urb)\n",
    "    # interpolacion lineal para calcular el valor vxa para 0.95 en cada intervalo\n",
    "    vxa_pos_urbano = df_sort_vxa_urb['vxa'].quantile(0.95, interpolation='linear')\n",
    "    #Aceleració positiva relativa RPA\n",
    "    RPA = (sum(df_sort_vxa_urb[\"vxa\"]))/(distance_traveled)\n",
    "    # Acumulado del valor absoluto de la derivada de la aceleracion\n",
    "    ABS_Der_Acel = df1[\"Der_Acel_cumul\"].max() #Acumulado del valor absoluto de la derivada de la aceleracion\n",
    "    # Acumulado del valor absoluto de la derivada de la aceleracion por cada km recorrido\n",
    "    ABS_Der_Acel_Per_distance = ABS_Der_Acel/(distance_traveled) #ABS_Der_Acel en cada km recorrido\n",
    "    # Acumulado del valor absoluto de la aceleracion \n",
    "    ABS_Acel = df1['Acel_cumul'].max() #Acumulado del valor absoluto de la aceleracion\n",
    "    # Acumulado del valor absoluto de la aceleracion por cada km recorrido\n",
    "    ABS_Acel_Per_distance = ABS_Acel/(distance_traveled) #ABS_Acel en cada km recorrido\n",
    "    \n",
    "    \n",
    "    #Indice de dinamismo \n",
    "    i = (ABS_Acel / n_ia_t)*(total_time*(t_acel/100))\n",
    "    \n",
    "    \n",
    "    # Crear el DataFrame con los resultados\n",
    "    results_df = pd.DataFrame(columns=[\"Variable\", \"Valor\"])\n",
    "    results_df[\"Variable\"] = [\"distance_traveled\", \"total_time\", \"speed_mean\", \"speed_max\", \"speed_mean_sup\",\n",
    "                              \"acel_pos_mean\", \"acel_pos_max\", \"n_ia_pos\", \"n_ia_neg\", \"n_ia_t\", \"RPA\", \"acel_neg_mean\", \"acel_neg_max\",\n",
    "                              \"time_ralenti\", \"time_mov\",\"t_crucero\", \"t_acel\", \"ABS_Der_Acel\", \"ABS_Der_Acel/distance\", \"ABS_Acel\", \n",
    "                              \"ABS_Acel/distance\", \"i\"]\n",
    "    results_df[\"Valor\"] = [distance_traveled, total_time, speed_mean, speed_max, speed_mean_sup,\n",
    "                            acel_pos_mean, acel_pos_max, n_datos_pos, n_datos_neg, n_ia_t, RPA, acel_neg_mean, acel_neg_max,\n",
    "                            time_ralenti, time_mov,t_crucero,t_acel, ABS_Der_Acel, ABS_Der_Acel_Per_distance, ABS_Acel, \n",
    "                           ABS_Acel_Per_distance, i]\n",
    "    # Redondear los valores a dos decimales\n",
    "    results_df[\"Valor\"] = results_df[\"Valor\"].round(5)\n",
    "    \n",
    "    return results_df"
   ]
  },
  {
   "cell_type": "code",
   "execution_count": 4,
   "id": "9aac9308",
   "metadata": {},
   "outputs": [],
   "source": [
    "### CALCULAR VARIABLE CICLOS\n",
    "\n",
    "# Ruta del directorio donde se encuentran los archivos Excel originales\n",
    "directorio = 'C:/Users/Lenovo/OneDrive - Universidad de Castilla-La Mancha/JAVIER_LONDONO/RDE_Development/03.Clasificacion/Other_cycles'\n",
    "directorio_guardar = 'C:/Users/Lenovo/OneDrive - Universidad de Castilla-La Mancha/JAVIER_LONDONO/RDE_Development/03.Clasificacion/Other_cycles/Other_cycles_f'\n",
    "\n",
    "# Lista para almacenar los nombres de los archivos Excel\n",
    "archivos_excel = []\n",
    "\n",
    "# Lista para almacenar los DataFrames con los resultados\n",
    "resultados = []\n",
    "\n",
    "# Recorrer el directorio y guardar los nombres de los archivos Excel\n",
    "for archivo in os.listdir(directorio):\n",
    "    if archivo.endswith('.xlsx'):\n",
    "        archivos_excel.append(archivo)\n",
    "\n",
    "# Iterar sobre cada archivo Excel\n",
    "for archivo in archivos_excel:\n",
    "    # Ruta completa del archivo\n",
    "    ruta_archivo = os.path.join(directorio, archivo)\n",
    "    \n",
    "    # Cargar el archivo Excel en un DataFrame\n",
    "    df = pd.read_excel(ruta_archivo)\n",
    "    \n",
    "    # Aplicar la función para calcular los parámetros de aceleración\n",
    "    df_modificado = calcular_parametros_acel(df)\n",
    " \n",
    "    # Generar la ruta de destino para guardar el archivo modificado\n",
    "    ruta_destino = os.path.join(directorio_guardar, archivo )\n",
    "    \n",
    "    # Guardar el DataFrame modificado como un nuevo archivo Excel\n",
    "    df_modificado.to_excel(ruta_destino, index=False)"
   ]
  },
  {
   "cell_type": "code",
   "execution_count": 5,
   "id": "dc54f494",
   "metadata": {},
   "outputs": [],
   "source": [
    "### CALCULAR PARAMETROS INTERVALOS\n",
    "\n",
    "# Ruta del directorio donde se encuentran los archivos Excel originales\n",
    "directorio = 'C:/Users/Lenovo/OneDrive - Universidad de Castilla-La Mancha/JAVIER_LONDONO/RDE_Development/03.Clasificacion/Other_cycles/Other_cycles_f'\n",
    "directorio_guardar = 'C:/Users/Lenovo/OneDrive - Universidad de Castilla-La Mancha/JAVIER_LONDONO/RDE_Development/03.Clasificacion/Other_cycles/Other_cycles_P'\n",
    "\n",
    "# Lista para almacenar los nombres de los archivos Excel\n",
    "archivos_excel = []\n",
    "\n",
    "# Lista para almacenar los DataFrames con los resultados\n",
    "resultados = []\n",
    "\n",
    "# Recorrer el directorio y guardar los nombres de los archivos Excel\n",
    "for archivo in os.listdir(directorio):\n",
    "    if archivo.endswith('.xlsx'):\n",
    "        archivos_excel.append(archivo)\n",
    "\n",
    "# Iterar sobre cada archivo Excel\n",
    "for archivo in archivos_excel:\n",
    "    # Ruta completa del archivo\n",
    "    ruta_archivo = os.path.join(directorio, archivo)\n",
    "    \n",
    "    # Cargar el archivo Excel en un DataFrame\n",
    "    df = pd.read_excel(ruta_archivo)\n",
    "    \n",
    "\n",
    "\n",
    "    # Aplicar la función para calcular los parámetros de sección\n",
    "    df_resultados = parametros_seccion(df)\n",
    "\n",
    "    \n",
    "    # Generar la ruta de destino para guardar el archivo modificado\n",
    "    ruta_destino = os.path.join(directorio_guardar, \"P_\"+archivo )\n",
    "    \n",
    "    # Guardar el DataFrame modificado como un nuevo archivo Excel\n",
    "    df_resultados.to_excel(ruta_destino, index=False)"
   ]
  },
  {
   "cell_type": "code",
   "execution_count": 7,
   "id": "78aeb215",
   "metadata": {},
   "outputs": [],
   "source": [
    "def obtener_nombres_archivos(directorio, extension):\n",
    "    return [archivo for archivo in os.listdir(directorio) if archivo.endswith(extension)]\n",
    "\n",
    "def obtener_nombres_completos(nombres_archivos):\n",
    "    return [os.path.splitext(archivo)[0] for archivo in nombres_archivos]\n",
    "\n",
    "def obtener_nombres_finales(nombres_archivos):\n",
    "    return [nombre]\n",
    "\n",
    "# Directorio donde se encuentran los archivos Excel\n",
    "directorio = 'C:/Users/Lenovo/OneDrive - Universidad de Castilla-La Mancha/JAVIER_LONDONO/RDE_Development/03.Clasificacion/Other_cycles/Other_cycles_p'\n",
    "\n",
    "# Obtener los nombres de los archivos Excel\n",
    "archivos_excel = obtener_nombres_archivos(directorio, '.xlsx')\n",
    "\n",
    "# Obtener los nombres base de los archivos (sin extensión)\n",
    "nombres_archivos_base = obtener_nombres_completos(archivos_excel)\n",
    "\n",
    "# # Obtener los nombres finales de los archivos\n",
    "# Nombres_r = obtener_nombres_finales(nombres_archivos_base)\n",
    "\n",
    "# Lista para almacenar los DataFrames\n",
    "dataframes = []\n",
    "\n",
    "# Cargar los archivos Excel y cambiar el nombre de la segunda columna\n",
    "for nombre_archivo in archivos_excel:\n",
    "    # Cargar el archivo Excel\n",
    "    ruta_archivo = os.path.join(directorio, nombre_archivo)\n",
    "    df = pd.read_excel(ruta_archivo)\n",
    "    # Cambiar el nombre de la segunda columna\n",
    "    df.columns = [df.columns[0], nombres_archivos_base.pop(0)]\n",
    "    # Agregar el DataFrame a la lista\n",
    "    dataframes.append(df)\n",
    "\n",
    "# Combinar los DataFrames en uno solo\n",
    "df_final = pd.concat([dataframes[0].iloc[:, :2]] + [df.iloc[:, 1] for df in dataframes[1:]], axis=1)\n",
    "# Cambiar el nombre de la columna 'A' a 'NuevoNombre'\n",
    "df_final = df_final.rename(columns={'Variable': 'Parameter'})\n",
    "# Mostrar el DataFrame final\n",
    "\n",
    "# print(df_final)\n",
    "\n",
    "# guardar datos en un archivo :\n",
    "df_final.to_excel(directorio + \"/Parametros_Other_Ciclos.xlsx\", index=False)"
   ]
  },
  {
   "cell_type": "code",
   "execution_count": 8,
   "id": "77094c08",
   "metadata": {},
   "outputs": [
    {
     "data": {
      "text/html": [
       "<div>\n",
       "<style scoped>\n",
       "    .dataframe tbody tr th:only-of-type {\n",
       "        vertical-align: middle;\n",
       "    }\n",
       "\n",
       "    .dataframe tbody tr th {\n",
       "        vertical-align: top;\n",
       "    }\n",
       "\n",
       "    .dataframe thead th {\n",
       "        text-align: right;\n",
       "    }\n",
       "</style>\n",
       "<table border=\"1\" class=\"dataframe\">\n",
       "  <thead>\n",
       "    <tr style=\"text-align: right;\">\n",
       "      <th>Parameter</th>\n",
       "      <th>ciclo</th>\n",
       "      <th>distance_traveled</th>\n",
       "      <th>total_time</th>\n",
       "      <th>speed_mean</th>\n",
       "      <th>speed_max</th>\n",
       "      <th>speed_mean_sup</th>\n",
       "      <th>acel_pos_mean</th>\n",
       "      <th>acel_pos_max</th>\n",
       "      <th>n_ia_pos</th>\n",
       "      <th>n_ia_neg</th>\n",
       "      <th>...</th>\n",
       "      <th>acel_neg_max</th>\n",
       "      <th>time_ralenti</th>\n",
       "      <th>time_mov</th>\n",
       "      <th>t_crucero</th>\n",
       "      <th>t_acel</th>\n",
       "      <th>ABS_Der_Acel</th>\n",
       "      <th>ABS_Der_Acel/distance</th>\n",
       "      <th>ABS_Acel</th>\n",
       "      <th>ABS_Acel/distance</th>\n",
       "      <th>i</th>\n",
       "    </tr>\n",
       "  </thead>\n",
       "  <tbody>\n",
       "    <tr>\n",
       "      <th>0</th>\n",
       "      <td>P_EPA_75</td>\n",
       "      <td>17777.23241</td>\n",
       "      <td>1874.0</td>\n",
       "      <td>34.13229</td>\n",
       "      <td>91.287</td>\n",
       "      <td>62.70964</td>\n",
       "      <td>0.45624</td>\n",
       "      <td>1.59882</td>\n",
       "      <td>656.0</td>\n",
       "      <td>551.0</td>\n",
       "      <td>...</td>\n",
       "      <td>-1.59882</td>\n",
       "      <td>19.10352</td>\n",
       "      <td>80.94984</td>\n",
       "      <td>18.9968</td>\n",
       "      <td>61.95304</td>\n",
       "      <td>279.88657</td>\n",
       "      <td>0.01574</td>\n",
       "      <td>761.78343</td>\n",
       "      <td>0.04285</td>\n",
       "      <td>732.75108</td>\n",
       "    </tr>\n",
       "    <tr>\n",
       "      <th>1</th>\n",
       "      <td>P_EPA_HWFET</td>\n",
       "      <td>16513.47185</td>\n",
       "      <td>765.0</td>\n",
       "      <td>77.60901</td>\n",
       "      <td>96.439</td>\n",
       "      <td>87.024</td>\n",
       "      <td>0.17179</td>\n",
       "      <td>1.44602</td>\n",
       "      <td>208.0</td>\n",
       "      <td>156.0</td>\n",
       "      <td>...</td>\n",
       "      <td>-1.53546</td>\n",
       "      <td>0.78431</td>\n",
       "      <td>99.34641</td>\n",
       "      <td>52.02614</td>\n",
       "      <td>47.32026</td>\n",
       "      <td>46.70491</td>\n",
       "      <td>0.00283</td>\n",
       "      <td>131.88956</td>\n",
       "      <td>0.00799</td>\n",
       "      <td>131.16489</td>\n",
       "    </tr>\n",
       "    <tr>\n",
       "      <th>2</th>\n",
       "      <td>P_EPA_LA4</td>\n",
       "      <td>11995.87148</td>\n",
       "      <td>1369.0</td>\n",
       "      <td>31.522</td>\n",
       "      <td>91.287</td>\n",
       "      <td>61.4045</td>\n",
       "      <td>0.45023</td>\n",
       "      <td>1.59882</td>\n",
       "      <td>485.0</td>\n",
       "      <td>402.0</td>\n",
       "      <td>...</td>\n",
       "      <td>-1.59882</td>\n",
       "      <td>18.91892</td>\n",
       "      <td>81.15413</td>\n",
       "      <td>18.84587</td>\n",
       "      <td>62.30825</td>\n",
       "      <td>206.25889</td>\n",
       "      <td>0.01719</td>\n",
       "      <td>553.881</td>\n",
       "      <td>0.04617</td>\n",
       "      <td>532.64993</td>\n",
       "    </tr>\n",
       "    <tr>\n",
       "      <th>3</th>\n",
       "      <td>P_EPA_US06</td>\n",
       "      <td>12891.83648</td>\n",
       "      <td>600.0</td>\n",
       "      <td>77.22232</td>\n",
       "      <td>129.283</td>\n",
       "      <td>103.25266</td>\n",
       "      <td>0.62781</td>\n",
       "      <td>3.5256</td>\n",
       "      <td>221.0</td>\n",
       "      <td>206.0</td>\n",
       "      <td>...</td>\n",
       "      <td>-2.95539</td>\n",
       "      <td>7.5</td>\n",
       "      <td>92.66667</td>\n",
       "      <td>23.16667</td>\n",
       "      <td>69.5</td>\n",
       "      <td>170.30968</td>\n",
       "      <td>0.01321</td>\n",
       "      <td>361.61644</td>\n",
       "      <td>0.02805</td>\n",
       "      <td>353.14767</td>\n",
       "    </tr>\n",
       "    <tr>\n",
       "      <th>4</th>\n",
       "      <td>P_NEDC ECE</td>\n",
       "      <td>11028.34211</td>\n",
       "      <td>1180.0</td>\n",
       "      <td>33.6173</td>\n",
       "      <td>120.0</td>\n",
       "      <td>76.80865</td>\n",
       "      <td>0.28774</td>\n",
       "      <td>1.12847</td>\n",
       "      <td>279.0</td>\n",
       "      <td>205.0</td>\n",
       "      <td>...</td>\n",
       "      <td>-1.50463</td>\n",
       "      <td>24.57627</td>\n",
       "      <td>75.50847</td>\n",
       "      <td>36.44068</td>\n",
       "      <td>39.0678</td>\n",
       "      <td>100.55634</td>\n",
       "      <td>0.00912</td>\n",
       "      <td>305.58343</td>\n",
       "      <td>0.02771</td>\n",
       "      <td>291.0619</td>\n",
       "    </tr>\n",
       "    <tr>\n",
       "      <th>5</th>\n",
       "      <td>P_NYCC</td>\n",
       "      <td>1899.05463</td>\n",
       "      <td>598.0</td>\n",
       "      <td>11.41335</td>\n",
       "      <td>44.597</td>\n",
       "      <td>28.00518</td>\n",
       "      <td>0.55843</td>\n",
       "      <td>2.90694</td>\n",
       "      <td>175.0</td>\n",
       "      <td>178.0</td>\n",
       "      <td>...</td>\n",
       "      <td>-2.41873</td>\n",
       "      <td>35.11706</td>\n",
       "      <td>65.05017</td>\n",
       "      <td>7.85953</td>\n",
       "      <td>57.19064</td>\n",
       "      <td>155.71532</td>\n",
       "      <td>0.082</td>\n",
       "      <td>243.47523</td>\n",
       "      <td>0.12821</td>\n",
       "      <td>235.88818</td>\n",
       "    </tr>\n",
       "    <tr>\n",
       "      <th>6</th>\n",
       "      <td>P_RDE_95</td>\n",
       "      <td>93353.91481</td>\n",
       "      <td>6568.0</td>\n",
       "      <td>51.16062</td>\n",
       "      <td>159.29</td>\n",
       "      <td>105.22531</td>\n",
       "      <td>0.60826</td>\n",
       "      <td>2.19259</td>\n",
       "      <td>2672.0</td>\n",
       "      <td>2614.0</td>\n",
       "      <td>...</td>\n",
       "      <td>-2.4706</td>\n",
       "      <td>4.4458</td>\n",
       "      <td>95.56943</td>\n",
       "      <td>15.31669</td>\n",
       "      <td>80.25274</td>\n",
       "      <td>1451.62546</td>\n",
       "      <td>0.01555</td>\n",
       "      <td>3982.93449</td>\n",
       "      <td>0.04266</td>\n",
       "      <td>3971.63218</td>\n",
       "    </tr>\n",
       "    <tr>\n",
       "      <th>7</th>\n",
       "      <td>P_WLTC Class1</td>\n",
       "      <td>8091.2037</td>\n",
       "      <td>1022.0</td>\n",
       "      <td>28.47344</td>\n",
       "      <td>64.4</td>\n",
       "      <td>46.43672</td>\n",
       "      <td>0.20783</td>\n",
       "      <td>0.83333</td>\n",
       "      <td>294.0</td>\n",
       "      <td>256.0</td>\n",
       "      <td>...</td>\n",
       "      <td>-1.06481</td>\n",
       "      <td>19.47162</td>\n",
       "      <td>80.62622</td>\n",
       "      <td>27.6908</td>\n",
       "      <td>52.93542</td>\n",
       "      <td>40.76852</td>\n",
       "      <td>0.00504</td>\n",
       "      <td>176.23611</td>\n",
       "      <td>0.02178</td>\n",
       "      <td>173.35225</td>\n",
       "    </tr>\n",
       "    <tr>\n",
       "      <th>8</th>\n",
       "      <td>P_WLTC Class2</td>\n",
       "      <td>14664.81481</td>\n",
       "      <td>1477.0</td>\n",
       "      <td>35.71944</td>\n",
       "      <td>85.2</td>\n",
       "      <td>60.45972</td>\n",
       "      <td>0.27444</td>\n",
       "      <td>1.0</td>\n",
       "      <td>509.0</td>\n",
       "      <td>413.0</td>\n",
       "      <td>...</td>\n",
       "      <td>-1.14352</td>\n",
       "      <td>15.77522</td>\n",
       "      <td>84.29248</td>\n",
       "      <td>22.81652</td>\n",
       "      <td>61.47596</td>\n",
       "      <td>96.43519</td>\n",
       "      <td>0.00658</td>\n",
       "      <td>373.79167</td>\n",
       "      <td>0.02549</td>\n",
       "      <td>368.11587</td>\n",
       "    </tr>\n",
       "    <tr>\n",
       "      <th>9</th>\n",
       "      <td>P_WLTC Class3</td>\n",
       "      <td>23261.87037</td>\n",
       "      <td>1800.0</td>\n",
       "      <td>46.49791</td>\n",
       "      <td>131.3</td>\n",
       "      <td>88.89895</td>\n",
       "      <td>0.40095</td>\n",
       "      <td>1.66204</td>\n",
       "      <td>602.0</td>\n",
       "      <td>581.0</td>\n",
       "      <td>...</td>\n",
       "      <td>-1.57639</td>\n",
       "      <td>13.05556</td>\n",
       "      <td>87.0</td>\n",
       "      <td>21.88889</td>\n",
       "      <td>65.11111</td>\n",
       "      <td>233.02315</td>\n",
       "      <td>0.01002</td>\n",
       "      <td>644.72222</td>\n",
       "      <td>0.02772</td>\n",
       "      <td>638.72734</td>\n",
       "    </tr>\n",
       "  </tbody>\n",
       "</table>\n",
       "<p>10 rows × 23 columns</p>\n",
       "</div>"
      ],
      "text/plain": [
       "Parameter          ciclo distance_traveled total_time speed_mean speed_max  \\\n",
       "0               P_EPA_75       17777.23241     1874.0   34.13229    91.287   \n",
       "1            P_EPA_HWFET       16513.47185      765.0   77.60901    96.439   \n",
       "2              P_EPA_LA4       11995.87148     1369.0     31.522    91.287   \n",
       "3             P_EPA_US06       12891.83648      600.0   77.22232   129.283   \n",
       "4             P_NEDC ECE       11028.34211     1180.0    33.6173     120.0   \n",
       "5                 P_NYCC        1899.05463      598.0   11.41335    44.597   \n",
       "6               P_RDE_95       93353.91481     6568.0   51.16062    159.29   \n",
       "7          P_WLTC Class1         8091.2037     1022.0   28.47344      64.4   \n",
       "8          P_WLTC Class2       14664.81481     1477.0   35.71944      85.2   \n",
       "9          P_WLTC Class3       23261.87037     1800.0   46.49791     131.3   \n",
       "\n",
       "Parameter speed_mean_sup acel_pos_mean acel_pos_max n_ia_pos n_ia_neg  ...  \\\n",
       "0               62.70964       0.45624      1.59882    656.0    551.0  ...   \n",
       "1                 87.024       0.17179      1.44602    208.0    156.0  ...   \n",
       "2                61.4045       0.45023      1.59882    485.0    402.0  ...   \n",
       "3              103.25266       0.62781       3.5256    221.0    206.0  ...   \n",
       "4               76.80865       0.28774      1.12847    279.0    205.0  ...   \n",
       "5               28.00518       0.55843      2.90694    175.0    178.0  ...   \n",
       "6              105.22531       0.60826      2.19259   2672.0   2614.0  ...   \n",
       "7               46.43672       0.20783      0.83333    294.0    256.0  ...   \n",
       "8               60.45972       0.27444          1.0    509.0    413.0  ...   \n",
       "9               88.89895       0.40095      1.66204    602.0    581.0  ...   \n",
       "\n",
       "Parameter acel_neg_max time_ralenti  time_mov t_crucero    t_acel  \\\n",
       "0             -1.59882     19.10352  80.94984   18.9968  61.95304   \n",
       "1             -1.53546      0.78431  99.34641  52.02614  47.32026   \n",
       "2             -1.59882     18.91892  81.15413  18.84587  62.30825   \n",
       "3             -2.95539          7.5  92.66667  23.16667      69.5   \n",
       "4             -1.50463     24.57627  75.50847  36.44068   39.0678   \n",
       "5             -2.41873     35.11706  65.05017   7.85953  57.19064   \n",
       "6              -2.4706       4.4458  95.56943  15.31669  80.25274   \n",
       "7             -1.06481     19.47162  80.62622   27.6908  52.93542   \n",
       "8             -1.14352     15.77522  84.29248  22.81652  61.47596   \n",
       "9             -1.57639     13.05556      87.0  21.88889  65.11111   \n",
       "\n",
       "Parameter ABS_Der_Acel ABS_Der_Acel/distance    ABS_Acel ABS_Acel/distance  \\\n",
       "0            279.88657               0.01574   761.78343           0.04285   \n",
       "1             46.70491               0.00283   131.88956           0.00799   \n",
       "2            206.25889               0.01719     553.881           0.04617   \n",
       "3            170.30968               0.01321   361.61644           0.02805   \n",
       "4            100.55634               0.00912   305.58343           0.02771   \n",
       "5            155.71532                 0.082   243.47523           0.12821   \n",
       "6           1451.62546               0.01555  3982.93449           0.04266   \n",
       "7             40.76852               0.00504   176.23611           0.02178   \n",
       "8             96.43519               0.00658   373.79167           0.02549   \n",
       "9            233.02315               0.01002   644.72222           0.02772   \n",
       "\n",
       "Parameter           i  \n",
       "0           732.75108  \n",
       "1           131.16489  \n",
       "2           532.64993  \n",
       "3           353.14767  \n",
       "4            291.0619  \n",
       "5           235.88818  \n",
       "6          3971.63218  \n",
       "7           173.35225  \n",
       "8           368.11587  \n",
       "9           638.72734  \n",
       "\n",
       "[10 rows x 23 columns]"
      ]
     },
     "execution_count": 8,
     "metadata": {},
     "output_type": "execute_result"
    }
   ],
   "source": [
    "# Transponer el DataFrame\n",
    "df_final_T = df_final.transpose()\n",
    "# Establecer la primera fila como nombres de columna\n",
    "df_final_T.columns = df_final_T.iloc[0]\n",
    "# Eliminar la primera fila (que ahora es el nombre de la columna)\n",
    "df_final_T = df_final_T[1:]\n",
    "# Actualizar Index y cambiar nombre a Ciclo\n",
    "df_final_T.reset_index(inplace=True)\n",
    "df_final_T.rename(columns={'index': 'ciclo'}, inplace=True)\n",
    "# ver dataFrame\n",
    "df_final_T"
   ]
  },
  {
   "cell_type": "code",
   "execution_count": 16,
   "id": "739a84a1",
   "metadata": {},
   "outputs": [
    {
     "data": {
      "application/vnd.plotly.v1+json": {
       "config": {
        "plotlyServerURL": "https://plot.ly"
       },
       "data": [
        {
         "marker": {
          "color": "black",
          "size": 10,
          "symbol": "x"
         },
         "mode": "markers",
         "name": "P_EPA_75",
         "type": "scatter",
         "x": [
          0.16894
         ],
         "y": [
          732.75108
         ]
        },
        {
         "marker": {
          "color": "black",
          "size": 10,
          "symbol": "x"
         },
         "mode": "markers",
         "name": "P_EPA_HWFET",
         "type": "scatter",
         "x": [
          0.0602
         ],
         "y": [
          131.16489
         ]
        },
        {
         "marker": {
          "color": "black",
          "size": 10,
          "symbol": "x"
         },
         "mode": "markers",
         "name": "P_EPA_LA4",
         "type": "scatter",
         "x": [
          0.17002
         ],
         "y": [
          532.64993
         ]
        },
        {
         "marker": {
          "color": "black",
          "size": 10,
          "symbol": "x"
         },
         "mode": "markers",
         "name": "P_EPA_US06",
         "type": "scatter",
         "x": [
          0.1932
         ],
         "y": [
          353.14767
         ]
        },
        {
         "marker": {
          "color": "black",
          "size": 10,
          "symbol": "x"
         },
         "mode": "markers",
         "name": "P_NEDC ECE",
         "type": "scatter",
         "x": [
          0.11319
         ],
         "y": [
          291.0619
         ]
        },
        {
         "marker": {
          "color": "black",
          "size": 10,
          "symbol": "x"
         },
         "mode": "markers",
         "name": "P_NYCC",
         "type": "scatter",
         "x": [
          0.30637
         ],
         "y": [
          235.88818
         ]
        },
        {
         "marker": {
          "color": "black",
          "size": 10,
          "symbol": "x"
         },
         "mode": "markers",
         "name": "P_RDE_95",
         "type": "scatter",
         "x": [
          0.24017
         ],
         "y": [
          3971.63218
         ]
        },
        {
         "marker": {
          "color": "black",
          "size": 10,
          "symbol": "x"
         },
         "mode": "markers",
         "name": "P_WLTC Class1",
         "type": "scatter",
         "x": [
          0.07412
         ],
         "y": [
          173.35225
         ]
        },
        {
         "marker": {
          "color": "black",
          "size": 10,
          "symbol": "x"
         },
         "mode": "markers",
         "name": "P_WLTC Class2",
         "type": "scatter",
         "x": [
          0.12162
         ],
         "y": [
          368.11587
         ]
        },
        {
         "marker": {
          "color": "black",
          "size": 10,
          "symbol": "x"
         },
         "mode": "markers",
         "name": "P_WLTC Class3",
         "type": "scatter",
         "x": [
          0.14831
         ],
         "y": [
          638.72734
         ]
        }
       ],
       "layout": {
        "height": 400,
        "plot_bgcolor": "white",
        "template": {
         "data": {
          "bar": [
           {
            "error_x": {
             "color": "#2a3f5f"
            },
            "error_y": {
             "color": "#2a3f5f"
            },
            "marker": {
             "line": {
              "color": "#E5ECF6",
              "width": 0.5
             },
             "pattern": {
              "fillmode": "overlay",
              "size": 10,
              "solidity": 0.2
             }
            },
            "type": "bar"
           }
          ],
          "barpolar": [
           {
            "marker": {
             "line": {
              "color": "#E5ECF6",
              "width": 0.5
             },
             "pattern": {
              "fillmode": "overlay",
              "size": 10,
              "solidity": 0.2
             }
            },
            "type": "barpolar"
           }
          ],
          "carpet": [
           {
            "aaxis": {
             "endlinecolor": "#2a3f5f",
             "gridcolor": "white",
             "linecolor": "white",
             "minorgridcolor": "white",
             "startlinecolor": "#2a3f5f"
            },
            "baxis": {
             "endlinecolor": "#2a3f5f",
             "gridcolor": "white",
             "linecolor": "white",
             "minorgridcolor": "white",
             "startlinecolor": "#2a3f5f"
            },
            "type": "carpet"
           }
          ],
          "choropleth": [
           {
            "colorbar": {
             "outlinewidth": 0,
             "ticks": ""
            },
            "type": "choropleth"
           }
          ],
          "contour": [
           {
            "colorbar": {
             "outlinewidth": 0,
             "ticks": ""
            },
            "colorscale": [
             [
              0,
              "#0d0887"
             ],
             [
              0.1111111111111111,
              "#46039f"
             ],
             [
              0.2222222222222222,
              "#7201a8"
             ],
             [
              0.3333333333333333,
              "#9c179e"
             ],
             [
              0.4444444444444444,
              "#bd3786"
             ],
             [
              0.5555555555555556,
              "#d8576b"
             ],
             [
              0.6666666666666666,
              "#ed7953"
             ],
             [
              0.7777777777777778,
              "#fb9f3a"
             ],
             [
              0.8888888888888888,
              "#fdca26"
             ],
             [
              1,
              "#f0f921"
             ]
            ],
            "type": "contour"
           }
          ],
          "contourcarpet": [
           {
            "colorbar": {
             "outlinewidth": 0,
             "ticks": ""
            },
            "type": "contourcarpet"
           }
          ],
          "heatmap": [
           {
            "colorbar": {
             "outlinewidth": 0,
             "ticks": ""
            },
            "colorscale": [
             [
              0,
              "#0d0887"
             ],
             [
              0.1111111111111111,
              "#46039f"
             ],
             [
              0.2222222222222222,
              "#7201a8"
             ],
             [
              0.3333333333333333,
              "#9c179e"
             ],
             [
              0.4444444444444444,
              "#bd3786"
             ],
             [
              0.5555555555555556,
              "#d8576b"
             ],
             [
              0.6666666666666666,
              "#ed7953"
             ],
             [
              0.7777777777777778,
              "#fb9f3a"
             ],
             [
              0.8888888888888888,
              "#fdca26"
             ],
             [
              1,
              "#f0f921"
             ]
            ],
            "type": "heatmap"
           }
          ],
          "heatmapgl": [
           {
            "colorbar": {
             "outlinewidth": 0,
             "ticks": ""
            },
            "colorscale": [
             [
              0,
              "#0d0887"
             ],
             [
              0.1111111111111111,
              "#46039f"
             ],
             [
              0.2222222222222222,
              "#7201a8"
             ],
             [
              0.3333333333333333,
              "#9c179e"
             ],
             [
              0.4444444444444444,
              "#bd3786"
             ],
             [
              0.5555555555555556,
              "#d8576b"
             ],
             [
              0.6666666666666666,
              "#ed7953"
             ],
             [
              0.7777777777777778,
              "#fb9f3a"
             ],
             [
              0.8888888888888888,
              "#fdca26"
             ],
             [
              1,
              "#f0f921"
             ]
            ],
            "type": "heatmapgl"
           }
          ],
          "histogram": [
           {
            "marker": {
             "pattern": {
              "fillmode": "overlay",
              "size": 10,
              "solidity": 0.2
             }
            },
            "type": "histogram"
           }
          ],
          "histogram2d": [
           {
            "colorbar": {
             "outlinewidth": 0,
             "ticks": ""
            },
            "colorscale": [
             [
              0,
              "#0d0887"
             ],
             [
              0.1111111111111111,
              "#46039f"
             ],
             [
              0.2222222222222222,
              "#7201a8"
             ],
             [
              0.3333333333333333,
              "#9c179e"
             ],
             [
              0.4444444444444444,
              "#bd3786"
             ],
             [
              0.5555555555555556,
              "#d8576b"
             ],
             [
              0.6666666666666666,
              "#ed7953"
             ],
             [
              0.7777777777777778,
              "#fb9f3a"
             ],
             [
              0.8888888888888888,
              "#fdca26"
             ],
             [
              1,
              "#f0f921"
             ]
            ],
            "type": "histogram2d"
           }
          ],
          "histogram2dcontour": [
           {
            "colorbar": {
             "outlinewidth": 0,
             "ticks": ""
            },
            "colorscale": [
             [
              0,
              "#0d0887"
             ],
             [
              0.1111111111111111,
              "#46039f"
             ],
             [
              0.2222222222222222,
              "#7201a8"
             ],
             [
              0.3333333333333333,
              "#9c179e"
             ],
             [
              0.4444444444444444,
              "#bd3786"
             ],
             [
              0.5555555555555556,
              "#d8576b"
             ],
             [
              0.6666666666666666,
              "#ed7953"
             ],
             [
              0.7777777777777778,
              "#fb9f3a"
             ],
             [
              0.8888888888888888,
              "#fdca26"
             ],
             [
              1,
              "#f0f921"
             ]
            ],
            "type": "histogram2dcontour"
           }
          ],
          "mesh3d": [
           {
            "colorbar": {
             "outlinewidth": 0,
             "ticks": ""
            },
            "type": "mesh3d"
           }
          ],
          "parcoords": [
           {
            "line": {
             "colorbar": {
              "outlinewidth": 0,
              "ticks": ""
             }
            },
            "type": "parcoords"
           }
          ],
          "pie": [
           {
            "automargin": true,
            "type": "pie"
           }
          ],
          "scatter": [
           {
            "fillpattern": {
             "fillmode": "overlay",
             "size": 10,
             "solidity": 0.2
            },
            "type": "scatter"
           }
          ],
          "scatter3d": [
           {
            "line": {
             "colorbar": {
              "outlinewidth": 0,
              "ticks": ""
             }
            },
            "marker": {
             "colorbar": {
              "outlinewidth": 0,
              "ticks": ""
             }
            },
            "type": "scatter3d"
           }
          ],
          "scattercarpet": [
           {
            "marker": {
             "colorbar": {
              "outlinewidth": 0,
              "ticks": ""
             }
            },
            "type": "scattercarpet"
           }
          ],
          "scattergeo": [
           {
            "marker": {
             "colorbar": {
              "outlinewidth": 0,
              "ticks": ""
             }
            },
            "type": "scattergeo"
           }
          ],
          "scattergl": [
           {
            "marker": {
             "colorbar": {
              "outlinewidth": 0,
              "ticks": ""
             }
            },
            "type": "scattergl"
           }
          ],
          "scattermapbox": [
           {
            "marker": {
             "colorbar": {
              "outlinewidth": 0,
              "ticks": ""
             }
            },
            "type": "scattermapbox"
           }
          ],
          "scatterpolar": [
           {
            "marker": {
             "colorbar": {
              "outlinewidth": 0,
              "ticks": ""
             }
            },
            "type": "scatterpolar"
           }
          ],
          "scatterpolargl": [
           {
            "marker": {
             "colorbar": {
              "outlinewidth": 0,
              "ticks": ""
             }
            },
            "type": "scatterpolargl"
           }
          ],
          "scatterternary": [
           {
            "marker": {
             "colorbar": {
              "outlinewidth": 0,
              "ticks": ""
             }
            },
            "type": "scatterternary"
           }
          ],
          "surface": [
           {
            "colorbar": {
             "outlinewidth": 0,
             "ticks": ""
            },
            "colorscale": [
             [
              0,
              "#0d0887"
             ],
             [
              0.1111111111111111,
              "#46039f"
             ],
             [
              0.2222222222222222,
              "#7201a8"
             ],
             [
              0.3333333333333333,
              "#9c179e"
             ],
             [
              0.4444444444444444,
              "#bd3786"
             ],
             [
              0.5555555555555556,
              "#d8576b"
             ],
             [
              0.6666666666666666,
              "#ed7953"
             ],
             [
              0.7777777777777778,
              "#fb9f3a"
             ],
             [
              0.8888888888888888,
              "#fdca26"
             ],
             [
              1,
              "#f0f921"
             ]
            ],
            "type": "surface"
           }
          ],
          "table": [
           {
            "cells": {
             "fill": {
              "color": "#EBF0F8"
             },
             "line": {
              "color": "white"
             }
            },
            "header": {
             "fill": {
              "color": "#C8D4E3"
             },
             "line": {
              "color": "white"
             }
            },
            "type": "table"
           }
          ]
         },
         "layout": {
          "annotationdefaults": {
           "arrowcolor": "#2a3f5f",
           "arrowhead": 0,
           "arrowwidth": 1
          },
          "autotypenumbers": "strict",
          "coloraxis": {
           "colorbar": {
            "outlinewidth": 0,
            "ticks": ""
           }
          },
          "colorscale": {
           "diverging": [
            [
             0,
             "#8e0152"
            ],
            [
             0.1,
             "#c51b7d"
            ],
            [
             0.2,
             "#de77ae"
            ],
            [
             0.3,
             "#f1b6da"
            ],
            [
             0.4,
             "#fde0ef"
            ],
            [
             0.5,
             "#f7f7f7"
            ],
            [
             0.6,
             "#e6f5d0"
            ],
            [
             0.7,
             "#b8e186"
            ],
            [
             0.8,
             "#7fbc41"
            ],
            [
             0.9,
             "#4d9221"
            ],
            [
             1,
             "#276419"
            ]
           ],
           "sequential": [
            [
             0,
             "#0d0887"
            ],
            [
             0.1111111111111111,
             "#46039f"
            ],
            [
             0.2222222222222222,
             "#7201a8"
            ],
            [
             0.3333333333333333,
             "#9c179e"
            ],
            [
             0.4444444444444444,
             "#bd3786"
            ],
            [
             0.5555555555555556,
             "#d8576b"
            ],
            [
             0.6666666666666666,
             "#ed7953"
            ],
            [
             0.7777777777777778,
             "#fb9f3a"
            ],
            [
             0.8888888888888888,
             "#fdca26"
            ],
            [
             1,
             "#f0f921"
            ]
           ],
           "sequentialminus": [
            [
             0,
             "#0d0887"
            ],
            [
             0.1111111111111111,
             "#46039f"
            ],
            [
             0.2222222222222222,
             "#7201a8"
            ],
            [
             0.3333333333333333,
             "#9c179e"
            ],
            [
             0.4444444444444444,
             "#bd3786"
            ],
            [
             0.5555555555555556,
             "#d8576b"
            ],
            [
             0.6666666666666666,
             "#ed7953"
            ],
            [
             0.7777777777777778,
             "#fb9f3a"
            ],
            [
             0.8888888888888888,
             "#fdca26"
            ],
            [
             1,
             "#f0f921"
            ]
           ]
          },
          "colorway": [
           "#636efa",
           "#EF553B",
           "#00cc96",
           "#ab63fa",
           "#FFA15A",
           "#19d3f3",
           "#FF6692",
           "#B6E880",
           "#FF97FF",
           "#FECB52"
          ],
          "font": {
           "color": "#2a3f5f"
          },
          "geo": {
           "bgcolor": "white",
           "lakecolor": "white",
           "landcolor": "#E5ECF6",
           "showlakes": true,
           "showland": true,
           "subunitcolor": "white"
          },
          "hoverlabel": {
           "align": "left"
          },
          "hovermode": "closest",
          "mapbox": {
           "style": "light"
          },
          "paper_bgcolor": "white",
          "plot_bgcolor": "#E5ECF6",
          "polar": {
           "angularaxis": {
            "gridcolor": "white",
            "linecolor": "white",
            "ticks": ""
           },
           "bgcolor": "#E5ECF6",
           "radialaxis": {
            "gridcolor": "white",
            "linecolor": "white",
            "ticks": ""
           }
          },
          "scene": {
           "xaxis": {
            "backgroundcolor": "#E5ECF6",
            "gridcolor": "white",
            "gridwidth": 2,
            "linecolor": "white",
            "showbackground": true,
            "ticks": "",
            "zerolinecolor": "white"
           },
           "yaxis": {
            "backgroundcolor": "#E5ECF6",
            "gridcolor": "white",
            "gridwidth": 2,
            "linecolor": "white",
            "showbackground": true,
            "ticks": "",
            "zerolinecolor": "white"
           },
           "zaxis": {
            "backgroundcolor": "#E5ECF6",
            "gridcolor": "white",
            "gridwidth": 2,
            "linecolor": "white",
            "showbackground": true,
            "ticks": "",
            "zerolinecolor": "white"
           }
          },
          "shapedefaults": {
           "line": {
            "color": "#2a3f5f"
           }
          },
          "ternary": {
           "aaxis": {
            "gridcolor": "white",
            "linecolor": "white",
            "ticks": ""
           },
           "baxis": {
            "gridcolor": "white",
            "linecolor": "white",
            "ticks": ""
           },
           "bgcolor": "#E5ECF6",
           "caxis": {
            "gridcolor": "white",
            "linecolor": "white",
            "ticks": ""
           }
          },
          "title": {
           "x": 0.05
          },
          "xaxis": {
           "automargin": true,
           "gridcolor": "white",
           "linecolor": "white",
           "ticks": "",
           "title": {
            "standoff": 15
           },
           "zerolinecolor": "white",
           "zerolinewidth": 2
          },
          "yaxis": {
           "automargin": true,
           "gridcolor": "white",
           "linecolor": "white",
           "ticks": "",
           "title": {
            "standoff": 15
           },
           "zerolinecolor": "white",
           "zerolinewidth": 2
          }
         }
        },
        "width": 500,
        "xaxis": {
         "linecolor": "black",
         "linewidth": 1,
         "showline": true,
         "title": {
          "text": "RPA [m/s²]"
         }
        },
        "yaxis": {
         "linecolor": "black",
         "linewidth": 1,
         "showline": true,
         "title": {
          "text": "IDI [m/s]"
         }
        }
       }
      },
      "text/html": [
       "<div>                            <div id=\"bb36a411-fd25-4ef2-957e-631b87ef7126\" class=\"plotly-graph-div\" style=\"height:400px; width:500px;\"></div>            <script type=\"text/javascript\">                require([\"plotly\"], function(Plotly) {                    window.PLOTLYENV=window.PLOTLYENV || {};                                    if (document.getElementById(\"bb36a411-fd25-4ef2-957e-631b87ef7126\")) {                    Plotly.newPlot(                        \"bb36a411-fd25-4ef2-957e-631b87ef7126\",                        [{\"marker\":{\"color\":\"black\",\"size\":10,\"symbol\":\"x\"},\"mode\":\"markers\",\"name\":\"P_EPA_75\",\"x\":[0.16894],\"y\":[732.75108],\"type\":\"scatter\"},{\"marker\":{\"color\":\"black\",\"size\":10,\"symbol\":\"x\"},\"mode\":\"markers\",\"name\":\"P_EPA_HWFET\",\"x\":[0.0602],\"y\":[131.16489],\"type\":\"scatter\"},{\"marker\":{\"color\":\"black\",\"size\":10,\"symbol\":\"x\"},\"mode\":\"markers\",\"name\":\"P_EPA_LA4\",\"x\":[0.17002],\"y\":[532.64993],\"type\":\"scatter\"},{\"marker\":{\"color\":\"black\",\"size\":10,\"symbol\":\"x\"},\"mode\":\"markers\",\"name\":\"P_EPA_US06\",\"x\":[0.1932],\"y\":[353.14767],\"type\":\"scatter\"},{\"marker\":{\"color\":\"black\",\"size\":10,\"symbol\":\"x\"},\"mode\":\"markers\",\"name\":\"P_NEDC ECE\",\"x\":[0.11319],\"y\":[291.0619],\"type\":\"scatter\"},{\"marker\":{\"color\":\"black\",\"size\":10,\"symbol\":\"x\"},\"mode\":\"markers\",\"name\":\"P_NYCC\",\"x\":[0.30637],\"y\":[235.88818],\"type\":\"scatter\"},{\"marker\":{\"color\":\"black\",\"size\":10,\"symbol\":\"x\"},\"mode\":\"markers\",\"name\":\"P_RDE_95\",\"x\":[0.24017],\"y\":[3971.63218],\"type\":\"scatter\"},{\"marker\":{\"color\":\"black\",\"size\":10,\"symbol\":\"x\"},\"mode\":\"markers\",\"name\":\"P_WLTC Class1\",\"x\":[0.07412],\"y\":[173.35225],\"type\":\"scatter\"},{\"marker\":{\"color\":\"black\",\"size\":10,\"symbol\":\"x\"},\"mode\":\"markers\",\"name\":\"P_WLTC Class2\",\"x\":[0.12162],\"y\":[368.11587],\"type\":\"scatter\"},{\"marker\":{\"color\":\"black\",\"size\":10,\"symbol\":\"x\"},\"mode\":\"markers\",\"name\":\"P_WLTC Class3\",\"x\":[0.14831],\"y\":[638.72734],\"type\":\"scatter\"}],                        {\"template\":{\"data\":{\"histogram2dcontour\":[{\"type\":\"histogram2dcontour\",\"colorbar\":{\"outlinewidth\":0,\"ticks\":\"\"},\"colorscale\":[[0.0,\"#0d0887\"],[0.1111111111111111,\"#46039f\"],[0.2222222222222222,\"#7201a8\"],[0.3333333333333333,\"#9c179e\"],[0.4444444444444444,\"#bd3786\"],[0.5555555555555556,\"#d8576b\"],[0.6666666666666666,\"#ed7953\"],[0.7777777777777778,\"#fb9f3a\"],[0.8888888888888888,\"#fdca26\"],[1.0,\"#f0f921\"]]}],\"choropleth\":[{\"type\":\"choropleth\",\"colorbar\":{\"outlinewidth\":0,\"ticks\":\"\"}}],\"histogram2d\":[{\"type\":\"histogram2d\",\"colorbar\":{\"outlinewidth\":0,\"ticks\":\"\"},\"colorscale\":[[0.0,\"#0d0887\"],[0.1111111111111111,\"#46039f\"],[0.2222222222222222,\"#7201a8\"],[0.3333333333333333,\"#9c179e\"],[0.4444444444444444,\"#bd3786\"],[0.5555555555555556,\"#d8576b\"],[0.6666666666666666,\"#ed7953\"],[0.7777777777777778,\"#fb9f3a\"],[0.8888888888888888,\"#fdca26\"],[1.0,\"#f0f921\"]]}],\"heatmap\":[{\"type\":\"heatmap\",\"colorbar\":{\"outlinewidth\":0,\"ticks\":\"\"},\"colorscale\":[[0.0,\"#0d0887\"],[0.1111111111111111,\"#46039f\"],[0.2222222222222222,\"#7201a8\"],[0.3333333333333333,\"#9c179e\"],[0.4444444444444444,\"#bd3786\"],[0.5555555555555556,\"#d8576b\"],[0.6666666666666666,\"#ed7953\"],[0.7777777777777778,\"#fb9f3a\"],[0.8888888888888888,\"#fdca26\"],[1.0,\"#f0f921\"]]}],\"heatmapgl\":[{\"type\":\"heatmapgl\",\"colorbar\":{\"outlinewidth\":0,\"ticks\":\"\"},\"colorscale\":[[0.0,\"#0d0887\"],[0.1111111111111111,\"#46039f\"],[0.2222222222222222,\"#7201a8\"],[0.3333333333333333,\"#9c179e\"],[0.4444444444444444,\"#bd3786\"],[0.5555555555555556,\"#d8576b\"],[0.6666666666666666,\"#ed7953\"],[0.7777777777777778,\"#fb9f3a\"],[0.8888888888888888,\"#fdca26\"],[1.0,\"#f0f921\"]]}],\"contourcarpet\":[{\"type\":\"contourcarpet\",\"colorbar\":{\"outlinewidth\":0,\"ticks\":\"\"}}],\"contour\":[{\"type\":\"contour\",\"colorbar\":{\"outlinewidth\":0,\"ticks\":\"\"},\"colorscale\":[[0.0,\"#0d0887\"],[0.1111111111111111,\"#46039f\"],[0.2222222222222222,\"#7201a8\"],[0.3333333333333333,\"#9c179e\"],[0.4444444444444444,\"#bd3786\"],[0.5555555555555556,\"#d8576b\"],[0.6666666666666666,\"#ed7953\"],[0.7777777777777778,\"#fb9f3a\"],[0.8888888888888888,\"#fdca26\"],[1.0,\"#f0f921\"]]}],\"surface\":[{\"type\":\"surface\",\"colorbar\":{\"outlinewidth\":0,\"ticks\":\"\"},\"colorscale\":[[0.0,\"#0d0887\"],[0.1111111111111111,\"#46039f\"],[0.2222222222222222,\"#7201a8\"],[0.3333333333333333,\"#9c179e\"],[0.4444444444444444,\"#bd3786\"],[0.5555555555555556,\"#d8576b\"],[0.6666666666666666,\"#ed7953\"],[0.7777777777777778,\"#fb9f3a\"],[0.8888888888888888,\"#fdca26\"],[1.0,\"#f0f921\"]]}],\"mesh3d\":[{\"type\":\"mesh3d\",\"colorbar\":{\"outlinewidth\":0,\"ticks\":\"\"}}],\"scatter\":[{\"fillpattern\":{\"fillmode\":\"overlay\",\"size\":10,\"solidity\":0.2},\"type\":\"scatter\"}],\"parcoords\":[{\"type\":\"parcoords\",\"line\":{\"colorbar\":{\"outlinewidth\":0,\"ticks\":\"\"}}}],\"scatterpolargl\":[{\"type\":\"scatterpolargl\",\"marker\":{\"colorbar\":{\"outlinewidth\":0,\"ticks\":\"\"}}}],\"bar\":[{\"error_x\":{\"color\":\"#2a3f5f\"},\"error_y\":{\"color\":\"#2a3f5f\"},\"marker\":{\"line\":{\"color\":\"#E5ECF6\",\"width\":0.5},\"pattern\":{\"fillmode\":\"overlay\",\"size\":10,\"solidity\":0.2}},\"type\":\"bar\"}],\"scattergeo\":[{\"type\":\"scattergeo\",\"marker\":{\"colorbar\":{\"outlinewidth\":0,\"ticks\":\"\"}}}],\"scatterpolar\":[{\"type\":\"scatterpolar\",\"marker\":{\"colorbar\":{\"outlinewidth\":0,\"ticks\":\"\"}}}],\"histogram\":[{\"marker\":{\"pattern\":{\"fillmode\":\"overlay\",\"size\":10,\"solidity\":0.2}},\"type\":\"histogram\"}],\"scattergl\":[{\"type\":\"scattergl\",\"marker\":{\"colorbar\":{\"outlinewidth\":0,\"ticks\":\"\"}}}],\"scatter3d\":[{\"type\":\"scatter3d\",\"line\":{\"colorbar\":{\"outlinewidth\":0,\"ticks\":\"\"}},\"marker\":{\"colorbar\":{\"outlinewidth\":0,\"ticks\":\"\"}}}],\"scattermapbox\":[{\"type\":\"scattermapbox\",\"marker\":{\"colorbar\":{\"outlinewidth\":0,\"ticks\":\"\"}}}],\"scatterternary\":[{\"type\":\"scatterternary\",\"marker\":{\"colorbar\":{\"outlinewidth\":0,\"ticks\":\"\"}}}],\"scattercarpet\":[{\"type\":\"scattercarpet\",\"marker\":{\"colorbar\":{\"outlinewidth\":0,\"ticks\":\"\"}}}],\"carpet\":[{\"aaxis\":{\"endlinecolor\":\"#2a3f5f\",\"gridcolor\":\"white\",\"linecolor\":\"white\",\"minorgridcolor\":\"white\",\"startlinecolor\":\"#2a3f5f\"},\"baxis\":{\"endlinecolor\":\"#2a3f5f\",\"gridcolor\":\"white\",\"linecolor\":\"white\",\"minorgridcolor\":\"white\",\"startlinecolor\":\"#2a3f5f\"},\"type\":\"carpet\"}],\"table\":[{\"cells\":{\"fill\":{\"color\":\"#EBF0F8\"},\"line\":{\"color\":\"white\"}},\"header\":{\"fill\":{\"color\":\"#C8D4E3\"},\"line\":{\"color\":\"white\"}},\"type\":\"table\"}],\"barpolar\":[{\"marker\":{\"line\":{\"color\":\"#E5ECF6\",\"width\":0.5},\"pattern\":{\"fillmode\":\"overlay\",\"size\":10,\"solidity\":0.2}},\"type\":\"barpolar\"}],\"pie\":[{\"automargin\":true,\"type\":\"pie\"}]},\"layout\":{\"autotypenumbers\":\"strict\",\"colorway\":[\"#636efa\",\"#EF553B\",\"#00cc96\",\"#ab63fa\",\"#FFA15A\",\"#19d3f3\",\"#FF6692\",\"#B6E880\",\"#FF97FF\",\"#FECB52\"],\"font\":{\"color\":\"#2a3f5f\"},\"hovermode\":\"closest\",\"hoverlabel\":{\"align\":\"left\"},\"paper_bgcolor\":\"white\",\"plot_bgcolor\":\"#E5ECF6\",\"polar\":{\"bgcolor\":\"#E5ECF6\",\"angularaxis\":{\"gridcolor\":\"white\",\"linecolor\":\"white\",\"ticks\":\"\"},\"radialaxis\":{\"gridcolor\":\"white\",\"linecolor\":\"white\",\"ticks\":\"\"}},\"ternary\":{\"bgcolor\":\"#E5ECF6\",\"aaxis\":{\"gridcolor\":\"white\",\"linecolor\":\"white\",\"ticks\":\"\"},\"baxis\":{\"gridcolor\":\"white\",\"linecolor\":\"white\",\"ticks\":\"\"},\"caxis\":{\"gridcolor\":\"white\",\"linecolor\":\"white\",\"ticks\":\"\"}},\"coloraxis\":{\"colorbar\":{\"outlinewidth\":0,\"ticks\":\"\"}},\"colorscale\":{\"sequential\":[[0.0,\"#0d0887\"],[0.1111111111111111,\"#46039f\"],[0.2222222222222222,\"#7201a8\"],[0.3333333333333333,\"#9c179e\"],[0.4444444444444444,\"#bd3786\"],[0.5555555555555556,\"#d8576b\"],[0.6666666666666666,\"#ed7953\"],[0.7777777777777778,\"#fb9f3a\"],[0.8888888888888888,\"#fdca26\"],[1.0,\"#f0f921\"]],\"sequentialminus\":[[0.0,\"#0d0887\"],[0.1111111111111111,\"#46039f\"],[0.2222222222222222,\"#7201a8\"],[0.3333333333333333,\"#9c179e\"],[0.4444444444444444,\"#bd3786\"],[0.5555555555555556,\"#d8576b\"],[0.6666666666666666,\"#ed7953\"],[0.7777777777777778,\"#fb9f3a\"],[0.8888888888888888,\"#fdca26\"],[1.0,\"#f0f921\"]],\"diverging\":[[0,\"#8e0152\"],[0.1,\"#c51b7d\"],[0.2,\"#de77ae\"],[0.3,\"#f1b6da\"],[0.4,\"#fde0ef\"],[0.5,\"#f7f7f7\"],[0.6,\"#e6f5d0\"],[0.7,\"#b8e186\"],[0.8,\"#7fbc41\"],[0.9,\"#4d9221\"],[1,\"#276419\"]]},\"xaxis\":{\"gridcolor\":\"white\",\"linecolor\":\"white\",\"ticks\":\"\",\"title\":{\"standoff\":15},\"zerolinecolor\":\"white\",\"automargin\":true,\"zerolinewidth\":2},\"yaxis\":{\"gridcolor\":\"white\",\"linecolor\":\"white\",\"ticks\":\"\",\"title\":{\"standoff\":15},\"zerolinecolor\":\"white\",\"automargin\":true,\"zerolinewidth\":2},\"scene\":{\"xaxis\":{\"backgroundcolor\":\"#E5ECF6\",\"gridcolor\":\"white\",\"linecolor\":\"white\",\"showbackground\":true,\"ticks\":\"\",\"zerolinecolor\":\"white\",\"gridwidth\":2},\"yaxis\":{\"backgroundcolor\":\"#E5ECF6\",\"gridcolor\":\"white\",\"linecolor\":\"white\",\"showbackground\":true,\"ticks\":\"\",\"zerolinecolor\":\"white\",\"gridwidth\":2},\"zaxis\":{\"backgroundcolor\":\"#E5ECF6\",\"gridcolor\":\"white\",\"linecolor\":\"white\",\"showbackground\":true,\"ticks\":\"\",\"zerolinecolor\":\"white\",\"gridwidth\":2}},\"shapedefaults\":{\"line\":{\"color\":\"#2a3f5f\"}},\"annotationdefaults\":{\"arrowcolor\":\"#2a3f5f\",\"arrowhead\":0,\"arrowwidth\":1},\"geo\":{\"bgcolor\":\"white\",\"landcolor\":\"#E5ECF6\",\"subunitcolor\":\"white\",\"showland\":true,\"showlakes\":true,\"lakecolor\":\"white\"},\"title\":{\"x\":0.05},\"mapbox\":{\"style\":\"light\"}}},\"xaxis\":{\"title\":{\"text\":\"RPA [m/s\\u00b2]\"},\"showline\":true,\"linewidth\":1,\"linecolor\":\"black\"},\"yaxis\":{\"title\":{\"text\":\"IDI [m/s]\"},\"showline\":true,\"linewidth\":1,\"linecolor\":\"black\"},\"height\":400,\"width\":500,\"plot_bgcolor\":\"white\"},                        {\"responsive\": true}                    ).then(function(){\n",
       "                            \n",
       "var gd = document.getElementById('bb36a411-fd25-4ef2-957e-631b87ef7126');\n",
       "var x = new MutationObserver(function (mutations, observer) {{\n",
       "        var display = window.getComputedStyle(gd).display;\n",
       "        if (!display || display === 'none') {{\n",
       "            console.log([gd, 'removed!']);\n",
       "            Plotly.purge(gd);\n",
       "            observer.disconnect();\n",
       "        }}\n",
       "}});\n",
       "\n",
       "// Listen for the removal of the full notebook cells\n",
       "var notebookContainer = gd.closest('#notebook-container');\n",
       "if (notebookContainer) {{\n",
       "    x.observe(notebookContainer, {childList: true});\n",
       "}}\n",
       "\n",
       "// Listen for the clearing of the current output cell\n",
       "var outputEl = gd.closest('.output');\n",
       "if (outputEl) {{\n",
       "    x.observe(outputEl, {childList: true});\n",
       "}}\n",
       "\n",
       "                        })                };                });            </script>        </div>"
      ]
     },
     "metadata": {},
     "output_type": "display_data"
    }
   ],
   "source": [
    "import plotly.graph_objects as go\n",
    "import numpy as np\n",
    "\n",
    "\n",
    "# # Definir un diccionario que asigna formas a cada categoría\n",
    "# shapes = {'Motorway_1': 'circle', 'Motorway_2': 'circle', 'Motorway_3': 'circle',\n",
    "#           'Rural_1': 'x', 'Rural_2': 'x', 'Rural_3': 'x',\n",
    "#           'Urban_1': 'square', 'Urban_2': 'square', 'Urban_3': 'square'}\n",
    "\n",
    "# # Definir un diccionario que asigna colores a cada categoría\n",
    "# colors = {'Motorway_1': 'darkblue', 'Motorway_2': 'darkorange', 'Motorway_3': 'darkred',\n",
    "#           'Rural_1': 'darkred', 'Rural_2': 'darkorange', 'Rural_3': 'darkblue',\n",
    "#           'Urban_1': 'darkorange', 'Urban_2': 'darkred', 'Urban_3': 'darkblue'}\n",
    "\n",
    "# Crear el gráfico de dispersión con diferentes formas y colores para cada categoría\n",
    "fig = go.Figure()\n",
    "\n",
    "# Iterar sobre cada categoría en tu lista predefinida de categorías\n",
    "for categoria in df_final_T['ciclo'].unique():\n",
    "    # Filtrar el DataFrame por la categoría actual\n",
    "    df_categoria = df_final_T[df_final_T['ciclo'] == categoria]\n",
    "    \n",
    "#     # Agregar una traza para la categoría actual con la forma y color correspondientes\n",
    "#     fig.add_trace(go.Scatter(\n",
    "#         x=df_categoria['RPA'],\n",
    "#         y=df_categoria['i'],\n",
    "#         mode='markers',\n",
    "#         name=categoria,\n",
    "#         marker=dict(symbol=shape, size=10, color=colors[categoria])\n",
    "#     ))\n",
    "\n",
    "    # Agregar una traza para la categoría actual con la forma y color correspondientes\n",
    "    fig.add_trace(go.Scatter(\n",
    "        x=df_categoria['RPA'],\n",
    "        y=df_categoria['i'],\n",
    "        mode='markers',\n",
    "        name=categoria,\n",
    "        marker=dict(symbol=\"x\", size=10, color=\"black\")\n",
    "    ))\n",
    "    \n",
    "# Actualizar ejes\n",
    "fig.update_xaxes(showline=True, linewidth=1, linecolor='black', title_text=\"RPA [m/s²]\")\n",
    "fig.update_yaxes(showline=True, linewidth=1, linecolor='black', title_text=\"IDI [m/s]\")    \n",
    "fig.update_layout(height=400, width=500, plot_bgcolor=\"white\")\n",
    "# Mostrar el gráfico\n",
    "fig.show()\n"
   ]
  },
  {
   "cell_type": "code",
   "execution_count": null,
   "id": "3cad0a99",
   "metadata": {},
   "outputs": [],
   "source": []
  }
 ],
 "metadata": {
  "kernelspec": {
   "display_name": "Python 3 (ipykernel)",
   "language": "python",
   "name": "python3"
  },
  "language_info": {
   "codemirror_mode": {
    "name": "ipython",
    "version": 3
   },
   "file_extension": ".py",
   "mimetype": "text/x-python",
   "name": "python",
   "nbconvert_exporter": "python",
   "pygments_lexer": "ipython3",
   "version": "3.11.7"
  }
 },
 "nbformat": 4,
 "nbformat_minor": 5
}
